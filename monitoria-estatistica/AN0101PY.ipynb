{
 "cells": [
  {
   "cell_type": "markdown",
   "metadata": {},
   "source": [
    "# Monitoria **Estatística e Probabilidade Aplicada**\n",
    "Monitor: ``Brandon Aguiar``\n",
    "\n",
    "<center>\n",
    "    <img src=\"https://portal.anhembi.br/wp-content/uploads/2016/04/anhembi-morumbi-300x73.png\" width=\"300\" alt=\"Error 404\"  />\n",
    "</center>\n",
    "\n",
    "## Material de Apoio - Lista de Exercícios\n",
    "Estimativa de tempo necessário: **90** minutos\n",
    "<hr>"
   ]
  },
  {
   "cell_type": "markdown",
   "metadata": {},
   "source": [
    "## Sumário\n",
    "\n",
    "1.   [Breve Teórico](#breve)\n",
    "2.   [Equações Elementares](#eq)\n",
    "    * [Média](#mean)\n",
    "    * [Desvio Médio](#desv_medio)\n",
    "    * [Variância](#var)\n",
    "    * [Desvio Padrão](#desv_padrao)\n",
    "3.   [Conceitos Básicos](#conceitos_mais_que_basicos)\n",
    "    * [Variáveis Discretas](#variaveis_discretas)\n",
    "\n",
    "## Programa de Estudos\n",
    "\n",
    "1. [Conceitos básicos](#conceitos_basicos)\n",
    "2. [Medidas de Posição](#medidas_posicao)\n",
    "    *  [Variáveis Discretas](#variaveis_discretas)\n",
    "    *  [Variáveis Contínuas](#variaveis_continuas)\n",
    "3. [Medidas de Dispersão](#medidas_dispersao)\n",
    "    *  [Conceitos de Variância e Desvio Padrão](#variancia_desvio)\n",
    "    *  [Coeficiente de Variação](#coef_variacao)\n",
    "    *  [Aplicações do Desvio Padrão](#aplicacoes_desvio)\n",
    "4. [Análise Combinatória](#analise_combinatoria)\n",
    "    *  [Princípio Fundamental da Contagem](#contagem)\n",
    "    *  [Breve Histórico](#breve_historico_contagem)\n",
    "    *  [Permutação](#permutacao)\n",
    "    *  [Arranjo & Combinação](#arranjo_combinacao)\n",
    "\n",
    "<hr>"
   ]
  },
  {
   "cell_type": "markdown",
   "metadata": {},
   "source": [
    "# Learning Objectives\n",
    "* 1\n",
    "* 2\n",
    "\n",
    "## Ao final dessa lição, você será capaz de:\n",
    "* 1\n",
    "* 2"
   ]
  },
  {
   "cell_type": "markdown",
   "metadata": {},
   "source": [
    "<hr>"
   ]
  },
  {
   "cell_type": "markdown",
   "metadata": {},
   "source": [
    "## 1. Breve teórico <a class=\"anchor\" id=\"breve\"></a>\n",
    "\n",
    "<center>\n",
    "    <img src=\"https://64.media.tumblr.com/0fd84d2e68da60616eaa31dcf6c8d827/6b27e651c29fae72-ba/s1280x1920/0c771f2d2598674337e5dc0298c284013fd7bf18.jpg\" width=\"700\" alt=\"Error 404\"  />\n",
    "</center>\n",
    "\n",
    "Estudar uma população completa, na maioria dos casos, é financeiramente inviável. **Por isso, estatística e probabilidade são importantes.** São rápidos. São baratos. Perceba só, estamos no coração da relevância deste assunto. Seu **potencial financeiro.**   "
   ]
  },
  {
   "cell_type": "markdown",
   "metadata": {},
   "source": [
    "## 2. Equações elementares <a class=\"anchor\" id=\"eq\"></a>\n"
   ]
  },
  {
   "cell_type": "markdown",
   "metadata": {},
   "source": [
    "<hr>"
   ]
  },
  {
   "cell_type": "markdown",
   "metadata": {},
   "source": [
    "<a class=\"anchor\" id=\"mean\"></a>\n",
    "**Média** ($ \\mu $)\n",
    "$$ \\mu = \\frac{\\sum {x_i}{f_i}}{n} $$ <p style=\"text-align: right;\"> ($1$) </p>"
   ]
  },
  {
   "cell_type": "markdown",
   "metadata": {},
   "source": [
    "<hr>"
   ]
  },
  {
   "cell_type": "markdown",
   "metadata": {},
   "source": [
    "<a class=\"anchor\" id=\"eq_mediana_1\"></a>\n",
    "**Mediana** ($ M $)\n",
    "\n",
    "* Para o $n$ ``par``\n",
    "$$ M_d = \\frac{n}{2} $$\n",
    "\n",
    "* Para o $n$ ``ímpar``\n",
    "$$ M_d = \\frac{n}{2} + 0,5 $$  <p style=\"text-align: right;\"> ($2$) </p>"
   ]
  },
  {
   "cell_type": "markdown",
   "metadata": {},
   "source": [
    "<hr>"
   ]
  },
  {
   "cell_type": "markdown",
   "metadata": {},
   "source": [
    "<a class=\"anchor\" id=\"eq_moda\"></a>\n",
    "**Moda** ($ M_o $) \n",
    "$$ M_o = L_{M_o} +  \\left(\\frac{D_1}{D_1 + D_2} \\right )\\cdot h $$\n",
    "\\\n",
    "$$ com $$\n",
    "\\\n",
    "$$  D_1 = f_{m_o} - f_{ant}\\\\ D_2 = f_{m_o} - f_{post}  $$\n",
    "\\\n",
    "$$ onde $$\n",
    "\n",
    "* $L_{M_o} =$ limite inferior da classe modal \n",
    "* $ f_{m_o} =$ frequência absoluta da classe modal\n",
    "* $ f_{post} =$ frequência absoluta da classe imediatamente **posterior** à classe modal\n",
    "* $ f_{ant} =$ frequência absoluta da classe imediatamente **anterior** à classe modal\n",
    "* $ h =$ amplitude da classe modal\n",
    "<p style=\"text-align: right;\"> ($3$) </p>"
   ]
  },
  {
   "cell_type": "markdown",
   "metadata": {},
   "source": [
    "<hr>"
   ]
  },
  {
   "cell_type": "markdown",
   "metadata": {},
   "source": [
    "<a class=\"anchor\" id=\"desv_padrao\"></a>\n",
    "**Desvio Padrão** ($ \\sigma $) \n",
    "$$ \\sigma = \\sqrt{\\sigma^2} $$ <p style=\"text-align: right;\"> ($4$) </p>"
   ]
  },
  {
   "cell_type": "markdown",
   "metadata": {},
   "source": [
    "<hr>"
   ]
  },
  {
   "cell_type": "markdown",
   "metadata": {},
   "source": [
    "<a class=\"anchor\" id=\"var\"></a>\n",
    "\n",
    "\n",
    "**Variância** ($ \\sigma^2 $)\n",
    "$$ \\sigma = \\frac{\\sum f_{i}(x_{i}-\\mu)^2}{n} $$ <p style=\"text-align: right;\"> ($5$) </p>"
   ]
  },
  {
   "cell_type": "markdown",
   "metadata": {},
   "source": [
    "<hr>"
   ]
  },
  {
   "cell_type": "markdown",
   "metadata": {},
   "source": [
    "<a class=\"anchor\" id=\"desv_medio\"></a>\n",
    "**Desvio Médio** ($ DM $)\n",
    "$$ DM = \\frac{\\sum f_i |x_{i}-\\bar{x}|}{n} $$ <p style=\"text-align: right;\"> ($6$) </p>"
   ]
  },
  {
   "cell_type": "markdown",
   "metadata": {},
   "source": [
    "<hr>"
   ]
  },
  {
   "cell_type": "markdown",
   "metadata": {},
   "source": [
    "<a class=\"anchor\" id=\"coef_var\"></a>\n",
    "\n",
    "\n",
    "**Coeficiente de Variação** ($ CV $)\n",
    "$$ CV = \\frac{\\sigma}{\\mu} $$ <p style=\"text-align: right;\"> ($7$) </p>"
   ]
  },
  {
   "cell_type": "markdown",
   "metadata": {},
   "source": [
    "<hr>"
   ]
  },
  {
   "cell_type": "markdown",
   "metadata": {},
   "source": [
    "``Fique tranquilo!`` Aplicaremos essas fórmulas em **exemplos práticos. Exemplos reais.** Aqui, você encontrará a resposta da pergunta: para que serve tudo isso? <u>O que isso tem a ver com a minha vida?</u> E, o mais importante, você será **capaz de aplicar tudo isso!** Gerar resultados com o que aprendeu."
   ]
  },
  {
   "cell_type": "markdown",
   "metadata": {},
   "source": [
    "<hr>"
   ]
  },
  {
   "cell_type": "markdown",
   "metadata": {},
   "source": [
    "## 3. Conceitos Básicos <a class=\"anchor\" id=\"conceitos_mais_que_basicos\"></a>\n",
    "**Q1) Considere um ``rol`` contendo a idade de 10 alunos.**\\\n",
    "*obs:*   ``rol`` significa organização dos dados por ordem de valor; seja crescente ou decrescente.\n",
    "\n",
    "$$ 15, 15, 15, 17, 17, 20, 24, 24, 24, 24 $$\n",
    "\n",
    "a) Calcule a **média** desse conjunto de dados:"
   ]
  },
  {
   "cell_type": "markdown",
   "metadata": {},
   "source": [
    " <div class=\"alert alert-danger alertdanger\" style=\"margin-top: 10px\">\n",
    "\n",
    "<b>Tente resolver sozinho primeiro!</b>\n",
    "\n",
    "</div>"
   ]
  },
  {
   "cell_type": "markdown",
   "metadata": {},
   "source": [
    "<details><summary>Clique aqui para ver a solução</summary>\n",
    "\n",
    "$$ \\frac{15+15+15+17+17+20+24+24+24+24}{10} = $$\n",
    "       \n",
    "$$ \\frac{15\\cdot3+17\\cdot2+20\\cdot1+24\\cdot4 }{10} = $$\n",
    "  \n",
    "$$ \\frac{195}{10} = \\textbf{19,5} $$\n",
    " \n",
    "    \n",
    "</details>"
   ]
  },
  {
   "cell_type": "markdown",
   "metadata": {},
   "source": [
    "**Q2) Calcule a frequência** ($f_i$)."
   ]
  },
  {
   "cell_type": "markdown",
   "metadata": {},
   "source": [
    " <div class=\"alert alert-danger alertdanger\" style=\"margin-top: 10px\">\n",
    "\n",
    "<b>Tente resolver sozinho primeiro!</b>\n",
    "\n",
    "</div>"
   ]
  },
  {
   "cell_type": "markdown",
   "metadata": {},
   "source": [
    "<details><summary>Clique aqui para ver a solução</summary>\n",
    "\n",
    "\n",
    "A frequência ($f_i$) conta quantas vezes cada elemento ($x_i$) aparece. Portanto, nossa resposta fica assim:\n",
    "\n",
    "| Idades ($x_i$)    | Frequências ($f_i$)  |\n",
    "| ----------------- | -------------------- |\n",
    "| 24                | 4                    |\n",
    "| 15                | 3                    | \n",
    "| 17                | 2                    |\n",
    "| 20                | 1                    |\n",
    "\n",
    "</details>"
   ]
  },
  {
   "cell_type": "markdown",
   "metadata": {},
   "source": [
    "## 4. Variáveis Discretas <a class=\"anchor\" id=\"variaveis_discretas\"></a>"
   ]
  },
  {
   "cell_type": "markdown",
   "metadata": {},
   "source": [
    "### 4.1. Média <a class=\"anchor\" id=\"media_disc\"></a>"
   ]
  },
  {
   "cell_type": "markdown",
   "metadata": {},
   "source": [
    "#### Como identificar variáveis discretas?"
   ]
  },
  {
   "cell_type": "markdown",
   "metadata": {},
   "source": [
    "``Resposta``: Não possuem classe. Isto é, não possuem intervalos. Observe o exemplo abaixo."
   ]
  },
  {
   "cell_type": "markdown",
   "metadata": {},
   "source": [
    "**Detalhe importante:** Utilizamos o ($\\bar{x}$) para representar a **média** de uma <u>amostra</u>. E, para a **média** de uma <u>população</u>, utilizamos o ($\\mu$)."
   ]
  },
  {
   "cell_type": "markdown",
   "metadata": {},
   "source": [
    "**Q2) Foi realizada uma pesquisa em que os entrevistados responderam quantos irmãos possuíam. Os resultados estão apresentados na tabela a seguir. Determinar o <u>número médio de irmãos</u> dessa amostra.**\n",
    "\n",
    "\n",
    "| Nº de irmaos ($x_i$) | Frequências ($f_i$)  |\n",
    "| -------------------- | -------------------- |\n",
    "| 0                    | 12                   |\n",
    "| 1                    | 17                   | \n",
    "| 2                    | 15                   |\n",
    "| 3                    | 8                    |\n",
    "| 4                    | 3                    |\n"
   ]
  },
  {
   "cell_type": "markdown",
   "metadata": {},
   "source": [
    " <div class=\"alert alert-danger alertdanger\" style=\"margin-top: 10px\">\n",
    "\n",
    "<b>Tente resolver sozinho primeiro!</b>\n",
    "\n",
    "</div>"
   ]
  },
  {
   "cell_type": "markdown",
   "metadata": {},
   "source": [
    "<details><summary>Clique aqui para ver a solução</summary>\n",
    "\n",
    "Como dito logo acima, no *detalhe importante*, o que precisamos calcular é o ($\\bar{x}$).\n",
    "    \n",
    "$$ \\bar{x} = \\frac{0\\cdot12+1\\cdot 17+2\\cdot 15+3\\cdot 8+4\\cdot 3 }{10} $$\n",
    "    \n",
    "$$ \\bar{x} = \\frac{83}{55} = 1,51 $$\n",
    " \n",
    "Utilizamos a equação (1) da média.\\\n",
    "Onde ($n$) é igual a $55$. Pois é a soma de cada elemento na coluna ($f_i$). Agora, a grande pergunta é:\\\n",
    "Devemos arredondar? Não existe 1,51 irmãos. Precisa, necessariamente, ser um número inteiro.\\\n",
    "Vamos analisar a seguinte situação.\\\n",
    "A cada 100 pessoas entrevistadas, em média, esses respondentes disseram ter 151 irmãos no total.\\\n",
    "Veja a imagem a seguir para entender melhor.\n",
    "\n",
    "    \n",
    "<center>\n",
    "    <img src=\"https://64.media.tumblr.com/0c9c2b0021db3bca9af27627c6de5e14/a4c596fbac7bfaf9-8a/s400x600/b97ac06464fcbaa5437815e4782614358536f598.jpg\" width=\"300\" alt=\"cognitiveclass.ai logo\"  />\n",
    "</center>\n",
    "\n",
    "Logo, a média de <u>1,51</u> irmãos por pessoa FAZ SENTIDO!\\\n",
    "Conclusão: a média nunca deve ser arredondada. A não ser em casos especiais. Um exemplo: dízima periódica.\n",
    "    \n",
    "</details>"
   ]
  },
  {
   "cell_type": "markdown",
   "metadata": {},
   "source": [
    "### 4.2. Moda ou Valor Modal<a class=\"anchor\" id=\"moda_disc\"></a>"
   ]
  },
  {
   "cell_type": "markdown",
   "metadata": {},
   "source": [
    "##### A moda ($M_o$) de uma série de valores é o valor de maior frequência absoluta, ou seja, o valor que aparece o maior número de vezes na distribuição.\n",
    "\n",
    " <div class=\"alert alert-danger alertdanger\" style=\"margin-top: 8px\">\n",
    "\n",
    "<b>Moda é um valor, ou seja, ($x_i$). Moda <u>NÃO</u> é a frequência ($f_i$)</b>\n",
    "\n",
    "</div>\n"
   ]
  },
  {
   "cell_type": "markdown",
   "metadata": {},
   "source": [
    "**Exemplos:**"
   ]
  },
  {
   "cell_type": "markdown",
   "metadata": {},
   "source": [
    "1. $$ 12, 12, 13, 15, 16, 16, 16, 19, 22, 22 \\rightarrow (M_o) = 16 $$\n",
    "\n",
    "2. $$ 12, 13, 15, 15, 16, 19, 22, 22 \\rightarrow (M_o) = 15\\ e\\ 22 $$\n",
    "\n",
    "3. $$ 12, 13, 15, 16, 17, 19, 20, 22 \\rightarrow (M_o) = \\varnothing\\  $$"
   ]
  },
  {
   "cell_type": "markdown",
   "metadata": {},
   "source": [
    "``Conclusões``\n",
    "* 1. Conjunto de dados **unimodal**. Pois só há uma moda.\n",
    "* 2. Conjunto de dados **bimodal**. Pois há duas modas.\n",
    "* 3. Conjunto de dados **amodal**. Pois não há moda."
   ]
  },
  {
   "cell_type": "markdown",
   "metadata": {},
   "source": [
    "### 4.2.1 Fórmula para calcular a Moda"
   ]
  },
  {
   "cell_type": "markdown",
   "metadata": {},
   "source": [
    "<div class=\"alert alert-danger alertdanger\" style=\"margin-top: 8px\">\n",
    "\n",
    "<b>Atenção! Quando que eu vou usar essa fórmula?</b>\n",
    "\n",
    "</div>\n",
    "\n",
    "##### Somente quando eu estiver trabalhando com <u>variáveis contínuas</u>. Se estiver trabalhando com varíaves discretas, esquece essa fórmula. Quando houver classes, **<u>não</u>** trabalhamos com as regras ``PAR/ÍMPAR``\n"
   ]
  },
  {
   "cell_type": "markdown",
   "metadata": {},
   "source": [
    "### 4.3. Mediana - Valor Central da Distribuição"
   ]
  },
  {
   "cell_type": "markdown",
   "metadata": {},
   "source": [
    "##### A mediana ($M_d$) de um conjunto de valores, <u>colocados em rol</u>, é o valor que separa este conjunto em outros dois subconjuntos de mesmo número de elementos. Ou seja, ``a mediana é o valor que separa os 50% maiores dos 50% menores``.\n"
   ]
  },
  {
   "cell_type": "markdown",
   "metadata": {},
   "source": [
    "#### Par\n",
    "* 1º Caso. Número ``par`` de ($n$) elementos de um conjunto de dados.\n",
    "A mediana estará na posição:\n",
    "$$ M_d = \\frac{n}{2} $$\n",
    "\n",
    "#### Ímpar\n",
    "* 2º Caso. Número ``ímpar`` de elementos ($n$) elementos de um conjunto de dados.\n",
    "A mediana estará na posição:\n",
    "$$ M_d = \\frac{n}{2} + 0,5 $$ "
   ]
  },
  {
   "cell_type": "markdown",
   "metadata": {},
   "source": [
    "### 4.3.1. Exemplo.\n",
    "Calculando a mediana do exercício ``Q2)`` seção ``4.1.``\n",
    "\n",
    "**1. Passo**\\\n",
    "Colocar o nosso ``rol`` em ordem crescente. Neste caso, estamos nos referindo a coluna irmãos.\n",
    "\n",
    "**2. Passo**\\\n",
    "Somar as ``Freq. Acumuladas`` conforme tabela abaixo.\n",
    "\n",
    "\n",
    "| Nº de irmãos ($x_i$) | Frequências ($f_i$)  | Freq. Acumuladas ($x_i$) | Posições        | \n",
    "| -------------------- | -------------------- | ------------------------ | --------------- |\n",
    "| 0                    | 12                   | 12                       | 1ª até 12ª      |\n",
    "| 1                    | 17                   | 29                       | 13º até 29ª     |\n",
    "| 2                    | 15                   | 44                       | 30ª até 44ª     |\n",
    "| 3                    | 8                    | 52                       | 45ª até 52ª     |\n",
    "| 4                    | 3                    | 55                       | 53ª até 55ª     |\n",
    "\n",
    "\n",
    "**3. Passo**\\\n",
    "Escolher qual equação usar de acordo com a paridade do número ($n$) de elementos.\\\n",
    "Do exercício, concluímos: 55. Ímpar, portanto. Logo, equação do 1º caso.\n",
    "\n",
    "**4. Passo**\\\n",
    "Fazer a conta e verificar qual linha corresponde à posição encontrada. Pois esta será a resposta.\n",
    "$$ M_d = \\frac{55}{2} + 0,5 = 28 $$\n",
    "\n",
    "**5. Passo**\\\n",
    "Dar a resposta. Encontramos a posição 28ª. Da tabela, percebemos que se trata da segunda linha.\\\n",
    "Então a solução é $M_d = 1 $."
   ]
  },
  {
   "cell_type": "markdown",
   "metadata": {},
   "source": [
    "## 5. Cálculo da Frequência Relativa"
   ]
  },
  {
   "cell_type": "markdown",
   "metadata": {},
   "source": [
    "#### Observe o exemplo abaixo.\n",
    "Dados:\n",
    "$$ 15, 15, 15, 17, 17, 20, 24, 24, 24, 24 $$"
   ]
  },
  {
   "cell_type": "code",
   "execution_count": 1,
   "metadata": {},
   "outputs": [],
   "source": [
    "rol_idades = [15]*3 + [17]*2 + [20]*1 + [24]*4     # atribuindo dados à lista"
   ]
  },
  {
   "cell_type": "markdown",
   "metadata": {},
   "source": [
    "### 5.1. Função"
   ]
  },
  {
   "cell_type": "code",
   "execution_count": 2,
   "metadata": {},
   "outputs": [],
   "source": [
    "def rel_freq(x):\n",
    "    '''\n",
    "    Calcula a frequência relativa de cada x_i da lista\n",
    "    '''\n",
    "    freqs = [(value, x.count(value) / len(x)) for value in set(x)] \n",
    "    return freqs"
   ]
  },
  {
   "cell_type": "code",
   "execution_count": 3,
   "metadata": {},
   "outputs": [
    {
     "name": "stdout",
     "output_type": "stream",
     "text": [
      "Help on function rel_freq in module __main__:\n",
      "\n",
      "rel_freq(x)\n",
      "    Calcula a frequência relativa de cada x_i da lista\n",
      "\n"
     ]
    }
   ],
   "source": [
    "help(rel_freq)      # helper methods"
   ]
  },
  {
   "cell_type": "code",
   "execution_count": 4,
   "metadata": {},
   "outputs": [
    {
     "data": {
      "text/plain": [
       "[(24, 0.4), (17, 0.2), (20, 0.1), (15, 0.3)]"
      ]
     },
     "execution_count": 4,
     "metadata": {},
     "output_type": "execute_result"
    }
   ],
   "source": [
    "rel_freq(rol_idades)"
   ]
  },
  {
   "cell_type": "markdown",
   "metadata": {},
   "source": [
    "### 5.2. Gráfico"
   ]
  },
  {
   "cell_type": "code",
   "execution_count": 5,
   "metadata": {},
   "outputs": [],
   "source": [
    "from scipy import stats\n",
    "relative_frequencies = stats.relfreq(rol_idades, numbins=25)"
   ]
  },
  {
   "cell_type": "code",
   "execution_count": 6,
   "metadata": {},
   "outputs": [],
   "source": [
    "import numpy as np\n",
    "x = relative_frequencies.lowerlimit + np.linspace(\n",
    "    0, relative_frequencies.binsize*relative_frequencies.frequency.size,\n",
    "                                 relative_frequencies.frequency.size)"
   ]
  },
  {
   "cell_type": "code",
   "execution_count": 7,
   "metadata": {},
   "outputs": [],
   "source": [
    "import matplotlib.pyplot as plt"
   ]
  },
  {
   "cell_type": "code",
   "execution_count": 8,
   "metadata": {},
   "outputs": [
    {
     "data": {
      "image/png": "[encoded data removed]",
      "text/plain": [
       "<Figure size 1080x360 with 1 Axes>"
      ]
     },
     "metadata": {
      "needs_background": "light"
     },
     "output_type": "display_data"
    }
   ],
   "source": [
    "fig = plt.figure(figsize=(15, 5));\n",
    "\n",
    "ax = fig.add_subplot(1, 1, 1)\n",
    "\n",
    "ax.bar(x, relative_frequencies.frequency, width = relative_frequencies.binsize)\n",
    "ax.set_title('Relative frequency histogram')\n",
    "ax.set_xlim([x.min(), x.max()])\n",
    "\n",
    "plt.grid()\n",
    "plt.show()"
   ]
  },
  {
   "cell_type": "markdown",
   "metadata": {},
   "source": [
    "<hr>"
   ]
  },
  {
   "cell_type": "markdown",
   "metadata": {},
   "source": [
    "# EXERCÍCIOS"
   ]
  },
  {
   "cell_type": "markdown",
   "metadata": {},
   "source": [
    "<hr>"
   ]
  },
  {
   "cell_type": "markdown",
   "metadata": {},
   "source": [
    "### Q1. Calcule a moda, a mediana e a média das seguintes séries.\n",
    "i. 46, 44, 49, 45, 44, 48, 50, 42, 47\\\n",
    "ii. 1, 1, 3, 2, 3, 5, 4, 5, 3, 3, 2, 2, 1, 1"
   ]
  },
  {
   "cell_type": "markdown",
   "metadata": {},
   "source": [
    "**Resolução (i)**"
   ]
  },
  {
   "cell_type": "code",
   "execution_count": 9,
   "metadata": {},
   "outputs": [
    {
     "data": {
      "text/plain": [
       "count     9.000000\n",
       "mean     46.111111\n",
       "std       2.619372\n",
       "min      42.000000\n",
       "25%      44.000000\n",
       "50%      46.000000\n",
       "75%      48.000000\n",
       "max      50.000000\n",
       "dtype: float64"
      ]
     },
     "execution_count": 9,
     "metadata": {},
     "output_type": "execute_result"
    }
   ],
   "source": [
    "dados_i = [46, 44, 49, 45, 44, 48, 50, 42, 47]\n",
    "\n",
    "import pandas as pd\n",
    "dados_i = pd.Series(dados_i)\n",
    "\n",
    "dados_i.describe(include = \"all\")"
   ]
  },
  {
   "cell_type": "code",
   "execution_count": 10,
   "metadata": {},
   "outputs": [
    {
     "data": {
      "text/plain": [
       "44"
      ]
     },
     "execution_count": 10,
     "metadata": {},
     "output_type": "execute_result"
    }
   ],
   "source": [
    "import statistics\n",
    "statistics.mode(dados_i)"
   ]
  },
  {
   "cell_type": "markdown",
   "metadata": {},
   "source": [
    "2º Maneira de resolver."
   ]
  },
  {
   "cell_type": "code",
   "execution_count": 11,
   "metadata": {},
   "outputs": [
    {
     "data": {
      "text/plain": [
       "DescribeResult(nobs=9, minmax=(42, 50), mean=46.111111111111114, variance=6.861111111111111, skewness=0.005100322096613096, kurtosis=-1.0922568801324397)"
      ]
     },
     "execution_count": 11,
     "metadata": {},
     "output_type": "execute_result"
    }
   ],
   "source": [
    "stats.describe(dados_i)"
   ]
  },
  {
   "cell_type": "markdown",
   "metadata": {},
   "source": [
    "**Resposta (i)**\\\n",
    "**Média:** 46,11 | **Mediana:** 46,0 | **Moda:** 44,0"
   ]
  },
  {
   "cell_type": "markdown",
   "metadata": {},
   "source": [
    "**Resolução (ii)**"
   ]
  },
  {
   "cell_type": "code",
   "execution_count": 12,
   "metadata": {},
   "outputs": [
    {
     "data": {
      "text/plain": [
       "count    14.000000\n",
       "mean      2.571429\n",
       "std       1.398586\n",
       "min       1.000000\n",
       "25%       1.250000\n",
       "50%       2.500000\n",
       "75%       3.000000\n",
       "max       5.000000\n",
       "dtype: float64"
      ]
     },
     "execution_count": 12,
     "metadata": {},
     "output_type": "execute_result"
    }
   ],
   "source": [
    "dados_ii = [1, 1, 3, 2, 3, 5, 4, 5, 3, 3, 2, 2, 1, 1]\n",
    "\n",
    "import pandas as pd\n",
    "dados_ii = pd.Series(dados_ii)\n",
    "\n",
    "dados_ii.describe(include = \"all\")"
   ]
  },
  {
   "cell_type": "code",
   "execution_count": 13,
   "metadata": {},
   "outputs": [
    {
     "data": {
      "text/plain": [
       "1"
      ]
     },
     "execution_count": 13,
     "metadata": {},
     "output_type": "execute_result"
    }
   ],
   "source": [
    "statistics.mode(dados_ii)"
   ]
  },
  {
   "cell_type": "markdown",
   "metadata": {},
   "source": [
    "**Resposta (ii)**\\\n",
    "**Média:** 2,571 | **Mediana:** 2,5 | **Moda:** 1,0"
   ]
  },
  {
   "cell_type": "markdown",
   "metadata": {},
   "source": [
    "<hr>"
   ]
  },
  {
   "cell_type": "markdown",
   "metadata": {},
   "source": [
    "### Q2. Calcule a ``mediana`` e a ``média`` do conjunto de dados apresentados pela seguinte distribuição de frequências:"
   ]
  },
  {
   "cell_type": "code",
   "execution_count": 14,
   "metadata": {},
   "outputs": [
    {
     "data": {
      "text/html": [
       "<div>\n",
       "<style scoped>\n",
       "    .dataframe tbody tr th:only-of-type {\n",
       "        vertical-align: middle;\n",
       "    }\n",
       "\n",
       "    .dataframe tbody tr th {\n",
       "        vertical-align: top;\n",
       "    }\n",
       "\n",
       "    .dataframe thead th {\n",
       "        text-align: right;\n",
       "    }\n",
       "</style>\n",
       "<table border=\"1\" class=\"dataframe\">\n",
       "  <thead>\n",
       "    <tr style=\"text-align: right;\">\n",
       "      <th></th>\n",
       "      <th>0</th>\n",
       "      <th>1</th>\n",
       "      <th>2</th>\n",
       "      <th>3</th>\n",
       "    </tr>\n",
       "  </thead>\n",
       "  <tbody>\n",
       "    <tr>\n",
       "      <th>$x_i$</th>\n",
       "      <td>8</td>\n",
       "      <td>12</td>\n",
       "      <td>16</td>\n",
       "      <td>20</td>\n",
       "    </tr>\n",
       "    <tr>\n",
       "      <th>$f_i$</th>\n",
       "      <td>7</td>\n",
       "      <td>16</td>\n",
       "      <td>20</td>\n",
       "      <td>5</td>\n",
       "    </tr>\n",
       "  </tbody>\n",
       "</table>\n",
       "</div>"
      ],
      "text/plain": [
       "       0   1   2   3\n",
       "$x_i$  8  12  16  20\n",
       "$f_i$  7  16  20   5"
      ]
     },
     "execution_count": 14,
     "metadata": {},
     "output_type": "execute_result"
    }
   ],
   "source": [
    "lista_q2 = [[8,12,16,20], [7,16,20,5]]\n",
    "\n",
    "df_q2 = pd.DataFrame(data = lista_q2, index = ['$x_i$','$f_i$'])\n",
    "\n",
    "df_q2"
   ]
  },
  {
   "cell_type": "code",
   "execution_count": 15,
   "metadata": {},
   "outputs": [
    {
     "data": {
      "text/plain": [
       "count    48.000000\n",
       "mean     13.916667\n",
       "std       3.499747\n",
       "min       8.000000\n",
       "25%      12.000000\n",
       "50%      16.000000\n",
       "75%      16.000000\n",
       "max      20.000000\n",
       "dtype: float64"
      ]
     },
     "execution_count": 15,
     "metadata": {},
     "output_type": "execute_result"
    }
   ],
   "source": [
    "dados_q2 = [8]*7 + [12]*16 + [16]*20 + [20]*5\n",
    "\n",
    "dados_q2 = pd.Series(dados_q2)\n",
    "\n",
    "dados_q2.describe(include = \"all\")"
   ]
  },
  {
   "cell_type": "markdown",
   "metadata": {},
   "source": [
    "**Resposta Q2.**\\\n",
    "**Média:** 13,916 | **Mediana:** 16,0"
   ]
  },
  {
   "cell_type": "markdown",
   "metadata": {},
   "source": [
    "**Extra:** Calculando as frequências relativas."
   ]
  },
  {
   "cell_type": "code",
   "execution_count": 16,
   "metadata": {},
   "outputs": [
    {
     "data": {
      "image/png": "[encoded data removed]",
      "text/plain": [
       "<Figure size 1080x360 with 1 Axes>"
      ]
     },
     "metadata": {
      "needs_background": "light"
     },
     "output_type": "display_data"
    }
   ],
   "source": [
    "relative_frequencies_q2 = stats.relfreq(dados_q2, numbins=50)\n",
    "\n",
    "x = relative_frequencies_q2.lowerlimit + np.linspace(\n",
    "    0, relative_frequencies_q2.binsize*relative_frequencies_q2.frequency.size,\n",
    "                                 relative_frequencies_q2.frequency.size)\n",
    "\n",
    "fig = plt.figure(figsize=(15, 5));\n",
    "\n",
    "ax = fig.add_subplot(1, 1, 1)\n",
    "\n",
    "ax.bar(x, relative_frequencies_q2.frequency, width = relative_frequencies_q2.binsize)\n",
    "ax.set_title('Relative frequency histogram')\n",
    "ax.set_xlim([x.min(), x.max()])\n",
    "\n",
    "plt.grid()\n",
    "plt.show()"
   ]
  },
  {
   "cell_type": "markdown",
   "metadata": {},
   "source": [
    "<hr>"
   ]
  }
 ],
 "metadata": {
  "kernelspec": {
   "display_name": "Python 3",
   "language": "python",
   "name": "python3"
  },
  "language_info": {
   "codemirror_mode": {
    "name": "ipython",
    "version": 3
   },
   "file_extension": ".py",
   "mimetype": "text/x-python",
   "name": "python",
   "nbconvert_exporter": "python",
   "pygments_lexer": "ipython3",
   "version": "3.8.5"
  }
 },
 "nbformat": 4,
 "nbformat_minor": 4
}
