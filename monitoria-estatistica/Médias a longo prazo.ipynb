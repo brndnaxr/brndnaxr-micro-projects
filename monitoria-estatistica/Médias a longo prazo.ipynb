{
 "cells": [
  {
   "cell_type": "markdown",
   "metadata": {},
   "source": [
    "# Monitoria **Estatística e Probabilidade Aplicada**\n",
    "Monitor: ``Brandon Aguiar``\n",
    "\n",
    "<center>\n",
    "    <img src=\"https://portal.anhembi.br/wp-content/uploads/2016/04/anhembi-morumbi-300x73.png\" width=\"300\" alt=\"Error 404\"  />\n",
    "</center>\n",
    "\n",
    "## Material de apoio\n",
    "\n",
    "``Data 05-05-21``\n",
    "<hr>"
   ]
  },
  {
   "cell_type": "markdown",
   "metadata": {},
   "source": [
    "<center><h1>Amostragem - Médias a Longo Prazo</h1></center>"
   ]
  },
  {
   "cell_type": "markdown",
   "metadata": {},
   "source": [
    "**Ideia**: Não se pode avaliar a *performance* de sistemas por amostras pequenas. Isto é, existem regras de coletagem de amostra para fazer inferência. Veja o exemplo a seguir."
   ]
  },
  {
   "cell_type": "code",
   "execution_count": 40,
   "metadata": {},
   "outputs": [
    {
     "data": {
      "text/html": [
       "3.8"
      ],
      "text/latex": [
       "3.8"
      ],
      "text/markdown": [
       "3.8"
      ],
      "text/plain": [
       "[1] 3.8"
      ]
     },
     "metadata": {},
     "output_type": "display_data"
    },
    {
     "data": {
      "image/png": "[encoded data removed]",
      "text/plain": [
       "Plot with title \"Histogram of x\""
      ]
     },
     "metadata": {
      "image/png": {
       "height": 420,
       "width": 420
      }
     },
     "output_type": "display_data"
    }
   ],
   "source": [
    "# jogando um dado 10x, em seguida, coletando e atribuindo cada resultado a variável 'x'\n",
    "x = sample(1:6, 10, replace = T)\n",
    "\n",
    "# calculando a média\n",
    "mean(x)\n",
    "\n",
    "# viz histograma\n",
    "hist(x)"
   ]
  },
  {
   "cell_type": "code",
   "execution_count": 34,
   "metadata": {},
   "outputs": [
    {
     "data": {
      "text/html": [
       "3.522"
      ],
      "text/latex": [
       "3.522"
      ],
      "text/markdown": [
       "3.522"
      ],
      "text/plain": [
       "[1] 3.522"
      ]
     },
     "metadata": {},
     "output_type": "display_data"
    },
    {
     "data": {
      "image/png": "[encoded data removed]",
      "text/plain": [
       "Plot with title \"Histogram of y\""
      ]
     },
     "metadata": {
      "image/png": {
       "height": 420,
       "width": 420
      }
     },
     "output_type": "display_data"
    }
   ],
   "source": [
    "# jogando um dado 1000x, em seguida, coletando e atribuindo cada resultado a variável 'x'\n",
    "y = sample(1:6, 1000, replace = T)\n",
    "\n",
    "# calculando a média\n",
    "mean(y)\n",
    "\n",
    "#viz histograma\n",
    "hist(y)"
   ]
  }
 ],
 "metadata": {
  "kernelspec": {
   "display_name": "R",
   "language": "R",
   "name": "ir"
  },
  "language_info": {
   "codemirror_mode": "r",
   "file_extension": ".r",
   "mimetype": "text/x-r-source",
   "name": "R",
   "pygments_lexer": "r",
   "version": "4.0.4"
  }
 },
 "nbformat": 4,
 "nbformat_minor": 4
}
