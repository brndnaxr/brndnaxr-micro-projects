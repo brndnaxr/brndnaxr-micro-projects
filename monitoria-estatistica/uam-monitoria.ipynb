{
 "cells": [
  {
   "cell_type": "markdown",
   "metadata": {},
   "source": [
    "# Monitoria **Estatística e Probabilidade Aplicada**\n",
    "Monitor: ``Brandon Aguiar``\n",
    "\n",
    "<center>\n",
    "    <img src=\"https://portal.anhembi.br/wp-content/uploads/2016/04/anhembi-morumbi-300x73.png\" width=\"300\" alt=\"Error 404\"  />\n",
    "</center>\n",
    "\n",
    "\n",
    "\n",
    "\n",
    "## Material de Apoio\n",
    "\n",
    "Tempo estimado de leitura: **140** minutos\n",
    "<hr>\n"
   ]
  },
  {
   "cell_type": "markdown",
   "metadata": {},
   "source": [
    "## Programa de estudos *(syllabus)*\n",
    "\n",
    "\n",
    "1.   [Breve Teórico](#breve)\n",
    "    * 1.1. [Técnicas de amostragem](#tecnicas_amostragem)\n",
    "2.   [Estatística Descritiva](#estatistica_descritiva)\n",
    "    * 2.1. [Medidas de posição](#m_posicao)\n",
    "        * [Média](#media)\n",
    "        * [Média populacional](#m_pop)\n",
    "        * [Média amostral](#m_amostral)\n",
    "        * [Mediana](#mediana)\n",
    "        * [Moda](#moda)\n",
    "    * 2.2. [Medidas de dispersão](#m_dispersao)\n",
    "        * [Amplitude](#amplitude)\n",
    "        * [Variância populacional](#variancia_pop)\n",
    "        * [Variância amostral](#variancia_amostral)\n",
    "        * [Desvio padrão populacional](#desvio_padrao_populacional)\n",
    "        * [Desvio padrão amostral](#desvio_padrao_amostral)\n",
    "        * [Coeficiente de Variação](#coef_variacao)\n",
    "    * 2.3. [Quartis](#quartis)\n",
    "        * [Assimetria ou Skewness](#assimetria)\n",
    "        * [Coeficiente de Assimetria de Pearson](#pearson)\n",
    "        * [Curtose ou Kurtosis](#curtose)\n",
    "        * [Coeficiente percentílico de curtose](#curtose_percentilica)\n",
    "        * [i. Como calcular um quartil qualquer](#calc_quartil)\n",
    "        * [ii. Como calcular um percentil qualquer](#calc_percentil)\n",
    "3.   [Análise de Regressão](#analise_de_reg)\n",
    "    * 3.1. [Regressão Linear Simples](#reg_simples)\n",
    "        * [Definição](#definicao)\n",
    "        * [Interpretação dos parâmetros do modelo](#interpretacao_modelo_) \n",
    "4.   [Estimadores e estimativas](#estimadores)\n",
    "    * 4.1. [Breve teórico](#estimadores_breve_teorico)\n",
    "    * 4.2. [Links para saber mais](#saber_mais)\n",
    "\n",
    "<hr>"
   ]
  },
  {
   "cell_type": "markdown",
   "metadata": {},
   "source": [
    "## 1. Breve teórico <a class=\"anchor\" id=\"breve\"></a>\n",
    "\n",
    "<center>\n",
    "    <img src=\"https://64.media.tumblr.com/0fd84d2e68da60616eaa31dcf6c8d827/6b27e651c29fae72-ba/s1280x1920/0c771f2d2598674337e5dc0298c284013fd7bf18.jpg\" width=\"700\" alt=\"Error 404\"  />\n",
    "</center>\n",
    "\n",
    "Estudar uma população completa, na maioria dos casos, é financeiramente inviável. **Por isso, estatística e probabilidade são importantes.** São rápidos. Muitas vezes baratos. Perceba só, estamos no coração da relevância deste assunto. Seu **potencial financeiro.**   "
   ]
  },
  {
   "cell_type": "markdown",
   "metadata": {},
   "source": [
    "### 1.1. Técnicas de amostragem <a class=\"anchor\" id=\"tecnicas_amostragem\"></a>"
   ]
  },
  {
   "cell_type": "markdown",
   "metadata": {},
   "source": [
    "<center>\n",
    "    <img src=\"https://64.media.tumblr.com/532d51a69297622c6eb46cad5248ffba/488c2d53190b7369-bd/s640x960/02784221a946706afda20342833be498b9307173.png\" width=\"700\" alt=\"Error 404\"  />\n",
    "</center>"
   ]
  },
  {
   "cell_type": "markdown",
   "metadata": {},
   "source": [
    "<< [download pdf](https://9798286d-4132-42e3-9d0b-e6076422fc01.filesusr.com/ugd/a563d6_4c937cd0cbfb4a21b6a54551118e65ab.pdf) >>"
   ]
  },
  {
   "cell_type": "markdown",
   "metadata": {},
   "source": [
    "## 2. Estatística Descritiva <a class=\"anchor\" id=\"estatistica_descritiva\"></a>\n",
    "### 2.1. Medidas de posição <a class=\"anchor\" id=\"m_posicao\"></a>\n",
    "*Fonte:* [Portal Action](http://www.portalaction.com.br/estatistica-basica/21-medidas-de-posicao)"
   ]
  },
  {
   "cell_type": "markdown",
   "metadata": {},
   "source": [
    "### Média - visão geral<a class=\"anchor\" id=\"media\"></a>\n",
    "\n",
    "<center>\n",
    "    <img src=\"https://upload.wikimedia.org/wikipedia/commons/e/e2/M%C3%A9dia_Aritm%C3%A9tica.gif\" width=350 />\n",
    "    </center>\n",
    "\n",
    "Exemplo de cálculo da média aritmética. Fizemos a soma dos elementos de uma amostra dividida pela quantidade de elementos da mesma amostra. No exemplo, o conjunto de dados: $(1, 2, 3, 4, 5)$. A média aritmética é igual a:\n",
    "\n",
    "$$ \\frac{1+2+3+4+5}{5} = 3 $$"
   ]
  },
  {
   "cell_type": "markdown",
   "metadata": {},
   "source": [
    "### Média populacional ($ \\mu $) <a class=\"anchor\" id=\"m_pop\"></a>\n",
    "\n",
    "A ``média populacional`` é calculada somando-se todos os valores da população e dividindo o resultado pelo total de elementos da população. Numa população de $N$ elementos, a média populacional é dada por:\n",
    "\n",
    "$$ \\mu = \\frac{\\sum {x_i}{f_i}}{N} = \\frac{x_1+x_2+...+x_N}{N}  $$ <p style=\"text-align: right;\"> </p>"
   ]
  },
  {
   "cell_type": "markdown",
   "metadata": {},
   "source": [
    "### Média amostral ($ \\bar{x} $) <a class=\"anchor\" id=\"m_amostral\"></a>\n",
    "\n",
    "A ``média amostral``, aritmética, ou simplesmente média, é calculada somando-se os valores das observações da amostra e dividindo-se o resultado pelo número de valores. Assim, a média amostral é dada por:\n",
    "\n",
    "$$ \\bar{x} = \\frac{\\sum {x_i}{f_i}}{n} = \\frac{x_1+x_2+...+x_n}{n}  $$"
   ]
  },
  {
   "cell_type": "markdown",
   "metadata": {},
   "source": [
    "*Exemplo para ``valores contínuos``*"
   ]
  },
  {
   "cell_type": "markdown",
   "metadata": {},
   "source": [
    "*Exemplo com ``exercício``*\n",
    "\n",
    "**Q1.** Uma pesquisa coletou os seguintes dados referente à altura das pessoas. Calcule a **média**."
   ]
  },
  {
   "cell_type": "markdown",
   "metadata": {},
   "source": [
    "<center>\n",
    "    <img src=\"https://64.media.tumblr.com/164909974e8edb18c30151f0d968e952/e6ff81e8ec8775d9-cb/s400x600/eee40b610050cfc4921eeb9e014ebf253ff649c1.jpg\" width=200 />\n",
    "    </center>"
   ]
  },
  {
   "cell_type": "markdown",
   "metadata": {},
   "source": [
    "*Resolução*\n",
    "\n",
    "**1. Passo**\n",
    "\n",
    "Encontrar os $(x_i)$.\n",
    "\n",
    "| Estatura     ($cm$)  | Frequências ($f_i$)  | Elementos        ($x_i$) |  \n",
    "| -------------------- | -------------------- | ------------------------ |\n",
    "| 160 - 162            | 7                    | (160 + 162)/2 = 161      |\n",
    "| 162 - 164            | 4                    | (162 + 164)/2 = 163      |\n",
    "| 164 - 166            | 8                    | (164 + 166)/2 = 165      |\n",
    "| 166 - 168            | 9                    | (166 + 168)/2 = 167      |\n",
    "| 168 - 170            | 12                   | (168 + 170)/2 = 169      |"
   ]
  },
  {
   "cell_type": "markdown",
   "metadata": {},
   "source": [
    "**2. Passo**\n",
    "\n",
    "Substituir na equação."
   ]
  },
  {
   "cell_type": "markdown",
   "metadata": {},
   "source": [
    "$$ \\bar{x} = \\frac{\\sum {x_i}{f_i}}{n} = \\frac{7 \\cdot 161 + 4 \\cdot 163 \\ + \\ ... \\ + \\ 12 \\cdot 169}{40} = 165,75$$"
   ]
  },
  {
   "cell_type": "markdown",
   "metadata": {},
   "source": [
    "``Conclusões``\n",
    "\n",
    "O resultado de altura mais representativo, isto é, a estatura mais adequada para representar nossa pesquisa é de $165,75cm$. "
   ]
  },
  {
   "cell_type": "markdown",
   "metadata": {},
   "source": [
    "### Mediana ($M$, $\\tilde{X}$ ou $\\nu$) <a class=\"anchor\" id=\"mediana\"></a>\n",
    "\n",
    "Ilustração do cálculo da mediana para uma população com número ímpar de valores. Para esses casos, a mediana é o valor que separa a metade maior da metade menor. Abaixo, temos a população $(2, 2, 3, 7, 8, 9, 9)$, logo, a mediana é $7$.\n",
    "\n",
    "<center>\n",
    "<img src=\"https://upload.wikimedia.org/wikipedia/commons/d/da/Mediana_n_%C3%ADmpar.gif\" width=350 />\n",
    "</center>"
   ]
  },
  {
   "cell_type": "markdown",
   "metadata": {},
   "source": [
    "Para calcular a mediana devemos, em primeiro lugar, ordenar os dados do menor para o maior valor. Se o número de observações for ímpar, a mediana será a observação central. Se o número de observações for par, a mediana será a média aritmética das duas observações centrais.\n",
    "\n",
    "*Exemplo para ``valores discretos``*\n",
    "\n",
    "Equação 1 - número ``par`` de ($n$) elementos de um conjunto de dados.\n",
    "A mediana estará na posição:\n",
    "\n",
    "$$ M_d = \\frac{\\sum{F_i}}{2} $$\n",
    "\n",
    "* $F_i$ $-$ frequência acumulada\n",
    "\n",
    "Equação 2 - número ``ímpar`` de elementos ($n$) elementos de um conjunto de dados.\n",
    "A mediana estará na posição:\n",
    "\n",
    "$$ M_d = \\frac{\\sum{F_i}}{2} + 0,5 $$ \n",
    "\n",
    "**Q2.** Foi verificado, numa certa indústria, a variação no comprimento de alguns rolos de aço. Os dados obtidos foram: 65, 72, 70, 72, 60, 67, 69, 68. O gerente quer saber, qual é a mediana dessa amostra?\n",
    "\n",
    "*Resolução.*\n",
    "\n",
    "Ordenando os valores, temos: $60, 65, 67, 68, 69, 70, 72, 72$. Como o <u>número de observações</u> é ``par``, a **mediana é dada pela média dos dois valores centrais** que são $68$ e $69$, isto é,\n",
    "\n",
    "$$\\tilde{X} = \\frac{68+69}{2} = 68,5 $$\n",
    "\n",
    "**Resposta:** $68,5$"
   ]
  },
  {
   "cell_type": "markdown",
   "metadata": {},
   "source": [
    "**Q3.** Foi realizada uma pesquisa em que os entrevistados responderam quantos irmãos possuíam. Os resultados estão apresentados na tabela a seguir. Determinar o <u>número médio de irmãos</u> dessa amostra.\n",
    "\n",
    "\n",
    "| Nº de irmaos ($x_i$) | Frequências ($f_i$)  |\n",
    "| -------------------- | -------------------- |\n",
    "| 0                    | 12                   |\n",
    "| 1                    | 17                   | \n",
    "| 2                    | 15                   |\n",
    "| 3                    | 8                    |\n",
    "| 4                    | 3                    |"
   ]
  },
  {
   "cell_type": "markdown",
   "metadata": {},
   "source": [
    "*Resolução*\n",
    "\n",
    "**1. Passo**\n",
    "\n",
    "Colocar o nosso ``rol`` em ordem crescente. Neste caso, estamos nos referindo a coluna irmãos.\n",
    "\n",
    "**2. Passo**\n",
    "\n",
    "Somar as ``Freq. Acumuladas`` conforme tabela abaixo. Na sequência, definir as posições na coluna ao lado.\n",
    "\n",
    "\n",
    "| Nº de irmãos ($x_i$) | Frequências ($f_i$)  | Freq. Acumuladas ($F_i$) | Posições        | \n",
    "| -------------------- | -------------------- | ------------------------ | --------------- |\n",
    "| 0                    | 12                   | 12                       | 1ª até 12ª      |\n",
    "| 1                    | 17                   | 29                       | 13º até 29ª     |\n",
    "| 2                    | 15                   | 44                       | 30ª até 44ª     |\n",
    "| 3                    | 8                    | 52                       | 45ª até 52ª     |\n",
    "| 4                    | 3                    | 55                       | 53ª até 55ª     |\n",
    "\n",
    "\n",
    "**3. Passo**\n",
    "\n",
    "Escolher qual equação usar de acordo com a paridade do número ($n$) de elementos. Do exercício, concluímos o valor de $\\sum{F_i}$ igual a $55$. Ímpar, portanto. Logo, equação (2).\n",
    "\n",
    "**4. Passo**\n",
    "\n",
    "Aplicar a fórmula e realizar a conta. O resultado será uma posição. Útlima coluna. E esta será a resposta.\n",
    "\n",
    "$$ M_d = \\frac{55}{2} + 0,5 = 28 $$\n",
    "\n",
    "\n",
    "Ou seja, encontramos a posição 28ª. Indo na tabela, percebemos que se trata da segunda linha. O valor correspondente, que será nosso resultado se encontra na coluna irmão. Temos então que a solução é $M_d = 1 $."
   ]
  },
  {
   "cell_type": "markdown",
   "metadata": {},
   "source": [
    "*Exemplo para ``valores contínuos``*\n",
    "\n",
    "Para valores contínuos, não podemos mais utilizar a fórmula anterior. Utilizaremos sim, uma nova fórmula. Conforme abaixo.\n",
    "\n",
    "$$ M_d = L_{Md} + \\left( \\frac{n/2 - F_{ant} }{f_{Md}}\\right) \\cdot h $$\n",
    "\n",
    "* $L_{Md}$ $-$ limite inferior da classe mediana, ou seja, o $x_i$ da esquerda na coluna dos intervalos\n",
    "* $F_{ant}$ $-$ frequência acumulada da classe anterior, ou seja, o $F_i$ da linha de cima\n",
    "* $f_{Md}$ $-$ frequência da classe mediana, ou seja, o $f_i$ da linha mediana\n",
    "* $h$ $-$ amplitude da classe, ou seja, o resultado da subtração da linha mediana"
   ]
  },
  {
   "cell_type": "markdown",
   "metadata": {},
   "source": [
    "### Moda ou Valor Modal ($M_o$ ou $\\theta$) <a class=\"anchor\" id=\"moda\"></a>\n",
    "\n",
    "A moda de um conjunto de valores é o valor que apresenta a maior frequência. Porém, perceba só. Insisto. **Moda é um valor**, ou seja, um ($x_i$). E não uma frequência ($f_i$)\n",
    "<center>\n",
    "<img src = \"https://upload.wikimedia.org/wikipedia/commons/7/7d/Moda.gif\" width = \"350\"/>\n",
    "    </center>\n",
    "\n",
    "A imagem acima ilustra o cálculo da moda de uma população. Para a população $(1, 7, 4, 6, 5, 5, 3, 5)$, a moda é $5$."
   ]
  },
  {
   "cell_type": "markdown",
   "metadata": {},
   "source": [
    "*Exemplo para ``valores discretos``*\n",
    "\n",
    "**Q4.** Observe os 3 diferentes conjuntos de dados, e responda qual é a moda.\n",
    "\n",
    "Item 1. $$ 12, 12, 13, 15, 16, 16, 16, 19, 22, 22 \\rightarrow (M_o) = 16 $$\n",
    "\n",
    "Item 2. $$ 12, 13, 15, 15, 16, 19, 22, 22 \\rightarrow (M_o) = 15\\ e\\ 22 $$\n",
    "\n",
    "Item 3. $$ 12, 13, 15, 16, 17, 19, 20, 22 \\rightarrow (M_o) = \\varnothing\\  $$"
   ]
  },
  {
   "cell_type": "markdown",
   "metadata": {},
   "source": [
    "``Conclusões``\n",
    "* Item 1 = Conjunto de dados **unimodal**. Pois só há uma moda.\n",
    "* Item 2 = Conjunto de dados **bimodal**. Pois há duas modas.\n",
    "* Item 3 = Conjunto de dados **amodal**. Pois não há moda."
   ]
  },
  {
   "cell_type": "markdown",
   "metadata": {},
   "source": [
    "*Exemplo para ``valores contínuos``*\n",
    "\n",
    "$$ M_o = L_{M_o} +  \\left(\\frac{D_1}{D_1 + D_2} \\right )\\cdot h $$\n",
    "\n",
    "$$ com $$\n",
    "\n",
    "$$  D_1 = f_{m_o} - f_{ant}\\\\ D_2 = f_{m_o} - f_{post}  $$\n",
    "\n",
    "$$ onde $$\n",
    "\n",
    "* $L_{M_o} =$ limite inferior da classe modal \n",
    "* $ f_{m_o} =$ frequência absoluta da classe modal\n",
    "* $ f_{post} =$ frequência absoluta da classe imediatamente **posterior** à classe modal\n",
    "* $ f_{ant} =$ frequência absoluta da classe imediatamente **anterior** à classe modal\n",
    "* $ h =$ amplitude da classe modal\n",
    "<p style=\"text-align: right;\">  </p>"
   ]
  },
  {
   "cell_type": "markdown",
   "metadata": {},
   "source": [
    "<hr>"
   ]
  },
  {
   "cell_type": "markdown",
   "metadata": {},
   "source": [
    "## 2.2. Medidas de dispersão <a class=\"anchor\" id=\"m_dispersao\"></a>\n",
    "*Fonte:* [Portal Action](http://www.portalaction.com.br/estatistica-basica/22-medidas-de-dispersao)"
   ]
  },
  {
   "cell_type": "markdown",
   "metadata": {},
   "source": [
    "### Amplitude ($R$) <a class=\"anchor\" id=\"amplitude\"></a>\n",
    "\n",
    "Considere o exemplo de duas linha de produção de uma peça. A medida média do comprimento da peça é de 75cm e ambas as linhas estão produzindo peças com médias próximas desse valor. Podemos considerar que as peças produzidas por ambas as linhas são adequadas?\n",
    "\n",
    "<center>\n",
    "    <img src=\"https://64.media.tumblr.com/9c3d015929ced0599e18314406147db8/a4056db321b84396-6e/s1280x1920/ec984d7fd6476c7e1012f1eaa83e2d94b18274d1.png\" width=500 />\n",
    "    </center>\n",
    "\n",
    "A amplitude é definida como sendo a diferença entre o maior e o menor valor do conjunto de dados. Denotaremos a amplitude por R. Portanto, consideremos o conjunto de dados ordenado.\n",
    "  \n",
    "$$ X_{(1)}\\leq X_{(2)}\\leq X_{(3)} \\leq \\ ...  \\leq X_{(n-1)} \\leq X_{(n)}$$\n",
    "\n",
    "A amplitude $R$ dos dados é dada por:\n",
    "\n",
    "$$R = X_{(n)} - X_{(1)} $$"
   ]
  },
  {
   "cell_type": "markdown",
   "metadata": {},
   "source": [
    "### Variância populacional ($ \\sigma^2 $) <a class=\"anchor\" id=\"variancia_pop\"></a>\n",
    "\n",
    "$Breve\\ Gloss\\acute{a}rio$\n",
    "\n",
    "* $\\sigma^2$ $-$ variância populacional\n",
    "* $s^2$ $-$ variância amostral\n",
    "* $\\sigma$ $-$ desvio padrão populacional\n",
    "* $s$ $-$ desvio padrão amostral\n",
    "\n",
    "A curva vermelha mostra a distribuição normal padrão. Compare e observe, por conta própria, o efeito da alteração nos valores da variância, isto é, qual movimento gerado causa nas curvas.\n",
    "\n",
    "<center>\n",
    "    <img src=\"https://upload.wikimedia.org/wikipedia/commons/7/74/Normal_Distribution_PDF.svg\" width=600 />\n",
    "\n",
    "\n",
    "A variância de uma população $(x_1,...,x_N)$ de $N$ elementos é a medida de dispersão definida como a média do quadrado dos desvios dos elementos em relação à média populacional $\\mu$. Ou seja, a variância populacional é dada por:\n",
    "\n",
    "$$ \\sigma^2 = \\sum_{i=1}^{N}\\frac{(x_i - \\mu )^2}{N}$$ <p style=\"text-align: right;\">  </p>"
   ]
  },
  {
   "cell_type": "markdown",
   "metadata": {},
   "source": [
    "### Variância amostral ($ s^2 $) <a class=\"anchor\" id=\"variancia_amostral\"></a>\n",
    "\n",
    "Exemplo de amostras de duas populações com a mesma média, mas variâncias diferentes. A população vermelha tem média de 100 e variância de 100 (SD=10). Enquanto a população azul tem média de 100 e variância de 2500 (SD=50).\\\n",
    "Nota: SD - *standard deviation* (desvio padrão)\n",
    "\n",
    "<center>\n",
    "    <img src=\"https://upload.wikimedia.org/wikipedia/commons/thumb/f/f9/Comparison_standard_deviations.svg/1280px-Comparison_standard_deviations.svg.png\" width=600 />\n",
    "    </center>\n",
    "\n",
    "A variância de uma amostra $(x_1,...,x_n)$ de $n$ elementos é definida como a soma ao quadrado dos desvios dos elementos em relação à sua média $\\overline{x}$ dividido por $(n-1)$. Ou seja, a variância amostral é dada por:\n",
    "\n",
    "$$ s^2 = \\sum_{i=1}^{N}\\frac{(x_i - \\overline{x} )^2}{n-1}$$ <p style=\"text-align: right;\">  </p>"
   ]
  },
  {
   "cell_type": "markdown",
   "metadata": {},
   "source": [
    "### Desvio padrão populacional ($ \\sigma $) <a class=\"anchor\" id=\"desvio_padrao_populacional\"></a>\n",
    "\n",
    "Abaixo, observe a ilustração do comportamento da variação de uma das medidas de tendência central. No caso, o desvio padrão. Variando em uma distribuição normal. Perceba como a variação causa uma alteração na dispersão dos dados.\n",
    "\n",
    "<center>\n",
    "    <img src = \"https://upload.wikimedia.org/wikipedia/commons/4/49/Distribui%C3%A7%C3%A3o_Sim%C3%A9trica.gif\" width=450 />\n",
    "    </center>\n",
    "\n",
    "Sendo a variância, uma medida, dimensionalmente igual ao quadrado da dimensão dos dados, isso pode causar problemas de interpretação. O desvio padrão populacional de um conjunto de dados é igual à raiz quadrada da variância populacional. Desta forma, o desvio padrão populacional é dado por:"
   ]
  },
  {
   "cell_type": "markdown",
   "metadata": {},
   "source": [
    "<center>\n",
    "    <img src=\"https://latex.codecogs.com/gif.latex?\\sigma&space;=&space;\\sqrt{\\sigma^2}&space;=&space;\\sqrt{\\sum_{i=1}^{N}\\frac{(x_i&space;-&space;\\overline{x}&space;)^2}{N}}\" width=230 />\n",
    "    </center>"
   ]
  },
  {
   "cell_type": "markdown",
   "metadata": {},
   "source": [
    "### Desvio padrão amostral ($ s $) <a class=\"anchor\" id=\"desvio_padrao_amostral\"></a>\n",
    "\n",
    "O desvio padrão amostral de um conjunto de dados é igual à raiz quadrada da variância amostral. Desta forma, o desvio padrão amostral é dado por:"
   ]
  },
  {
   "cell_type": "markdown",
   "metadata": {},
   "source": [
    "<center>\n",
    "    <img src=\"https://latex.codecogs.com/gif.latex?s&space;=&space;\\sqrt{s^2}&space;=&space;\\sqrt{\\sum_{i=1}^{N}\\frac{(x_i&space;-&space;\\overline{x}&space;)^2}{n-1}}\" width=230/>\n",
    "    \n",
    "O desvio padrão indica em média qual sera o \"erro\" (desvio) cometido ao tentar substituir cada observação pela medida resumo do conjunto de dados (no caso, a média)."
   ]
  },
  {
   "cell_type": "markdown",
   "metadata": {},
   "source": [
    "``Conclusões``\n",
    "\n",
    "**O que é o desvio padrão?**\n",
    "\n",
    "*Reposta:* \"It's the average distance to the mean\".\n",
    "\n",
    "Tradução livre: É a distância média para o meio"
   ]
  },
  {
   "cell_type": "markdown",
   "metadata": {},
   "source": [
    "### Coeficiente de Variação ($CV$) ou *Relative Standard Deviation (RSD)* <a class=\"anchor\" id=\"coef_variacao\"><a/>"
   ]
  },
  {
   "cell_type": "markdown",
   "metadata": {},
   "source": [
    "O desvio padrão é bastante afetado pela magnitude dos dados, ou seja, ele não é uma medida resistente. Se quisermos <u>comparar a variabilidade de dois conjuntos de dados</u> podemos usar o **coeficiente de variação**, que é definido como a ``razão`` entre o **desvio padrão** $S$, e a **média amostral** $\\overline{X}$.\n",
    "\n",
    "Usualmente, expresso em porcentagem, o coeficiente de variação é dado pela expressão:\n",
    "\n",
    "$$ CV = \\frac{S}{\\overline{X}} \\cdot 100\\% $$"
   ]
  },
  {
   "cell_type": "markdown",
   "metadata": {},
   "source": [
    "## 2.3 Quartis ($Q_j$) <a class=\"anchor\" id=\"quartis\"></a>\n",
    "*Fonte:* [Portal Action](http://www.portalaction.com.br/estatistica-basica/23-quartis)"
   ]
  },
  {
   "cell_type": "markdown",
   "metadata": {},
   "source": [
    "Uma análise das estatísticas descritivas da amostra é fundamental para resumirmos algumas informações sobre a população. Estas informações são utilizadas para tomada de decisão e formação de modelos estatísticos paramétricos. Definiremos da seguinte forma.\n",
    "\n",
    "``Mínimo`` - menor elemento da amostra.\n",
    "\n",
    "``Máximo`` - maior elemento da amostra.\n",
    "\n",
    "Quartis (Q1, Q2 e Q3): São valores dados a partir do conjunto de observações ordenado em ordem crescente, que dividem a distribuição em quatro partes iguais. O primeiro quartil, Q1, é o número que deixa 25% das observações abaixo e 75% acima, enquanto que o terceiro quartil, Q3, deixa 75% das observações abaixo e 25% acima. Já Q2 é a mediana, deixa 50% das observações abaixo e 50% das observações acima.\n",
    "\n",
    "<center>\n",
    "    <img src=\"https://upload.wikimedia.org/wikipedia/commons/1/1a/Boxplot_vs_PDF.svg\" width=600 />\n",
    "    </center>"
   ]
  },
  {
   "cell_type": "markdown",
   "metadata": {},
   "source": [
    "O quartil de número $j$ estará situado entre dois valores, quesão $X_k$ e $X_{k+1}$. E tudo isso será calculado da seguinte forma:\n",
    "\n",
    "\n",
    "$$ Q_j = X_k + \\left (\\frac{j(n+1)}{4}-k \\right)(X_{k+1}-X_k)  $$\n",
    "\n",
    "Podemos observar que $k$ é um valor inteiro. Exemplo: se $k$ for igual a $1$ significa $Q_1$, ou seja, primeiro quartil. Logo, o quartil será o próprio $X_k$, isto é $Q_j = X_k$, onde $\\frac{j(n+1)}{4}, j =1,2,3$.\n",
    "\n",
    "Uma medida de disperção alternativa ao desvio padrão é a distância interquartil, definida como a diferença entre o terceiro e o primeiro quartis, ou seja,\n",
    "\n",
    "$$d_q = Q_3 - Q_1 $$\n",
    "\n",
    "Ele foi desenvolvido no âmbito da estatística a fim de avaliar o grau de espalhamento dos dados (dispersão)."
   ]
  },
  {
   "cell_type": "markdown",
   "metadata": {},
   "source": [
    "### Assimetria ou *Skewness* ($b_1$) <a class=\"anchor\" id=\"assimetria\"></a>\n",
    "*Fonte:* [Portal Action](http://www.portalaction.com.br/estatistica-basica/25-coeficiente-de-assimetria)"
   ]
  },
  {
   "cell_type": "markdown",
   "metadata": {},
   "source": [
    "O coeficiente de assimetria permite distinguir as distribuições assimétricas. Um valor negativo indica que a cauda do lado esquerdo da função densidade de probabilidade é maior que a do lado direito. Um valor positivo para a assimetria indica que a cauda do lado direito é maior que a do lado esquerdo. Um valor nulo indica que os valores são distribuídos de maneira relativamente iguais em ambos os lados da média, mas não implica necessariamente, uma distribuição simétrica.\n",
    "\n",
    "<center>\n",
    "    <img src=\"https://64.media.tumblr.com/5960300d5213da3df945310a94201663/6b07887e4c755be9-23/s640x960/b66a0a31404a74d252b60f2320e14b36a7c5c989.png\" width=800 />\n",
    "    </center>"
   ]
  },
  {
   "cell_type": "markdown",
   "metadata": {},
   "source": [
    "``Negativamente assimétrica``- **Acontece quando** $\\bar{x} - M_o < 0$"
   ]
  },
  {
   "cell_type": "markdown",
   "metadata": {},
   "source": [
    "<center>\n",
    "    <img src=\"https://64.media.tumblr.com/e3358ba72249c4f3b36324ca6807d64b/7fe651b109210ebb-36/s640x960/388a7d632533fb431b3d7b3ca57bf736a37d04be.jpg\" width=500 />\n",
    "    </center>"
   ]
  },
  {
   "cell_type": "markdown",
   "metadata": {},
   "source": [
    "``Positivamente assimétrica``- **Acontece quando** $\\bar{x} - M_o > 0$"
   ]
  },
  {
   "cell_type": "markdown",
   "metadata": {},
   "source": [
    "<center>\n",
    "    <img src=\"https://64.media.tumblr.com/902dae62b8258599a085205b0efda92b/88adc48204455254-36/s1280x1920/cf050325fc6949c9e18e84beb8b2dc69fda15456.jpg\" width=500 />\n",
    "    </center>"
   ]
  },
  {
   "cell_type": "markdown",
   "metadata": {},
   "source": [
    "A **fórmula** é da **assimetria** é dada por:\n",
    "\n",
    "$$ b_1 = \\frac{1}{n}\\sum \\left [ \\frac{X_i-\\overline{X}}{s}  \\right]^3 $$"
   ]
  },
  {
   "cell_type": "markdown",
   "metadata": {},
   "source": [
    "*Exmeplo com exercício*"
   ]
  },
  {
   "cell_type": "markdown",
   "metadata": {},
   "source": [
    "**Q5.** Suponha que uma amostra do peso de um grupo de pessoas constatou os seguintes resultados: 72, 70, 77, 60, 67, 69, 68, 66, 65, 71, 69. Calcule a assimetria deste conjunto de dados."
   ]
  },
  {
   "cell_type": "markdown",
   "metadata": {},
   "source": [
    "*Resolução*\n",
    "\n",
    "**1. Passo**\n",
    "\n",
    "Calcular a média.\n",
    "\n",
    "$$ \\overline{X} = \\frac{72+70+77+60+67+69+68+66+65+71+69}{11} = \\frac{754}{11} \\approx 68,56 $$\n",
    "\n",
    "**2. Passo**\n",
    "\n",
    "Calcular o desvio padrão. Como trata-se de amostra, utilizaremos a fórmula do desvio padrão amostral.\n",
    "\n",
    "$$ s =\\sqrt {\\sum \\frac{(x_{i}-\\bar{x})^2}{n-1}}$$"
   ]
  },
  {
   "cell_type": "markdown",
   "metadata": {},
   "source": [
    "$$ s = \\sqrt{\\frac{(72-68,56)^2+ \\ ... \\ +(69-68,56)^2}{11-1}}  $$"
   ]
  },
  {
   "cell_type": "markdown",
   "metadata": {},
   "source": [
    "$$ s = \\sqrt{\\frac{11,833+2,073+71,233+73,273+2,433+0,1936+0,3136+6,5536+12,673+5,953+0,1936}{10}} $$"
   ]
  },
  {
   "cell_type": "markdown",
   "metadata": {},
   "source": [
    "$$ s = \\sqrt{\\frac{186,725}{10}} = \\sqrt{18,6725} \\approx 4,321 $$"
   ]
  },
  {
   "cell_type": "markdown",
   "metadata": {},
   "source": [
    "**3. Passo**\n",
    "\n",
    "Substituir os valores obtidos (da média e do desvio padrão) na equação cuja variável é $b_1$:\n",
    "\n",
    "$$ b_1 = \\frac{1}{11} \\left[\\frac{(72-68,56)^3 \\ +\\ ...\\ + \\ (69-68,56)^3}{4,32^3} \\right] = $$"
   ]
  },
  {
   "cell_type": "markdown",
   "metadata": {},
   "source": [
    "$$ = \\frac{1}{11} \\left[\\frac{40,707+2,985+601,211-627,222-3,796+0,085-0,1756-16,777-45,118+14,526+0,0851}{80,621} \\right] = $$"
   ]
  },
  {
   "cell_type": "markdown",
   "metadata": {},
   "source": [
    "$$ = \\frac{1}{11} \\cdot  \\frac{-33,489}{80,621} = \\frac{-0,415}{11} \\approx -0,0377 $$"
   ]
  },
  {
   "cell_type": "markdown",
   "metadata": {},
   "source": [
    "``Conclusões``\n",
    "\n",
    "Como o valor de assimetria é baixo, concluímos que a distribuição se aproxima de uma dist. normal"
   ]
  },
  {
   "cell_type": "markdown",
   "metadata": {},
   "source": [
    "### Coeficiente de Assimetria de Pearson ($AS$) <a class=\"anchor\" id=\"pearson\"></a>"
   ]
  },
  {
   "cell_type": "markdown",
   "metadata": {},
   "source": [
    "Um coeficiente de assimetria quantifica o desvio de uma distribuição assimétrica em relação a uma distribuição simétrica. Assim como o sinal de seu resultado nos fornece o tipo de assimetria da distribuição. Positiva ou negativa. Calculamos por:"
   ]
  },
  {
   "cell_type": "markdown",
   "metadata": {},
   "source": [
    "### Primeiro Coeficiente de Assimetria de Pearson <a class=\"anchor\" id=\"primeiro_coef\"></a>"
   ]
  },
  {
   "cell_type": "markdown",
   "metadata": {},
   "source": [
    "$$ AS_{P1} = \\frac{\\overline{x} - M_o}{S} $$"
   ]
  },
  {
   "cell_type": "markdown",
   "metadata": {},
   "source": [
    "### Segundo Coeficiente de Assimetria de Pearson <a class=\"anchor\" id=\"segundo_coef\"></a>"
   ]
  },
  {
   "cell_type": "markdown",
   "metadata": {},
   "source": [
    "$$ AS_{P2} = \\frac{3(\\bar{x}-M_d)}{S} $$\n",
    "\n",
    "* $AS$ $-$ coeficiente de assimetria\n",
    "* $M_d$ $-$ mediana\n",
    "* $S$ $-$ desvio padrão\n",
    "* $\\bar{x}$ $-$ média\n",
    "* $M_o$ $-$ moda"
   ]
  },
  {
   "cell_type": "markdown",
   "metadata": {},
   "source": [
    "**``Conclusões``**\n",
    "\n",
    "* $ |AS| < 0,15 $ $\\rightarrow$ **assimetria fraca**\n",
    "* $ 0,15 < |AS| < 1 $ $\\rightarrow$ **assimetria moderada**\n",
    "* $ |AS| > 1 $ $\\rightarrow$ **assimetria forte**"
   ]
  },
  {
   "cell_type": "markdown",
   "metadata": {},
   "source": [
    "* $\\overline{x} - M_o = 0 \\rightarrow $ **assimetria nula, i.e. distribuição simétrica**\n",
    "* $\\overline{x} - M_o < 0 \\rightarrow $ **assimetria negativa**\n",
    "* $\\overline{x} - M_o > 0 \\rightarrow $ **assimetria positiva**\n",
    "\n",
    "**Atenção** $\\rightarrow$ Na primeira equação de fato é a moda $M_o$. E, na segunda, a mediana $M_d$. É isso mesmo, não está errado."
   ]
  },
  {
   "cell_type": "markdown",
   "metadata": {},
   "source": [
    "### Curtose ou *Kurtosis* ($b_2$)\n",
    "\n",
    "*Fonte:* [Portal Action](http://www.portalaction.com.br/estatistica-basica/26-curtose)"
   ]
  },
  {
   "cell_type": "markdown",
   "metadata": {},
   "source": [
    "Denomina-se curtose o grau de achatamento de uma distribuição de frequências, geralmente, unimodal. Medido em relação ao de uma distribuição normal (de Gauss) - que é tomada como padrão. Em outras palavras: é o grau de \"afilamento\" se comparado com a dist. normal.\n",
    "\n",
    "Dizemos que uma distribuição de freqüências é:\n",
    "\n",
    "* **Mesocúrtica** – quando apresenta uma medida de curtose igual à da distribuição normal.\n",
    "* **Platicúrtica** – quando apresenta uma medida de curtose menor que a da distribuição normal.\n",
    "* **Leptocúrtica** - quando apresenta uma medida de curtose maior que a da distribuição normal.\n",
    "\n",
    "Observer a imagem abaixo.\n",
    "\n",
    "<center>\n",
    "    <img src=\"https://64.media.tumblr.com/e584d7e385d28df7fd0af80bf58f5901/8c5e0e95ee8f938d-d3/s1280x1920/66cade71012caf4a9ddd9e478d72ba864eb3273e.png\" width=600 />\n",
    "    </center>"
   ]
  },
  {
   "cell_type": "markdown",
   "metadata": {},
   "source": [
    "A **fórmula** é da **curtose** é dada por:\n",
    "\n",
    "$$ b_2 = \\frac{1}{n}\\sum \\left [ \\frac{x_i-\\overline{x}}{s}  \\right]^4 - 3 $$"
   ]
  },
  {
   "cell_type": "markdown",
   "metadata": {},
   "source": [
    "### Coeficiente percentílico de curtose ($C_p$) <a class=\"anchor\" id=\"curtose_percentilica\"></a>"
   ]
  },
  {
   "cell_type": "markdown",
   "metadata": {},
   "source": [
    "Este coeficiente é definido como o quociente entre a amplitude semi-interquartílica e a amplitude entre o 10º e o 90º percentis. Definido por:\n",
    "\n",
    "$$ C_p = \\frac{1}{2} \\cdot \\frac{Q_3 - Q_1}{P_{90} - P_{10}} $$"
   ]
  },
  {
   "cell_type": "markdown",
   "metadata": {},
   "source": [
    "O **valor deste coeficiente para a curva normal** é $0, 26367...$"
   ]
  },
  {
   "cell_type": "markdown",
   "metadata": {},
   "source": [
    "A partir disso, estabelecemos que, ao calcularmos o **coeficiente percentílico de curtose** de uma distribuição qualquer, teremos:\n",
    "\n",
    "* Quando $C_p \\cong 0,263 \\rightarrow $  distribuição é **mesocúrtica**.\n",
    "* Quando $C_p < 0,263 \\rightarrow $  distribuição é **platicúrtica**.\n",
    "* Quando $C_p > 0,263 \\rightarrow $  distribuição é **leptocúrtica**."
   ]
  },
  {
   "cell_type": "markdown",
   "metadata": {},
   "source": [
    "### Antes, um reparo.\n",
    "### i. Como calcular um quartil qualquer $Q_i$ <a class=\"anchor\" id=\"calc_quartil\"></a>"
   ]
  },
  {
   "cell_type": "markdown",
   "metadata": {},
   "source": [
    "* $k$ $-$ valor de percentil procurado\n",
    "* $L_i$ $-$ limite inferior\n",
    "* $F_A$ $-$ frequência acumulada na linha anterior\n",
    "* $f_I$ $-$ frequência do intervalo\n",
    "* $h$ $-$ amplitude do intervalo"
   ]
  },
  {
   "cell_type": "markdown",
   "metadata": {},
   "source": [
    "Utilizaremos a seguinte **fórmula** para cálculo de quartil:\n",
    "\n",
    "$$ Q_k = L_i + \\frac{k\\cdot\\sum f_i - F_{anterior}}{f_{intervalo}} \\cdot h $$"
   ]
  },
  {
   "cell_type": "markdown",
   "metadata": {},
   "source": [
    "*Exemplo com ``exercício``*\n",
    "\n",
    "**Q6.** Uma pesquisa coletou os seguintes dados referente à altura das pessoas. Calcule o primeiro quartil, o $Q_{1}$."
   ]
  },
  {
   "cell_type": "markdown",
   "metadata": {},
   "source": [
    "<center>\n",
    "    <img src=\"https://64.media.tumblr.com/164909974e8edb18c30151f0d968e952/e6ff81e8ec8775d9-cb/s400x600/eee40b610050cfc4921eeb9e014ebf253ff649c1.jpg\" width=200 />\n",
    "    </center>"
   ]
  },
  {
   "cell_type": "markdown",
   "metadata": {},
   "source": [
    "*Resolução*\n",
    "\n",
    "**1. Passo**\n",
    "\n",
    "Substituir o *1* no lugar do $k$. Porém, observe que o **1º quartil** corresponde a uma divisão de **$25\\%$** dos nossos dados. O segundo quartil a **$50\\%$**, e o terceiro quartil a **$75\\%$**. Substituindo na fórmula, devemos colocar esses valores, e não os do índice. **Atenção** para isso.\n",
    "\n",
    "$$Q_{1} = L_i \\frac{\\frac{25}{100}\\cdot \\sum f_i - F_A}{f_I}\\cdot h $$"
   ]
  },
  {
   "cell_type": "markdown",
   "metadata": {},
   "source": [
    "**2. Passo**\n",
    "\n",
    "Elaborar a coluna da frequência acumulada.\n",
    "\n",
    "| Estatura     ($x_i$) | Frequências ($f_i$)  | Freq. Acumuladas ($F_i$) |  \n",
    "| -------------------- | -------------------- | ------------------------ |\n",
    "| 160 - 162            | 7                    | 7                        |\n",
    "| 162 - 164            | 4                    | 11                       |\n",
    "| 164 - 166            | 8                    | 19                       |\n",
    "| 166 - 168            | 9                    | 28                       |\n",
    "| 168 - 170            | 12                   | 40                       |"
   ]
  },
  {
   "cell_type": "markdown",
   "metadata": {},
   "source": [
    "Como desejamos o $Q_{1}$, desejamos, na verdade, $\\frac{25}{100}$ do nosso total. Pois vimos, o primeiro quartil divide nossos dados em $25\\%$. Logo:\n",
    "\n",
    "$$ \\frac{25}{100}\\cdot40 = 10 $$\n",
    "\n",
    "**Obtivemos** a *10ª posição* como resposta. Vamos olhar para tabela para ver onde está este elemento.\n",
    "\n",
    "| Estatura     ($x_i$) | Frequências ($f_i$)  | Freq. Acumuladas ($F_i$) |  Posições    |  \n",
    "| -------------------- | -------------------- | ------------------------ | ------------ |\n",
    "| 160 - 162            | 7                    | 7                        | 1ª até 7ª    |\n",
    "| 162 - 164            | 4                    | 11                       | 8ª até 11ª   |\n",
    "| 164 - 166            | 8                    | 19                       | 12ª até 19ª  |\n",
    "| 166 - 168            | 9                    | 28                       | 20ª até 28ª  |\n",
    "| 168 - 170            | 12                   | 40                       | 29ª até 40ª  |"
   ]
  },
  {
   "cell_type": "markdown",
   "metadata": {},
   "source": [
    "**3. Passo**\n",
    "\n",
    "Constatamos que a 10º posição se encontra na segunda linha, que vai de 8ª até 11ª. Logo, devemos substituir os valores da segunda linha no *1. Passo*. Para continuar a resolução.\n",
    "\n",
    "$$ Q_{1} = 162 + \\frac{10-7}{4}\\cdot2 = 162 + \\frac{3}{2} = 163,5 $$\n",
    "\n",
    "$$Q_{1} = 163,5$$"
   ]
  },
  {
   "cell_type": "markdown",
   "metadata": {},
   "source": [
    "* observação: as substituições que foram feitas.\n",
    "\n",
    "$ \\left(h = 164 -162 = 2\\right) $ $\\rightarrow$ a amplitude é a diferença dos limites na linha encontrada como resultado.\n",
    "\n",
    "$ \\left(\\frac{20}{100} \\cdot \\sum f_i\\right) = 8 $ $\\rightarrow$ resultado do *2. Passo*.\n",
    "\n",
    "$ \\left(F_A\\right) = 7 $ $\\rightarrow$ primeira linha da coluna de freq. acumuladas, pois é ela que corresponde a classe anterior, já que estamos nos referindo a segunda linha (resultado obtido da 10ª posição)."
   ]
  },
  {
   "cell_type": "markdown",
   "metadata": {},
   "source": [
    "``Conclusões``\n",
    "\n",
    "Considerando do **menor para o maior**, podemos afirmar que dentro do primeiro quartil encontraremos **no máximo** uma pessoa com altura de $163,5cm$."
   ]
  },
  {
   "cell_type": "markdown",
   "metadata": {},
   "source": [
    "### ii. Como calcular um percentil qualquer $P_i$ <a class=\"anchor\" id=\"calc_percentil\"></a>"
   ]
  },
  {
   "cell_type": "markdown",
   "metadata": {},
   "source": [
    "**Percentil** é quando pegamos o nosso conjunto de dados e o **dividimos em 100 partes**. Portanto, a pergunta - por exemplo -**\"Quanto vale $P_{20}$?\"** Em outras palavras quer dizer: *se o percentil divide meus dados em 100 partes, qual é o valor que está na posição 20, ou seja, dividindo meus dados em \"20 partes\"?*"
   ]
  },
  {
   "cell_type": "markdown",
   "metadata": {},
   "source": [
    "Utilizaremos a seguinte **fórmula** para cálculo de percentil:\n",
    "\n",
    "$$ P_k = L_i + \\frac{k\\cdot\\sum f_i - F_{anterior}}{f_{intervalo}} \\cdot h $$"
   ]
  },
  {
   "cell_type": "markdown",
   "metadata": {},
   "source": [
    "* $k$ $-$ valor de percentil procurado\n",
    "* $L_i$ $-$ limite inferior\n",
    "* $F_A$ $-$ frequência acumulada na linha anterior\n",
    "* $f_I$ $-$ frequência do intervalo\n",
    "* $h$ $-$ amplitude do intervalo"
   ]
  },
  {
   "cell_type": "markdown",
   "metadata": {},
   "source": [
    "*Exemplo com ``exercício``*\n",
    "\n",
    "**Q7.** Uma pesquisa coletou os seguintes dados referente à altura das pessoas. Calcule o $P_{20}$."
   ]
  },
  {
   "cell_type": "markdown",
   "metadata": {},
   "source": [
    "<center>\n",
    "    <img src=\"https://64.media.tumblr.com/164909974e8edb18c30151f0d968e952/e6ff81e8ec8775d9-cb/s400x600/eee40b610050cfc4921eeb9e014ebf253ff649c1.jpg\" width=200 />\n",
    "    </center>"
   ]
  },
  {
   "cell_type": "markdown",
   "metadata": {},
   "source": [
    "*Resolução*\n",
    "\n",
    "**1. Passo**\n",
    "\n",
    "Substituir o $20$ no lugar do $k$.\n",
    "\n",
    "$$P_{20} = L_i \\frac{\\frac{20}{100}\\cdot \\sum f_i - F_A}{f_I}\\cdot h $$"
   ]
  },
  {
   "cell_type": "markdown",
   "metadata": {},
   "source": [
    "**2. Passo**\n",
    "\n",
    "Elaborar a coluna da frequência acumulada.\n",
    "\n",
    "| Estatura     ($x_i$) | Frequências ($f_i$)  | Freq. Acumuladas ($F_i$) |  \n",
    "| -------------------- | -------------------- | ------------------------ |\n",
    "| 160 - 162            | 7                    | 7                        |\n",
    "| 162 - 164            | 4                    | 11                       |\n",
    "| 164 - 166            | 8                    | 19                       |\n",
    "| 166 - 168            | 9                    | 28                       |\n",
    "| 168 - 170            | 12                   | 40                       |"
   ]
  },
  {
   "cell_type": "markdown",
   "metadata": {},
   "source": [
    "Como desejamos o $P_{20}$, desejamos, na verdade, $\\frac{20}{100}$ do nosso total. Isto é, concluímos que entrevistamos $40$ pessoas. Logo:\n",
    "\n",
    "$$ \\frac{20}{100}\\cdot40 = 8 $$\n",
    "\n",
    "**Obtivemos** a *8º posição* como resposta. Vamos olhar para tabela para ver onde está este elemento.\n",
    "\n",
    "| Estatura     ($x_i$) | Frequências ($f_i$)  | Freq. Acumuladas ($F_i$) |  Posições    |  \n",
    "| -------------------- | -------------------- | ------------------------ | ------------ |\n",
    "| 160 - 162            | 7                    | 7                        | 1ª até 7ª    |\n",
    "| 162 - 164            | 4                    | 11                       | 8ª até 11ª   |\n",
    "| 164 - 166            | 8                    | 19                       | 12ª até 19ª  |\n",
    "| 166 - 168            | 9                    | 28                       | 20ª até 28ª  |\n",
    "| 168 - 170            | 12                   | 40                       | 29ª até 40ª  |"
   ]
  },
  {
   "cell_type": "markdown",
   "metadata": {},
   "source": [
    "**3. Passo**\n",
    "\n",
    "A 8ª posição se encontra na segunda linha, logo, devemos substituir os valores da segunda linha no *1. Passo*.\n",
    "\n",
    "$$ P_{20} = 162 + \\frac{8-7}{4}\\cdot2 = 162 + \\frac{2}{4} = 162,5 $$\n",
    "\n",
    "$$P_{20} = 162,5$$"
   ]
  },
  {
   "cell_type": "markdown",
   "metadata": {},
   "source": [
    "* observação: as substituições que foram feitas.\n",
    "\n",
    "$ \\left(h = 164 -162 = 2\\right) $ $\\rightarrow$ a amplitude é a diferença dos limites na linha encontrada como resultado.\n",
    "\n",
    "$ \\left(\\frac{20}{100} \\cdot \\sum f_i\\right) = 8 $ $\\rightarrow$ resultado do *2. Passo*.\n",
    "\n",
    "$ \\left(F_A\\right) = 7 $ $\\rightarrow$ primeira linha da coluna de freq. acumuladas, pois é ela que corresponde a classe anterior, já que estamos nos referindo a segunda linha (resultado obtido da 8ª posição)."
   ]
  },
  {
   "cell_type": "markdown",
   "metadata": {},
   "source": [
    "``Conclusões``\n",
    "\n",
    "Considerando do **menor para o maior**, podemos afirmar que as primeiras $20$ partições, isto é, que dentre as estaturas contidas nos primeiros $20\\%$ dos dados; encontraremos **no máximo** uma pessoa com altura de $162,5cm$. "
   ]
  },
  {
   "cell_type": "markdown",
   "metadata": {},
   "source": [
    "## 3. Análise de Regressão <a class=\"anchor\" id=\"analise_de_reg\"></a>\n",
    "*Fonte:* [Portal Action](http://www.portalaction.com.br/analise-de-regressao)"
   ]
  },
  {
   "cell_type": "markdown",
   "metadata": {},
   "source": [
    "Em diversos problemas das áreas médica, biológica, industrial, química entre outras, é de grande interesse verificar se duas ou mais variáveis estão relacionadas de alguma forma. Para expressar esta relação é muito importante estabelecer um modelo matemático. Este tipo de modelagem é chamado de regressão, e ajuda a entender como determinadas variáveis influenciam outra variável, ou seja, verifica como o comportamento de uma(s) variável(is) pode mudar o comportamento de outra.\n",
    "\n",
    "Esta relação pode ser analisada como um processo. Neste processo, os valores de $X_1, X_2,…, X_n$ são chamados de Variáveis de Entrada ou Regressoras (inputs) e $Y$ de Variável de Saída ou Resposta (output)."
   ]
  },
  {
   "cell_type": "markdown",
   "metadata": {},
   "source": [
    "<center>\n",
    "    <img src=\"https://64.media.tumblr.com/0a2fd7971b81d17be76722dd70251c6f/77c41c9025970bb1-9a/s500x750/2443525c1f1d412e35ec915dfe6537013b9709c1.png\" width=550 />\n",
    "    </center>"
   ]
  },
  {
   "cell_type": "markdown",
   "metadata": {},
   "source": [
    "A Análise de Regressão possibilita encontrar uma relação razoável entre as variáveis de entrada e saída, por meio de relações empíricas. A utilização desta abordagem necessita de coleta de dados e do uso de métodos estatísticos de Análise de Regressão Linear. A coleta de dados permite conhecer a natureza da relação entre as variáveis e realizar estudos capazes de acomodar situações inesperadas, como por exemplo, variabilidade na matéria prima, temperatura ambiente, máquina e operadores.\n",
    "\n",
    "Se estamos interessados na relação de apenas uma variável de entrada com a variável resposta temos o caso de **Regressão Linear Simples**. Mas se queremos relacionar a variável resposta com mais de uma variável regressora, a **Regressão Linear Múltipla** é utilizada.\n",
    "\n",
    "Caso a variável resposta seja uma variável categórica, ou seja, a variável apresenta como possíveis realizações uma qualidade (ou atributo) e não mais uma mensuração, utilizamos o Modelo de **Regressão Logística**."
   ]
  },
  {
   "cell_type": "markdown",
   "metadata": {},
   "source": [
    "### Objetivos <a class=\"anchor\" id=\"objetivo_\"></a>\n",
    "\n",
    "Modelos de Regressão são construídos com os objetivos:\n",
    "\n",
    "**i) Predição** - Uma vez que esperamos que grande parte da variação da variável de saída seja explicada pelas variáveis de entrada, podemos utilizar o modelo para obter valores de Y correspondentes a valores de X que não estavam entre os dados. Esse procedimento é chamado de predição e, em geral, usamos valores de X que estão dentro do intervalo de variação estudado. A utilização de valores fora desse intervalo recebe o nome de extrapolação e deve ser usada com muito cuidado, pois, o modelo adotado pode não ser correto fora do intervalo estudado. Acredita-se que a predição seja a aplicação comum dos modelos de regressão; \n",
    "\n",
    "**ii) Seleção de variáveis** - Frequentemente, não se tem ideia de quais são as variáveis que afetam significativamente a variação de Y. Para responder a esse tipo de questão, estudos são realizados com um grande número de variáveis. A análise de regressão pode auxiliar no processo de seleção de variáveis eliminando aquelas cuja contribuição não seja importante; \n",
    "\n",
    "**iii) Estimação de parâmetros** - Dado um modelo e um conjunto de dados referente às variáveis resposta e preditoras, estimar parâmetros ou ajustar um modelo aos dados significa obter valores ou estimativas para os parâmetros, por algum processo, tendo por base o modelo e os dados observados;\n",
    "\n",
    "**iv) Inferência** - O ajuste de um modelo de regressão em geral tem por objetivos básicos, além de estimar os parâmetros, realizar inferências sobre eles, tais como, testes de hipóteses e intervalos de confiança."
   ]
  },
  {
   "cell_type": "markdown",
   "metadata": {},
   "source": [
    "### 3.1. Regressão linear simples <a class=\"anchor\" id=\"reg_simples\"></a>"
   ]
  },
  {
   "cell_type": "markdown",
   "metadata": {},
   "source": [
    "É razoável supor que exista uma relação entre duas variáveis quaisquer na natureza. Por exemplo: a dureza de pistões, denotada por $Y$, com os níveis de temperatura, denotado por $X$. Nossa hipótese inicial parte do pressuposto exista uma relação linear entre essas variáveis. Assim, definimos o seguinte modelo de regressão linear simples entre $Y$ (variável resposta) e $X$ (variável regressora); da seguinte forma."
   ]
  },
  {
   "cell_type": "markdown",
   "metadata": {},
   "source": [
    "### Definição <a class=\"anchor\" id=\"definicao\"></a>\n",
    "\n",
    "Consideremos duas variáveis $X$ e $Y$. Dados n pares $(X_1,Y_1),(X_2,Y_2),...,(X_n,Y_n)$, se $Y$ é função linear de $X$, pode-se estabelecer uma regressão linear simples cujo modelo estatístico é \n",
    "\n",
    "$$Y_i = β_0 + β_1 x_i + ε_i,$$   \n",
    "\n",
    "$$para$$\n",
    "\n",
    "$$i=1,…,n,$$\n",
    "\n",
    "em que substituímos $X_i$ por $x_i$ uma vez que $X_i$ é uma variável determinística (constante conhecida).\n",
    "\n",
    "Neste modelo,\n",
    "\n",
    "* $Y_i$ é uma variável aleatória e representa o valor da variável resposta (variável dependente) na i-ésima observação;\n",
    "* $x_i$ representa o valor da variável explicativa (variável independente, variável regressora) na i-ésima observação;\n",
    "* $ϵ_i$ é uma variável aleatória que representa o erro experimental;\n",
    "* $β_0$ e β1 são os parâmetros do modelo, que serão estimados, e que definem a reta de regressão e\n",
    "* $n$ é o tamanho da amostra."
   ]
  },
  {
   "cell_type": "markdown",
   "metadata": {},
   "source": [
    "### Intepretação dos parâmetros do modelo <a class=\"anchor\" id=\"interpretacao_modelo_\"></a>\n",
    "\n",
    "O parâmetro $β_0$ é chamado intercepto ou coeficiente linear e representa o ponto em que a reta regressora corta o eixo dos $y's$, quando $x = 0$. Já o parâmetro $β_1$ representa a inclinação da reta regressora e é dito coeficiente de regressão ou coeficiente angular. Além disso, temos que para um aumento de uma unidade na variável $x$, o valor $E(Y|x)$ aumenta $β_1$ unidades. A interpretação geométrica dos parâmetros $β_0$ e $β_1$ pode ser vista na figura abaixo."
   ]
  },
  {
   "cell_type": "markdown",
   "metadata": {},
   "source": [
    "<center>\n",
    "    <img src=\"https://64.media.tumblr.com/931d02b8e5a7d26877cdaec7c27f5cb2/89c5dbe64996f69f-18/s540x810/65a2e08485fc07cf955bd6f1ecf2b3f12ea68f10.png\" width=500 />\n",
    "    </center>"
   ]
  },
  {
   "cell_type": "markdown",
   "metadata": {},
   "source": [
    "<hr>"
   ]
  },
  {
   "cell_type": "markdown",
   "metadata": {},
   "source": [
    "A imagem abaixo, retirada do **Deep Learning AI** mostra uma explicação completa sobre o assunto. Explica desde a função de custo até como funciona o gradiente descendente. Passa pelo método dos mínimos quadrados e a busca pela minimização desse somatório.\n",
    "\n",
    "*Para saber mais, consulte:* https://www.deeplearning.ai/ai-notes/optimization/"
   ]
  },
  {
   "cell_type": "markdown",
   "metadata": {},
   "source": [
    "<center>\n",
    "    <img src=\"https://64.media.tumblr.com/7053131137643028cbed3adc9692d105/0cb702a0c244e6ba-cb/s2048x3072/0ea3606654dce8e834138a91df388df846cd212c.jpg\" width=900 />\n",
    "    </center>"
   ]
  },
  {
   "cell_type": "markdown",
   "metadata": {},
   "source": [
    "## 4. Estimadores e estimativas <a class=\"anchor\" id=\"estimadores\"></a>\n",
    "*Fontes*\n",
    "\n",
    "* [Portal Action](http://www.portalaction.com.br/inferencia/estimadores)\n",
    "* [365 Data Science](https://learn.365datascience.com/courses/preview/statistics/) (*precisa fazer o login*)"
   ]
  },
  {
   "cell_type": "markdown",
   "metadata": {},
   "source": [
    "A inferência estatística tem por objetivo extrair informações sobre uma população a partir de dados amostrais. Neste contexto, uma das etapas principais da obtenção dessas informações é a estimação dos parâmetros. Considere o seguinte exemplo"
   ]
  },
  {
   "cell_type": "markdown",
   "metadata": {},
   "source": [
    "### 4.1. Breve teórico <a class=\"anchor\" id=\"estimadores_breve_teorico\"></a>"
   ]
  },
  {
   "cell_type": "markdown",
   "metadata": {},
   "source": [
    "Estimar uma parâmetro da população é uma informação que depende apenas da informação da amostra. É um valor específico. Chamado de **estimativa**.\n",
    "\n",
    "Basicamente, existem dois tipos de estimativas.\n",
    "* **1. Estimativas pontuais** $\\rightarrow$ É apenas um número.\n",
    "\n",
    "* **2. Estimativas de intervalo de confiança** $\\rightarrow$ Como o nome o sugere: é um intervalo, uma faixa de valores.\n",
    "\n",
    "\n",
    "Ambos têm uma forte relação. Na verdade, uma estimativa pontual está localizada no meio de um intervalo de confiança. Entretanto, intervalos de confiança nos dão mais informações. Por isso, são preferenciais quando fazemos inferências. Não se preocupe, mais à frente abordaremos esse assunto novamente."
   ]
  },
  {
   "cell_type": "markdown",
   "metadata": {},
   "source": [
    "Aqui, cabe a pergunta: Já vimos alguma estimativa? Claro que sim! A média da amostra $\\bar{x}$ é uma estimativa pontual da média da população $\\mu$. Assim como a variância da amostra $s^2$ é uma estimativa da variância da população $\\sigma^2$. Existem muitos estimadores para as mesmas variáveis. E, mesmo assim, todas têm duas propriedades. Veremos logo abaixo. Antes, um reparo. Não iremos prová-las já que a matemática associada a demonstrações não é o foco desse mateiral de apoio. Apesar disso, você deve ter uma ideia desses conceitos. Que são:\n",
    "\n",
    "<hr/>\n",
    "<div class=\"alert alert-success alertsuccess\" style=\"margin-top: 20px\">\n",
    "    <kbd>Dica rápida!</kbd> Estimadores são como juízes. Nós estamos procurando pelos estimadores não-viesados. Um <b>estimador não viesado</b> possui o seu: <b>valor esperado = parâmetro populacional </b>  \n",
    "</div>\n",
    "<hr/>\n",
    "\n",
    "\n",
    "* **1. Eficiência**\n",
    "\n",
    "As estimativas mais eficientes são aquelas que contém menos variabilidade no resultado. Das estimativas que conhecemos, por enquanto, não vimos nenhum estimador com variância problemática. Mas, para que você não fique sem interloucação, proponho um exemplo. \n",
    "\n",
    "*Exemplo*\n",
    "\n",
    "Em Machine Learning, as árvores de decisão são um exemplo de algoritmo que contém (na sua desvantagem) alta variabilidade no resultado. Apesar das inúmeras vantagens e alto poder preditivo que possuem.\n",
    "\n",
    "\n",
    "``Em resumo``: O estimador mais eficiente é o estimador não viesado com menor variância.\n",
    "\n",
    "\n",
    "* **2. Viés**\n",
    "\n",
    "*Exemplo*\n",
    "\n",
    "Suponha alguém te diga \"você irá encontrar a média da altura dos brasileiros ao pegar uma amostra, calcular a média, e adicionar $30cm$ a esse resultado\". Então teríamos:\n",
    "\n",
    "$$ \\bar{x}_{altura} + 30 = \\mu_{altura} $$\n",
    "\n",
    "Muito bem, espero que não acredite nisso. Foi dada uma estimativa. Porém uma com **muito viés**. Ora, faz muito mais sentido que a **média dos brasileiros** é apenas a **média da amostra**. (A grosso modo, claro. Apesar dessa suposição ter implícita uma série de condições a serem satisfeitas para ser verdade. Por exemplo: teorema do limite central, médias a longo prazo, testes de hipótese, etc. Sabemos disso.) \n",
    "\n",
    "\n",
    "Dizemos, portanto, que o **erro da estimativa** é de $30 cm$."
   ]
  },
  {
   "cell_type": "markdown",
   "metadata": {},
   "source": [
    "**Diferença** entre **Estatística X Estimadores**\n",
    "\n",
    "Enquanto **Estatística** é um ``termo mais amplo``; **Estimadores** são ``um tipo de estatística``."
   ]
  },
  {
   "cell_type": "markdown",
   "metadata": {},
   "source": [
    "### Equações"
   ]
  },
  {
   "cell_type": "markdown",
   "metadata": {},
   "source": [
    "Considere o problema em se determinar, em uma população, a proporção de pessoas acima de 40 anos que sofrem de artrite. Vamos imaginar que, de uma amostra de 200 pessoas acima de 40 anos, foi verificado que 12 pessoas têm artrite.\n",
    "\n",
    "Desta forma, uma estimativa natural para a proporção seria de 12/200 = 6%. É claro que, neste caso, estamos supondo que a amostra representa a população, e, claro que, caso retirássemos outra amostra da população, possivelmente obteríamos uma estimativa diferente da anterior.\n",
    "\n",
    "Considerando o caso geral em que temos uma amostra de $n$ elementos, podemos definir a seguinte variável aleatória.\n",
    "\n",
    "$$ X_{i} = \\left\\{\\begin{matrix}\n",
    "1, \\text{se a i-ésima pessoa na amostra possui artrite} \\\\\n",
    "0, \\text{caso contrário}\n",
    "\\end{matrix}\\right. $$\n",
    "\n",
    "e seja $p$ a probabilidade da pessoa possuir artrite na população, ou seja, o parâmetro de interesse do estudo. Neste caso, temos que\n",
    "\n",
    "$$ Y_{n} = \\sum_{i=1}^{n} X_{i} $$\n",
    "\n",
    "tem distribuição binomial com parâmetros $n$ e $p$ e $Y_{n}$ representa o total de indivíduos na amostra que possuem artrite. Desta forma, um possível estimador para a proporção é dado por  \n",
    "\n",
    "$$ \\hat{p} = \\frac{Y_{n}}{n} = \\sum_{i=1}^{200} \\frac{X_{i}}{200} = \\frac{\\text{pessoascom artrite na amostra}}{\\text{tamanho amostral}} $$\n",
    "\n",
    "Desta forma, se $Y_{n} = k$, temos que $\\hat{p} = \\frac{k}{n}$ é uma estimativa para a proporção $p$. Se considerarmos a amostra extraída acima, temos que a estimativa é dada por $\\frac{12}{200} = 6\\%$.\n",
    "\n",
    "Como já bem sabemos, $\\hat{p}$ tem distribuição aproximadamente normal com média $p$ e variância $p(1-p)/n$, isto é, \n",
    "\n",
    "$$ \\mathbb{E}(\\hat{p}) = p $$\n",
    "$$ e $$\n",
    "$$ \\text{Var}(\\hat{p}) = \\frac{p(p-1)}{n} $$\n",
    "\n",
    "Desta forma, podemos concluir que, em média, o estimador $\\hat{p}$ é \"igual\" (está bastante próximo) de $p$ e então, dizemos que o $\\hat{p}$ é um estimador não viciado (ou não viesado) de $p$. Além disso, para amostras grandes, a diferença entre o valor real $p$ e o estimador $\\hat{p}$ tende a ser pequena, já que, quando $n \\rightarrow \\infty$, $\\text{Var}(\\hat{p}) \\rightarrow 0$ e, neste caso, dizemos que $\\hat{p}$ é um estimador consistente de $p$.\n",
    "\n",
    "Ainda neste módulo 4.1. verificaremos algumas propriedades das estatísticas utilizadas na inferência. E métodos para calcular estimadores. Entre eles, os métodos de momentos, de mínimos quadrados e de máxima verossimilhança. Depois, estudaremos propriedades interessantes dos estimadores."
   ]
  },
  {
   "cell_type": "markdown",
   "metadata": {},
   "source": [
    "### 4.2. Links para saber mais <a class=\"anchor\" id=\"saber_mais\"></a>"
   ]
  },
  {
   "cell_type": "markdown",
   "metadata": {},
   "source": [
    "**Este é um assunto muito vasto**. Portanto, não abordaremos todos os tópicos possíveis porque impraticável. Mas, também não deixaremos o estudante de mãos vazias. Caso queira se aprofundar em algum desses assuntos, consulte algum dos links abaixo para estudar mais.\n",
    "\n",
    "* [1. Propriedades das Estatísticas](http://www.portalaction.com.br/inferencia/31-propriedades-das-estatisticas)\n",
    "    * [1.0 Princípio da Suficiência](http://www.portalaction.com.br/inferencia/311-principio-da-suficiencia)\n",
    "    * [1.1 Princípio da Verossimilhança](http://www.portalaction.com.br/inferencia/312-principio-da-verossimilhanca)\n",
    "    * [1.2. Princípio da Equivariância](http://www.portalaction.com.br/inferencia/313-principio-da-equivariancia)\n",
    "* [2. Estimadores de Momentos](http://www.portalaction.com.br/inferencia/32-estimadores-de-momentos)\n",
    "* [3. Estimadores de Mínimos Quadrados](http://www.portalaction.com.br/inferencia/33-estimadores-de-minimos-quadrados)\n",
    "* [4. Estimadores de Máxima Verossimilhança](http://www.portalaction.com.br/inferencia/34-estimadores-de-maxima-verossimilhanca)\n",
    "    * [4.1. Estimadores de Máxima Verossimilhança](http://www.portalaction.com.br/inferencia/34-estimadores-de-maxima-verossimilhanca)\n",
    "    * [4.2. Métodos numéricos dos estimadores de máxima verossimilhança](http://www.portalaction.com.br/inferencia/341-metodos-numericos-dos-estimadores-de-maxima-verossimilhanca)\n",
    "* [5. Propriedades dos estimadores](http://www.portalaction.com.br/inferencia/35-propriedades-dos-estimadores)\n",
    "* [6. Intervalo de confiança](http://www.portalaction.com.br/inferencia/intervalo-de-confianca)\n",
    "    * [6.1. Intervalo de confiança para média](http://www.portalaction.com.br/inferencia/41-intervalo-de-confianca-para-media)\n",
    "    * [6.2. Intervalo de confiança para proporção](http://www.portalaction.com.br/inferencia/42-intervalo-de-confianca-para-proporcao)\n",
    "    * [6.3. Intervalo de confiança para taxa](http://www.portalaction.com.br/inferencia/43-intervalo-de-confianca-para-taxa)\n",
    "    * [6.4. Intervalo de confiança para variância](http://www.portalaction.com.br/inferencia/44-intervalo-de-confianca-para-variancia)\n",
    "    * [6.5. Intervalo de confiança para razão entre duas variâncias](http://www.portalaction.com.br/inferencia/45-intervalo-de-confianca-para-razao-entre-duas-variancias)\n",
    "    * [6.6. Intervalo de confiança para a diferença de médias](http://www.portalaction.com.br/inferencia/46-intervalo-de-confianca-para-diferenca-de-medias)"
   ]
  },
  {
   "cell_type": "markdown",
   "metadata": {},
   "source": [
    "## Author\n",
    "\n",
    "<a href=\"https://www.linkedin.com/in/brndnaxr/\" target=\"_blank\">Brandon Aguiar</a>\n",
    "\n",
    "## Change Log\n",
    "\n",
    "| Date (YYYY-MM-DD) | Version | Changed By | Change Description                                                                                                     |\n",
    "| ----------------- | ------- | ---------- | ---------------------------------------------------------------------------------------------------------------------- |\n",
    "| 2021 - 04 - 10        | 0.1     | Brandon    | Some missing features are in GitHub   |                                       \n",
    "| 2021 - 04 - 11      | 0.1     | Brandon      | Removed some unnecessary examples |                                           \n",
    "| 2021 - 05 - 30       | 0.2 | Brandon | Conteúdo sobre estimadores adicionado |\n",
    "\n",
    "\n",
    "<hr/>\n",
    "\n",
    "## <h3 align=\"center\"> © UAM Monitoria 2021. All rights reserved. <h3/>"
   ]
  }
 ],
 "metadata": {
  "kernelspec": {
   "display_name": "Python 3",
   "language": "python",
   "name": "python3"
  },
  "language_info": {
   "codemirror_mode": {
    "name": "ipython",
    "version": 3
   },
   "file_extension": ".py",
   "mimetype": "text/x-python",
   "name": "python",
   "nbconvert_exporter": "python",
   "pygments_lexer": "ipython3",
   "version": "3.8.8"
  }
 },
 "nbformat": 4,
 "nbformat_minor": 4
}
