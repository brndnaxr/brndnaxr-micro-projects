{
 "cells": [
  {
   "cell_type": "markdown",
   "metadata": {},
   "source": [
    "# Monitoria **Estatística e Probabilidade Aplicada**\n",
    "Monitor: ``Brandon Aguiar``\n",
    "\n",
    "<center>\n",
    "    <img src=\"https://portal.anhembi.br/wp-content/uploads/2016/04/anhembi-morumbi-300x73.png\" width=\"300\" alt=\"cognitiveclass.ai logo\"  />\n",
    "</center>\n",
    "\n",
    "## Material de Apoio - Teoria\n",
    "Estimativa de tempo necessário: **60** minutos\n",
    "<hr>"
   ]
  },
  {
   "cell_type": "markdown",
   "metadata": {},
   "source": [
    "## Programa de Estudos\n",
    "\n",
    "1. [Conceitos básicos](#conceitos_basicos)\n",
    "2. [Medidas de Posição](#medidas_posicao)\n",
    "    *  [Variáveis Discretas](#variaveis_discretas)\n",
    "    *  [Variáveis Contínuas](#variaveis_continuas)\n",
    "3. [Medidas de Dispersão](#medidas_dispersao)\n",
    "    *  [Conceitos de Variância e Desvio Padrão](#variancia_desvio)\n",
    "    *  [Coeficiente de Variação](#coef_variacao)\n",
    "    *  [Aplicações do Desvio Padrão](#aplicacoes_desvio)\n",
    "4. [Análise Combinatória](#analise_combinatoria)\n",
    "    *  [Princípio Fundamental da Contagem](#contagem)\n",
    "    *  [Breve Histórico](#breve_historico_contagem)\n",
    "    *  [Permutação](#permutacao)\n",
    "    *  [Arranjo & Combinação](#arranjo_combinacao)\n",
    "\n",
    "<hr>"
   ]
  },
  {
   "cell_type": "markdown",
   "metadata": {},
   "source": [
    "### 1. Conceitos Básicos <a class=\"anchor\" id=\"conceitos_basicos\"></a>"
   ]
  },
  {
   "cell_type": "markdown",
   "metadata": {},
   "source": [
    "#### Amostragem Simples <a class=\"anchor\" id=\"amostragem_simples\"></a>"
   ]
  },
  {
   "cell_type": "code",
   "execution_count": null,
   "metadata": {},
   "outputs": [],
   "source": []
  },
  {
   "cell_type": "code",
   "execution_count": null,
   "metadata": {},
   "outputs": [],
   "source": []
  },
  {
   "cell_type": "code",
   "execution_count": null,
   "metadata": {},
   "outputs": [],
   "source": []
  },
  {
   "cell_type": "code",
   "execution_count": null,
   "metadata": {},
   "outputs": [],
   "source": []
  },
  {
   "cell_type": "code",
   "execution_count": null,
   "metadata": {},
   "outputs": [],
   "source": []
  },
  {
   "cell_type": "code",
   "execution_count": null,
   "metadata": {},
   "outputs": [],
   "source": []
  },
  {
   "cell_type": "code",
   "execution_count": null,
   "metadata": {},
   "outputs": [],
   "source": []
  }
 ],
 "metadata": {
  "kernelspec": {
   "display_name": "R",
   "language": "R",
   "name": "ir"
  },
  "language_info": {
   "codemirror_mode": "r",
   "file_extension": ".r",
   "mimetype": "text/x-r-source",
   "name": "R",
   "pygments_lexer": "r",
   "version": "4.0.4"
  }
 },
 "nbformat": 4,
 "nbformat_minor": 4
}
