{
  "nbformat": 4,
  "nbformat_minor": 0,
  "metadata": {
    "colab": {
      "provenance": [],
      "authorship_tag": "ABX9TyOKKipBFOMyAtIam0CDZdSp",
      "include_colab_link": true
    },
    "kernelspec": {
      "name": "python3",
      "display_name": "Python 3"
    },
    "language_info": {
      "name": "python"
    },
    "widgets": {
      "application/vnd.jupyter.widget-state+json": {
        "b3d2f3528bc541c28a573e1a9821d13b": {
          "model_module": "@jupyter-widgets/controls",
          "model_name": "ButtonModel",
          "model_module_version": "1.5.0",
          "state": {
            "_dom_classes": [],
            "_model_module": "@jupyter-widgets/controls",
            "_model_module_version": "1.5.0",
            "_model_name": "ButtonModel",
            "_view_count": null,
            "_view_module": "@jupyter-widgets/controls",
            "_view_module_version": "1.5.0",
            "_view_name": "ButtonView",
            "button_style": "",
            "description": "Toggle Pandas/Lux",
            "disabled": false,
            "icon": "",
            "layout": "IPY_MODEL_33451cc90515431bace249dd2d54c6ad",
            "style": "IPY_MODEL_69fcb582d7c74f90890c626fe0e5a801",
            "tooltip": ""
          }
        },
        "33451cc90515431bace249dd2d54c6ad": {
          "model_module": "@jupyter-widgets/base",
          "model_name": "LayoutModel",
          "model_module_version": "1.2.0",
          "state": {
            "_model_module": "@jupyter-widgets/base",
            "_model_module_version": "1.2.0",
            "_model_name": "LayoutModel",
            "_view_count": null,
            "_view_module": "@jupyter-widgets/base",
            "_view_module_version": "1.2.0",
            "_view_name": "LayoutView",
            "align_content": null,
            "align_items": null,
            "align_self": null,
            "border": null,
            "bottom": null,
            "display": null,
            "flex": null,
            "flex_flow": null,
            "grid_area": null,
            "grid_auto_columns": null,
            "grid_auto_flow": null,
            "grid_auto_rows": null,
            "grid_column": null,
            "grid_gap": null,
            "grid_row": null,
            "grid_template_areas": null,
            "grid_template_columns": null,
            "grid_template_rows": null,
            "height": null,
            "justify_content": null,
            "justify_items": null,
            "left": null,
            "margin": null,
            "max_height": null,
            "max_width": null,
            "min_height": null,
            "min_width": null,
            "object_fit": null,
            "object_position": null,
            "order": null,
            "overflow": null,
            "overflow_x": null,
            "overflow_y": null,
            "padding": null,
            "right": null,
            "top": "5px",
            "visibility": null,
            "width": "140px"
          }
        },
        "69fcb582d7c74f90890c626fe0e5a801": {
          "model_module": "@jupyter-widgets/controls",
          "model_name": "ButtonStyleModel",
          "model_module_version": "1.5.0",
          "state": {
            "_model_module": "@jupyter-widgets/controls",
            "_model_module_version": "1.5.0",
            "_model_name": "ButtonStyleModel",
            "_view_count": null,
            "_view_module": "@jupyter-widgets/base",
            "_view_module_version": "1.2.0",
            "_view_name": "StyleView",
            "button_color": null,
            "font_weight": ""
          }
        },
        "6ccb079fbbad4263a078b1700b0bed42": {
          "model_module": "@jupyter-widgets/output",
          "model_name": "OutputModel",
          "model_module_version": "1.0.0",
          "state": {
            "_dom_classes": [],
            "_model_module": "@jupyter-widgets/output",
            "_model_module_version": "1.0.0",
            "_model_name": "OutputModel",
            "_view_count": null,
            "_view_module": "@jupyter-widgets/output",
            "_view_module_version": "1.0.0",
            "_view_name": "OutputView",
            "layout": "IPY_MODEL_82650407280243458a7f24fc89166741",
            "msg_id": "",
            "outputs": [
              {
                "output_type": "display_data",
                "data": {
                  "text/plain": "LuxWidget(recommendations=[{'action': 'Occurrence', 'description': \"Show frequency of occurrence for <p class=…",
                  "application/vnd.jupyter.widget-view+json": {
                    "version_major": 2,
                    "version_minor": 0,
                    "model_id": "b20df32a18594234add1786cf781d59d"
                  }
                },
                "metadata": {
                  "application/vnd.jupyter.widget-view+json": {
                    "colab": {
                      "custom_widget_manager": {
                        "url": "https://ssl.gstatic.com/colaboratory-static/widgets/colab-cdn-widget-manager/d2e234f7cc04bf79/manager.min.js"
                      }
                    }
                  }
                }
              }
            ]
          }
        },
        "82650407280243458a7f24fc89166741": {
          "model_module": "@jupyter-widgets/base",
          "model_name": "LayoutModel",
          "model_module_version": "1.2.0",
          "state": {
            "_model_module": "@jupyter-widgets/base",
            "_model_module_version": "1.2.0",
            "_model_name": "LayoutModel",
            "_view_count": null,
            "_view_module": "@jupyter-widgets/base",
            "_view_module_version": "1.2.0",
            "_view_name": "LayoutView",
            "align_content": null,
            "align_items": null,
            "align_self": null,
            "border": null,
            "bottom": null,
            "display": null,
            "flex": null,
            "flex_flow": null,
            "grid_area": null,
            "grid_auto_columns": null,
            "grid_auto_flow": null,
            "grid_auto_rows": null,
            "grid_column": null,
            "grid_gap": null,
            "grid_row": null,
            "grid_template_areas": null,
            "grid_template_columns": null,
            "grid_template_rows": null,
            "height": null,
            "justify_content": null,
            "justify_items": null,
            "left": null,
            "margin": null,
            "max_height": null,
            "max_width": null,
            "min_height": null,
            "min_width": null,
            "object_fit": null,
            "object_position": null,
            "order": null,
            "overflow": null,
            "overflow_x": null,
            "overflow_y": null,
            "padding": null,
            "right": null,
            "top": null,
            "visibility": null,
            "width": null
          }
        },
        "b20df32a18594234add1786cf781d59d": {
          "model_module": "luxwidget",
          "model_name": "LuxModel",
          "model_module_version": "0.1.11",
          "state": {
            "_dom_classes": [],
            "_model_module": "luxwidget",
            "_model_module_version": "0.1.11",
            "_model_name": "LuxModel",
            "_selectedVisIdxs": {},
            "_view_count": null,
            "_view_module": "luxwidget",
            "_view_module_version": "0.1.11",
            "_view_name": "LuxWidgetView",
            "all_column": false,
            "current_vis": {},
            "data": [],
            "deletedIndices": {},
            "intent": "",
            "layout": "IPY_MODEL_11c4995baf3e4db0b883d2f4f911cfc7",
            "message": "",
            "plotting_scale": 1,
            "recommendations": [
              {
                "action": "Occurrence",
                "description": "Show frequency of occurrence for <p class='highlight-descriptor'>categorical</p> attributes.",
                "long_description": "Occurence displays bar charts of counts for all categorical attributes (e.g., Company). Visualizations are ranked from most to least uneven across the bars. ",
                "vspec": [
                  {
                    "config": {
                      "view": {
                        "continuousWidth": 400,
                        "continuousHeight": 300
                      },
                      "axis": {
                        "labelColor": "#505050",
                        "labelFont": "Helvetica Neue",
                        "labelFontSize": 9,
                        "labelFontWeight": 400,
                        "titleFont": "Helvetica Neue",
                        "titleFontSize": 11,
                        "titleFontWeight": 500
                      },
                      "legend": {
                        "labelFont": "Helvetica Neue",
                        "labelFontSize": 9,
                        "labelFontWeight": 400,
                        "titleFont": "Helvetica Neue",
                        "titleFontSize": 10,
                        "titleFontWeight": 500
                      },
                      "mark": {
                        "tooltip": {
                          "content": "encoding"
                        }
                      },
                      "title": {
                        "font": "Helvetica Neue",
                        "fontSize": 13,
                        "fontWeight": 500
                      }
                    },
                    "data": {
                      "name": "data-c26374e128ec5eaeefae43108c95ce77"
                    },
                    "mark": "bar",
                    "encoding": {
                      "x": {
                        "axis": {
                          "title": "Number of Records"
                        },
                        "field": "Record",
                        "title": "Number of Records",
                        "type": "quantitative"
                      },
                      "y": {
                        "axis": {
                          "labelOverlap": true,
                          "title": "MissionStatus"
                        },
                        "field": "MissionStatus",
                        "type": "nominal"
                      }
                    },
                    "height": 150,
                    "width": 160,
                    "$schema": "https://vega.github.io/schema/vega-lite/v4.17.0.json",
                    "datasets": {
                      "data-c26374e128ec5eaeefae43108c95ce77": [
                        {
                          "MissionStatus": "Failure",
                          "Record": 357
                        },
                        {
                          "MissionStatus": "Partial Failure",
                          "Record": 107
                        },
                        {
                          "MissionStatus": "Prelaunch Failure",
                          "Record": 4
                        },
                        {
                          "MissionStatus": "Success",
                          "Record": 4162
                        }
                      ]
                    },
                    "vislib": "vegalite"
                  },
                  {
                    "config": {
                      "view": {
                        "continuousWidth": 400,
                        "continuousHeight": 300
                      },
                      "axis": {
                        "labelColor": "#505050",
                        "labelFont": "Helvetica Neue",
                        "labelFontSize": 9,
                        "labelFontWeight": 400,
                        "titleFont": "Helvetica Neue",
                        "titleFontSize": 11,
                        "titleFontWeight": 500
                      },
                      "legend": {
                        "labelFont": "Helvetica Neue",
                        "labelFontSize": 9,
                        "labelFontWeight": 400,
                        "titleFont": "Helvetica Neue",
                        "titleFontSize": 10,
                        "titleFontWeight": 500
                      },
                      "mark": {
                        "tooltip": {
                          "content": "encoding"
                        }
                      },
                      "title": {
                        "font": "Helvetica Neue",
                        "fontSize": 13,
                        "fontWeight": 500
                      }
                    },
                    "data": {
                      "name": "data-9bd2f7bef76fee61fb5e8dd39389bfe5"
                    },
                    "mark": "bar",
                    "encoding": {
                      "x": {
                        "axis": {
                          "title": "Number of Records"
                        },
                        "field": "Record",
                        "title": "Number of Records",
                        "type": "quantitative"
                      },
                      "y": {
                        "axis": {
                          "labelOverlap": true,
                          "title": "RocketStatus"
                        },
                        "field": "RocketStatus",
                        "type": "nominal"
                      }
                    },
                    "height": 150,
                    "width": 160,
                    "$schema": "https://vega.github.io/schema/vega-lite/v4.17.0.json",
                    "datasets": {
                      "data-9bd2f7bef76fee61fb5e8dd39389bfe5": [
                        {
                          "RocketStatus": "Active",
                          "Record": 1010
                        },
                        {
                          "RocketStatus": "Retired",
                          "Record": 3620
                        }
                      ]
                    },
                    "vislib": "vegalite"
                  },
                  {
                    "config": {
                      "view": {
                        "continuousWidth": 400,
                        "continuousHeight": 300
                      },
                      "axis": {
                        "labelColor": "#505050",
                        "labelFont": "Helvetica Neue",
                        "labelFontSize": 9,
                        "labelFontWeight": 400,
                        "titleFont": "Helvetica Neue",
                        "titleFontSize": 11,
                        "titleFontWeight": 500
                      },
                      "legend": {
                        "labelFont": "Helvetica Neue",
                        "labelFontSize": 9,
                        "labelFontWeight": 400,
                        "titleFont": "Helvetica Neue",
                        "titleFontSize": 10,
                        "titleFontWeight": 500
                      },
                      "mark": {
                        "tooltip": {
                          "content": "encoding"
                        }
                      },
                      "title": {
                        "font": "Helvetica Neue",
                        "fontSize": 13,
                        "fontWeight": 500
                      }
                    },
                    "layer": [
                      {
                        "data": {
                          "name": "data-1b88999467b2a3dd60d73b777e5ddbe3"
                        },
                        "mark": "bar",
                        "encoding": {
                          "x": {
                            "axis": {
                              "title": "Number of Records"
                            },
                            "field": "Record",
                            "title": "Number of Records",
                            "type": "quantitative"
                          },
                          "y": {
                            "axis": {
                              "labelOverlap": true,
                              "title": "Price"
                            },
                            "field": "Price",
                            "sort": "-x",
                            "type": "nominal"
                          }
                        }
                      },
                      {
                        "data": {
                          "name": "data-1b88999467b2a3dd60d73b777e5ddbe3"
                        },
                        "mark": {
                          "type": "text",
                          "align": "right",
                          "color": "#ff8e04",
                          "fontSize": 11,
                          "text": "+ 56 more ...",
                          "x": 155,
                          "y": 142
                        }
                      }
                    ],
                    "height": 150,
                    "width": 160,
                    "$schema": "https://vega.github.io/schema/vega-lite/v4.17.0.json",
                    "datasets": {
                      "data-1b88999467b2a3dd60d73b777e5ddbe3": [
                        {
                          "Price": null,
                          "Record": 3365
                        },
                        {
                          "Price": "450",
                          "Record": 136
                        },
                        {
                          "Price": "67",
                          "Record": 111
                        },
                        {
                          "Price": "200",
                          "Record": 80
                        },
                        {
                          "Price": "64.68",
                          "Record": 58
                        },
                        {
                          "Price": "40",
                          "Record": 57
                        },
                        {
                          "Price": "30.8",
                          "Record": 49
                        },
                        {
                          "Price": "29.75",
                          "Record": 44
                        },
                        {
                          "Price": "25",
                          "Record": 43
                        },
                        {
                          "Price": "29.15",
                          "Record": 41
                        }
                      ]
                    },
                    "vislib": "vegalite"
                  },
                  {
                    "config": {
                      "view": {
                        "continuousWidth": 400,
                        "continuousHeight": 300
                      },
                      "axis": {
                        "labelColor": "#505050",
                        "labelFont": "Helvetica Neue",
                        "labelFontSize": 9,
                        "labelFontWeight": 400,
                        "titleFont": "Helvetica Neue",
                        "titleFontSize": 11,
                        "titleFontWeight": 500
                      },
                      "legend": {
                        "labelFont": "Helvetica Neue",
                        "labelFontSize": 9,
                        "labelFontWeight": 400,
                        "titleFont": "Helvetica Neue",
                        "titleFontSize": 10,
                        "titleFontWeight": 500
                      },
                      "mark": {
                        "tooltip": {
                          "content": "encoding"
                        }
                      },
                      "title": {
                        "font": "Helvetica Neue",
                        "fontSize": 13,
                        "fontWeight": 500
                      }
                    },
                    "layer": [
                      {
                        "data": {
                          "name": "data-3db231dd0f2e77a54e85e08efae38f0e"
                        },
                        "mark": "bar",
                        "encoding": {
                          "x": {
                            "axis": {
                              "title": "Number of Records"
                            },
                            "field": "Record",
                            "title": "Number of Records",
                            "type": "quantitative"
                          },
                          "y": {
                            "axis": {
                              "labelOverlap": true,
                              "title": "Company"
                            },
                            "field": "Company",
                            "sort": "-x",
                            "type": "nominal"
                          }
                        }
                      },
                      {
                        "data": {
                          "name": "data-3db231dd0f2e77a54e85e08efae38f0e"
                        },
                        "mark": {
                          "type": "text",
                          "align": "right",
                          "color": "#ff8e04",
                          "fontSize": 11,
                          "text": "+ 52 more ...",
                          "x": 155,
                          "y": 142
                        }
                      }
                    ],
                    "height": 150,
                    "width": 160,
                    "$schema": "https://vega.github.io/schema/vega-lite/v4.17.0.json",
                    "datasets": {
                      "data-3db231dd0f2e77a54e85e08efae38f0e": [
                        {
                          "Company": "RVSN USSR",
                          "Record": 1777
                        },
                        {
                          "Company": "CASC",
                          "Record": 338
                        },
                        {
                          "Company": "Arianespace",
                          "Record": 293
                        },
                        {
                          "Company": "General Dynamics",
                          "Record": 251
                        },
                        {
                          "Company": "VKS RF",
                          "Record": 216
                        },
                        {
                          "Company": "NASA",
                          "Record": 203
                        },
                        {
                          "Company": "SpaceX",
                          "Record": 182
                        },
                        {
                          "Company": "US Air Force",
                          "Record": 161
                        },
                        {
                          "Company": "ULA",
                          "Record": 151
                        },
                        {
                          "Company": "Boeing",
                          "Record": 136
                        }
                      ]
                    },
                    "vislib": "vegalite"
                  },
                  {
                    "config": {
                      "view": {
                        "continuousWidth": 400,
                        "continuousHeight": 300
                      },
                      "axis": {
                        "labelColor": "#505050",
                        "labelFont": "Helvetica Neue",
                        "labelFontSize": 9,
                        "labelFontWeight": 400,
                        "titleFont": "Helvetica Neue",
                        "titleFontSize": 11,
                        "titleFontWeight": 500
                      },
                      "legend": {
                        "labelFont": "Helvetica Neue",
                        "labelFontSize": 9,
                        "labelFontWeight": 400,
                        "titleFont": "Helvetica Neue",
                        "titleFontSize": 10,
                        "titleFontWeight": 500
                      },
                      "mark": {
                        "tooltip": {
                          "content": "encoding"
                        }
                      },
                      "title": {
                        "font": "Helvetica Neue",
                        "fontSize": 13,
                        "fontWeight": 500
                      }
                    },
                    "layer": [
                      {
                        "data": {
                          "name": "data-593b31b1724207db5125f10060076e5b"
                        },
                        "mark": "bar",
                        "encoding": {
                          "x": {
                            "axis": {
                              "title": "Number of Records"
                            },
                            "field": "Record",
                            "title": "Number of Records",
                            "type": "quantitative"
                          },
                          "y": {
                            "axis": {
                              "labelOverlap": true,
                              "title": "Location"
                            },
                            "field": "Location",
                            "sort": "-x",
                            "type": "nominal"
                          }
                        }
                      },
                      {
                        "data": {
                          "name": "data-593b31b1724207db5125f10060076e5b"
                        },
                        "mark": {
                          "type": "text",
                          "align": "right",
                          "color": "#ff8e04",
                          "fontSize": 11,
                          "text": "+ 148 more ...",
                          "x": 155,
                          "y": 142
                        }
                      }
                    ],
                    "height": 150,
                    "width": 160,
                    "$schema": "https://vega.github.io/schema/vega-lite/v4.17.0.json",
                    "datasets": {
                      "data-593b31b1724207db5125f10060076e5b": [
                        {
                          "Location": "Site 31/6, Baikonur Cosmodrome, Kazakhstan",
                          "Record": 251
                        },
                        {
                          "Location": "Site 132/1, Plesetsk Cosmodrome, Russia",
                          "Record": 216
                        },
                        {
                          "Location": "Site 43/4, Plesetsk Cosmodrome, Russia",
                          "Record": 211
                        },
                        {
                          "Location": "Site 41/1, Plesetsk Cosmodrome, Russia",
                          "Record": 198
                        },
                        {
                          "Location": "Site 1/5, Baikonur Cosmodrome, Kazakhstan",
                          "Record": 193
                        },
                        {
                          "Location": "Site 132/2, Plesetsk Cosmodrome, Russia",
                          "Record": 174
                        },
                        {
                          "Location": "Site 133/3, Plesetsk Cosmodrome, Russia",
                          "Record": 158
                        },
                        {
                          "Location": "LC-39A, Kennedy Space Center, Florida, USA",
                          "Record": 149
                        },
                        {
                          "Location": "Site 43/3, Plesetsk Cosmodrome, Russia",
                          "Record": 141
                        },
                        {
                          "Location": "ELA-2, Guiana Space Centre, French Guiana, France",
                          "Record": 118
                        }
                      ]
                    },
                    "vislib": "vegalite"
                  },
                  {
                    "config": {
                      "view": {
                        "continuousWidth": 400,
                        "continuousHeight": 300
                      },
                      "axis": {
                        "labelColor": "#505050",
                        "labelFont": "Helvetica Neue",
                        "labelFontSize": 9,
                        "labelFontWeight": 400,
                        "titleFont": "Helvetica Neue",
                        "titleFontSize": 11,
                        "titleFontWeight": 500
                      },
                      "legend": {
                        "labelFont": "Helvetica Neue",
                        "labelFontSize": 9,
                        "labelFontWeight": 400,
                        "titleFont": "Helvetica Neue",
                        "titleFontSize": 10,
                        "titleFontWeight": 500
                      },
                      "mark": {
                        "tooltip": {
                          "content": "encoding"
                        }
                      },
                      "title": {
                        "font": "Helvetica Neue",
                        "fontSize": 13,
                        "fontWeight": 500
                      }
                    },
                    "layer": [
                      {
                        "data": {
                          "name": "data-468c8b36c2a35046c9d2660f0bfdd55a"
                        },
                        "mark": "bar",
                        "encoding": {
                          "x": {
                            "axis": {
                              "title": "Number of Records"
                            },
                            "field": "Record",
                            "title": "Number of Records",
                            "type": "quantitative"
                          },
                          "y": {
                            "axis": {
                              "labelOverlap": true,
                              "title": "Rocket"
                            },
                            "field": "Rocket",
                            "sort": "-x",
                            "type": "nominal"
                          }
                        }
                      },
                      {
                        "data": {
                          "name": "data-468c8b36c2a35046c9d2660f0bfdd55a"
                        },
                        "mark": {
                          "type": "text",
                          "align": "right",
                          "color": "#ff8e04",
                          "fontSize": 11,
                          "text": "+ 360 more ...",
                          "x": 155,
                          "y": 142
                        }
                      }
                    ],
                    "height": 150,
                    "width": 160,
                    "$schema": "https://vega.github.io/schema/vega-lite/v4.17.0.json",
                    "datasets": {
                      "data-468c8b36c2a35046c9d2660f0bfdd55a": [
                        {
                          "Rocket": "Cosmos-3M (11K65M)",
                          "Record": 446
                        },
                        {
                          "Rocket": "Voskhod",
                          "Record": 299
                        },
                        {
                          "Rocket": "Molniya-M /Block ML",
                          "Record": 128
                        },
                        {
                          "Rocket": "Cosmos-2I (63SM)",
                          "Record": 126
                        },
                        {
                          "Rocket": "Soyuz U",
                          "Record": 125
                        },
                        {
                          "Rocket": "Tsyklon-3",
                          "Record": 122
                        },
                        {
                          "Rocket": "Falcon 9 Block 5",
                          "Record": 111
                        },
                        {
                          "Rocket": "Tsyklon-2",
                          "Record": 106
                        },
                        {
                          "Rocket": "Vostok-2M",
                          "Record": 93
                        },
                        {
                          "Rocket": "Molniya-M /Block 2BL",
                          "Record": 87
                        }
                      ]
                    },
                    "vislib": "vegalite"
                  },
                  {
                    "config": {
                      "view": {
                        "continuousWidth": 400,
                        "continuousHeight": 300
                      },
                      "axis": {
                        "labelColor": "#505050",
                        "labelFont": "Helvetica Neue",
                        "labelFontSize": 9,
                        "labelFontWeight": 400,
                        "titleFont": "Helvetica Neue",
                        "titleFontSize": 11,
                        "titleFontWeight": 500
                      },
                      "legend": {
                        "labelFont": "Helvetica Neue",
                        "labelFontSize": 9,
                        "labelFontWeight": 400,
                        "titleFont": "Helvetica Neue",
                        "titleFontSize": 10,
                        "titleFontWeight": 500
                      },
                      "mark": {
                        "tooltip": {
                          "content": "encoding"
                        }
                      },
                      "title": {
                        "font": "Helvetica Neue",
                        "fontSize": 13,
                        "fontWeight": 500
                      }
                    },
                    "layer": [
                      {
                        "data": {
                          "name": "data-304d7000c38ca3c048ae87610d13e981"
                        },
                        "mark": "bar",
                        "encoding": {
                          "x": {
                            "axis": {
                              "title": "Number of Records"
                            },
                            "field": "Record",
                            "title": "Number of Records",
                            "type": "quantitative"
                          },
                          "y": {
                            "axis": {
                              "labelOverlap": true,
                              "title": "Mission"
                            },
                            "field": "Mission",
                            "sort": "-x",
                            "type": "nominal"
                          }
                        }
                      },
                      {
                        "data": {
                          "name": "data-304d7000c38ca3c048ae87610d13e981"
                        },
                        "mark": {
                          "type": "text",
                          "align": "right",
                          "color": "#ff8e04",
                          "fontSize": 11,
                          "text": "+ 4546 more ...",
                          "x": 155,
                          "y": 142
                        }
                      }
                    ],
                    "height": 150,
                    "width": 160,
                    "$schema": "https://vega.github.io/schema/vega-lite/v4.17.0.json",
                    "datasets": {
                      "data-304d7000c38ca3c048ae87610d13e981": [
                        {
                          "Mission": "DSP",
                          "Record": 8
                        },
                        {
                          "Mission": "Demo Flight",
                          "Record": 8
                        },
                        {
                          "Mission": "BOR-5 Shuttle",
                          "Record": 6
                        },
                        {
                          "Mission": "KH-11",
                          "Record": 6
                        },
                        {
                          "Mission": "KH-9",
                          "Record": 5
                        },
                        {
                          "Mission": "Osumi",
                          "Record": 5
                        },
                        {
                          "Mission": "10-Kilometer Test Flight",
                          "Record": 4
                        },
                        {
                          "Mission": "BOR-2 Shuttle",
                          "Record": 4
                        },
                        {
                          "Mission": "Unknown Payload",
                          "Record": 4
                        },
                        {
                          "Mission": "Zond",
                          "Record": 4
                        }
                      ]
                    },
                    "vislib": "vegalite"
                  }
                ]
              },
              {
                "action": "Temporal",
                "description": "Show trends over <p class='highlight-descriptor'>time-related</p> attributes.",
                "long_description": "Temporal displays line charts for all attributes related to datetimes in the dataframe. Lux displays the overall temporal trend first, followed by trends across other timescales (e.g., year, month, week, day).",
                "vspec": [
                  {
                    "config": {
                      "view": {
                        "continuousWidth": 400,
                        "continuousHeight": 300
                      },
                      "axis": {
                        "labelColor": "#505050",
                        "labelFont": "Helvetica Neue",
                        "labelFontSize": 9,
                        "labelFontWeight": 400,
                        "titleFont": "Helvetica Neue",
                        "titleFontSize": 11,
                        "titleFontWeight": 500
                      },
                      "legend": {
                        "labelFont": "Helvetica Neue",
                        "labelFontSize": 9,
                        "labelFontWeight": 400,
                        "titleFont": "Helvetica Neue",
                        "titleFontSize": 10,
                        "titleFontWeight": 500
                      },
                      "title": {
                        "font": "Helvetica Neue",
                        "fontSize": 13,
                        "fontWeight": 500
                      }
                    },
                    "data": {
                      "name": "data-d021e9fa801bf1ad55e3e91ce5d24afe"
                    },
                    "mark": "line",
                    "encoding": {
                      "x": {
                        "axis": {
                          "title": "Date"
                        },
                        "field": "Date",
                        "type": "temporal"
                      },
                      "y": {
                        "axis": {
                          "title": "Record"
                        },
                        "field": "Record",
                        "title": "Number of Records",
                        "type": "quantitative"
                      }
                    },
                    "height": 150,
                    "selection": {
                      "selector001": {
                        "type": "interval",
                        "bind": "scales",
                        "encodings": [
                          "x",
                          "y"
                        ]
                      }
                    },
                    "width": 160,
                    "$schema": "https://vega.github.io/schema/vega-lite/v4.17.0.json",
                    "datasets": {
                      "data-d021e9fa801bf1ad55e3e91ce5d24afe": [
                        {
                          "Date": "1957-10-04",
                          "Record": 1
                        },
                        {
                          "Date": "1957-11-03",
                          "Record": 1
                        },
                        {
                          "Date": "1957-12-06",
                          "Record": 1
                        },
                        {
                          "Date": "1958-02-01",
                          "Record": 1
                        },
                        {
                          "Date": "1958-02-05",
                          "Record": 1
                        },
                        {
                          "Date": "1958-03-05",
                          "Record": 1
                        },
                        {
                          "Date": "1958-03-17",
                          "Record": 1
                        },
                        {
                          "Date": "1958-03-26",
                          "Record": 1
                        },
                        {
                          "Date": "1958-04-27",
                          "Record": 1
                        },
                        {
                          "Date": "1958-04-28",
                          "Record": 1
                        },
                        {
                          "Date": "1958-05-15",
                          "Record": 1
                        },
                        {
                          "Date": "1958-05-28",
                          "Record": 1
                        },
                        {
                          "Date": "1958-06-26",
                          "Record": 1
                        },
                        {
                          "Date": "1958-07-25",
                          "Record": 1
                        },
                        {
                          "Date": "1958-07-26",
                          "Record": 1
                        },
                        {
                          "Date": "1958-08-12",
                          "Record": 1
                        },
                        {
                          "Date": "1958-08-17",
                          "Record": 1
                        },
                        {
                          "Date": "1958-08-22",
                          "Record": 1
                        },
                        {
                          "Date": "1958-08-24",
                          "Record": 1
                        },
                        {
                          "Date": "1958-08-25",
                          "Record": 1
                        },
                        {
                          "Date": "1958-08-26",
                          "Record": 1
                        },
                        {
                          "Date": "1958-08-29",
                          "Record": 1
                        },
                        {
                          "Date": "1958-09-23",
                          "Record": 1
                        },
                        {
                          "Date": "1958-09-26",
                          "Record": 1
                        },
                        {
                          "Date": "1958-10-11",
                          "Record": 2
                        },
                        {
                          "Date": "1958-10-23",
                          "Record": 1
                        },
                        {
                          "Date": "1958-11-08",
                          "Record": 1
                        },
                        {
                          "Date": "1958-12-04",
                          "Record": 1
                        },
                        {
                          "Date": "1958-12-06",
                          "Record": 1
                        },
                        {
                          "Date": "1958-12-18",
                          "Record": 1
                        },
                        {
                          "Date": "1959-01-02",
                          "Record": 1
                        },
                        {
                          "Date": "1959-02-17",
                          "Record": 1
                        },
                        {
                          "Date": "1959-02-28",
                          "Record": 1
                        },
                        {
                          "Date": "1959-04-13",
                          "Record": 1
                        },
                        {
                          "Date": "1959-04-14",
                          "Record": 1
                        },
                        {
                          "Date": "1959-06-03",
                          "Record": 1
                        },
                        {
                          "Date": "1959-06-18",
                          "Record": 1
                        },
                        {
                          "Date": "1959-06-22",
                          "Record": 1
                        },
                        {
                          "Date": "1959-06-25",
                          "Record": 1
                        },
                        {
                          "Date": "1959-08-07",
                          "Record": 1
                        },
                        {
                          "Date": "1959-08-13",
                          "Record": 1
                        },
                        {
                          "Date": "1959-08-19",
                          "Record": 1
                        },
                        {
                          "Date": "1959-09-09",
                          "Record": 1
                        },
                        {
                          "Date": "1959-09-12",
                          "Record": 1
                        },
                        {
                          "Date": "1959-09-17",
                          "Record": 1
                        },
                        {
                          "Date": "1959-09-18",
                          "Record": 1
                        },
                        {
                          "Date": "1959-10-04",
                          "Record": 1
                        },
                        {
                          "Date": "1959-11-07",
                          "Record": 1
                        },
                        {
                          "Date": "1959-11-20",
                          "Record": 1
                        },
                        {
                          "Date": "1959-11-26",
                          "Record": 1
                        },
                        {
                          "Date": "1960-02-04",
                          "Record": 1
                        },
                        {
                          "Date": "1960-02-19",
                          "Record": 1
                        },
                        {
                          "Date": "1960-02-26",
                          "Record": 1
                        },
                        {
                          "Date": "1960-03-11",
                          "Record": 1
                        },
                        {
                          "Date": "1960-04-01",
                          "Record": 1
                        },
                        {
                          "Date": "1960-04-13",
                          "Record": 1
                        },
                        {
                          "Date": "1960-04-15",
                          "Record": 2
                        },
                        {
                          "Date": "1960-04-16",
                          "Record": 1
                        },
                        {
                          "Date": "1960-05-13",
                          "Record": 1
                        },
                        {
                          "Date": "1960-05-15",
                          "Record": 1
                        },
                        {
                          "Date": "1960-05-24",
                          "Record": 1
                        },
                        {
                          "Date": "1960-06-22",
                          "Record": 1
                        },
                        {
                          "Date": "1960-06-29",
                          "Record": 1
                        },
                        {
                          "Date": "1960-07-28",
                          "Record": 1
                        },
                        {
                          "Date": "1960-07-29",
                          "Record": 1
                        },
                        {
                          "Date": "1960-08-10",
                          "Record": 1
                        },
                        {
                          "Date": "1960-08-12",
                          "Record": 1
                        },
                        {
                          "Date": "1960-08-18",
                          "Record": 2
                        },
                        {
                          "Date": "1960-08-19",
                          "Record": 1
                        },
                        {
                          "Date": "1960-09-13",
                          "Record": 1
                        },
                        {
                          "Date": "1960-09-25",
                          "Record": 1
                        },
                        {
                          "Date": "1960-10-04",
                          "Record": 1
                        },
                        {
                          "Date": "1960-10-10",
                          "Record": 1
                        },
                        {
                          "Date": "1960-10-11",
                          "Record": 1
                        },
                        {
                          "Date": "1960-10-14",
                          "Record": 1
                        },
                        {
                          "Date": "1960-10-26",
                          "Record": 1
                        },
                        {
                          "Date": "1960-11-12",
                          "Record": 1
                        },
                        {
                          "Date": "1960-11-21",
                          "Record": 1
                        },
                        {
                          "Date": "1960-11-23",
                          "Record": 1
                        },
                        {
                          "Date": "1960-11-30",
                          "Record": 1
                        },
                        {
                          "Date": "1960-12-01",
                          "Record": 1
                        },
                        {
                          "Date": "1960-12-04",
                          "Record": 1
                        },
                        {
                          "Date": "1960-12-07",
                          "Record": 1
                        },
                        {
                          "Date": "1960-12-15",
                          "Record": 1
                        },
                        {
                          "Date": "1960-12-19",
                          "Record": 1
                        },
                        {
                          "Date": "1960-12-20",
                          "Record": 1
                        },
                        {
                          "Date": "1960-12-22",
                          "Record": 1
                        },
                        {
                          "Date": "1961-01-31",
                          "Record": 2
                        },
                        {
                          "Date": "1961-02-04",
                          "Record": 1
                        },
                        {
                          "Date": "1961-02-12",
                          "Record": 1
                        },
                        {
                          "Date": "1961-02-16",
                          "Record": 1
                        },
                        {
                          "Date": "1961-02-17",
                          "Record": 1
                        },
                        {
                          "Date": "1961-02-18",
                          "Record": 1
                        },
                        {
                          "Date": "1961-02-21",
                          "Record": 1
                        },
                        {
                          "Date": "1961-02-22",
                          "Record": 1
                        },
                        {
                          "Date": "1961-03-09",
                          "Record": 1
                        },
                        {
                          "Date": "1961-03-24",
                          "Record": 1
                        },
                        {
                          "Date": "1961-03-25",
                          "Record": 2
                        },
                        {
                          "Date": "1961-03-30",
                          "Record": 1
                        },
                        {
                          "Date": "1961-04-08",
                          "Record": 1
                        },
                        {
                          "Date": "1961-04-12",
                          "Record": 1
                        },
                        {
                          "Date": "1961-04-25",
                          "Record": 1
                        },
                        {
                          "Date": "1961-05-05",
                          "Record": 1
                        },
                        {
                          "Date": "1961-06-08",
                          "Record": 1
                        },
                        {
                          "Date": "1961-06-16",
                          "Record": 1
                        },
                        {
                          "Date": "1961-06-29",
                          "Record": 1
                        },
                        {
                          "Date": "1961-06-30",
                          "Record": 1
                        },
                        {
                          "Date": "1961-07-07",
                          "Record": 1
                        },
                        {
                          "Date": "1961-07-12",
                          "Record": 2
                        },
                        {
                          "Date": "1961-07-21",
                          "Record": 2
                        },
                        {
                          "Date": "1961-08-04",
                          "Record": 1
                        },
                        {
                          "Date": "1961-08-06",
                          "Record": 1
                        },
                        {
                          "Date": "1961-08-16",
                          "Record": 1
                        },
                        {
                          "Date": "1961-08-23",
                          "Record": 1
                        },
                        {
                          "Date": "1961-08-25",
                          "Record": 1
                        },
                        {
                          "Date": "1961-08-30",
                          "Record": 1
                        },
                        {
                          "Date": "1961-09-09",
                          "Record": 1
                        },
                        {
                          "Date": "1961-09-12",
                          "Record": 1
                        },
                        {
                          "Date": "1961-09-13",
                          "Record": 1
                        },
                        {
                          "Date": "1961-09-17",
                          "Record": 1
                        },
                        {
                          "Date": "1961-10-13",
                          "Record": 1
                        },
                        {
                          "Date": "1961-10-21",
                          "Record": 1
                        },
                        {
                          "Date": "1961-10-23",
                          "Record": 1
                        },
                        {
                          "Date": "1961-10-27",
                          "Record": 1
                        },
                        {
                          "Date": "1961-11-01",
                          "Record": 1
                        },
                        {
                          "Date": "1961-11-05",
                          "Record": 1
                        },
                        {
                          "Date": "1961-11-15",
                          "Record": 2
                        },
                        {
                          "Date": "1961-11-18",
                          "Record": 1
                        },
                        {
                          "Date": "1961-11-22",
                          "Record": 1
                        },
                        {
                          "Date": "1961-11-29",
                          "Record": 1
                        },
                        {
                          "Date": "1961-12-11",
                          "Record": 1
                        },
                        {
                          "Date": "1961-12-12",
                          "Record": 1
                        },
                        {
                          "Date": "1961-12-21",
                          "Record": 1
                        },
                        {
                          "Date": "1961-12-22",
                          "Record": 1
                        },
                        {
                          "Date": "1962-01-13",
                          "Record": 1
                        },
                        {
                          "Date": "1962-01-24",
                          "Record": 1
                        },
                        {
                          "Date": "1962-01-26",
                          "Record": 1
                        },
                        {
                          "Date": "1962-02-08",
                          "Record": 1
                        },
                        {
                          "Date": "1962-02-20",
                          "Record": 1
                        },
                        {
                          "Date": "1962-02-21",
                          "Record": 1
                        },
                        {
                          "Date": "1962-02-27",
                          "Record": 1
                        },
                        {
                          "Date": "1962-03-07",
                          "Record": 2
                        },
                        {
                          "Date": "1962-03-16",
                          "Record": 1
                        },
                        {
                          "Date": "1962-04-06",
                          "Record": 1
                        },
                        {
                          "Date": "1962-04-09",
                          "Record": 1
                        },
                        {
                          "Date": "1962-04-18",
                          "Record": 1
                        },
                        {
                          "Date": "1962-04-23",
                          "Record": 1
                        },
                        {
                          "Date": "1962-04-24",
                          "Record": 1
                        },
                        {
                          "Date": "1962-04-26",
                          "Record": 4
                        },
                        {
                          "Date": "1962-04-29",
                          "Record": 1
                        },
                        {
                          "Date": "1962-05-08",
                          "Record": 1
                        },
                        {
                          "Date": "1962-05-10",
                          "Record": 1
                        },
                        {
                          "Date": "1962-05-15",
                          "Record": 1
                        },
                        {
                          "Date": "1962-05-24",
                          "Record": 2
                        },
                        {
                          "Date": "1962-05-28",
                          "Record": 1
                        },
                        {
                          "Date": "1962-05-30",
                          "Record": 1
                        },
                        {
                          "Date": "1962-06-01",
                          "Record": 1
                        },
                        {
                          "Date": "1962-06-02",
                          "Record": 1
                        },
                        {
                          "Date": "1962-06-17",
                          "Record": 1
                        },
                        {
                          "Date": "1962-06-18",
                          "Record": 1
                        },
                        {
                          "Date": "1962-06-19",
                          "Record": 1
                        },
                        {
                          "Date": "1962-06-23",
                          "Record": 1
                        },
                        {
                          "Date": "1962-06-28",
                          "Record": 1
                        },
                        {
                          "Date": "1962-06-30",
                          "Record": 1
                        },
                        {
                          "Date": "1962-07-10",
                          "Record": 1
                        },
                        {
                          "Date": "1962-07-18",
                          "Record": 1
                        },
                        {
                          "Date": "1962-07-21",
                          "Record": 1
                        },
                        {
                          "Date": "1962-07-22",
                          "Record": 1
                        },
                        {
                          "Date": "1962-07-28",
                          "Record": 2
                        },
                        {
                          "Date": "1962-08-02",
                          "Record": 1
                        },
                        {
                          "Date": "1962-08-05",
                          "Record": 1
                        },
                        {
                          "Date": "1962-08-11",
                          "Record": 1
                        },
                        {
                          "Date": "1962-08-12",
                          "Record": 1
                        },
                        {
                          "Date": "1962-08-18",
                          "Record": 1
                        },
                        {
                          "Date": "1962-08-23",
                          "Record": 1
                        },
                        {
                          "Date": "1962-08-25",
                          "Record": 1
                        },
                        {
                          "Date": "1962-08-27",
                          "Record": 1
                        },
                        {
                          "Date": "1962-08-29",
                          "Record": 1
                        },
                        {
                          "Date": "1962-09-01",
                          "Record": 2
                        },
                        {
                          "Date": "1962-09-12",
                          "Record": 1
                        },
                        {
                          "Date": "1962-09-17",
                          "Record": 1
                        },
                        {
                          "Date": "1962-09-18",
                          "Record": 1
                        },
                        {
                          "Date": "1962-09-27",
                          "Record": 1
                        },
                        {
                          "Date": "1962-09-29",
                          "Record": 2
                        },
                        {
                          "Date": "1962-10-02",
                          "Record": 1
                        },
                        {
                          "Date": "1962-10-03",
                          "Record": 1
                        },
                        {
                          "Date": "1962-10-09",
                          "Record": 1
                        },
                        {
                          "Date": "1962-10-17",
                          "Record": 1
                        },
                        {
                          "Date": "1962-10-18",
                          "Record": 1
                        },
                        {
                          "Date": "1962-10-20",
                          "Record": 1
                        },
                        {
                          "Date": "1962-10-24",
                          "Record": 1
                        },
                        {
                          "Date": "1962-10-25",
                          "Record": 1
                        },
                        {
                          "Date": "1962-10-26",
                          "Record": 1
                        },
                        {
                          "Date": "1962-10-27",
                          "Record": 1
                        },
                        {
                          "Date": "1962-10-31",
                          "Record": 1
                        },
                        {
                          "Date": "1962-11-01",
                          "Record": 1
                        },
                        {
                          "Date": "1962-11-04",
                          "Record": 1
                        },
                        {
                          "Date": "1962-11-05",
                          "Record": 1
                        },
                        {
                          "Date": "1962-11-11",
                          "Record": 1
                        },
                        {
                          "Date": "1962-11-24",
                          "Record": 1
                        },
                        {
                          "Date": "1962-12-04",
                          "Record": 1
                        },
                        {
                          "Date": "1962-12-13",
                          "Record": 2
                        },
                        {
                          "Date": "1962-12-14",
                          "Record": 1
                        },
                        {
                          "Date": "1962-12-16",
                          "Record": 1
                        },
                        {
                          "Date": "1962-12-17",
                          "Record": 1
                        },
                        {
                          "Date": "1962-12-19",
                          "Record": 1
                        },
                        {
                          "Date": "1962-12-22",
                          "Record": 1
                        },
                        {
                          "Date": "1963-01-04",
                          "Record": 1
                        },
                        {
                          "Date": "1963-02-03",
                          "Record": 1
                        },
                        {
                          "Date": "1963-02-19",
                          "Record": 1
                        },
                        {
                          "Date": "1963-03-21",
                          "Record": 1
                        },
                        {
                          "Date": "1963-04-02",
                          "Record": 1
                        },
                        {
                          "Date": "1963-04-05",
                          "Record": 1
                        },
                        {
                          "Date": "1963-04-06",
                          "Record": 1
                        },
                        {
                          "Date": "1963-04-13",
                          "Record": 1
                        },
                        {
                          "Date": "1963-04-22",
                          "Record": 1
                        },
                        {
                          "Date": "1963-04-26",
                          "Record": 1
                        },
                        {
                          "Date": "1963-04-28",
                          "Record": 1
                        },
                        {
                          "Date": "1963-05-09",
                          "Record": 1
                        },
                        {
                          "Date": "1963-05-15",
                          "Record": 1
                        },
                        {
                          "Date": "1963-05-22",
                          "Record": 1
                        },
                        {
                          "Date": "1963-05-24",
                          "Record": 1
                        },
                        {
                          "Date": "1963-06-01",
                          "Record": 1
                        },
                        {
                          "Date": "1963-06-12",
                          "Record": 1
                        },
                        {
                          "Date": "1963-06-14",
                          "Record": 1
                        },
                        {
                          "Date": "1963-06-16",
                          "Record": 2
                        },
                        {
                          "Date": "1963-06-28",
                          "Record": 1
                        },
                        {
                          "Date": "1963-07-10",
                          "Record": 1
                        },
                        {
                          "Date": "1963-07-12",
                          "Record": 1
                        },
                        {
                          "Date": "1963-07-19",
                          "Record": 1
                        },
                        {
                          "Date": "1963-08-06",
                          "Record": 1
                        },
                        {
                          "Date": "1963-08-22",
                          "Record": 1
                        },
                        {
                          "Date": "1963-09-06",
                          "Record": 1
                        },
                        {
                          "Date": "1963-09-27",
                          "Record": 1
                        },
                        {
                          "Date": "1963-10-17",
                          "Record": 1
                        },
                        {
                          "Date": "1963-10-18",
                          "Record": 1
                        },
                        {
                          "Date": "1963-10-24",
                          "Record": 1
                        },
                        {
                          "Date": "1963-10-25",
                          "Record": 1
                        },
                        {
                          "Date": "1963-11-01",
                          "Record": 1
                        },
                        {
                          "Date": "1963-11-11",
                          "Record": 1
                        },
                        {
                          "Date": "1963-11-16",
                          "Record": 1
                        },
                        {
                          "Date": "1963-11-27",
                          "Record": 1
                        },
                        {
                          "Date": "1963-11-28",
                          "Record": 1
                        },
                        {
                          "Date": "1963-12-13",
                          "Record": 1
                        },
                        {
                          "Date": "1963-12-18",
                          "Record": 1
                        },
                        {
                          "Date": "1963-12-19",
                          "Record": 2
                        },
                        {
                          "Date": "1964-01-29",
                          "Record": 1
                        },
                        {
                          "Date": "1964-01-30",
                          "Record": 2
                        },
                        {
                          "Date": "1964-02-19",
                          "Record": 1
                        },
                        {
                          "Date": "1964-02-25",
                          "Record": 1
                        },
                        {
                          "Date": "1964-02-27",
                          "Record": 1
                        },
                        {
                          "Date": "1964-03-11",
                          "Record": 1
                        },
                        {
                          "Date": "1964-03-18",
                          "Record": 1
                        },
                        {
                          "Date": "1964-03-21",
                          "Record": 1
                        },
                        {
                          "Date": "1964-03-27",
                          "Record": 1
                        },
                        {
                          "Date": "1964-04-02",
                          "Record": 1
                        },
                        {
                          "Date": "1964-04-04",
                          "Record": 1
                        },
                        {
                          "Date": "1964-04-08",
                          "Record": 1
                        },
                        {
                          "Date": "1964-04-12",
                          "Record": 1
                        },
                        {
                          "Date": "1964-04-20",
                          "Record": 1
                        },
                        {
                          "Date": "1964-04-23",
                          "Record": 1
                        },
                        {
                          "Date": "1964-04-25",
                          "Record": 1
                        },
                        {
                          "Date": "1964-05-18",
                          "Record": 1
                        },
                        {
                          "Date": "1964-05-19",
                          "Record": 1
                        },
                        {
                          "Date": "1964-05-28",
                          "Record": 1
                        },
                        {
                          "Date": "1964-06-04",
                          "Record": 1
                        },
                        {
                          "Date": "1964-06-06",
                          "Record": 1
                        },
                        {
                          "Date": "1964-06-10",
                          "Record": 1
                        },
                        {
                          "Date": "1964-06-23",
                          "Record": 1
                        },
                        {
                          "Date": "1964-06-30",
                          "Record": 1
                        },
                        {
                          "Date": "1964-07-01",
                          "Record": 1
                        },
                        {
                          "Date": "1964-07-06",
                          "Record": 1
                        },
                        {
                          "Date": "1964-07-10",
                          "Record": 1
                        },
                        {
                          "Date": "1964-07-15",
                          "Record": 1
                        },
                        {
                          "Date": "1964-07-17",
                          "Record": 1
                        },
                        {
                          "Date": "1964-07-28",
                          "Record": 1
                        },
                        {
                          "Date": "1964-07-30",
                          "Record": 1
                        },
                        {
                          "Date": "1964-08-14",
                          "Record": 2
                        },
                        {
                          "Date": "1964-08-18",
                          "Record": 1
                        },
                        {
                          "Date": "1964-08-22",
                          "Record": 2
                        },
                        {
                          "Date": "1964-08-28",
                          "Record": 1
                        },
                        {
                          "Date": "1964-09-01",
                          "Record": 1
                        },
                        {
                          "Date": "1964-09-05",
                          "Record": 1
                        },
                        {
                          "Date": "1964-09-13",
                          "Record": 1
                        },
                        {
                          "Date": "1964-09-18",
                          "Record": 1
                        },
                        {
                          "Date": "1964-09-23",
                          "Record": 1
                        },
                        {
                          "Date": "1964-09-24",
                          "Record": 1
                        },
                        {
                          "Date": "1964-10-06",
                          "Record": 1
                        },
                        {
                          "Date": "1964-10-08",
                          "Record": 1
                        },
                        {
                          "Date": "1964-10-12",
                          "Record": 1
                        },
                        {
                          "Date": "1964-10-14",
                          "Record": 1
                        },
                        {
                          "Date": "1964-10-23",
                          "Record": 2
                        },
                        {
                          "Date": "1964-10-24",
                          "Record": 1
                        },
                        {
                          "Date": "1964-10-28",
                          "Record": 1
                        },
                        {
                          "Date": "1964-11-05",
                          "Record": 1
                        },
                        {
                          "Date": "1964-11-28",
                          "Record": 1
                        },
                        {
                          "Date": "1964-11-30",
                          "Record": 1
                        },
                        {
                          "Date": "1964-12-01",
                          "Record": 1
                        },
                        {
                          "Date": "1964-12-04",
                          "Record": 1
                        },
                        {
                          "Date": "1964-12-09",
                          "Record": 1
                        },
                        {
                          "Date": "1964-12-10",
                          "Record": 1
                        },
                        {
                          "Date": "1964-12-11",
                          "Record": 1
                        },
                        {
                          "Date": "1965-01-11",
                          "Record": 1
                        },
                        {
                          "Date": "1965-01-19",
                          "Record": 1
                        },
                        {
                          "Date": "1965-01-21",
                          "Record": 1
                        },
                        {
                          "Date": "1965-01-23",
                          "Record": 1
                        },
                        {
                          "Date": "1965-01-30",
                          "Record": 1
                        },
                        {
                          "Date": "1965-02-11",
                          "Record": 1
                        },
                        {
                          "Date": "1965-02-12",
                          "Record": 1
                        },
                        {
                          "Date": "1965-02-16",
                          "Record": 1
                        },
                        {
                          "Date": "1965-02-17",
                          "Record": 1
                        },
                        {
                          "Date": "1965-02-20",
                          "Record": 1
                        },
                        {
                          "Date": "1965-02-21",
                          "Record": 1
                        },
                        {
                          "Date": "1965-02-22",
                          "Record": 1
                        },
                        {
                          "Date": "1965-02-26",
                          "Record": 1
                        },
                        {
                          "Date": "1965-03-02",
                          "Record": 1
                        },
                        {
                          "Date": "1965-03-07",
                          "Record": 1
                        },
                        {
                          "Date": "1965-03-12",
                          "Record": 2
                        },
                        {
                          "Date": "1965-03-15",
                          "Record": 1
                        },
                        {
                          "Date": "1965-03-18",
                          "Record": 1
                        },
                        {
                          "Date": "1965-03-21",
                          "Record": 1
                        },
                        {
                          "Date": "1965-03-23",
                          "Record": 1
                        },
                        {
                          "Date": "1965-03-25",
                          "Record": 1
                        },
                        {
                          "Date": "1965-04-03",
                          "Record": 1
                        },
                        {
                          "Date": "1965-04-10",
                          "Record": 1
                        },
                        {
                          "Date": "1965-04-17",
                          "Record": 1
                        },
                        {
                          "Date": "1965-04-23",
                          "Record": 1
                        },
                        {
                          "Date": "1965-04-28",
                          "Record": 1
                        },
                        {
                          "Date": "1965-05-06",
                          "Record": 1
                        },
                        {
                          "Date": "1965-05-07",
                          "Record": 1
                        },
                        {
                          "Date": "1965-05-09",
                          "Record": 1
                        },
                        {
                          "Date": "1965-05-25",
                          "Record": 2
                        },
                        {
                          "Date": "1965-05-27",
                          "Record": 1
                        },
                        {
                          "Date": "1965-05-28",
                          "Record": 1
                        },
                        {
                          "Date": "1965-06-03",
                          "Record": 1
                        },
                        {
                          "Date": "1965-06-08",
                          "Record": 1
                        },
                        {
                          "Date": "1965-06-15",
                          "Record": 1
                        },
                        {
                          "Date": "1965-06-18",
                          "Record": 1
                        },
                        {
                          "Date": "1965-06-25",
                          "Record": 2
                        },
                        {
                          "Date": "1965-07-02",
                          "Record": 1
                        },
                        {
                          "Date": "1965-07-12",
                          "Record": 1
                        },
                        {
                          "Date": "1965-07-13",
                          "Record": 1
                        },
                        {
                          "Date": "1965-07-16",
                          "Record": 2
                        },
                        {
                          "Date": "1965-07-18",
                          "Record": 1
                        },
                        {
                          "Date": "1965-07-20",
                          "Record": 1
                        },
                        {
                          "Date": "1965-07-23",
                          "Record": 1
                        },
                        {
                          "Date": "1965-07-30",
                          "Record": 1
                        },
                        {
                          "Date": "1965-08-03",
                          "Record": 2
                        },
                        {
                          "Date": "1965-08-11",
                          "Record": 1
                        },
                        {
                          "Date": "1965-08-14",
                          "Record": 1
                        },
                        {
                          "Date": "1965-08-21",
                          "Record": 1
                        },
                        {
                          "Date": "1965-08-25",
                          "Record": 1
                        },
                        {
                          "Date": "1965-09-03",
                          "Record": 1
                        },
                        {
                          "Date": "1965-09-09",
                          "Record": 1
                        },
                        {
                          "Date": "1965-09-18",
                          "Record": 1
                        },
                        {
                          "Date": "1965-09-23",
                          "Record": 1
                        },
                        {
                          "Date": "1965-09-30",
                          "Record": 1
                        },
                        {
                          "Date": "1965-10-04",
                          "Record": 1
                        },
                        {
                          "Date": "1965-10-05",
                          "Record": 1
                        },
                        {
                          "Date": "1965-10-14",
                          "Record": 1
                        },
                        {
                          "Date": "1965-10-15",
                          "Record": 1
                        },
                        {
                          "Date": "1965-10-16",
                          "Record": 1
                        },
                        {
                          "Date": "1965-10-19",
                          "Record": 1
                        },
                        {
                          "Date": "1965-10-25",
                          "Record": 1
                        },
                        {
                          "Date": "1965-10-28",
                          "Record": 1
                        },
                        {
                          "Date": "1965-11-02",
                          "Record": 1
                        },
                        {
                          "Date": "1965-11-04",
                          "Record": 1
                        },
                        {
                          "Date": "1965-11-08",
                          "Record": 1
                        },
                        {
                          "Date": "1965-11-12",
                          "Record": 1
                        },
                        {
                          "Date": "1965-11-16",
                          "Record": 1
                        },
                        {
                          "Date": "1965-11-23",
                          "Record": 1
                        },
                        {
                          "Date": "1965-11-26",
                          "Record": 2
                        },
                        {
                          "Date": "1965-11-27",
                          "Record": 1
                        },
                        {
                          "Date": "1965-12-03",
                          "Record": 1
                        },
                        {
                          "Date": "1965-12-04",
                          "Record": 1
                        },
                        {
                          "Date": "1965-12-10",
                          "Record": 1
                        },
                        {
                          "Date": "1965-12-15",
                          "Record": 1
                        },
                        {
                          "Date": "1965-12-17",
                          "Record": 1
                        },
                        {
                          "Date": "1965-12-21",
                          "Record": 2
                        },
                        {
                          "Date": "1965-12-27",
                          "Record": 1
                        },
                        {
                          "Date": "1965-12-28",
                          "Record": 2
                        },
                        {
                          "Date": "1966-01-07",
                          "Record": 1
                        },
                        {
                          "Date": "1966-01-19",
                          "Record": 1
                        },
                        {
                          "Date": "1966-01-22",
                          "Record": 1
                        },
                        {
                          "Date": "1966-01-25",
                          "Record": 1
                        },
                        {
                          "Date": "1966-01-31",
                          "Record": 1
                        },
                        {
                          "Date": "1966-02-10",
                          "Record": 1
                        },
                        {
                          "Date": "1966-02-11",
                          "Record": 1
                        },
                        {
                          "Date": "1966-02-15",
                          "Record": 1
                        },
                        {
                          "Date": "1966-02-17",
                          "Record": 1
                        },
                        {
                          "Date": "1966-02-19",
                          "Record": 1
                        },
                        {
                          "Date": "1966-02-21",
                          "Record": 1
                        },
                        {
                          "Date": "1966-02-22",
                          "Record": 1
                        },
                        {
                          "Date": "1966-02-26",
                          "Record": 1
                        },
                        {
                          "Date": "1966-03-01",
                          "Record": 1
                        },
                        {
                          "Date": "1966-03-16",
                          "Record": 1
                        },
                        {
                          "Date": "1966-03-17",
                          "Record": 1
                        },
                        {
                          "Date": "1966-03-18",
                          "Record": 1
                        },
                        {
                          "Date": "1966-03-21",
                          "Record": 1
                        },
                        {
                          "Date": "1966-03-24",
                          "Record": 1
                        },
                        {
                          "Date": "1966-03-27",
                          "Record": 1
                        },
                        {
                          "Date": "1966-03-30",
                          "Record": 1
                        },
                        {
                          "Date": "1966-03-31",
                          "Record": 1
                        },
                        {
                          "Date": "1966-04-06",
                          "Record": 1
                        },
                        {
                          "Date": "1966-04-08",
                          "Record": 2
                        },
                        {
                          "Date": "1966-04-19",
                          "Record": 1
                        },
                        {
                          "Date": "1966-04-20",
                          "Record": 1
                        },
                        {
                          "Date": "1966-04-25",
                          "Record": 1
                        },
                        {
                          "Date": "1966-04-26",
                          "Record": 1
                        },
                        {
                          "Date": "1966-05-06",
                          "Record": 1
                        },
                        {
                          "Date": "1966-05-11",
                          "Record": 1
                        },
                        {
                          "Date": "1966-05-14",
                          "Record": 1
                        },
                        {
                          "Date": "1966-05-16",
                          "Record": 1
                        },
                        {
                          "Date": "1966-05-17",
                          "Record": 2
                        },
                        {
                          "Date": "1966-05-24",
                          "Record": 1
                        },
                        {
                          "Date": "1966-05-30",
                          "Record": 1
                        },
                        {
                          "Date": "1966-06-01",
                          "Record": 1
                        },
                        {
                          "Date": "1966-06-03",
                          "Record": 2
                        },
                        {
                          "Date": "1966-06-07",
                          "Record": 1
                        },
                        {
                          "Date": "1966-06-08",
                          "Record": 1
                        },
                        {
                          "Date": "1966-06-09",
                          "Record": 1
                        },
                        {
                          "Date": "1966-06-16",
                          "Record": 1
                        },
                        {
                          "Date": "1966-06-17",
                          "Record": 1
                        },
                        {
                          "Date": "1966-06-25",
                          "Record": 1
                        },
                        {
                          "Date": "1966-07-05",
                          "Record": 1
                        },
                        {
                          "Date": "1966-07-06",
                          "Record": 1
                        },
                        {
                          "Date": "1966-07-08",
                          "Record": 1
                        },
                        {
                          "Date": "1966-07-12",
                          "Record": 1
                        },
                        {
                          "Date": "1966-07-14",
                          "Record": 2
                        },
                        {
                          "Date": "1966-07-18",
                          "Record": 2
                        },
                        {
                          "Date": "1966-07-20",
                          "Record": 1
                        },
                        {
                          "Date": "1966-07-28",
                          "Record": 1
                        },
                        {
                          "Date": "1966-07-29",
                          "Record": 1
                        },
                        {
                          "Date": "1966-08-08",
                          "Record": 1
                        },
                        {
                          "Date": "1966-08-10",
                          "Record": 1
                        },
                        {
                          "Date": "1966-08-16",
                          "Record": 1
                        },
                        {
                          "Date": "1966-08-19",
                          "Record": 1
                        },
                        {
                          "Date": "1966-08-24",
                          "Record": 1
                        },
                        {
                          "Date": "1966-08-25",
                          "Record": 1
                        },
                        {
                          "Date": "1966-08-26",
                          "Record": 1
                        },
                        {
                          "Date": "1966-08-27",
                          "Record": 1
                        },
                        {
                          "Date": "1966-09-12",
                          "Record": 2
                        },
                        {
                          "Date": "1966-09-16",
                          "Record": 2
                        },
                        {
                          "Date": "1966-09-17",
                          "Record": 1
                        },
                        {
                          "Date": "1966-09-20",
                          "Record": 1
                        },
                        {
                          "Date": "1966-09-26",
                          "Record": 1
                        },
                        {
                          "Date": "1966-09-28",
                          "Record": 1
                        },
                        {
                          "Date": "1966-10-05",
                          "Record": 1
                        },
                        {
                          "Date": "1966-10-12",
                          "Record": 1
                        },
                        {
                          "Date": "1966-10-14",
                          "Record": 1
                        },
                        {
                          "Date": "1966-10-20",
                          "Record": 2
                        },
                        {
                          "Date": "1966-10-22",
                          "Record": 1
                        },
                        {
                          "Date": "1966-10-26",
                          "Record": 1
                        },
                        {
                          "Date": "1966-11-02",
                          "Record": 2
                        },
                        {
                          "Date": "1966-11-03",
                          "Record": 1
                        },
                        {
                          "Date": "1966-11-06",
                          "Record": 1
                        },
                        {
                          "Date": "1966-11-11",
                          "Record": 2
                        },
                        {
                          "Date": "1966-11-12",
                          "Record": 1
                        },
                        {
                          "Date": "1966-11-16",
                          "Record": 1
                        },
                        {
                          "Date": "1966-11-19",
                          "Record": 1
                        },
                        {
                          "Date": "1966-11-28",
                          "Record": 1
                        },
                        {
                          "Date": "1966-12-03",
                          "Record": 1
                        },
                        {
                          "Date": "1966-12-05",
                          "Record": 1
                        },
                        {
                          "Date": "1966-12-07",
                          "Record": 1
                        },
                        {
                          "Date": "1966-12-11",
                          "Record": 1
                        },
                        {
                          "Date": "1966-12-12",
                          "Record": 1
                        },
                        {
                          "Date": "1966-12-14",
                          "Record": 2
                        },
                        {
                          "Date": "1966-12-19",
                          "Record": 1
                        },
                        {
                          "Date": "1966-12-20",
                          "Record": 1
                        },
                        {
                          "Date": "1966-12-21",
                          "Record": 2
                        },
                        {
                          "Date": "1967-01-18",
                          "Record": 1
                        },
                        {
                          "Date": "1967-01-19",
                          "Record": 1
                        },
                        {
                          "Date": "1967-01-25",
                          "Record": 1
                        },
                        {
                          "Date": "1967-01-27",
                          "Record": 1
                        },
                        {
                          "Date": "1967-02-02",
                          "Record": 1
                        },
                        {
                          "Date": "1967-02-05",
                          "Record": 1
                        },
                        {
                          "Date": "1967-02-07",
                          "Record": 1
                        },
                        {
                          "Date": "1967-02-08",
                          "Record": 2
                        },
                        {
                          "Date": "1967-02-14",
                          "Record": 1
                        },
                        {
                          "Date": "1967-02-15",
                          "Record": 1
                        },
                        {
                          "Date": "1967-02-24",
                          "Record": 1
                        },
                        {
                          "Date": "1967-02-27",
                          "Record": 1
                        },
                        {
                          "Date": "1967-02-28",
                          "Record": 1
                        },
                        {
                          "Date": "1967-03-03",
                          "Record": 1
                        },
                        {
                          "Date": "1967-03-10",
                          "Record": 1
                        },
                        {
                          "Date": "1967-03-13",
                          "Record": 1
                        },
                        {
                          "Date": "1967-03-16",
                          "Record": 1
                        },
                        {
                          "Date": "1967-03-21",
                          "Record": 1
                        },
                        {
                          "Date": "1967-03-22",
                          "Record": 2
                        },
                        {
                          "Date": "1967-03-24",
                          "Record": 1
                        },
                        {
                          "Date": "1967-03-25",
                          "Record": 1
                        },
                        {
                          "Date": "1967-04-03",
                          "Record": 1
                        },
                        {
                          "Date": "1967-04-04",
                          "Record": 1
                        },
                        {
                          "Date": "1967-04-06",
                          "Record": 1
                        },
                        {
                          "Date": "1967-04-08",
                          "Record": 1
                        },
                        {
                          "Date": "1967-04-12",
                          "Record": 1
                        },
                        {
                          "Date": "1967-04-17",
                          "Record": 1
                        },
                        {
                          "Date": "1967-04-23",
                          "Record": 1
                        },
                        {
                          "Date": "1967-04-26",
                          "Record": 2
                        },
                        {
                          "Date": "1967-04-27",
                          "Record": 1
                        },
                        {
                          "Date": "1967-04-28",
                          "Record": 1
                        },
                        {
                          "Date": "1967-05-04",
                          "Record": 1
                        },
                        {
                          "Date": "1967-05-12",
                          "Record": 1
                        },
                        {
                          "Date": "1967-05-15",
                          "Record": 1
                        },
                        {
                          "Date": "1967-05-16",
                          "Record": 1
                        },
                        {
                          "Date": "1967-05-17",
                          "Record": 1
                        },
                        {
                          "Date": "1967-05-22",
                          "Record": 2
                        },
                        {
                          "Date": "1967-05-24",
                          "Record": 1
                        },
                        {
                          "Date": "1967-06-01",
                          "Record": 1
                        },
                        {
                          "Date": "1967-06-04",
                          "Record": 1
                        },
                        {
                          "Date": "1967-06-05",
                          "Record": 1
                        },
                        {
                          "Date": "1967-06-08",
                          "Record": 1
                        },
                        {
                          "Date": "1967-06-12",
                          "Record": 2
                        },
                        {
                          "Date": "1967-06-14",
                          "Record": 1
                        },
                        {
                          "Date": "1967-06-16",
                          "Record": 1
                        },
                        {
                          "Date": "1967-06-17",
                          "Record": 1
                        },
                        {
                          "Date": "1967-06-20",
                          "Record": 2
                        },
                        {
                          "Date": "1967-06-26",
                          "Record": 1
                        },
                        {
                          "Date": "1967-07-01",
                          "Record": 1
                        },
                        {
                          "Date": "1967-07-04",
                          "Record": 1
                        },
                        {
                          "Date": "1967-07-14",
                          "Record": 1
                        },
                        {
                          "Date": "1967-07-17",
                          "Record": 1
                        },
                        {
                          "Date": "1967-07-21",
                          "Record": 1
                        },
                        {
                          "Date": "1967-07-27",
                          "Record": 1
                        },
                        {
                          "Date": "1967-07-31",
                          "Record": 1
                        },
                        {
                          "Date": "1967-08-01",
                          "Record": 1
                        },
                        {
                          "Date": "1967-08-08",
                          "Record": 1
                        },
                        {
                          "Date": "1967-08-09",
                          "Record": 1
                        },
                        {
                          "Date": "1967-08-16",
                          "Record": 1
                        },
                        {
                          "Date": "1967-08-24",
                          "Record": 1
                        },
                        {
                          "Date": "1967-08-31",
                          "Record": 1
                        },
                        {
                          "Date": "1967-09-01",
                          "Record": 1
                        },
                        {
                          "Date": "1967-09-08",
                          "Record": 1
                        },
                        {
                          "Date": "1967-09-11",
                          "Record": 1
                        },
                        {
                          "Date": "1967-09-12",
                          "Record": 1
                        },
                        {
                          "Date": "1967-09-16",
                          "Record": 1
                        },
                        {
                          "Date": "1967-09-19",
                          "Record": 2
                        },
                        {
                          "Date": "1967-09-22",
                          "Record": 1
                        },
                        {
                          "Date": "1967-09-26",
                          "Record": 1
                        },
                        {
                          "Date": "1967-09-27",
                          "Record": 2
                        },
                        {
                          "Date": "1967-10-03",
                          "Record": 1
                        },
                        {
                          "Date": "1967-10-11",
                          "Record": 1
                        },
                        {
                          "Date": "1967-10-12",
                          "Record": 1
                        },
                        {
                          "Date": "1967-10-16",
                          "Record": 1
                        },
                        {
                          "Date": "1967-10-18",
                          "Record": 1
                        },
                        {
                          "Date": "1967-10-22",
                          "Record": 1
                        },
                        {
                          "Date": "1967-10-24",
                          "Record": 1
                        },
                        {
                          "Date": "1967-10-25",
                          "Record": 1
                        },
                        {
                          "Date": "1967-10-27",
                          "Record": 2
                        },
                        {
                          "Date": "1967-10-28",
                          "Record": 1
                        },
                        {
                          "Date": "1967-10-30",
                          "Record": 2
                        },
                        {
                          "Date": "1967-11-03",
                          "Record": 1
                        },
                        {
                          "Date": "1967-11-05",
                          "Record": 1
                        },
                        {
                          "Date": "1967-11-07",
                          "Record": 1
                        },
                        {
                          "Date": "1967-11-09",
                          "Record": 1
                        },
                        {
                          "Date": "1967-11-21",
                          "Record": 1
                        },
                        {
                          "Date": "1967-11-22",
                          "Record": 1
                        },
                        {
                          "Date": "1967-11-23",
                          "Record": 1
                        },
                        {
                          "Date": "1967-11-25",
                          "Record": 1
                        },
                        {
                          "Date": "1967-11-29",
                          "Record": 1
                        },
                        {
                          "Date": "1967-12-03",
                          "Record": 1
                        },
                        {
                          "Date": "1967-12-05",
                          "Record": 1
                        },
                        {
                          "Date": "1967-12-16",
                          "Record": 1
                        },
                        {
                          "Date": "1967-12-19",
                          "Record": 1
                        },
                        {
                          "Date": "1967-12-26",
                          "Record": 1
                        },
                        {
                          "Date": "1967-12-27",
                          "Record": 1
                        },
                        {
                          "Date": "1968-01-07",
                          "Record": 1
                        },
                        {
                          "Date": "1968-01-16",
                          "Record": 1
                        },
                        {
                          "Date": "1968-01-18",
                          "Record": 1
                        },
                        {
                          "Date": "1968-01-19",
                          "Record": 1
                        },
                        {
                          "Date": "1968-01-22",
                          "Record": 1
                        },
                        {
                          "Date": "1968-02-06",
                          "Record": 1
                        },
                        {
                          "Date": "1968-02-07",
                          "Record": 1
                        },
                        {
                          "Date": "1968-02-20",
                          "Record": 2
                        },
                        {
                          "Date": "1968-03-02",
                          "Record": 1
                        },
                        {
                          "Date": "1968-03-04",
                          "Record": 1
                        },
                        {
                          "Date": "1968-03-05",
                          "Record": 2
                        },
                        {
                          "Date": "1968-03-06",
                          "Record": 1
                        },
                        {
                          "Date": "1968-03-13",
                          "Record": 1
                        },
                        {
                          "Date": "1968-03-14",
                          "Record": 1
                        },
                        {
                          "Date": "1968-03-16",
                          "Record": 1
                        },
                        {
                          "Date": "1968-03-21",
                          "Record": 1
                        },
                        {
                          "Date": "1968-03-22",
                          "Record": 1
                        },
                        {
                          "Date": "1968-03-28",
                          "Record": 1
                        },
                        {
                          "Date": "1968-04-03",
                          "Record": 1
                        },
                        {
                          "Date": "1968-04-04",
                          "Record": 1
                        },
                        {
                          "Date": "1968-04-06",
                          "Record": 1
                        },
                        {
                          "Date": "1968-04-07",
                          "Record": 1
                        },
                        {
                          "Date": "1968-04-09",
                          "Record": 1
                        },
                        {
                          "Date": "1968-04-14",
                          "Record": 1
                        },
                        {
                          "Date": "1968-04-15",
                          "Record": 1
                        },
                        {
                          "Date": "1968-04-17",
                          "Record": 1
                        },
                        {
                          "Date": "1968-04-18",
                          "Record": 2
                        },
                        {
                          "Date": "1968-04-20",
                          "Record": 1
                        },
                        {
                          "Date": "1968-04-21",
                          "Record": 1
                        },
                        {
                          "Date": "1968-04-22",
                          "Record": 1
                        },
                        {
                          "Date": "1968-04-24",
                          "Record": 1
                        },
                        {
                          "Date": "1968-04-25",
                          "Record": 1
                        },
                        {
                          "Date": "1968-04-26",
                          "Record": 1
                        },
                        {
                          "Date": "1968-05-07",
                          "Record": 1
                        },
                        {
                          "Date": "1968-05-24",
                          "Record": 1
                        },
                        {
                          "Date": "1968-05-30",
                          "Record": 1
                        },
                        {
                          "Date": "1968-06-01",
                          "Record": 1
                        },
                        {
                          "Date": "1968-06-04",
                          "Record": 2
                        },
                        {
                          "Date": "1968-06-05",
                          "Record": 1
                        },
                        {
                          "Date": "1968-06-11",
                          "Record": 1
                        },
                        {
                          "Date": "1968-06-12",
                          "Record": 1
                        },
                        {
                          "Date": "1968-06-13",
                          "Record": 1
                        },
                        {
                          "Date": "1968-06-15",
                          "Record": 1
                        },
                        {
                          "Date": "1968-06-18",
                          "Record": 1
                        },
                        {
                          "Date": "1968-06-21",
                          "Record": 1
                        },
                        {
                          "Date": "1968-06-26",
                          "Record": 1
                        },
                        {
                          "Date": "1968-07-05",
                          "Record": 2
                        },
                        {
                          "Date": "1968-07-10",
                          "Record": 1
                        },
                        {
                          "Date": "1968-07-11",
                          "Record": 1
                        },
                        {
                          "Date": "1968-07-16",
                          "Record": 1
                        },
                        {
                          "Date": "1968-07-18",
                          "Record": 1
                        },
                        {
                          "Date": "1968-07-30",
                          "Record": 1
                        },
                        {
                          "Date": "1968-08-06",
                          "Record": 3
                        },
                        {
                          "Date": "1968-08-09",
                          "Record": 1
                        },
                        {
                          "Date": "1968-08-10",
                          "Record": 1
                        },
                        {
                          "Date": "1968-08-16",
                          "Record": 1
                        },
                        {
                          "Date": "1968-08-27",
                          "Record": 2
                        },
                        {
                          "Date": "1968-08-28",
                          "Record": 1
                        },
                        {
                          "Date": "1968-09-05",
                          "Record": 1
                        },
                        {
                          "Date": "1968-09-14",
                          "Record": 2
                        },
                        {
                          "Date": "1968-09-16",
                          "Record": 1
                        },
                        {
                          "Date": "1968-09-20",
                          "Record": 1
                        },
                        {
                          "Date": "1968-09-23",
                          "Record": 1
                        },
                        {
                          "Date": "1968-09-26",
                          "Record": 1
                        },
                        {
                          "Date": "1968-10-02",
                          "Record": 1
                        },
                        {
                          "Date": "1968-10-03",
                          "Record": 1
                        },
                        {
                          "Date": "1968-10-05",
                          "Record": 1
                        },
                        {
                          "Date": "1968-10-07",
                          "Record": 1
                        },
                        {
                          "Date": "1968-10-11",
                          "Record": 2
                        },
                        {
                          "Date": "1968-10-19",
                          "Record": 1
                        },
                        {
                          "Date": "1968-10-20",
                          "Record": 1
                        },
                        {
                          "Date": "1968-10-25",
                          "Record": 1
                        },
                        {
                          "Date": "1968-10-26",
                          "Record": 1
                        },
                        {
                          "Date": "1968-10-30",
                          "Record": 1
                        },
                        {
                          "Date": "1968-10-31",
                          "Record": 1
                        },
                        {
                          "Date": "1968-11-01",
                          "Record": 1
                        },
                        {
                          "Date": "1968-11-06",
                          "Record": 1
                        },
                        {
                          "Date": "1968-11-10",
                          "Record": 1
                        },
                        {
                          "Date": "1968-11-13",
                          "Record": 1
                        },
                        {
                          "Date": "1968-11-16",
                          "Record": 1
                        },
                        {
                          "Date": "1968-11-21",
                          "Record": 1
                        },
                        {
                          "Date": "1968-11-29",
                          "Record": 2
                        },
                        {
                          "Date": "1968-11-30",
                          "Record": 1
                        },
                        {
                          "Date": "1968-12-03",
                          "Record": 1
                        },
                        {
                          "Date": "1968-12-04",
                          "Record": 1
                        },
                        {
                          "Date": "1968-12-07",
                          "Record": 1
                        },
                        {
                          "Date": "1968-12-10",
                          "Record": 1
                        },
                        {
                          "Date": "1968-12-14",
                          "Record": 1
                        },
                        {
                          "Date": "1968-12-16",
                          "Record": 1
                        },
                        {
                          "Date": "1968-12-19",
                          "Record": 1
                        },
                        {
                          "Date": "1968-12-21",
                          "Record": 1
                        },
                        {
                          "Date": "1968-12-26",
                          "Record": 1
                        },
                        {
                          "Date": "1969-01-05",
                          "Record": 1
                        },
                        {
                          "Date": "1969-01-10",
                          "Record": 1
                        },
                        {
                          "Date": "1969-01-12",
                          "Record": 1
                        },
                        {
                          "Date": "1969-01-14",
                          "Record": 1
                        },
                        {
                          "Date": "1969-01-15",
                          "Record": 1
                        },
                        {
                          "Date": "1969-01-20",
                          "Record": 1
                        },
                        {
                          "Date": "1969-01-22",
                          "Record": 1
                        },
                        {
                          "Date": "1969-01-23",
                          "Record": 1
                        },
                        {
                          "Date": "1969-01-25",
                          "Record": 1
                        },
                        {
                          "Date": "1969-02-01",
                          "Record": 1
                        },
                        {
                          "Date": "1969-02-07",
                          "Record": 1
                        },
                        {
                          "Date": "1969-02-09",
                          "Record": 1
                        },
                        {
                          "Date": "1969-02-19",
                          "Record": 1
                        },
                        {
                          "Date": "1969-02-21",
                          "Record": 1
                        },
                        {
                          "Date": "1969-02-25",
                          "Record": 2
                        },
                        {
                          "Date": "1969-02-26",
                          "Record": 1
                        },
                        {
                          "Date": "1969-03-03",
                          "Record": 1
                        },
                        {
                          "Date": "1969-03-04",
                          "Record": 1
                        },
                        {
                          "Date": "1969-03-05",
                          "Record": 2
                        },
                        {
                          "Date": "1969-03-06",
                          "Record": 1
                        },
                        {
                          "Date": "1969-03-15",
                          "Record": 1
                        },
                        {
                          "Date": "1969-03-17",
                          "Record": 1
                        },
                        {
                          "Date": "1969-03-18",
                          "Record": 1
                        },
                        {
                          "Date": "1969-03-22",
                          "Record": 1
                        },
                        {
                          "Date": "1969-03-24",
                          "Record": 1
                        },
                        {
                          "Date": "1969-03-26",
                          "Record": 1
                        },
                        {
                          "Date": "1969-03-27",
                          "Record": 2
                        },
                        {
                          "Date": "1969-03-28",
                          "Record": 1
                        },
                        {
                          "Date": "1969-04-02",
                          "Record": 1
                        },
                        {
                          "Date": "1969-04-04",
                          "Record": 2
                        },
                        {
                          "Date": "1969-04-09",
                          "Record": 1
                        },
                        {
                          "Date": "1969-04-11",
                          "Record": 1
                        },
                        {
                          "Date": "1969-04-13",
                          "Record": 1
                        },
                        {
                          "Date": "1969-04-15",
                          "Record": 2
                        },
                        {
                          "Date": "1969-04-23",
                          "Record": 1
                        },
                        {
                          "Date": "1969-05-13",
                          "Record": 1
                        },
                        {
                          "Date": "1969-05-18",
                          "Record": 1
                        },
                        {
                          "Date": "1969-05-20",
                          "Record": 1
                        },
                        {
                          "Date": "1969-05-23",
                          "Record": 1
                        },
                        {
                          "Date": "1969-05-27",
                          "Record": 1
                        },
                        {
                          "Date": "1969-05-29",
                          "Record": 1
                        },
                        {
                          "Date": "1969-06-03",
                          "Record": 2
                        },
                        {
                          "Date": "1969-06-12",
                          "Record": 1
                        },
                        {
                          "Date": "1969-06-14",
                          "Record": 1
                        },
                        {
                          "Date": "1969-06-15",
                          "Record": 1
                        },
                        {
                          "Date": "1969-06-24",
                          "Record": 1
                        },
                        {
                          "Date": "1969-06-27",
                          "Record": 1
                        },
                        {
                          "Date": "1969-07-03",
                          "Record": 2
                        },
                        {
                          "Date": "1969-07-10",
                          "Record": 1
                        },
                        {
                          "Date": "1969-07-16",
                          "Record": 1
                        },
                        {
                          "Date": "1969-07-22",
                          "Record": 2
                        },
                        {
                          "Date": "1969-07-23",
                          "Record": 1
                        },
                        {
                          "Date": "1969-08-06",
                          "Record": 1
                        },
                        {
                          "Date": "1969-08-07",
                          "Record": 1
                        },
                        {
                          "Date": "1969-08-12",
                          "Record": 1
                        },
                        {
                          "Date": "1969-08-13",
                          "Record": 1
                        },
                        {
                          "Date": "1969-08-16",
                          "Record": 1
                        },
                        {
                          "Date": "1969-08-19",
                          "Record": 1
                        },
                        {
                          "Date": "1969-08-22",
                          "Record": 1
                        },
                        {
                          "Date": "1969-08-23",
                          "Record": 1
                        },
                        {
                          "Date": "1969-08-29",
                          "Record": 1
                        },
                        {
                          "Date": "1969-09-02",
                          "Record": 1
                        },
                        {
                          "Date": "1969-09-15",
                          "Record": 1
                        },
                        {
                          "Date": "1969-09-18",
                          "Record": 1
                        },
                        {
                          "Date": "1969-09-22",
                          "Record": 1
                        },
                        {
                          "Date": "1969-09-23",
                          "Record": 1
                        },
                        {
                          "Date": "1969-09-24",
                          "Record": 1
                        },
                        {
                          "Date": "1969-10-06",
                          "Record": 1
                        },
                        {
                          "Date": "1969-10-11",
                          "Record": 1
                        },
                        {
                          "Date": "1969-10-12",
                          "Record": 1
                        },
                        {
                          "Date": "1969-10-13",
                          "Record": 1
                        },
                        {
                          "Date": "1969-10-14",
                          "Record": 1
                        },
                        {
                          "Date": "1969-10-17",
                          "Record": 1
                        },
                        {
                          "Date": "1969-10-18",
                          "Record": 1
                        },
                        {
                          "Date": "1969-10-21",
                          "Record": 1
                        },
                        {
                          "Date": "1969-10-22",
                          "Record": 1
                        },
                        {
                          "Date": "1969-10-24",
                          "Record": 3
                        },
                        {
                          "Date": "1969-11-01",
                          "Record": 1
                        },
                        {
                          "Date": "1969-11-04",
                          "Record": 1
                        },
                        {
                          "Date": "1969-11-12",
                          "Record": 1
                        },
                        {
                          "Date": "1969-11-14",
                          "Record": 1
                        },
                        {
                          "Date": "1969-11-15",
                          "Record": 1
                        },
                        {
                          "Date": "1969-11-16",
                          "Record": 1
                        },
                        {
                          "Date": "1969-11-24",
                          "Record": 2
                        },
                        {
                          "Date": "1969-11-28",
                          "Record": 1
                        },
                        {
                          "Date": "1969-12-03",
                          "Record": 1
                        },
                        {
                          "Date": "1969-12-11",
                          "Record": 1
                        },
                        {
                          "Date": "1969-12-20",
                          "Record": 1
                        },
                        {
                          "Date": "1969-12-23",
                          "Record": 2
                        },
                        {
                          "Date": "1969-12-25",
                          "Record": 1
                        },
                        {
                          "Date": "1969-12-27",
                          "Record": 1
                        },
                        {
                          "Date": "1970-01-09",
                          "Record": 1
                        },
                        {
                          "Date": "1970-01-14",
                          "Record": 1
                        },
                        {
                          "Date": "1970-01-15",
                          "Record": 1
                        },
                        {
                          "Date": "1970-01-16",
                          "Record": 1
                        },
                        {
                          "Date": "1970-01-20",
                          "Record": 1
                        },
                        {
                          "Date": "1970-01-21",
                          "Record": 1
                        },
                        {
                          "Date": "1970-01-30",
                          "Record": 1
                        },
                        {
                          "Date": "1970-02-06",
                          "Record": 1
                        },
                        {
                          "Date": "1970-02-10",
                          "Record": 1
                        },
                        {
                          "Date": "1970-02-11",
                          "Record": 1
                        },
                        {
                          "Date": "1970-02-17",
                          "Record": 1
                        },
                        {
                          "Date": "1970-02-27",
                          "Record": 1
                        },
                        {
                          "Date": "1970-03-04",
                          "Record": 1
                        },
                        {
                          "Date": "1970-03-10",
                          "Record": 1
                        },
                        {
                          "Date": "1970-03-13",
                          "Record": 1
                        },
                        {
                          "Date": "1970-03-17",
                          "Record": 1
                        },
                        {
                          "Date": "1970-03-18",
                          "Record": 1
                        },
                        {
                          "Date": "1970-03-27",
                          "Record": 1
                        },
                        {
                          "Date": "1970-04-03",
                          "Record": 1
                        },
                        {
                          "Date": "1970-04-07",
                          "Record": 1
                        },
                        {
                          "Date": "1970-04-08",
                          "Record": 2
                        },
                        {
                          "Date": "1970-04-11",
                          "Record": 2
                        },
                        {
                          "Date": "1970-04-15",
                          "Record": 2
                        },
                        {
                          "Date": "1970-04-23",
                          "Record": 1
                        },
                        {
                          "Date": "1970-04-24",
                          "Record": 2
                        },
                        {
                          "Date": "1970-04-25",
                          "Record": 1
                        },
                        {
                          "Date": "1970-04-28",
                          "Record": 1
                        },
                        {
                          "Date": "1970-05-12",
                          "Record": 1
                        },
                        {
                          "Date": "1970-05-20",
                          "Record": 1
                        },
                        {
                          "Date": "1970-05-22",
                          "Record": 1
                        },
                        {
                          "Date": "1970-06-01",
                          "Record": 1
                        },
                        {
                          "Date": "1970-06-10",
                          "Record": 1
                        },
                        {
                          "Date": "1970-06-12",
                          "Record": 2
                        },
                        {
                          "Date": "1970-06-13",
                          "Record": 1
                        },
                        {
                          "Date": "1970-06-17",
                          "Record": 1
                        },
                        {
                          "Date": "1970-06-19",
                          "Record": 1
                        },
                        {
                          "Date": "1970-06-23",
                          "Record": 1
                        },
                        {
                          "Date": "1970-06-25",
                          "Record": 1
                        },
                        {
                          "Date": "1970-06-26",
                          "Record": 2
                        },
                        {
                          "Date": "1970-06-27",
                          "Record": 2
                        },
                        {
                          "Date": "1970-07-07",
                          "Record": 1
                        },
                        {
                          "Date": "1970-07-09",
                          "Record": 1
                        },
                        {
                          "Date": "1970-07-21",
                          "Record": 1
                        },
                        {
                          "Date": "1970-07-28",
                          "Record": 1
                        },
                        {
                          "Date": "1970-07-31",
                          "Record": 1
                        },
                        {
                          "Date": "1970-08-07",
                          "Record": 2
                        },
                        {
                          "Date": "1970-08-10",
                          "Record": 1
                        },
                        {
                          "Date": "1970-08-17",
                          "Record": 1
                        },
                        {
                          "Date": "1970-08-18",
                          "Record": 1
                        },
                        {
                          "Date": "1970-08-19",
                          "Record": 1
                        },
                        {
                          "Date": "1970-08-20",
                          "Record": 1
                        },
                        {
                          "Date": "1970-08-22",
                          "Record": 1
                        },
                        {
                          "Date": "1970-08-29",
                          "Record": 1
                        },
                        {
                          "Date": "1970-09-01",
                          "Record": 1
                        },
                        {
                          "Date": "1970-09-08",
                          "Record": 1
                        },
                        {
                          "Date": "1970-09-12",
                          "Record": 1
                        },
                        {
                          "Date": "1970-09-16",
                          "Record": 1
                        },
                        {
                          "Date": "1970-09-17",
                          "Record": 1
                        },
                        {
                          "Date": "1970-09-22",
                          "Record": 2
                        },
                        {
                          "Date": "1970-09-25",
                          "Record": 1
                        },
                        {
                          "Date": "1970-09-29",
                          "Record": 1
                        },
                        {
                          "Date": "1970-10-01",
                          "Record": 1
                        },
                        {
                          "Date": "1970-10-03",
                          "Record": 1
                        },
                        {
                          "Date": "1970-10-08",
                          "Record": 2
                        },
                        {
                          "Date": "1970-10-09",
                          "Record": 1
                        },
                        {
                          "Date": "1970-10-12",
                          "Record": 1
                        },
                        {
                          "Date": "1970-10-14",
                          "Record": 1
                        },
                        {
                          "Date": "1970-10-15",
                          "Record": 1
                        },
                        {
                          "Date": "1970-10-16",
                          "Record": 1
                        },
                        {
                          "Date": "1970-10-20",
                          "Record": 2
                        },
                        {
                          "Date": "1970-10-23",
                          "Record": 2
                        },
                        {
                          "Date": "1970-10-30",
                          "Record": 2
                        },
                        {
                          "Date": "1970-11-02",
                          "Record": 1
                        },
                        {
                          "Date": "1970-11-06",
                          "Record": 1
                        },
                        {
                          "Date": "1970-11-10",
                          "Record": 1
                        },
                        {
                          "Date": "1970-11-11",
                          "Record": 1
                        },
                        {
                          "Date": "1970-11-17",
                          "Record": 1
                        },
                        {
                          "Date": "1970-11-24",
                          "Record": 2
                        },
                        {
                          "Date": "1970-11-27",
                          "Record": 1
                        },
                        {
                          "Date": "1970-11-30",
                          "Record": 1
                        },
                        {
                          "Date": "1970-12-02",
                          "Record": 2
                        },
                        {
                          "Date": "1970-12-03",
                          "Record": 1
                        },
                        {
                          "Date": "1970-12-10",
                          "Record": 1
                        },
                        {
                          "Date": "1970-12-12",
                          "Record": 3
                        },
                        {
                          "Date": "1970-12-15",
                          "Record": 1
                        },
                        {
                          "Date": "1970-12-16",
                          "Record": 1
                        },
                        {
                          "Date": "1970-12-18",
                          "Record": 2
                        },
                        {
                          "Date": "1970-12-22",
                          "Record": 1
                        },
                        {
                          "Date": "1970-12-25",
                          "Record": 1
                        },
                        {
                          "Date": "1971-01-12",
                          "Record": 1
                        },
                        {
                          "Date": "1971-01-14",
                          "Record": 1
                        },
                        {
                          "Date": "1971-01-20",
                          "Record": 1
                        },
                        {
                          "Date": "1971-01-21",
                          "Record": 2
                        },
                        {
                          "Date": "1971-01-26",
                          "Record": 2
                        },
                        {
                          "Date": "1971-01-31",
                          "Record": 1
                        },
                        {
                          "Date": "1971-02-09",
                          "Record": 1
                        },
                        {
                          "Date": "1971-02-16",
                          "Record": 1
                        },
                        {
                          "Date": "1971-02-17",
                          "Record": 1
                        },
                        {
                          "Date": "1971-02-18",
                          "Record": 1
                        },
                        {
                          "Date": "1971-02-21",
                          "Record": 1
                        },
                        {
                          "Date": "1971-02-25",
                          "Record": 1
                        },
                        {
                          "Date": "1971-02-26",
                          "Record": 1
                        },
                        {
                          "Date": "1971-03-03",
                          "Record": 2
                        },
                        {
                          "Date": "1971-03-04",
                          "Record": 1
                        },
                        {
                          "Date": "1971-03-05",
                          "Record": 2
                        },
                        {
                          "Date": "1971-03-18",
                          "Record": 1
                        },
                        {
                          "Date": "1971-03-21",
                          "Record": 1
                        },
                        {
                          "Date": "1971-03-23",
                          "Record": 1
                        },
                        {
                          "Date": "1971-03-27",
                          "Record": 1
                        },
                        {
                          "Date": "1971-04-01",
                          "Record": 1
                        },
                        {
                          "Date": "1971-04-02",
                          "Record": 1
                        },
                        {
                          "Date": "1971-04-07",
                          "Record": 1
                        },
                        {
                          "Date": "1971-04-14",
                          "Record": 1
                        },
                        {
                          "Date": "1971-04-15",
                          "Record": 1
                        },
                        {
                          "Date": "1971-04-17",
                          "Record": 1
                        },
                        {
                          "Date": "1971-04-19",
                          "Record": 1
                        },
                        {
                          "Date": "1971-04-22",
                          "Record": 3
                        },
                        {
                          "Date": "1971-04-24",
                          "Record": 2
                        },
                        {
                          "Date": "1971-04-28",
                          "Record": 1
                        },
                        {
                          "Date": "1971-05-05",
                          "Record": 1
                        },
                        {
                          "Date": "1971-05-06",
                          "Record": 1
                        },
                        {
                          "Date": "1971-05-07",
                          "Record": 1
                        },
                        {
                          "Date": "1971-05-09",
                          "Record": 1
                        },
                        {
                          "Date": "1971-05-10",
                          "Record": 1
                        },
                        {
                          "Date": "1971-05-18",
                          "Record": 1
                        },
                        {
                          "Date": "1971-05-19",
                          "Record": 2
                        },
                        {
                          "Date": "1971-05-22",
                          "Record": 1
                        },
                        {
                          "Date": "1971-05-27",
                          "Record": 1
                        },
                        {
                          "Date": "1971-05-28",
                          "Record": 2
                        },
                        {
                          "Date": "1971-05-29",
                          "Record": 1
                        },
                        {
                          "Date": "1971-05-30",
                          "Record": 1
                        },
                        {
                          "Date": "1971-06-04",
                          "Record": 1
                        },
                        {
                          "Date": "1971-06-06",
                          "Record": 1
                        },
                        {
                          "Date": "1971-06-11",
                          "Record": 1
                        },
                        {
                          "Date": "1971-06-12",
                          "Record": 1
                        },
                        {
                          "Date": "1971-06-15",
                          "Record": 1
                        },
                        {
                          "Date": "1971-06-24",
                          "Record": 1
                        },
                        {
                          "Date": "1971-06-25",
                          "Record": 1
                        },
                        {
                          "Date": "1971-06-26",
                          "Record": 1
                        },
                        {
                          "Date": "1971-07-16",
                          "Record": 1
                        },
                        {
                          "Date": "1971-07-20",
                          "Record": 1
                        },
                        {
                          "Date": "1971-07-22",
                          "Record": 1
                        },
                        {
                          "Date": "1971-07-23",
                          "Record": 1
                        },
                        {
                          "Date": "1971-07-26",
                          "Record": 1
                        },
                        {
                          "Date": "1971-07-28",
                          "Record": 2
                        },
                        {
                          "Date": "1971-07-30",
                          "Record": 1
                        },
                        {
                          "Date": "1971-08-03",
                          "Record": 1
                        },
                        {
                          "Date": "1971-08-05",
                          "Record": 1
                        },
                        {
                          "Date": "1971-08-07",
                          "Record": 1
                        },
                        {
                          "Date": "1971-08-08",
                          "Record": 1
                        },
                        {
                          "Date": "1971-08-12",
                          "Record": 1
                        },
                        {
                          "Date": "1971-08-19",
                          "Record": 1
                        },
                        {
                          "Date": "1971-08-27",
                          "Record": 1
                        },
                        {
                          "Date": "1971-09-02",
                          "Record": 1
                        },
                        {
                          "Date": "1971-09-07",
                          "Record": 1
                        },
                        {
                          "Date": "1971-09-10",
                          "Record": 1
                        },
                        {
                          "Date": "1971-09-14",
                          "Record": 1
                        },
                        {
                          "Date": "1971-09-21",
                          "Record": 1
                        },
                        {
                          "Date": "1971-09-24",
                          "Record": 1
                        },
                        {
                          "Date": "1971-09-28",
                          "Record": 3
                        },
                        {
                          "Date": "1971-09-29",
                          "Record": 1
                        },
                        {
                          "Date": "1971-10-07",
                          "Record": 1
                        },
                        {
                          "Date": "1971-10-13",
                          "Record": 1
                        },
                        {
                          "Date": "1971-10-14",
                          "Record": 1
                        },
                        {
                          "Date": "1971-10-19",
                          "Record": 1
                        },
                        {
                          "Date": "1971-10-23",
                          "Record": 1
                        },
                        {
                          "Date": "1971-10-28",
                          "Record": 1
                        },
                        {
                          "Date": "1971-11-02",
                          "Record": 1
                        },
                        {
                          "Date": "1971-11-03",
                          "Record": 1
                        },
                        {
                          "Date": "1971-11-04",
                          "Record": 1
                        },
                        {
                          "Date": "1971-11-15",
                          "Record": 1
                        },
                        {
                          "Date": "1971-11-17",
                          "Record": 1
                        },
                        {
                          "Date": "1971-11-19",
                          "Record": 1
                        },
                        {
                          "Date": "1971-11-20",
                          "Record": 1
                        },
                        {
                          "Date": "1971-11-24",
                          "Record": 1
                        },
                        {
                          "Date": "1971-11-29",
                          "Record": 2
                        },
                        {
                          "Date": "1971-11-30",
                          "Record": 1
                        },
                        {
                          "Date": "1971-12-02",
                          "Record": 2
                        },
                        {
                          "Date": "1971-12-03",
                          "Record": 2
                        },
                        {
                          "Date": "1971-12-04",
                          "Record": 1
                        },
                        {
                          "Date": "1971-12-05",
                          "Record": 1
                        },
                        {
                          "Date": "1971-12-06",
                          "Record": 1
                        },
                        {
                          "Date": "1971-12-10",
                          "Record": 1
                        },
                        {
                          "Date": "1971-12-15",
                          "Record": 1
                        },
                        {
                          "Date": "1971-12-16",
                          "Record": 1
                        },
                        {
                          "Date": "1971-12-17",
                          "Record": 2
                        },
                        {
                          "Date": "1971-12-19",
                          "Record": 1
                        },
                        {
                          "Date": "1971-12-20",
                          "Record": 1
                        },
                        {
                          "Date": "1971-12-25",
                          "Record": 1
                        },
                        {
                          "Date": "1971-12-27",
                          "Record": 2
                        },
                        {
                          "Date": "1971-12-29",
                          "Record": 1
                        },
                        {
                          "Date": "1972-01-12",
                          "Record": 1
                        },
                        {
                          "Date": "1972-01-20",
                          "Record": 1
                        },
                        {
                          "Date": "1972-01-23",
                          "Record": 1
                        },
                        {
                          "Date": "1972-01-25",
                          "Record": 1
                        },
                        {
                          "Date": "1972-02-03",
                          "Record": 1
                        },
                        {
                          "Date": "1972-02-08",
                          "Record": 1
                        },
                        {
                          "Date": "1972-02-14",
                          "Record": 1
                        },
                        {
                          "Date": "1972-02-16",
                          "Record": 2
                        },
                        {
                          "Date": "1972-02-25",
                          "Record": 1
                        },
                        {
                          "Date": "1972-03-01",
                          "Record": 2
                        },
                        {
                          "Date": "1972-03-03",
                          "Record": 1
                        },
                        {
                          "Date": "1972-03-04",
                          "Record": 1
                        },
                        {
                          "Date": "1972-03-15",
                          "Record": 1
                        },
                        {
                          "Date": "1972-03-17",
                          "Record": 1
                        },
                        {
                          "Date": "1972-03-22",
                          "Record": 1
                        },
                        {
                          "Date": "1972-03-25",
                          "Record": 2
                        },
                        {
                          "Date": "1972-03-27",
                          "Record": 1
                        },
                        {
                          "Date": "1972-03-30",
                          "Record": 1
                        },
                        {
                          "Date": "1972-03-31",
                          "Record": 1
                        },
                        {
                          "Date": "1972-04-03",
                          "Record": 1
                        },
                        {
                          "Date": "1972-04-04",
                          "Record": 1
                        },
                        {
                          "Date": "1972-04-06",
                          "Record": 1
                        },
                        {
                          "Date": "1972-04-07",
                          "Record": 1
                        },
                        {
                          "Date": "1972-04-11",
                          "Record": 1
                        },
                        {
                          "Date": "1972-04-12",
                          "Record": 1
                        },
                        {
                          "Date": "1972-04-14",
                          "Record": 1
                        },
                        {
                          "Date": "1972-04-16",
                          "Record": 1
                        },
                        {
                          "Date": "1972-04-21",
                          "Record": 1
                        },
                        {
                          "Date": "1972-04-25",
                          "Record": 1
                        },
                        {
                          "Date": "1972-05-05",
                          "Record": 1
                        },
                        {
                          "Date": "1972-05-06",
                          "Record": 1
                        },
                        {
                          "Date": "1972-05-17",
                          "Record": 1
                        },
                        {
                          "Date": "1972-05-19",
                          "Record": 1
                        },
                        {
                          "Date": "1972-05-20",
                          "Record": 1
                        },
                        {
                          "Date": "1972-05-25",
                          "Record": 1
                        },
                        {
                          "Date": "1972-06-09",
                          "Record": 1
                        },
                        {
                          "Date": "1972-06-13",
                          "Record": 1
                        },
                        {
                          "Date": "1972-06-21",
                          "Record": 1
                        },
                        {
                          "Date": "1972-06-23",
                          "Record": 2
                        },
                        {
                          "Date": "1972-06-29",
                          "Record": 1
                        },
                        {
                          "Date": "1972-06-30",
                          "Record": 2
                        },
                        {
                          "Date": "1972-07-02",
                          "Record": 1
                        },
                        {
                          "Date": "1972-07-05",
                          "Record": 1
                        },
                        {
                          "Date": "1972-07-06",
                          "Record": 1
                        },
                        {
                          "Date": "1972-07-07",
                          "Record": 1
                        },
                        {
                          "Date": "1972-07-10",
                          "Record": 1
                        },
                        {
                          "Date": "1972-07-12",
                          "Record": 1
                        },
                        {
                          "Date": "1972-07-13",
                          "Record": 1
                        },
                        {
                          "Date": "1972-07-19",
                          "Record": 1
                        },
                        {
                          "Date": "1972-07-20",
                          "Record": 1
                        },
                        {
                          "Date": "1972-07-29",
                          "Record": 1
                        },
                        {
                          "Date": "1972-08-02",
                          "Record": 1
                        },
                        {
                          "Date": "1972-08-10",
                          "Record": 1
                        },
                        {
                          "Date": "1972-08-16",
                          "Record": 1
                        },
                        {
                          "Date": "1972-08-18",
                          "Record": 1
                        },
                        {
                          "Date": "1972-08-19",
                          "Record": 1
                        },
                        {
                          "Date": "1972-08-21",
                          "Record": 2
                        },
                        {
                          "Date": "1972-08-30",
                          "Record": 2
                        },
                        {
                          "Date": "1972-09-01",
                          "Record": 1
                        },
                        {
                          "Date": "1972-09-02",
                          "Record": 1
                        },
                        {
                          "Date": "1972-09-15",
                          "Record": 1
                        },
                        {
                          "Date": "1972-09-16",
                          "Record": 1
                        },
                        {
                          "Date": "1972-09-19",
                          "Record": 1
                        },
                        {
                          "Date": "1972-09-29",
                          "Record": 1
                        },
                        {
                          "Date": "1972-09-30",
                          "Record": 1
                        },
                        {
                          "Date": "1972-10-02",
                          "Record": 1
                        },
                        {
                          "Date": "1972-10-04",
                          "Record": 1
                        },
                        {
                          "Date": "1972-10-05",
                          "Record": 1
                        },
                        {
                          "Date": "1972-10-10",
                          "Record": 1
                        },
                        {
                          "Date": "1972-10-11",
                          "Record": 1
                        },
                        {
                          "Date": "1972-10-14",
                          "Record": 1
                        },
                        {
                          "Date": "1972-10-17",
                          "Record": 1
                        },
                        {
                          "Date": "1972-10-18",
                          "Record": 1
                        },
                        {
                          "Date": "1972-10-25",
                          "Record": 1
                        },
                        {
                          "Date": "1972-10-26",
                          "Record": 1
                        },
                        {
                          "Date": "1972-10-31",
                          "Record": 1
                        },
                        {
                          "Date": "1972-11-01",
                          "Record": 1
                        },
                        {
                          "Date": "1972-11-03",
                          "Record": 1
                        },
                        {
                          "Date": "1972-11-15",
                          "Record": 1
                        },
                        {
                          "Date": "1972-11-23",
                          "Record": 1
                        },
                        {
                          "Date": "1972-11-25",
                          "Record": 1
                        },
                        {
                          "Date": "1972-11-30",
                          "Record": 1
                        },
                        {
                          "Date": "1972-12-02",
                          "Record": 1
                        },
                        {
                          "Date": "1972-12-12",
                          "Record": 1
                        },
                        {
                          "Date": "1972-12-14",
                          "Record": 1
                        },
                        {
                          "Date": "1972-12-19",
                          "Record": 1
                        },
                        {
                          "Date": "1972-12-20",
                          "Record": 1
                        },
                        {
                          "Date": "1972-12-21",
                          "Record": 2
                        },
                        {
                          "Date": "1972-12-25",
                          "Record": 1
                        },
                        {
                          "Date": "1972-12-27",
                          "Record": 1
                        },
                        {
                          "Date": "1972-12-28",
                          "Record": 1
                        },
                        {
                          "Date": "1973-01-11",
                          "Record": 1
                        },
                        {
                          "Date": "1973-01-20",
                          "Record": 1
                        },
                        {
                          "Date": "1973-01-24",
                          "Record": 1
                        },
                        {
                          "Date": "1973-01-26",
                          "Record": 1
                        },
                        {
                          "Date": "1973-02-01",
                          "Record": 1
                        },
                        {
                          "Date": "1973-02-03",
                          "Record": 1
                        },
                        {
                          "Date": "1973-02-08",
                          "Record": 1
                        },
                        {
                          "Date": "1973-02-15",
                          "Record": 1
                        },
                        {
                          "Date": "1973-02-28",
                          "Record": 1
                        },
                        {
                          "Date": "1973-03-01",
                          "Record": 1
                        },
                        {
                          "Date": "1973-03-06",
                          "Record": 2
                        },
                        {
                          "Date": "1973-03-09",
                          "Record": 1
                        },
                        {
                          "Date": "1973-03-20",
                          "Record": 1
                        },
                        {
                          "Date": "1973-03-22",
                          "Record": 1
                        },
                        {
                          "Date": "1973-04-03",
                          "Record": 1
                        },
                        {
                          "Date": "1973-04-05",
                          "Record": 1
                        },
                        {
                          "Date": "1973-04-06",
                          "Record": 1
                        },
                        {
                          "Date": "1973-04-12",
                          "Record": 1
                        },
                        {
                          "Date": "1973-04-19",
                          "Record": 2
                        },
                        {
                          "Date": "1973-04-25",
                          "Record": 2
                        },
                        {
                          "Date": "1973-05-05",
                          "Record": 1
                        },
                        {
                          "Date": "1973-05-14",
                          "Record": 1
                        },
                        {
                          "Date": "1973-05-16",
                          "Record": 1
                        },
                        {
                          "Date": "1973-05-17",
                          "Record": 1
                        },
                        {
                          "Date": "1973-05-18",
                          "Record": 1
                        },
                        {
                          "Date": "1973-05-22",
                          "Record": 1
                        },
                        {
                          "Date": "1973-05-23",
                          "Record": 1
                        },
                        {
                          "Date": "1973-05-24",
                          "Record": 1
                        },
                        {
                          "Date": "1973-05-25",
                          "Record": 3
                        },
                        {
                          "Date": "1973-05-29",
                          "Record": 1
                        },
                        {
                          "Date": "1973-06-05",
                          "Record": 1
                        },
                        {
                          "Date": "1973-06-06",
                          "Record": 1
                        },
                        {
                          "Date": "1973-06-08",
                          "Record": 1
                        },
                        {
                          "Date": "1973-06-10",
                          "Record": 1
                        },
                        {
                          "Date": "1973-06-12",
                          "Record": 1
                        },
                        {
                          "Date": "1973-06-15",
                          "Record": 1
                        },
                        {
                          "Date": "1973-06-20",
                          "Record": 1
                        },
                        {
                          "Date": "1973-06-21",
                          "Record": 1
                        },
                        {
                          "Date": "1973-06-26",
                          "Record": 2
                        },
                        {
                          "Date": "1973-06-27",
                          "Record": 1
                        },
                        {
                          "Date": "1973-07-04",
                          "Record": 1
                        },
                        {
                          "Date": "1973-07-11",
                          "Record": 1
                        },
                        {
                          "Date": "1973-07-13",
                          "Record": 1
                        },
                        {
                          "Date": "1973-07-25",
                          "Record": 1
                        },
                        {
                          "Date": "1973-07-28",
                          "Record": 1
                        },
                        {
                          "Date": "1973-08-01",
                          "Record": 1
                        },
                        {
                          "Date": "1973-08-21",
                          "Record": 2
                        },
                        {
                          "Date": "1973-08-22",
                          "Record": 1
                        },
                        {
                          "Date": "1973-08-23",
                          "Record": 1
                        },
                        {
                          "Date": "1973-08-24",
                          "Record": 1
                        },
                        {
                          "Date": "1973-08-28",
                          "Record": 1
                        },
                        {
                          "Date": "1973-08-30",
                          "Record": 2
                        },
                        {
                          "Date": "1973-09-06",
                          "Record": 1
                        },
                        {
                          "Date": "1973-09-08",
                          "Record": 1
                        },
                        {
                          "Date": "1973-09-14",
                          "Record": 1
                        },
                        {
                          "Date": "1973-09-18",
                          "Record": 1
                        },
                        {
                          "Date": "1973-09-21",
                          "Record": 1
                        },
                        {
                          "Date": "1973-09-27",
                          "Record": 2
                        },
                        {
                          "Date": "1973-10-02",
                          "Record": 1
                        },
                        {
                          "Date": "1973-10-03",
                          "Record": 1
                        },
                        {
                          "Date": "1973-10-06",
                          "Record": 1
                        },
                        {
                          "Date": "1973-10-10",
                          "Record": 1
                        },
                        {
                          "Date": "1973-10-15",
                          "Record": 1
                        },
                        {
                          "Date": "1973-10-16",
                          "Record": 2
                        },
                        {
                          "Date": "1973-10-19",
                          "Record": 1
                        },
                        {
                          "Date": "1973-10-20",
                          "Record": 1
                        },
                        {
                          "Date": "1973-10-27",
                          "Record": 1
                        },
                        {
                          "Date": "1973-10-29",
                          "Record": 1
                        },
                        {
                          "Date": "1973-10-30",
                          "Record": 1
                        },
                        {
                          "Date": "1973-10-31",
                          "Record": 1
                        },
                        {
                          "Date": "1973-11-02",
                          "Record": 1
                        },
                        {
                          "Date": "1973-11-03",
                          "Record": 1
                        },
                        {
                          "Date": "1973-11-10",
                          "Record": 2
                        },
                        {
                          "Date": "1973-11-14",
                          "Record": 1
                        },
                        {
                          "Date": "1973-11-16",
                          "Record": 1
                        },
                        {
                          "Date": "1973-11-20",
                          "Record": 1
                        },
                        {
                          "Date": "1973-11-21",
                          "Record": 1
                        },
                        {
                          "Date": "1973-11-27",
                          "Record": 1
                        },
                        {
                          "Date": "1973-11-28",
                          "Record": 2
                        },
                        {
                          "Date": "1973-11-30",
                          "Record": 1
                        },
                        {
                          "Date": "1973-12-04",
                          "Record": 1
                        },
                        {
                          "Date": "1973-12-13",
                          "Record": 2
                        },
                        {
                          "Date": "1973-12-17",
                          "Record": 1
                        },
                        {
                          "Date": "1973-12-18",
                          "Record": 1
                        },
                        {
                          "Date": "1973-12-19",
                          "Record": 1
                        },
                        {
                          "Date": "1973-12-21",
                          "Record": 1
                        },
                        {
                          "Date": "1973-12-25",
                          "Record": 1
                        },
                        {
                          "Date": "1973-12-26",
                          "Record": 1
                        },
                        {
                          "Date": "1973-12-27",
                          "Record": 1
                        },
                        {
                          "Date": "1973-12-29",
                          "Record": 1
                        },
                        {
                          "Date": "1974-01-17",
                          "Record": 1
                        },
                        {
                          "Date": "1974-01-24",
                          "Record": 1
                        },
                        {
                          "Date": "1974-01-29",
                          "Record": 1
                        },
                        {
                          "Date": "1974-01-30",
                          "Record": 1
                        },
                        {
                          "Date": "1974-02-04",
                          "Record": 1
                        },
                        {
                          "Date": "1974-02-06",
                          "Record": 1
                        },
                        {
                          "Date": "1974-02-11",
                          "Record": 1
                        },
                        {
                          "Date": "1974-02-12",
                          "Record": 1
                        },
                        {
                          "Date": "1974-02-13",
                          "Record": 1
                        },
                        {
                          "Date": "1974-02-18",
                          "Record": 1
                        },
                        {
                          "Date": "1974-02-27",
                          "Record": 1
                        },
                        {
                          "Date": "1974-03-05",
                          "Record": 2
                        },
                        {
                          "Date": "1974-03-14",
                          "Record": 1
                        },
                        {
                          "Date": "1974-03-20",
                          "Record": 1
                        },
                        {
                          "Date": "1974-03-23",
                          "Record": 1
                        },
                        {
                          "Date": "1974-03-26",
                          "Record": 1
                        },
                        {
                          "Date": "1974-04-03",
                          "Record": 1
                        },
                        {
                          "Date": "1974-04-04",
                          "Record": 1
                        },
                        {
                          "Date": "1974-04-10",
                          "Record": 1
                        },
                        {
                          "Date": "1974-04-11",
                          "Record": 1
                        },
                        {
                          "Date": "1974-04-12",
                          "Record": 1
                        },
                        {
                          "Date": "1974-04-20",
                          "Record": 1
                        },
                        {
                          "Date": "1974-04-24",
                          "Record": 1
                        },
                        {
                          "Date": "1974-04-26",
                          "Record": 1
                        },
                        {
                          "Date": "1974-04-29",
                          "Record": 2
                        },
                        {
                          "Date": "1974-05-15",
                          "Record": 3
                        },
                        {
                          "Date": "1974-05-17",
                          "Record": 2
                        },
                        {
                          "Date": "1974-05-21",
                          "Record": 1
                        },
                        {
                          "Date": "1974-05-23",
                          "Record": 1
                        },
                        {
                          "Date": "1974-05-27",
                          "Record": 1
                        },
                        {
                          "Date": "1974-05-29",
                          "Record": 1
                        },
                        {
                          "Date": "1974-05-30",
                          "Record": 2
                        },
                        {
                          "Date": "1974-06-06",
                          "Record": 2
                        },
                        {
                          "Date": "1974-06-13",
                          "Record": 1
                        },
                        {
                          "Date": "1974-06-18",
                          "Record": 1
                        },
                        {
                          "Date": "1974-06-21",
                          "Record": 1
                        },
                        {
                          "Date": "1974-06-26",
                          "Record": 1
                        },
                        {
                          "Date": "1974-06-27",
                          "Record": 1
                        },
                        {
                          "Date": "1974-06-29",
                          "Record": 2
                        },
                        {
                          "Date": "1974-07-03",
                          "Record": 1
                        },
                        {
                          "Date": "1974-07-09",
                          "Record": 1
                        },
                        {
                          "Date": "1974-07-11",
                          "Record": 2
                        },
                        {
                          "Date": "1974-07-12",
                          "Record": 2
                        },
                        {
                          "Date": "1974-07-14",
                          "Record": 1
                        },
                        {
                          "Date": "1974-07-23",
                          "Record": 1
                        },
                        {
                          "Date": "1974-07-25",
                          "Record": 2
                        },
                        {
                          "Date": "1974-07-26",
                          "Record": 1
                        },
                        {
                          "Date": "1974-08-06",
                          "Record": 1
                        },
                        {
                          "Date": "1974-08-07",
                          "Record": 1
                        },
                        {
                          "Date": "1974-08-12",
                          "Record": 1
                        },
                        {
                          "Date": "1974-08-14",
                          "Record": 1
                        },
                        {
                          "Date": "1974-08-16",
                          "Record": 1
                        },
                        {
                          "Date": "1974-08-28",
                          "Record": 1
                        },
                        {
                          "Date": "1974-08-29",
                          "Record": 2
                        },
                        {
                          "Date": "1974-08-30",
                          "Record": 1
                        },
                        {
                          "Date": "1974-09-11",
                          "Record": 1
                        },
                        {
                          "Date": "1974-09-19",
                          "Record": 1
                        },
                        {
                          "Date": "1974-09-20",
                          "Record": 1
                        },
                        {
                          "Date": "1974-09-26",
                          "Record": 1
                        },
                        {
                          "Date": "1974-10-11",
                          "Record": 1
                        },
                        {
                          "Date": "1974-10-15",
                          "Record": 1
                        },
                        {
                          "Date": "1974-10-18",
                          "Record": 2
                        },
                        {
                          "Date": "1974-10-22",
                          "Record": 1
                        },
                        {
                          "Date": "1974-10-24",
                          "Record": 1
                        },
                        {
                          "Date": "1974-10-25",
                          "Record": 1
                        },
                        {
                          "Date": "1974-10-28",
                          "Record": 1
                        },
                        {
                          "Date": "1974-10-29",
                          "Record": 1
                        },
                        {
                          "Date": "1974-10-31",
                          "Record": 1
                        },
                        {
                          "Date": "1974-11-01",
                          "Record": 1
                        },
                        {
                          "Date": "1974-11-04",
                          "Record": 1
                        },
                        {
                          "Date": "1974-11-05",
                          "Record": 1
                        },
                        {
                          "Date": "1974-11-16",
                          "Record": 1
                        },
                        {
                          "Date": "1974-11-20",
                          "Record": 1
                        },
                        {
                          "Date": "1974-11-21",
                          "Record": 2
                        },
                        {
                          "Date": "1974-11-27",
                          "Record": 1
                        },
                        {
                          "Date": "1974-12-02",
                          "Record": 1
                        },
                        {
                          "Date": "1974-12-10",
                          "Record": 1
                        },
                        {
                          "Date": "1974-12-13",
                          "Record": 1
                        },
                        {
                          "Date": "1974-12-17",
                          "Record": 1
                        },
                        {
                          "Date": "1974-12-18",
                          "Record": 1
                        },
                        {
                          "Date": "1974-12-21",
                          "Record": 1
                        },
                        {
                          "Date": "1974-12-24",
                          "Record": 1
                        },
                        {
                          "Date": "1974-12-26",
                          "Record": 1
                        },
                        {
                          "Date": "1974-12-27",
                          "Record": 1
                        },
                        {
                          "Date": "1975-01-10",
                          "Record": 1
                        },
                        {
                          "Date": "1975-01-17",
                          "Record": 1
                        },
                        {
                          "Date": "1975-01-21",
                          "Record": 1
                        },
                        {
                          "Date": "1975-01-23",
                          "Record": 1
                        },
                        {
                          "Date": "1975-01-28",
                          "Record": 1
                        },
                        {
                          "Date": "1975-01-30",
                          "Record": 1
                        },
                        {
                          "Date": "1975-02-05",
                          "Record": 1
                        },
                        {
                          "Date": "1975-02-06",
                          "Record": 2
                        },
                        {
                          "Date": "1975-02-12",
                          "Record": 2
                        },
                        {
                          "Date": "1975-02-20",
                          "Record": 1
                        },
                        {
                          "Date": "1975-02-24",
                          "Record": 1
                        },
                        {
                          "Date": "1975-02-26",
                          "Record": 1
                        },
                        {
                          "Date": "1975-02-28",
                          "Record": 1
                        },
                        {
                          "Date": "1975-03-10",
                          "Record": 1
                        },
                        {
                          "Date": "1975-03-12",
                          "Record": 1
                        },
                        {
                          "Date": "1975-03-21",
                          "Record": 1
                        },
                        {
                          "Date": "1975-03-26",
                          "Record": 1
                        },
                        {
                          "Date": "1975-03-27",
                          "Record": 2
                        },
                        {
                          "Date": "1975-04-01",
                          "Record": 1
                        },
                        {
                          "Date": "1975-04-02",
                          "Record": 1
                        },
                        {
                          "Date": "1975-04-05",
                          "Record": 1
                        },
                        {
                          "Date": "1975-04-07",
                          "Record": 1
                        },
                        {
                          "Date": "1975-04-08",
                          "Record": 1
                        },
                        {
                          "Date": "1975-04-11",
                          "Record": 1
                        },
                        {
                          "Date": "1975-04-13",
                          "Record": 1
                        },
                        {
                          "Date": "1975-04-14",
                          "Record": 1
                        },
                        {
                          "Date": "1975-04-16",
                          "Record": 1
                        },
                        {
                          "Date": "1975-04-18",
                          "Record": 2
                        },
                        {
                          "Date": "1975-04-19",
                          "Record": 1
                        },
                        {
                          "Date": "1975-04-22",
                          "Record": 1
                        },
                        {
                          "Date": "1975-04-24",
                          "Record": 1
                        },
                        {
                          "Date": "1975-04-29",
                          "Record": 1
                        },
                        {
                          "Date": "1975-05-07",
                          "Record": 1
                        },
                        {
                          "Date": "1975-05-17",
                          "Record": 1
                        },
                        {
                          "Date": "1975-05-20",
                          "Record": 1
                        },
                        {
                          "Date": "1975-05-21",
                          "Record": 1
                        },
                        {
                          "Date": "1975-05-22",
                          "Record": 1
                        },
                        {
                          "Date": "1975-05-24",
                          "Record": 1
                        },
                        {
                          "Date": "1975-05-25",
                          "Record": 1
                        },
                        {
                          "Date": "1975-05-28",
                          "Record": 2
                        },
                        {
                          "Date": "1975-05-30",
                          "Record": 1
                        },
                        {
                          "Date": "1975-06-03",
                          "Record": 2
                        },
                        {
                          "Date": "1975-06-05",
                          "Record": 1
                        },
                        {
                          "Date": "1975-06-08",
                          "Record": 1
                        },
                        {
                          "Date": "1975-06-12",
                          "Record": 1
                        },
                        {
                          "Date": "1975-06-18",
                          "Record": 1
                        },
                        {
                          "Date": "1975-06-20",
                          "Record": 1
                        },
                        {
                          "Date": "1975-06-24",
                          "Record": 1
                        },
                        {
                          "Date": "1975-06-25",
                          "Record": 1
                        },
                        {
                          "Date": "1975-06-27",
                          "Record": 1
                        },
                        {
                          "Date": "1975-07-03",
                          "Record": 1
                        },
                        {
                          "Date": "1975-07-04",
                          "Record": 1
                        },
                        {
                          "Date": "1975-07-08",
                          "Record": 1
                        },
                        {
                          "Date": "1975-07-11",
                          "Record": 1
                        },
                        {
                          "Date": "1975-07-15",
                          "Record": 2
                        },
                        {
                          "Date": "1975-07-17",
                          "Record": 1
                        },
                        {
                          "Date": "1975-07-23",
                          "Record": 1
                        },
                        {
                          "Date": "1975-07-24",
                          "Record": 1
                        },
                        {
                          "Date": "1975-07-26",
                          "Record": 1
                        },
                        {
                          "Date": "1975-07-31",
                          "Record": 1
                        },
                        {
                          "Date": "1975-08-13",
                          "Record": 1
                        },
                        {
                          "Date": "1975-08-14",
                          "Record": 1
                        },
                        {
                          "Date": "1975-08-20",
                          "Record": 1
                        },
                        {
                          "Date": "1975-08-22",
                          "Record": 1
                        },
                        {
                          "Date": "1975-08-27",
                          "Record": 1
                        },
                        {
                          "Date": "1975-09-02",
                          "Record": 1
                        },
                        {
                          "Date": "1975-09-05",
                          "Record": 1
                        },
                        {
                          "Date": "1975-09-09",
                          "Record": 3
                        },
                        {
                          "Date": "1975-09-12",
                          "Record": 1
                        },
                        {
                          "Date": "1975-09-16",
                          "Record": 1
                        },
                        {
                          "Date": "1975-09-17",
                          "Record": 1
                        },
                        {
                          "Date": "1975-09-18",
                          "Record": 1
                        },
                        {
                          "Date": "1975-09-23",
                          "Record": 1
                        },
                        {
                          "Date": "1975-09-24",
                          "Record": 1
                        },
                        {
                          "Date": "1975-09-25",
                          "Record": 1
                        },
                        {
                          "Date": "1975-09-26",
                          "Record": 1
                        },
                        {
                          "Date": "1975-09-27",
                          "Record": 1
                        },
                        {
                          "Date": "1975-09-29",
                          "Record": 1
                        },
                        {
                          "Date": "1975-09-30",
                          "Record": 1
                        },
                        {
                          "Date": "1975-10-01",
                          "Record": 1
                        },
                        {
                          "Date": "1975-10-09",
                          "Record": 1
                        },
                        {
                          "Date": "1975-10-17",
                          "Record": 1
                        },
                        {
                          "Date": "1975-10-29",
                          "Record": 1
                        },
                        {
                          "Date": "1975-11-04",
                          "Record": 1
                        },
                        {
                          "Date": "1975-11-14",
                          "Record": 1
                        },
                        {
                          "Date": "1975-11-15",
                          "Record": 1
                        },
                        {
                          "Date": "1975-11-16",
                          "Record": 1
                        },
                        {
                          "Date": "1975-11-17",
                          "Record": 1
                        },
                        {
                          "Date": "1975-11-21",
                          "Record": 2
                        },
                        {
                          "Date": "1975-11-25",
                          "Record": 1
                        },
                        {
                          "Date": "1975-11-28",
                          "Record": 1
                        },
                        {
                          "Date": "1975-12-03",
                          "Record": 1
                        },
                        {
                          "Date": "1975-12-04",
                          "Record": 1
                        },
                        {
                          "Date": "1975-12-11",
                          "Record": 1
                        },
                        {
                          "Date": "1975-12-12",
                          "Record": 1
                        },
                        {
                          "Date": "1975-12-14",
                          "Record": 1
                        },
                        {
                          "Date": "1975-12-16",
                          "Record": 2
                        },
                        {
                          "Date": "1975-12-17",
                          "Record": 1
                        },
                        {
                          "Date": "1975-12-19",
                          "Record": 1
                        },
                        {
                          "Date": "1975-12-22",
                          "Record": 1
                        },
                        {
                          "Date": "1975-12-25",
                          "Record": 1
                        },
                        {
                          "Date": "1975-12-27",
                          "Record": 1
                        },
                        {
                          "Date": "1976-01-06",
                          "Record": 1
                        },
                        {
                          "Date": "1976-01-07",
                          "Record": 1
                        },
                        {
                          "Date": "1976-01-15",
                          "Record": 1
                        },
                        {
                          "Date": "1976-01-20",
                          "Record": 1
                        },
                        {
                          "Date": "1976-01-22",
                          "Record": 2
                        },
                        {
                          "Date": "1976-01-28",
                          "Record": 1
                        },
                        {
                          "Date": "1976-01-29",
                          "Record": 2
                        },
                        {
                          "Date": "1976-02-03",
                          "Record": 1
                        },
                        {
                          "Date": "1976-02-04",
                          "Record": 1
                        },
                        {
                          "Date": "1976-02-05",
                          "Record": 1
                        },
                        {
                          "Date": "1976-02-11",
                          "Record": 1
                        },
                        {
                          "Date": "1976-02-12",
                          "Record": 1
                        },
                        {
                          "Date": "1976-02-16",
                          "Record": 1
                        },
                        {
                          "Date": "1976-02-20",
                          "Record": 1
                        },
                        {
                          "Date": "1976-02-29",
                          "Record": 1
                        },
                        {
                          "Date": "1976-03-10",
                          "Record": 1
                        },
                        {
                          "Date": "1976-03-11",
                          "Record": 1
                        },
                        {
                          "Date": "1976-03-12",
                          "Record": 1
                        },
                        {
                          "Date": "1976-03-13",
                          "Record": 1
                        },
                        {
                          "Date": "1976-03-14",
                          "Record": 1
                        },
                        {
                          "Date": "1976-03-16",
                          "Record": 1
                        },
                        {
                          "Date": "1976-03-18",
                          "Record": 1
                        },
                        {
                          "Date": "1976-03-19",
                          "Record": 1
                        },
                        {
                          "Date": "1976-03-22",
                          "Record": 1
                        },
                        {
                          "Date": "1976-03-26",
                          "Record": 1
                        },
                        {
                          "Date": "1976-03-31",
                          "Record": 1
                        },
                        {
                          "Date": "1976-04-06",
                          "Record": 1
                        },
                        {
                          "Date": "1976-04-07",
                          "Record": 1
                        },
                        {
                          "Date": "1976-04-09",
                          "Record": 1
                        },
                        {
                          "Date": "1976-04-28",
                          "Record": 2
                        },
                        {
                          "Date": "1976-04-30",
                          "Record": 1
                        },
                        {
                          "Date": "1976-05-05",
                          "Record": 1
                        },
                        {
                          "Date": "1976-05-08",
                          "Record": 1
                        },
                        {
                          "Date": "1976-05-12",
                          "Record": 1
                        },
                        {
                          "Date": "1976-05-13",
                          "Record": 1
                        },
                        {
                          "Date": "1976-05-15",
                          "Record": 1
                        },
                        {
                          "Date": "1976-05-18",
                          "Record": 1
                        },
                        {
                          "Date": "1976-05-20",
                          "Record": 1
                        },
                        {
                          "Date": "1976-05-21",
                          "Record": 1
                        },
                        {
                          "Date": "1976-05-26",
                          "Record": 1
                        },
                        {
                          "Date": "1976-06-02",
                          "Record": 2
                        },
                        {
                          "Date": "1976-06-08",
                          "Record": 1
                        },
                        {
                          "Date": "1976-06-15",
                          "Record": 1
                        },
                        {
                          "Date": "1976-06-16",
                          "Record": 1
                        },
                        {
                          "Date": "1976-06-19",
                          "Record": 1
                        },
                        {
                          "Date": "1976-06-24",
                          "Record": 1
                        },
                        {
                          "Date": "1976-06-26",
                          "Record": 1
                        },
                        {
                          "Date": "1976-06-29",
                          "Record": 2
                        },
                        {
                          "Date": "1976-07-01",
                          "Record": 1
                        },
                        {
                          "Date": "1976-07-02",
                          "Record": 1
                        },
                        {
                          "Date": "1976-07-06",
                          "Record": 1
                        },
                        {
                          "Date": "1976-07-08",
                          "Record": 2
                        },
                        {
                          "Date": "1976-07-14",
                          "Record": 1
                        },
                        {
                          "Date": "1976-07-15",
                          "Record": 1
                        },
                        {
                          "Date": "1976-07-21",
                          "Record": 2
                        },
                        {
                          "Date": "1976-07-22",
                          "Record": 2
                        },
                        {
                          "Date": "1976-07-23",
                          "Record": 1
                        },
                        {
                          "Date": "1976-07-27",
                          "Record": 2
                        },
                        {
                          "Date": "1976-07-29",
                          "Record": 1
                        },
                        {
                          "Date": "1976-08-04",
                          "Record": 1
                        },
                        {
                          "Date": "1976-08-06",
                          "Record": 1
                        },
                        {
                          "Date": "1976-08-12",
                          "Record": 1
                        },
                        {
                          "Date": "1976-08-18",
                          "Record": 1
                        },
                        {
                          "Date": "1976-08-26",
                          "Record": 1
                        },
                        {
                          "Date": "1976-08-27",
                          "Record": 1
                        },
                        {
                          "Date": "1976-08-28",
                          "Record": 1
                        },
                        {
                          "Date": "1976-08-30",
                          "Record": 1
                        },
                        {
                          "Date": "1976-09-01",
                          "Record": 1
                        },
                        {
                          "Date": "1976-09-03",
                          "Record": 1
                        },
                        {
                          "Date": "1976-09-15",
                          "Record": 2
                        },
                        {
                          "Date": "1976-09-21",
                          "Record": 1
                        },
                        {
                          "Date": "1976-09-22",
                          "Record": 1
                        },
                        {
                          "Date": "1976-09-24",
                          "Record": 1
                        },
                        {
                          "Date": "1976-09-29",
                          "Record": 1
                        },
                        {
                          "Date": "1976-10-04",
                          "Record": 1
                        },
                        {
                          "Date": "1976-10-10",
                          "Record": 1
                        },
                        {
                          "Date": "1976-10-14",
                          "Record": 1
                        },
                        {
                          "Date": "1976-10-15",
                          "Record": 1
                        },
                        {
                          "Date": "1976-10-17",
                          "Record": 1
                        },
                        {
                          "Date": "1976-10-21",
                          "Record": 1
                        },
                        {
                          "Date": "1976-10-22",
                          "Record": 1
                        },
                        {
                          "Date": "1976-10-25",
                          "Record": 1
                        },
                        {
                          "Date": "1976-10-29",
                          "Record": 1
                        },
                        {
                          "Date": "1976-11-01",
                          "Record": 1
                        },
                        {
                          "Date": "1976-11-10",
                          "Record": 1
                        },
                        {
                          "Date": "1976-11-11",
                          "Record": 1
                        },
                        {
                          "Date": "1976-11-23",
                          "Record": 1
                        },
                        {
                          "Date": "1976-11-25",
                          "Record": 1
                        },
                        {
                          "Date": "1976-11-26",
                          "Record": 1
                        },
                        {
                          "Date": "1976-11-29",
                          "Record": 1
                        },
                        {
                          "Date": "1976-12-02",
                          "Record": 2
                        },
                        {
                          "Date": "1976-12-07",
                          "Record": 1
                        },
                        {
                          "Date": "1976-12-09",
                          "Record": 2
                        },
                        {
                          "Date": "1976-12-15",
                          "Record": 1
                        },
                        {
                          "Date": "1976-12-16",
                          "Record": 1
                        },
                        {
                          "Date": "1976-12-17",
                          "Record": 2
                        },
                        {
                          "Date": "1976-12-19",
                          "Record": 1
                        },
                        {
                          "Date": "1976-12-27",
                          "Record": 1
                        },
                        {
                          "Date": "1976-12-28",
                          "Record": 2
                        },
                        {
                          "Date": "1977-01-06",
                          "Record": 2
                        },
                        {
                          "Date": "1977-01-20",
                          "Record": 2
                        },
                        {
                          "Date": "1977-02-02",
                          "Record": 1
                        },
                        {
                          "Date": "1977-02-06",
                          "Record": 1
                        },
                        {
                          "Date": "1977-02-07",
                          "Record": 1
                        },
                        {
                          "Date": "1977-02-09",
                          "Record": 1
                        },
                        {
                          "Date": "1977-02-11",
                          "Record": 1
                        },
                        {
                          "Date": "1977-02-15",
                          "Record": 1
                        },
                        {
                          "Date": "1977-02-19",
                          "Record": 1
                        },
                        {
                          "Date": "1977-02-21",
                          "Record": 1
                        },
                        {
                          "Date": "1977-02-22",
                          "Record": 1
                        },
                        {
                          "Date": "1977-02-23",
                          "Record": 1
                        },
                        {
                          "Date": "1977-02-26",
                          "Record": 1
                        },
                        {
                          "Date": "1977-03-03",
                          "Record": 1
                        },
                        {
                          "Date": "1977-03-10",
                          "Record": 1
                        },
                        {
                          "Date": "1977-03-13",
                          "Record": 1
                        },
                        {
                          "Date": "1977-03-17",
                          "Record": 1
                        },
                        {
                          "Date": "1977-03-24",
                          "Record": 2
                        },
                        {
                          "Date": "1977-03-29",
                          "Record": 1
                        },
                        {
                          "Date": "1977-04-05",
                          "Record": 2
                        },
                        {
                          "Date": "1977-04-07",
                          "Record": 1
                        },
                        {
                          "Date": "1977-04-11",
                          "Record": 1
                        },
                        {
                          "Date": "1977-04-20",
                          "Record": 1
                        },
                        {
                          "Date": "1977-04-26",
                          "Record": 1
                        },
                        {
                          "Date": "1977-04-27",
                          "Record": 1
                        },
                        {
                          "Date": "1977-04-28",
                          "Record": 1
                        },
                        {
                          "Date": "1977-05-05",
                          "Record": 1
                        },
                        {
                          "Date": "1977-05-12",
                          "Record": 1
                        },
                        {
                          "Date": "1977-05-17",
                          "Record": 1
                        },
                        {
                          "Date": "1977-05-19",
                          "Record": 1
                        },
                        {
                          "Date": "1977-05-23",
                          "Record": 2
                        },
                        {
                          "Date": "1977-05-25",
                          "Record": 1
                        },
                        {
                          "Date": "1977-05-26",
                          "Record": 2
                        },
                        {
                          "Date": "1977-05-30",
                          "Record": 1
                        },
                        {
                          "Date": "1977-05-31",
                          "Record": 1
                        },
                        {
                          "Date": "1977-06-08",
                          "Record": 1
                        },
                        {
                          "Date": "1977-06-10",
                          "Record": 1
                        },
                        {
                          "Date": "1977-06-16",
                          "Record": 1
                        },
                        {
                          "Date": "1977-06-17",
                          "Record": 2
                        },
                        {
                          "Date": "1977-06-18",
                          "Record": 1
                        },
                        {
                          "Date": "1977-06-22",
                          "Record": 1
                        },
                        {
                          "Date": "1977-06-23",
                          "Record": 1
                        },
                        {
                          "Date": "1977-06-24",
                          "Record": 2
                        },
                        {
                          "Date": "1977-06-27",
                          "Record": 1
                        },
                        {
                          "Date": "1977-06-29",
                          "Record": 1
                        },
                        {
                          "Date": "1977-06-30",
                          "Record": 1
                        },
                        {
                          "Date": "1977-07-01",
                          "Record": 1
                        },
                        {
                          "Date": "1977-07-04",
                          "Record": 1
                        },
                        {
                          "Date": "1977-07-07",
                          "Record": 1
                        },
                        {
                          "Date": "1977-07-08",
                          "Record": 1
                        },
                        {
                          "Date": "1977-07-12",
                          "Record": 1
                        },
                        {
                          "Date": "1977-07-13",
                          "Record": 1
                        },
                        {
                          "Date": "1977-07-19",
                          "Record": 1
                        },
                        {
                          "Date": "1977-07-20",
                          "Record": 2
                        },
                        {
                          "Date": "1977-07-22",
                          "Record": 1
                        },
                        {
                          "Date": "1977-07-27",
                          "Record": 1
                        },
                        {
                          "Date": "1977-07-29",
                          "Record": 1
                        },
                        {
                          "Date": "1977-08-03",
                          "Record": 1
                        },
                        {
                          "Date": "1977-08-10",
                          "Record": 1
                        },
                        {
                          "Date": "1977-08-12",
                          "Record": 1
                        },
                        {
                          "Date": "1977-08-20",
                          "Record": 1
                        },
                        {
                          "Date": "1977-08-24",
                          "Record": 3
                        },
                        {
                          "Date": "1977-08-27",
                          "Record": 1
                        },
                        {
                          "Date": "1977-08-30",
                          "Record": 1
                        },
                        {
                          "Date": "1977-09-02",
                          "Record": 1
                        },
                        {
                          "Date": "1977-09-05",
                          "Record": 1
                        },
                        {
                          "Date": "1977-09-06",
                          "Record": 1
                        },
                        {
                          "Date": "1977-09-13",
                          "Record": 2
                        },
                        {
                          "Date": "1977-09-14",
                          "Record": 1
                        },
                        {
                          "Date": "1977-09-16",
                          "Record": 2
                        },
                        {
                          "Date": "1977-09-18",
                          "Record": 1
                        },
                        {
                          "Date": "1977-09-20",
                          "Record": 1
                        },
                        {
                          "Date": "1977-09-22",
                          "Record": 1
                        },
                        {
                          "Date": "1977-09-23",
                          "Record": 1
                        },
                        {
                          "Date": "1977-09-24",
                          "Record": 2
                        },
                        {
                          "Date": "1977-09-30",
                          "Record": 2
                        },
                        {
                          "Date": "1977-10-09",
                          "Record": 1
                        },
                        {
                          "Date": "1977-10-11",
                          "Record": 1
                        },
                        {
                          "Date": "1977-10-21",
                          "Record": 1
                        },
                        {
                          "Date": "1977-10-25",
                          "Record": 1
                        },
                        {
                          "Date": "1977-10-26",
                          "Record": 1
                        },
                        {
                          "Date": "1977-10-28",
                          "Record": 2
                        },
                        {
                          "Date": "1977-11-24",
                          "Record": 1
                        },
                        {
                          "Date": "1977-11-29",
                          "Record": 1
                        },
                        {
                          "Date": "1977-12-04",
                          "Record": 1
                        },
                        {
                          "Date": "1977-12-08",
                          "Record": 2
                        },
                        {
                          "Date": "1977-12-10",
                          "Record": 1
                        },
                        {
                          "Date": "1977-12-11",
                          "Record": 1
                        },
                        {
                          "Date": "1977-12-12",
                          "Record": 1
                        },
                        {
                          "Date": "1977-12-13",
                          "Record": 1
                        },
                        {
                          "Date": "1977-12-14",
                          "Record": 1
                        },
                        {
                          "Date": "1977-12-16",
                          "Record": 1
                        },
                        {
                          "Date": "1977-12-20",
                          "Record": 1
                        },
                        {
                          "Date": "1977-12-21",
                          "Record": 1
                        },
                        {
                          "Date": "1977-12-23",
                          "Record": 1
                        },
                        {
                          "Date": "1977-12-27",
                          "Record": 2
                        },
                        {
                          "Date": "1978-01-06",
                          "Record": 1
                        },
                        {
                          "Date": "1978-01-07",
                          "Record": 1
                        },
                        {
                          "Date": "1978-01-10",
                          "Record": 2
                        },
                        {
                          "Date": "1978-01-13",
                          "Record": 1
                        },
                        {
                          "Date": "1978-01-17",
                          "Record": 1
                        },
                        {
                          "Date": "1978-01-24",
                          "Record": 2
                        },
                        {
                          "Date": "1978-01-26",
                          "Record": 1
                        },
                        {
                          "Date": "1978-01-31",
                          "Record": 1
                        },
                        {
                          "Date": "1978-02-04",
                          "Record": 1
                        },
                        {
                          "Date": "1978-02-08",
                          "Record": 1
                        },
                        {
                          "Date": "1978-02-09",
                          "Record": 1
                        },
                        {
                          "Date": "1978-02-14",
                          "Record": 1
                        },
                        {
                          "Date": "1978-02-16",
                          "Record": 1
                        },
                        {
                          "Date": "1978-02-17",
                          "Record": 1
                        },
                        {
                          "Date": "1978-02-22",
                          "Record": 1
                        },
                        {
                          "Date": "1978-02-25",
                          "Record": 1
                        },
                        {
                          "Date": "1978-02-28",
                          "Record": 1
                        },
                        {
                          "Date": "1978-03-02",
                          "Record": 1
                        },
                        {
                          "Date": "1978-03-04",
                          "Record": 1
                        },
                        {
                          "Date": "1978-03-10",
                          "Record": 1
                        },
                        {
                          "Date": "1978-03-15",
                          "Record": 1
                        },
                        {
                          "Date": "1978-03-16",
                          "Record": 1
                        },
                        {
                          "Date": "1978-03-17",
                          "Record": 1
                        },
                        {
                          "Date": "1978-03-25",
                          "Record": 1
                        },
                        {
                          "Date": "1978-03-28",
                          "Record": 1
                        },
                        {
                          "Date": "1978-03-30",
                          "Record": 1
                        },
                        {
                          "Date": "1978-03-31",
                          "Record": 2
                        },
                        {
                          "Date": "1978-04-06",
                          "Record": 1
                        },
                        {
                          "Date": "1978-04-07",
                          "Record": 1
                        },
                        {
                          "Date": "1978-04-15",
                          "Record": 1
                        },
                        {
                          "Date": "1978-04-20",
                          "Record": 1
                        },
                        {
                          "Date": "1978-05-05",
                          "Record": 1
                        },
                        {
                          "Date": "1978-05-12",
                          "Record": 2
                        },
                        {
                          "Date": "1978-05-13",
                          "Record": 1
                        },
                        {
                          "Date": "1978-05-16",
                          "Record": 1
                        },
                        {
                          "Date": "1978-05-17",
                          "Record": 1
                        },
                        {
                          "Date": "1978-05-19",
                          "Record": 1
                        },
                        {
                          "Date": "1978-05-20",
                          "Record": 1
                        },
                        {
                          "Date": "1978-05-23",
                          "Record": 2
                        },
                        {
                          "Date": "1978-06-02",
                          "Record": 1
                        },
                        {
                          "Date": "1978-06-07",
                          "Record": 1
                        },
                        {
                          "Date": "1978-06-10",
                          "Record": 2
                        },
                        {
                          "Date": "1978-06-12",
                          "Record": 1
                        },
                        {
                          "Date": "1978-06-14",
                          "Record": 1
                        },
                        {
                          "Date": "1978-06-21",
                          "Record": 1
                        },
                        {
                          "Date": "1978-06-27",
                          "Record": 1
                        },
                        {
                          "Date": "1978-06-28",
                          "Record": 2
                        },
                        {
                          "Date": "1978-06-29",
                          "Record": 1
                        },
                        {
                          "Date": "1978-07-14",
                          "Record": 1
                        },
                        {
                          "Date": "1978-07-27",
                          "Record": 1
                        },
                        {
                          "Date": "1978-08-05",
                          "Record": 2
                        },
                        {
                          "Date": "1978-08-08",
                          "Record": 1
                        },
                        {
                          "Date": "1978-08-22",
                          "Record": 1
                        },
                        {
                          "Date": "1978-08-29",
                          "Record": 1
                        },
                        {
                          "Date": "1978-09-06",
                          "Record": 1
                        },
                        {
                          "Date": "1978-09-09",
                          "Record": 1
                        },
                        {
                          "Date": "1978-09-16",
                          "Record": 1
                        },
                        {
                          "Date": "1978-09-19",
                          "Record": 1
                        },
                        {
                          "Date": "1978-10-03",
                          "Record": 1
                        },
                        {
                          "Date": "1978-10-04",
                          "Record": 1
                        },
                        {
                          "Date": "1978-10-06",
                          "Record": 1
                        },
                        {
                          "Date": "1978-10-07",
                          "Record": 1
                        },
                        {
                          "Date": "1978-10-10",
                          "Record": 1
                        },
                        {
                          "Date": "1978-10-13",
                          "Record": 2
                        },
                        {
                          "Date": "1978-10-17",
                          "Record": 1
                        },
                        {
                          "Date": "1978-10-24",
                          "Record": 1
                        },
                        {
                          "Date": "1978-10-26",
                          "Record": 1
                        },
                        {
                          "Date": "1978-10-30",
                          "Record": 1
                        },
                        {
                          "Date": "1978-11-01",
                          "Record": 1
                        },
                        {
                          "Date": "1978-11-13",
                          "Record": 1
                        },
                        {
                          "Date": "1978-11-15",
                          "Record": 1
                        },
                        {
                          "Date": "1978-11-16",
                          "Record": 1
                        },
                        {
                          "Date": "1978-11-21",
                          "Record": 1
                        },
                        {
                          "Date": "1978-11-28",
                          "Record": 1
                        },
                        {
                          "Date": "1978-12-05",
                          "Record": 1
                        },
                        {
                          "Date": "1978-12-07",
                          "Record": 1
                        },
                        {
                          "Date": "1978-12-08",
                          "Record": 1
                        },
                        {
                          "Date": "1978-12-11",
                          "Record": 1
                        },
                        {
                          "Date": "1978-12-14",
                          "Record": 2
                        },
                        {
                          "Date": "1978-12-15",
                          "Record": 1
                        },
                        {
                          "Date": "1978-12-19",
                          "Record": 1
                        },
                        {
                          "Date": "1978-12-20",
                          "Record": 1
                        },
                        {
                          "Date": "1978-12-22",
                          "Record": 1
                        },
                        {
                          "Date": "1978-12-23",
                          "Record": 1
                        },
                        {
                          "Date": "1978-12-26",
                          "Record": 2
                        },
                        {
                          "Date": "1978-12-28",
                          "Record": 1
                        },
                        {
                          "Date": "1979-01-16",
                          "Record": 1
                        },
                        {
                          "Date": "1979-01-18",
                          "Record": 1
                        },
                        {
                          "Date": "1979-01-25",
                          "Record": 1
                        },
                        {
                          "Date": "1979-02-06",
                          "Record": 1
                        },
                        {
                          "Date": "1979-02-08",
                          "Record": 1
                        },
                        {
                          "Date": "1979-02-12",
                          "Record": 1
                        },
                        {
                          "Date": "1979-02-13",
                          "Record": 1
                        },
                        {
                          "Date": "1979-02-24",
                          "Record": 1
                        },
                        {
                          "Date": "1979-02-27",
                          "Record": 1
                        },
                        {
                          "Date": "1979-03-01",
                          "Record": 1
                        },
                        {
                          "Date": "1979-03-15",
                          "Record": 1
                        },
                        {
                          "Date": "1979-03-16",
                          "Record": 1
                        },
                        {
                          "Date": "1979-03-21",
                          "Record": 1
                        },
                        {
                          "Date": "1979-04-07",
                          "Record": 1
                        },
                        {
                          "Date": "1979-04-11",
                          "Record": 1
                        },
                        {
                          "Date": "1979-04-12",
                          "Record": 1
                        },
                        {
                          "Date": "1979-04-14",
                          "Record": 1
                        },
                        {
                          "Date": "1979-04-18",
                          "Record": 1
                        },
                        {
                          "Date": "1979-04-25",
                          "Record": 1
                        },
                        {
                          "Date": "1979-05-04",
                          "Record": 1
                        },
                        {
                          "Date": "1979-05-28",
                          "Record": 1
                        },
                        {
                          "Date": "1979-05-31",
                          "Record": 1
                        },
                        {
                          "Date": "1979-06-05",
                          "Record": 1
                        },
                        {
                          "Date": "1979-06-07",
                          "Record": 1
                        },
                        {
                          "Date": "1979-06-10",
                          "Record": 1
                        },
                        {
                          "Date": "1979-06-27",
                          "Record": 2
                        },
                        {
                          "Date": "1979-06-28",
                          "Record": 1
                        },
                        {
                          "Date": "1979-07-06",
                          "Record": 1
                        },
                        {
                          "Date": "1979-07-11",
                          "Record": 1
                        },
                        {
                          "Date": "1979-07-20",
                          "Record": 1
                        },
                        {
                          "Date": "1979-07-27",
                          "Record": 1
                        },
                        {
                          "Date": "1979-07-31",
                          "Record": 1
                        },
                        {
                          "Date": "1979-08-10",
                          "Record": 1
                        },
                        {
                          "Date": "1979-08-28",
                          "Record": 2
                        },
                        {
                          "Date": "1979-09-20",
                          "Record": 1
                        },
                        {
                          "Date": "1979-09-25",
                          "Record": 1
                        },
                        {
                          "Date": "1979-10-01",
                          "Record": 1
                        },
                        {
                          "Date": "1979-10-11",
                          "Record": 1
                        },
                        {
                          "Date": "1979-10-16",
                          "Record": 1
                        },
                        {
                          "Date": "1979-10-20",
                          "Record": 1
                        },
                        {
                          "Date": "1979-10-26",
                          "Record": 1
                        },
                        {
                          "Date": "1979-10-31",
                          "Record": 1
                        },
                        {
                          "Date": "1979-11-01",
                          "Record": 1
                        },
                        {
                          "Date": "1979-11-21",
                          "Record": 1
                        },
                        {
                          "Date": "1979-11-27",
                          "Record": 1
                        },
                        {
                          "Date": "1979-12-05",
                          "Record": 1
                        },
                        {
                          "Date": "1979-12-24",
                          "Record": 1
                        },
                        {
                          "Date": "1980-01-11",
                          "Record": 1
                        },
                        {
                          "Date": "1980-01-14",
                          "Record": 1
                        },
                        {
                          "Date": "1980-01-18",
                          "Record": 1
                        },
                        {
                          "Date": "1980-01-23",
                          "Record": 1
                        },
                        {
                          "Date": "1980-01-25",
                          "Record": 1
                        },
                        {
                          "Date": "1980-01-30",
                          "Record": 1
                        },
                        {
                          "Date": "1980-02-07",
                          "Record": 1
                        },
                        {
                          "Date": "1980-02-09",
                          "Record": 1
                        },
                        {
                          "Date": "1980-02-11",
                          "Record": 1
                        },
                        {
                          "Date": "1980-02-12",
                          "Record": 1
                        },
                        {
                          "Date": "1980-02-17",
                          "Record": 1
                        },
                        {
                          "Date": "1980-02-22",
                          "Record": 1
                        },
                        {
                          "Date": "1980-03-03",
                          "Record": 1
                        },
                        {
                          "Date": "1980-03-14",
                          "Record": 1
                        },
                        {
                          "Date": "1980-03-17",
                          "Record": 1
                        },
                        {
                          "Date": "1980-03-27",
                          "Record": 1
                        },
                        {
                          "Date": "1980-04-03",
                          "Record": 1
                        },
                        {
                          "Date": "1980-04-12",
                          "Record": 1
                        },
                        {
                          "Date": "1980-04-18",
                          "Record": 2
                        },
                        {
                          "Date": "1980-04-26",
                          "Record": 1
                        },
                        {
                          "Date": "1980-04-29",
                          "Record": 1
                        },
                        {
                          "Date": "1980-05-14",
                          "Record": 1
                        },
                        {
                          "Date": "1980-05-20",
                          "Record": 1
                        },
                        {
                          "Date": "1980-05-23",
                          "Record": 1
                        },
                        {
                          "Date": "1980-05-29",
                          "Record": 1
                        },
                        {
                          "Date": "1980-06-04",
                          "Record": 1
                        },
                        {
                          "Date": "1980-06-06",
                          "Record": 1
                        },
                        {
                          "Date": "1980-06-14",
                          "Record": 1
                        },
                        {
                          "Date": "1980-06-18",
                          "Record": 2
                        },
                        {
                          "Date": "1980-06-21",
                          "Record": 1
                        },
                        {
                          "Date": "1980-07-01",
                          "Record": 1
                        },
                        {
                          "Date": "1980-07-02",
                          "Record": 1
                        },
                        {
                          "Date": "1980-07-09",
                          "Record": 1
                        },
                        {
                          "Date": "1980-07-18",
                          "Record": 2
                        },
                        {
                          "Date": "1980-07-31",
                          "Record": 1
                        },
                        {
                          "Date": "1980-08-15",
                          "Record": 1
                        },
                        {
                          "Date": "1980-09-09",
                          "Record": 1
                        },
                        {
                          "Date": "1980-10-14",
                          "Record": 1
                        },
                        {
                          "Date": "1980-10-24",
                          "Record": 1
                        },
                        {
                          "Date": "1980-10-31",
                          "Record": 1
                        },
                        {
                          "Date": "1980-11-04",
                          "Record": 1
                        },
                        {
                          "Date": "1980-11-16",
                          "Record": 1
                        },
                        {
                          "Date": "1980-11-21",
                          "Record": 1
                        },
                        {
                          "Date": "1980-11-27",
                          "Record": 1
                        },
                        {
                          "Date": "1980-12-05",
                          "Record": 2
                        },
                        {
                          "Date": "1980-12-06",
                          "Record": 1
                        },
                        {
                          "Date": "1980-12-09",
                          "Record": 1
                        },
                        {
                          "Date": "1980-12-10",
                          "Record": 1
                        },
                        {
                          "Date": "1980-12-13",
                          "Record": 1
                        },
                        {
                          "Date": "1980-12-23",
                          "Record": 1
                        },
                        {
                          "Date": "1980-12-25",
                          "Record": 1
                        },
                        {
                          "Date": "1981-01-09",
                          "Record": 1
                        },
                        {
                          "Date": "1981-01-16",
                          "Record": 1
                        },
                        {
                          "Date": "1981-01-21",
                          "Record": 1
                        },
                        {
                          "Date": "1981-01-23",
                          "Record": 1
                        },
                        {
                          "Date": "1981-01-27",
                          "Record": 1
                        },
                        {
                          "Date": "1981-01-30",
                          "Record": 1
                        },
                        {
                          "Date": "1981-02-02",
                          "Record": 1
                        },
                        {
                          "Date": "1981-02-06",
                          "Record": 1
                        },
                        {
                          "Date": "1981-02-11",
                          "Record": 1
                        },
                        {
                          "Date": "1981-02-12",
                          "Record": 1
                        },
                        {
                          "Date": "1981-02-19",
                          "Record": 1
                        },
                        {
                          "Date": "1981-02-21",
                          "Record": 2
                        },
                        {
                          "Date": "1981-02-28",
                          "Record": 1
                        },
                        {
                          "Date": "1981-03-05",
                          "Record": 1
                        },
                        {
                          "Date": "1981-03-06",
                          "Record": 1
                        },
                        {
                          "Date": "1981-03-14",
                          "Record": 1
                        },
                        {
                          "Date": "1981-03-16",
                          "Record": 1
                        },
                        {
                          "Date": "1981-03-20",
                          "Record": 1
                        },
                        {
                          "Date": "1981-03-21",
                          "Record": 1
                        },
                        {
                          "Date": "1981-03-24",
                          "Record": 1
                        },
                        {
                          "Date": "1981-03-31",
                          "Record": 1
                        },
                        {
                          "Date": "1981-04-09",
                          "Record": 1
                        },
                        {
                          "Date": "1981-04-12",
                          "Record": 1
                        },
                        {
                          "Date": "1981-04-24",
                          "Record": 1
                        },
                        {
                          "Date": "1981-05-07",
                          "Record": 1
                        },
                        {
                          "Date": "1981-05-14",
                          "Record": 1
                        },
                        {
                          "Date": "1981-05-19",
                          "Record": 1
                        },
                        {
                          "Date": "1981-05-23",
                          "Record": 1
                        },
                        {
                          "Date": "1981-05-31",
                          "Record": 1
                        },
                        {
                          "Date": "1981-06-04",
                          "Record": 1
                        },
                        {
                          "Date": "1981-06-09",
                          "Record": 1
                        },
                        {
                          "Date": "1981-06-19",
                          "Record": 2
                        },
                        {
                          "Date": "1981-06-23",
                          "Record": 1
                        },
                        {
                          "Date": "1981-06-24",
                          "Record": 1
                        },
                        {
                          "Date": "1981-07-10",
                          "Record": 1
                        },
                        {
                          "Date": "1981-08-04",
                          "Record": 2
                        },
                        {
                          "Date": "1981-08-06",
                          "Record": 2
                        },
                        {
                          "Date": "1981-08-07",
                          "Record": 1
                        },
                        {
                          "Date": "1981-08-10",
                          "Record": 1
                        },
                        {
                          "Date": "1981-08-12",
                          "Record": 1
                        },
                        {
                          "Date": "1981-08-24",
                          "Record": 2
                        },
                        {
                          "Date": "1981-08-28",
                          "Record": 1
                        },
                        {
                          "Date": "1981-09-03",
                          "Record": 1
                        },
                        {
                          "Date": "1981-09-11",
                          "Record": 1
                        },
                        {
                          "Date": "1981-09-14",
                          "Record": 1
                        },
                        {
                          "Date": "1981-09-18",
                          "Record": 1
                        },
                        {
                          "Date": "1981-09-19",
                          "Record": 1
                        },
                        {
                          "Date": "1981-09-21",
                          "Record": 1
                        },
                        {
                          "Date": "1981-09-23",
                          "Record": 1
                        },
                        {
                          "Date": "1981-09-28",
                          "Record": 1
                        },
                        {
                          "Date": "1981-09-30",
                          "Record": 1
                        },
                        {
                          "Date": "1981-10-13",
                          "Record": 1
                        },
                        {
                          "Date": "1981-10-17",
                          "Record": 1
                        },
                        {
                          "Date": "1981-10-31",
                          "Record": 2
                        },
                        {
                          "Date": "1981-11-12",
                          "Record": 1
                        },
                        {
                          "Date": "1981-11-17",
                          "Record": 1
                        },
                        {
                          "Date": "1981-11-20",
                          "Record": 1
                        },
                        {
                          "Date": "1981-11-28",
                          "Record": 1
                        },
                        {
                          "Date": "1981-12-03",
                          "Record": 1
                        },
                        {
                          "Date": "1981-12-04",
                          "Record": 1
                        },
                        {
                          "Date": "1981-12-15",
                          "Record": 1
                        },
                        {
                          "Date": "1981-12-17",
                          "Record": 1
                        },
                        {
                          "Date": "1981-12-19",
                          "Record": 1
                        },
                        {
                          "Date": "1981-12-20",
                          "Record": 1
                        },
                        {
                          "Date": "1981-12-23",
                          "Record": 1
                        },
                        {
                          "Date": "1982-01-07",
                          "Record": 1
                        },
                        {
                          "Date": "1982-01-14",
                          "Record": 1
                        },
                        {
                          "Date": "1982-01-21",
                          "Record": 1
                        },
                        {
                          "Date": "1982-01-29",
                          "Record": 1
                        },
                        {
                          "Date": "1982-02-11",
                          "Record": 1
                        },
                        {
                          "Date": "1982-02-17",
                          "Record": 1
                        },
                        {
                          "Date": "1982-02-19",
                          "Record": 1
                        },
                        {
                          "Date": "1982-02-26",
                          "Record": 1
                        },
                        {
                          "Date": "1982-03-03",
                          "Record": 1
                        },
                        {
                          "Date": "1982-03-04",
                          "Record": 1
                        },
                        {
                          "Date": "1982-03-05",
                          "Record": 1
                        },
                        {
                          "Date": "1982-03-06",
                          "Record": 1
                        },
                        {
                          "Date": "1982-03-22",
                          "Record": 1
                        },
                        {
                          "Date": "1982-03-24",
                          "Record": 2
                        },
                        {
                          "Date": "1982-03-25",
                          "Record": 1
                        },
                        {
                          "Date": "1982-03-31",
                          "Record": 2
                        },
                        {
                          "Date": "1982-04-07",
                          "Record": 1
                        },
                        {
                          "Date": "1982-04-08",
                          "Record": 1
                        },
                        {
                          "Date": "1982-04-21",
                          "Record": 1
                        },
                        {
                          "Date": "1982-04-28",
                          "Record": 1
                        },
                        {
                          "Date": "1982-04-29",
                          "Record": 1
                        },
                        {
                          "Date": "1982-05-05",
                          "Record": 1
                        },
                        {
                          "Date": "1982-05-06",
                          "Record": 1
                        },
                        {
                          "Date": "1982-05-11",
                          "Record": 1
                        },
                        {
                          "Date": "1982-05-14",
                          "Record": 1
                        },
                        {
                          "Date": "1982-05-20",
                          "Record": 1
                        },
                        {
                          "Date": "1982-05-28",
                          "Record": 1
                        },
                        {
                          "Date": "1982-06-01",
                          "Record": 2
                        },
                        {
                          "Date": "1982-06-03",
                          "Record": 1
                        },
                        {
                          "Date": "1982-06-06",
                          "Record": 1
                        },
                        {
                          "Date": "1982-06-10",
                          "Record": 1
                        },
                        {
                          "Date": "1982-06-18",
                          "Record": 2
                        },
                        {
                          "Date": "1982-06-25",
                          "Record": 1
                        },
                        {
                          "Date": "1982-06-27",
                          "Record": 1
                        },
                        {
                          "Date": "1982-06-29",
                          "Record": 1
                        },
                        {
                          "Date": "1982-07-07",
                          "Record": 1
                        },
                        {
                          "Date": "1982-07-21",
                          "Record": 2
                        },
                        {
                          "Date": "1982-07-29",
                          "Record": 1
                        },
                        {
                          "Date": "1982-08-02",
                          "Record": 1
                        },
                        {
                          "Date": "1982-08-05",
                          "Record": 1
                        },
                        {
                          "Date": "1982-08-27",
                          "Record": 1
                        },
                        {
                          "Date": "1982-08-30",
                          "Record": 2
                        },
                        {
                          "Date": "1982-09-03",
                          "Record": 1
                        },
                        {
                          "Date": "1982-09-04",
                          "Record": 1
                        },
                        {
                          "Date": "1982-09-09",
                          "Record": 2
                        },
                        {
                          "Date": "1982-09-16",
                          "Record": 1
                        },
                        {
                          "Date": "1982-09-22",
                          "Record": 1
                        },
                        {
                          "Date": "1982-09-24",
                          "Record": 1
                        },
                        {
                          "Date": "1982-09-28",
                          "Record": 1
                        },
                        {
                          "Date": "1982-10-19",
                          "Record": 1
                        },
                        {
                          "Date": "1982-10-21",
                          "Record": 1
                        },
                        {
                          "Date": "1982-10-30",
                          "Record": 1
                        },
                        {
                          "Date": "1982-11-11",
                          "Record": 2
                        },
                        {
                          "Date": "1982-11-17",
                          "Record": 1
                        },
                        {
                          "Date": "1982-11-24",
                          "Record": 1
                        },
                        {
                          "Date": "1982-12-08",
                          "Record": 1
                        },
                        {
                          "Date": "1982-12-14",
                          "Record": 1
                        },
                        {
                          "Date": "1982-12-21",
                          "Record": 1
                        },
                        {
                          "Date": "1982-12-29",
                          "Record": 1
                        },
                        {
                          "Date": "1983-01-12",
                          "Record": 1
                        },
                        {
                          "Date": "1983-01-19",
                          "Record": 1
                        },
                        {
                          "Date": "1983-01-20",
                          "Record": 1
                        },
                        {
                          "Date": "1983-01-25",
                          "Record": 1
                        },
                        {
                          "Date": "1983-02-04",
                          "Record": 1
                        },
                        {
                          "Date": "1983-02-09",
                          "Record": 1
                        },
                        {
                          "Date": "1983-02-16",
                          "Record": 1
                        },
                        {
                          "Date": "1983-02-20",
                          "Record": 1
                        },
                        {
                          "Date": "1983-03-11",
                          "Record": 1
                        },
                        {
                          "Date": "1983-03-15",
                          "Record": 1
                        },
                        {
                          "Date": "1983-03-16",
                          "Record": 1
                        },
                        {
                          "Date": "1983-03-24",
                          "Record": 1
                        },
                        {
                          "Date": "1983-03-28",
                          "Record": 1
                        },
                        {
                          "Date": "1983-03-30",
                          "Record": 1
                        },
                        {
                          "Date": "1983-04-02",
                          "Record": 1
                        },
                        {
                          "Date": "1983-04-04",
                          "Record": 1
                        },
                        {
                          "Date": "1983-04-06",
                          "Record": 1
                        },
                        {
                          "Date": "1983-04-12",
                          "Record": 1
                        },
                        {
                          "Date": "1983-04-17",
                          "Record": 2
                        },
                        {
                          "Date": "1983-04-19",
                          "Record": 1
                        },
                        {
                          "Date": "1983-04-23",
                          "Record": 1
                        },
                        {
                          "Date": "1983-04-25",
                          "Record": 1
                        },
                        {
                          "Date": "1983-05-04",
                          "Record": 1
                        },
                        {
                          "Date": "1983-05-06",
                          "Record": 1
                        },
                        {
                          "Date": "1983-05-07",
                          "Record": 1
                        },
                        {
                          "Date": "1983-05-19",
                          "Record": 2
                        },
                        {
                          "Date": "1983-05-24",
                          "Record": 1
                        },
                        {
                          "Date": "1983-05-26",
                          "Record": 1
                        },
                        {
                          "Date": "1983-06-09",
                          "Record": 1
                        },
                        {
                          "Date": "1983-06-16",
                          "Record": 1
                        },
                        {
                          "Date": "1983-06-18",
                          "Record": 1
                        },
                        {
                          "Date": "1983-06-20",
                          "Record": 1
                        },
                        {
                          "Date": "1983-06-22",
                          "Record": 1
                        },
                        {
                          "Date": "1983-07-01",
                          "Record": 1
                        },
                        {
                          "Date": "1983-07-06",
                          "Record": 1
                        },
                        {
                          "Date": "1983-07-08",
                          "Record": 1
                        },
                        {
                          "Date": "1983-07-14",
                          "Record": 1
                        },
                        {
                          "Date": "1983-07-19",
                          "Record": 1
                        },
                        {
                          "Date": "1983-07-24",
                          "Record": 1
                        },
                        {
                          "Date": "1983-07-31",
                          "Record": 1
                        },
                        {
                          "Date": "1983-08-03",
                          "Record": 1
                        },
                        {
                          "Date": "1983-08-05",
                          "Record": 1
                        },
                        {
                          "Date": "1983-08-19",
                          "Record": 1
                        },
                        {
                          "Date": "1983-08-30",
                          "Record": 1
                        },
                        {
                          "Date": "1983-08-31",
                          "Record": 1
                        },
                        {
                          "Date": "1983-09-05",
                          "Record": 1
                        },
                        {
                          "Date": "1983-09-28",
                          "Record": 1
                        },
                        {
                          "Date": "1983-09-30",
                          "Record": 1
                        },
                        {
                          "Date": "1983-10-05",
                          "Record": 1
                        },
                        {
                          "Date": "1983-10-12",
                          "Record": 1
                        },
                        {
                          "Date": "1983-10-19",
                          "Record": 1
                        },
                        {
                          "Date": "1983-10-26",
                          "Record": 1
                        },
                        {
                          "Date": "1983-10-28",
                          "Record": 1
                        },
                        {
                          "Date": "1983-10-29",
                          "Record": 1
                        },
                        {
                          "Date": "1983-11-11",
                          "Record": 1
                        },
                        {
                          "Date": "1983-11-18",
                          "Record": 1
                        },
                        {
                          "Date": "1983-11-23",
                          "Record": 1
                        },
                        {
                          "Date": "1983-11-24",
                          "Record": 1
                        },
                        {
                          "Date": "1983-11-28",
                          "Record": 1
                        },
                        {
                          "Date": "1983-12-08",
                          "Record": 1
                        },
                        {
                          "Date": "1983-12-15",
                          "Record": 1
                        },
                        {
                          "Date": "1983-12-21",
                          "Record": 1
                        },
                        {
                          "Date": "1983-12-27",
                          "Record": 1
                        },
                        {
                          "Date": "1983-12-28",
                          "Record": 1
                        },
                        {
                          "Date": "1984-01-05",
                          "Record": 1
                        },
                        {
                          "Date": "1984-01-11",
                          "Record": 1
                        },
                        {
                          "Date": "1984-01-23",
                          "Record": 1
                        },
                        {
                          "Date": "1984-01-26",
                          "Record": 1
                        },
                        {
                          "Date": "1984-01-29",
                          "Record": 1
                        },
                        {
                          "Date": "1984-01-31",
                          "Record": 1
                        },
                        {
                          "Date": "1984-02-02",
                          "Record": 1
                        },
                        {
                          "Date": "1984-02-03",
                          "Record": 1
                        },
                        {
                          "Date": "1984-02-05",
                          "Record": 1
                        },
                        {
                          "Date": "1984-02-08",
                          "Record": 1
                        },
                        {
                          "Date": "1984-02-14",
                          "Record": 1
                        },
                        {
                          "Date": "1984-02-21",
                          "Record": 1
                        },
                        {
                          "Date": "1984-03-05",
                          "Record": 1
                        },
                        {
                          "Date": "1984-03-06",
                          "Record": 1
                        },
                        {
                          "Date": "1984-03-15",
                          "Record": 1
                        },
                        {
                          "Date": "1984-03-16",
                          "Record": 1
                        },
                        {
                          "Date": "1984-04-04",
                          "Record": 1
                        },
                        {
                          "Date": "1984-04-06",
                          "Record": 1
                        },
                        {
                          "Date": "1984-04-08",
                          "Record": 1
                        },
                        {
                          "Date": "1984-04-14",
                          "Record": 1
                        },
                        {
                          "Date": "1984-04-17",
                          "Record": 1
                        },
                        {
                          "Date": "1984-05-04",
                          "Record": 1
                        },
                        {
                          "Date": "1984-05-11",
                          "Record": 1
                        },
                        {
                          "Date": "1984-05-17",
                          "Record": 1
                        },
                        {
                          "Date": "1984-05-23",
                          "Record": 1
                        },
                        {
                          "Date": "1984-05-28",
                          "Record": 1
                        },
                        {
                          "Date": "1984-05-30",
                          "Record": 1
                        },
                        {
                          "Date": "1984-06-06",
                          "Record": 2
                        },
                        {
                          "Date": "1984-06-08",
                          "Record": 1
                        },
                        {
                          "Date": "1984-06-09",
                          "Record": 1
                        },
                        {
                          "Date": "1984-06-13",
                          "Record": 1
                        },
                        {
                          "Date": "1984-06-21",
                          "Record": 1
                        },
                        {
                          "Date": "1984-06-25",
                          "Record": 1
                        },
                        {
                          "Date": "1984-06-27",
                          "Record": 1
                        },
                        {
                          "Date": "1984-06-28",
                          "Record": 1
                        },
                        {
                          "Date": "1984-07-03",
                          "Record": 1
                        },
                        {
                          "Date": "1984-07-05",
                          "Record": 1
                        },
                        {
                          "Date": "1984-08-02",
                          "Record": 2
                        },
                        {
                          "Date": "1984-08-04",
                          "Record": 1
                        },
                        {
                          "Date": "1984-08-07",
                          "Record": 1
                        },
                        {
                          "Date": "1984-08-08",
                          "Record": 1
                        },
                        {
                          "Date": "1984-08-10",
                          "Record": 1
                        },
                        {
                          "Date": "1984-08-24",
                          "Record": 1
                        },
                        {
                          "Date": "1984-08-28",
                          "Record": 1
                        },
                        {
                          "Date": "1984-08-29",
                          "Record": 1
                        },
                        {
                          "Date": "1984-08-30",
                          "Record": 1
                        },
                        {
                          "Date": "1984-09-07",
                          "Record": 1
                        },
                        {
                          "Date": "1984-09-08",
                          "Record": 1
                        },
                        {
                          "Date": "1984-09-12",
                          "Record": 1
                        },
                        {
                          "Date": "1984-09-13",
                          "Record": 1
                        },
                        {
                          "Date": "1984-09-27",
                          "Record": 1
                        },
                        {
                          "Date": "1984-09-28",
                          "Record": 1
                        },
                        {
                          "Date": "1984-10-04",
                          "Record": 1
                        },
                        {
                          "Date": "1984-10-05",
                          "Record": 1
                        },
                        {
                          "Date": "1984-10-11",
                          "Record": 1
                        },
                        {
                          "Date": "1984-10-18",
                          "Record": 1
                        },
                        {
                          "Date": "1984-10-31",
                          "Record": 1
                        },
                        {
                          "Date": "1984-11-08",
                          "Record": 1
                        },
                        {
                          "Date": "1984-11-10",
                          "Record": 1
                        },
                        {
                          "Date": "1984-11-15",
                          "Record": 1
                        },
                        {
                          "Date": "1984-11-27",
                          "Record": 1
                        },
                        {
                          "Date": "1984-12-04",
                          "Record": 1
                        },
                        {
                          "Date": "1984-12-12",
                          "Record": 1
                        },
                        {
                          "Date": "1984-12-14",
                          "Record": 1
                        },
                        {
                          "Date": "1984-12-19",
                          "Record": 1
                        },
                        {
                          "Date": "1984-12-20",
                          "Record": 1
                        },
                        {
                          "Date": "1984-12-22",
                          "Record": 1
                        },
                        {
                          "Date": "1985-01-15",
                          "Record": 2
                        },
                        {
                          "Date": "1985-01-16",
                          "Record": 1
                        },
                        {
                          "Date": "1985-01-23",
                          "Record": 1
                        },
                        {
                          "Date": "1985-01-24",
                          "Record": 2
                        },
                        {
                          "Date": "1985-02-01",
                          "Record": 1
                        },
                        {
                          "Date": "1985-02-06",
                          "Record": 1
                        },
                        {
                          "Date": "1985-02-07",
                          "Record": 1
                        },
                        {
                          "Date": "1985-02-08",
                          "Record": 2
                        },
                        {
                          "Date": "1985-02-27",
                          "Record": 1
                        },
                        {
                          "Date": "1985-03-05",
                          "Record": 1
                        },
                        {
                          "Date": "1985-03-13",
                          "Record": 1
                        },
                        {
                          "Date": "1985-03-14",
                          "Record": 1
                        },
                        {
                          "Date": "1985-03-21",
                          "Record": 1
                        },
                        {
                          "Date": "1985-03-22",
                          "Record": 1
                        },
                        {
                          "Date": "1985-04-12",
                          "Record": 1
                        },
                        {
                          "Date": "1985-04-13",
                          "Record": 1
                        },
                        {
                          "Date": "1985-04-17",
                          "Record": 1
                        },
                        {
                          "Date": "1985-04-18",
                          "Record": 1
                        },
                        {
                          "Date": "1985-04-26",
                          "Record": 1
                        },
                        {
                          "Date": "1985-05-06",
                          "Record": 1
                        },
                        {
                          "Date": "1985-05-08",
                          "Record": 1
                        },
                        {
                          "Date": "1985-05-29",
                          "Record": 1
                        },
                        {
                          "Date": "1985-05-30",
                          "Record": 1
                        },
                        {
                          "Date": "1985-06-11",
                          "Record": 1
                        },
                        {
                          "Date": "1985-06-12",
                          "Record": 1
                        },
                        {
                          "Date": "1985-06-14",
                          "Record": 1
                        },
                        {
                          "Date": "1985-06-17",
                          "Record": 1
                        },
                        {
                          "Date": "1985-06-18",
                          "Record": 1
                        },
                        {
                          "Date": "1985-06-19",
                          "Record": 1
                        },
                        {
                          "Date": "1985-06-21",
                          "Record": 1
                        },
                        {
                          "Date": "1985-06-30",
                          "Record": 1
                        },
                        {
                          "Date": "1985-07-02",
                          "Record": 1
                        },
                        {
                          "Date": "1985-07-08",
                          "Record": 1
                        },
                        {
                          "Date": "1985-07-17",
                          "Record": 1
                        },
                        {
                          "Date": "1985-07-25",
                          "Record": 1
                        },
                        {
                          "Date": "1985-08-01",
                          "Record": 1
                        },
                        {
                          "Date": "1985-08-08",
                          "Record": 1
                        },
                        {
                          "Date": "1985-08-18",
                          "Record": 1
                        },
                        {
                          "Date": "1985-08-22",
                          "Record": 1
                        },
                        {
                          "Date": "1985-08-23",
                          "Record": 1
                        },
                        {
                          "Date": "1985-08-27",
                          "Record": 1
                        },
                        {
                          "Date": "1985-08-28",
                          "Record": 1
                        },
                        {
                          "Date": "1985-09-04",
                          "Record": 1
                        },
                        {
                          "Date": "1985-09-12",
                          "Record": 1
                        },
                        {
                          "Date": "1985-09-19",
                          "Record": 1
                        },
                        {
                          "Date": "1985-09-24",
                          "Record": 1
                        },
                        {
                          "Date": "1985-09-28",
                          "Record": 1
                        },
                        {
                          "Date": "1985-09-30",
                          "Record": 1
                        },
                        {
                          "Date": "1985-10-02",
                          "Record": 1
                        },
                        {
                          "Date": "1985-10-03",
                          "Record": 3
                        },
                        {
                          "Date": "1985-10-09",
                          "Record": 2
                        },
                        {
                          "Date": "1985-10-21",
                          "Record": 1
                        },
                        {
                          "Date": "1985-10-22",
                          "Record": 2
                        },
                        {
                          "Date": "1985-10-23",
                          "Record": 2
                        },
                        {
                          "Date": "1985-10-24",
                          "Record": 1
                        },
                        {
                          "Date": "1985-10-28",
                          "Record": 1
                        },
                        {
                          "Date": "1985-11-06",
                          "Record": 1
                        },
                        {
                          "Date": "1985-11-09",
                          "Record": 1
                        },
                        {
                          "Date": "1985-11-22",
                          "Record": 1
                        },
                        {
                          "Date": "1985-11-27",
                          "Record": 1
                        },
                        {
                          "Date": "1985-11-28",
                          "Record": 1
                        },
                        {
                          "Date": "1985-12-12",
                          "Record": 1
                        },
                        {
                          "Date": "1985-12-19",
                          "Record": 1
                        },
                        {
                          "Date": "1985-12-24",
                          "Record": 1
                        },
                        {
                          "Date": "1985-12-26",
                          "Record": 1
                        },
                        {
                          "Date": "1985-12-28",
                          "Record": 1
                        },
                        {
                          "Date": "1986-01-09",
                          "Record": 1
                        },
                        {
                          "Date": "1986-01-12",
                          "Record": 1
                        },
                        {
                          "Date": "1986-01-16",
                          "Record": 1
                        },
                        {
                          "Date": "1986-01-17",
                          "Record": 1
                        },
                        {
                          "Date": "1986-01-23",
                          "Record": 1
                        },
                        {
                          "Date": "1986-01-28",
                          "Record": 1
                        },
                        {
                          "Date": "1986-02-01",
                          "Record": 2
                        },
                        {
                          "Date": "1986-02-09",
                          "Record": 1
                        },
                        {
                          "Date": "1986-02-11",
                          "Record": 1
                        },
                        {
                          "Date": "1986-02-12",
                          "Record": 1
                        },
                        {
                          "Date": "1986-02-19",
                          "Record": 1
                        },
                        {
                          "Date": "1986-02-22",
                          "Record": 1
                        },
                        {
                          "Date": "1986-02-27",
                          "Record": 1
                        },
                        {
                          "Date": "1986-03-21",
                          "Record": 1
                        },
                        {
                          "Date": "1986-03-25",
                          "Record": 1
                        },
                        {
                          "Date": "1986-03-28",
                          "Record": 1
                        },
                        {
                          "Date": "1986-04-17",
                          "Record": 1
                        },
                        {
                          "Date": "1986-04-18",
                          "Record": 2
                        },
                        {
                          "Date": "1986-05-15",
                          "Record": 1
                        },
                        {
                          "Date": "1986-05-23",
                          "Record": 1
                        },
                        {
                          "Date": "1986-05-27",
                          "Record": 1
                        },
                        {
                          "Date": "1986-05-31",
                          "Record": 1
                        },
                        {
                          "Date": "1986-06-06",
                          "Record": 1
                        },
                        {
                          "Date": "1986-06-12",
                          "Record": 1
                        },
                        {
                          "Date": "1986-06-18",
                          "Record": 1
                        },
                        {
                          "Date": "1986-06-19",
                          "Record": 1
                        },
                        {
                          "Date": "1986-07-05",
                          "Record": 1
                        },
                        {
                          "Date": "1986-07-16",
                          "Record": 1
                        },
                        {
                          "Date": "1986-07-28",
                          "Record": 1
                        },
                        {
                          "Date": "1986-07-30",
                          "Record": 2
                        },
                        {
                          "Date": "1986-08-04",
                          "Record": 1
                        },
                        {
                          "Date": "1986-08-12",
                          "Record": 1
                        },
                        {
                          "Date": "1986-08-20",
                          "Record": 1
                        },
                        {
                          "Date": "1986-08-28",
                          "Record": 1
                        },
                        {
                          "Date": "1986-09-03",
                          "Record": 1
                        },
                        {
                          "Date": "1986-09-05",
                          "Record": 1
                        },
                        {
                          "Date": "1986-09-10",
                          "Record": 1
                        },
                        {
                          "Date": "1986-09-17",
                          "Record": 1
                        },
                        {
                          "Date": "1986-09-30",
                          "Record": 1
                        },
                        {
                          "Date": "1986-10-03",
                          "Record": 1
                        },
                        {
                          "Date": "1986-10-06",
                          "Record": 1
                        },
                        {
                          "Date": "1986-10-15",
                          "Record": 2
                        },
                        {
                          "Date": "1986-10-20",
                          "Record": 1
                        },
                        {
                          "Date": "1986-10-22",
                          "Record": 1
                        },
                        {
                          "Date": "1986-10-27",
                          "Record": 1
                        },
                        {
                          "Date": "1986-11-13",
                          "Record": 1
                        },
                        {
                          "Date": "1986-11-15",
                          "Record": 1
                        },
                        {
                          "Date": "1986-11-20",
                          "Record": 1
                        },
                        {
                          "Date": "1986-11-21",
                          "Record": 1
                        },
                        {
                          "Date": "1986-11-24",
                          "Record": 1
                        },
                        {
                          "Date": "1986-12-02",
                          "Record": 1
                        },
                        {
                          "Date": "1986-12-05",
                          "Record": 1
                        },
                        {
                          "Date": "1986-12-10",
                          "Record": 1
                        },
                        {
                          "Date": "1986-12-12",
                          "Record": 1
                        },
                        {
                          "Date": "1986-12-17",
                          "Record": 1
                        },
                        {
                          "Date": "1986-12-18",
                          "Record": 1
                        },
                        {
                          "Date": "1986-12-25",
                          "Record": 1
                        },
                        {
                          "Date": "1986-12-26",
                          "Record": 1
                        },
                        {
                          "Date": "1987-01-05",
                          "Record": 1
                        },
                        {
                          "Date": "1987-01-14",
                          "Record": 1
                        },
                        {
                          "Date": "1987-01-21",
                          "Record": 1
                        },
                        {
                          "Date": "1987-01-22",
                          "Record": 2
                        },
                        {
                          "Date": "1987-01-29",
                          "Record": 1
                        },
                        {
                          "Date": "1987-02-01",
                          "Record": 1
                        },
                        {
                          "Date": "1987-02-05",
                          "Record": 1
                        },
                        {
                          "Date": "1987-02-12",
                          "Record": 1
                        },
                        {
                          "Date": "1987-02-14",
                          "Record": 1
                        },
                        {
                          "Date": "1987-02-18",
                          "Record": 1
                        },
                        {
                          "Date": "1987-02-19",
                          "Record": 1
                        },
                        {
                          "Date": "1987-02-20",
                          "Record": 1
                        },
                        {
                          "Date": "1987-03-03",
                          "Record": 1
                        },
                        {
                          "Date": "1987-03-13",
                          "Record": 1
                        },
                        {
                          "Date": "1987-03-18",
                          "Record": 1
                        },
                        {
                          "Date": "1987-03-24",
                          "Record": 1
                        },
                        {
                          "Date": "1987-03-26",
                          "Record": 1
                        },
                        {
                          "Date": "1987-04-08",
                          "Record": 1
                        },
                        {
                          "Date": "1987-04-26",
                          "Record": 1
                        },
                        {
                          "Date": "1987-05-13",
                          "Record": 1
                        },
                        {
                          "Date": "1987-05-15",
                          "Record": 2
                        },
                        {
                          "Date": "1987-06-04",
                          "Record": 1
                        },
                        {
                          "Date": "1987-06-09",
                          "Record": 1
                        },
                        {
                          "Date": "1987-06-12",
                          "Record": 1
                        },
                        {
                          "Date": "1987-06-16",
                          "Record": 1
                        },
                        {
                          "Date": "1987-06-18",
                          "Record": 1
                        },
                        {
                          "Date": "1987-06-20",
                          "Record": 1
                        },
                        {
                          "Date": "1987-06-23",
                          "Record": 1
                        },
                        {
                          "Date": "1987-07-01",
                          "Record": 1
                        },
                        {
                          "Date": "1987-07-06",
                          "Record": 1
                        },
                        {
                          "Date": "1987-07-10",
                          "Record": 1
                        },
                        {
                          "Date": "1987-07-14",
                          "Record": 1
                        },
                        {
                          "Date": "1987-07-16",
                          "Record": 1
                        },
                        {
                          "Date": "1987-08-01",
                          "Record": 1
                        },
                        {
                          "Date": "1987-08-05",
                          "Record": 1
                        },
                        {
                          "Date": "1987-08-18",
                          "Record": 1
                        },
                        {
                          "Date": "1987-08-27",
                          "Record": 2
                        },
                        {
                          "Date": "1987-08-28",
                          "Record": 1
                        },
                        {
                          "Date": "1987-09-07",
                          "Record": 1
                        },
                        {
                          "Date": "1987-09-09",
                          "Record": 1
                        },
                        {
                          "Date": "1987-09-16",
                          "Record": 1
                        },
                        {
                          "Date": "1987-10-10",
                          "Record": 1
                        },
                        {
                          "Date": "1987-10-14",
                          "Record": 1
                        },
                        {
                          "Date": "1987-10-20",
                          "Record": 1
                        },
                        {
                          "Date": "1987-10-26",
                          "Record": 1
                        },
                        {
                          "Date": "1987-11-21",
                          "Record": 1
                        },
                        {
                          "Date": "1987-11-29",
                          "Record": 1
                        },
                        {
                          "Date": "1987-12-01",
                          "Record": 1
                        },
                        {
                          "Date": "1987-12-12",
                          "Record": 1
                        },
                        {
                          "Date": "1987-12-15",
                          "Record": 1
                        },
                        {
                          "Date": "1987-12-20",
                          "Record": 1
                        },
                        {
                          "Date": "1987-12-21",
                          "Record": 1
                        },
                        {
                          "Date": "1987-12-23",
                          "Record": 1
                        },
                        {
                          "Date": "1988-01-15",
                          "Record": 1
                        },
                        {
                          "Date": "1988-01-30",
                          "Record": 1
                        },
                        {
                          "Date": "1988-02-03",
                          "Record": 1
                        },
                        {
                          "Date": "1988-02-19",
                          "Record": 1
                        },
                        {
                          "Date": "1988-02-26",
                          "Record": 1
                        },
                        {
                          "Date": "1988-03-07",
                          "Record": 1
                        },
                        {
                          "Date": "1988-03-11",
                          "Record": 3
                        },
                        {
                          "Date": "1988-03-14",
                          "Record": 1
                        },
                        {
                          "Date": "1988-03-15",
                          "Record": 1
                        },
                        {
                          "Date": "1988-03-17",
                          "Record": 2
                        },
                        {
                          "Date": "1988-03-22",
                          "Record": 1
                        },
                        {
                          "Date": "1988-03-25",
                          "Record": 1
                        },
                        {
                          "Date": "1988-04-05",
                          "Record": 1
                        },
                        {
                          "Date": "1988-04-20",
                          "Record": 1
                        },
                        {
                          "Date": "1988-05-15",
                          "Record": 1
                        },
                        {
                          "Date": "1988-05-17",
                          "Record": 1
                        },
                        {
                          "Date": "1988-05-26",
                          "Record": 1
                        },
                        {
                          "Date": "1988-05-28",
                          "Record": 1
                        },
                        {
                          "Date": "1988-05-30",
                          "Record": 1
                        },
                        {
                          "Date": "1988-06-01",
                          "Record": 1
                        },
                        {
                          "Date": "1988-06-14",
                          "Record": 1
                        },
                        {
                          "Date": "1988-06-15",
                          "Record": 1
                        },
                        {
                          "Date": "1988-06-21",
                          "Record": 1
                        },
                        {
                          "Date": "1988-06-22",
                          "Record": 1
                        },
                        {
                          "Date": "1988-07-05",
                          "Record": 1
                        },
                        {
                          "Date": "1988-07-14",
                          "Record": 1
                        },
                        {
                          "Date": "1988-07-18",
                          "Record": 1
                        },
                        {
                          "Date": "1988-07-21",
                          "Record": 1
                        },
                        {
                          "Date": "1988-07-26",
                          "Record": 1
                        },
                        {
                          "Date": "1988-07-28",
                          "Record": 1
                        },
                        {
                          "Date": "1988-07-31",
                          "Record": 1
                        },
                        {
                          "Date": "1988-08-05",
                          "Record": 1
                        },
                        {
                          "Date": "1988-08-30",
                          "Record": 1
                        },
                        {
                          "Date": "1988-09-02",
                          "Record": 1
                        },
                        {
                          "Date": "1988-09-05",
                          "Record": 1
                        },
                        {
                          "Date": "1988-09-06",
                          "Record": 1
                        },
                        {
                          "Date": "1988-09-08",
                          "Record": 1
                        },
                        {
                          "Date": "1988-09-16",
                          "Record": 1
                        },
                        {
                          "Date": "1988-09-19",
                          "Record": 1
                        },
                        {
                          "Date": "1988-09-24",
                          "Record": 1
                        },
                        {
                          "Date": "1988-09-29",
                          "Record": 2
                        },
                        {
                          "Date": "1988-10-03",
                          "Record": 1
                        },
                        {
                          "Date": "1988-10-11",
                          "Record": 1
                        },
                        {
                          "Date": "1988-10-25",
                          "Record": 1
                        },
                        {
                          "Date": "1988-10-28",
                          "Record": 1
                        },
                        {
                          "Date": "1988-11-06",
                          "Record": 1
                        },
                        {
                          "Date": "1988-11-15",
                          "Record": 1
                        },
                        {
                          "Date": "1988-11-18",
                          "Record": 1
                        },
                        {
                          "Date": "1988-11-23",
                          "Record": 1
                        },
                        {
                          "Date": "1988-12-02",
                          "Record": 1
                        },
                        {
                          "Date": "1988-12-11",
                          "Record": 1
                        },
                        {
                          "Date": "1988-12-22",
                          "Record": 2
                        },
                        {
                          "Date": "1988-12-23",
                          "Record": 1
                        },
                        {
                          "Date": "1988-12-28",
                          "Record": 1
                        },
                        {
                          "Date": "1989-01-27",
                          "Record": 1
                        },
                        {
                          "Date": "1989-02-10",
                          "Record": 1
                        },
                        {
                          "Date": "1989-02-14",
                          "Record": 3
                        },
                        {
                          "Date": "1989-02-15",
                          "Record": 1
                        },
                        {
                          "Date": "1989-02-21",
                          "Record": 1
                        },
                        {
                          "Date": "1989-02-22",
                          "Record": 1
                        },
                        {
                          "Date": "1989-02-26",
                          "Record": 1
                        },
                        {
                          "Date": "1989-02-28",
                          "Record": 1
                        },
                        {
                          "Date": "1989-03-06",
                          "Record": 1
                        },
                        {
                          "Date": "1989-03-13",
                          "Record": 1
                        },
                        {
                          "Date": "1989-03-24",
                          "Record": 2
                        },
                        {
                          "Date": "1989-04-02",
                          "Record": 1
                        },
                        {
                          "Date": "1989-04-04",
                          "Record": 1
                        },
                        {
                          "Date": "1989-05-04",
                          "Record": 1
                        },
                        {
                          "Date": "1989-05-10",
                          "Record": 1
                        },
                        {
                          "Date": "1989-05-22",
                          "Record": 1
                        },
                        {
                          "Date": "1989-06-05",
                          "Record": 1
                        },
                        {
                          "Date": "1989-06-07",
                          "Record": 1
                        },
                        {
                          "Date": "1989-06-08",
                          "Record": 1
                        },
                        {
                          "Date": "1989-06-09",
                          "Record": 1
                        },
                        {
                          "Date": "1989-06-10",
                          "Record": 1
                        },
                        {
                          "Date": "1989-06-14",
                          "Record": 2
                        },
                        {
                          "Date": "1989-07-04",
                          "Record": 1
                        },
                        {
                          "Date": "1989-07-12",
                          "Record": 1
                        },
                        {
                          "Date": "1989-07-24",
                          "Record": 1
                        },
                        {
                          "Date": "1989-07-25",
                          "Record": 1
                        },
                        {
                          "Date": "1989-08-08",
                          "Record": 2
                        },
                        {
                          "Date": "1989-08-18",
                          "Record": 1
                        },
                        {
                          "Date": "1989-08-27",
                          "Record": 1
                        },
                        {
                          "Date": "1989-08-28",
                          "Record": 1
                        },
                        {
                          "Date": "1989-09-04",
                          "Record": 1
                        },
                        {
                          "Date": "1989-09-05",
                          "Record": 1
                        },
                        {
                          "Date": "1989-09-06",
                          "Record": 1
                        },
                        {
                          "Date": "1989-09-14",
                          "Record": 1
                        },
                        {
                          "Date": "1989-09-25",
                          "Record": 1
                        },
                        {
                          "Date": "1989-09-27",
                          "Record": 2
                        },
                        {
                          "Date": "1989-09-28",
                          "Record": 1
                        },
                        {
                          "Date": "1989-10-18",
                          "Record": 1
                        },
                        {
                          "Date": "1989-10-24",
                          "Record": 1
                        },
                        {
                          "Date": "1989-10-27",
                          "Record": 1
                        },
                        {
                          "Date": "1989-11-23",
                          "Record": 2
                        },
                        {
                          "Date": "1989-11-24",
                          "Record": 1
                        },
                        {
                          "Date": "1989-11-28",
                          "Record": 1
                        },
                        {
                          "Date": "1989-12-11",
                          "Record": 1
                        },
                        {
                          "Date": "1989-12-27",
                          "Record": 1
                        },
                        {
                          "Date": "1990-01-01",
                          "Record": 1
                        },
                        {
                          "Date": "1990-01-09",
                          "Record": 1
                        },
                        {
                          "Date": "1990-01-18",
                          "Record": 1
                        },
                        {
                          "Date": "1990-01-22",
                          "Record": 1
                        },
                        {
                          "Date": "1990-01-23",
                          "Record": 1
                        },
                        {
                          "Date": "1990-01-24",
                          "Record": 2
                        },
                        {
                          "Date": "1990-01-30",
                          "Record": 2
                        },
                        {
                          "Date": "1990-02-04",
                          "Record": 1
                        },
                        {
                          "Date": "1990-02-06",
                          "Record": 1
                        },
                        {
                          "Date": "1990-02-07",
                          "Record": 2
                        },
                        {
                          "Date": "1990-02-14",
                          "Record": 1
                        },
                        {
                          "Date": "1990-02-22",
                          "Record": 1
                        },
                        {
                          "Date": "1990-02-27",
                          "Record": 1
                        },
                        {
                          "Date": "1990-02-28",
                          "Record": 2
                        },
                        {
                          "Date": "1990-03-14",
                          "Record": 2
                        },
                        {
                          "Date": "1990-03-20",
                          "Record": 1
                        },
                        {
                          "Date": "1990-03-26",
                          "Record": 1
                        },
                        {
                          "Date": "1990-03-27",
                          "Record": 1
                        },
                        {
                          "Date": "1990-04-03",
                          "Record": 1
                        },
                        {
                          "Date": "1990-04-05",
                          "Record": 1
                        },
                        {
                          "Date": "1990-04-06",
                          "Record": 1
                        },
                        {
                          "Date": "1990-04-07",
                          "Record": 1
                        },
                        {
                          "Date": "1990-04-11",
                          "Record": 1
                        },
                        {
                          "Date": "1990-04-13",
                          "Record": 1
                        },
                        {
                          "Date": "1990-04-20",
                          "Record": 1
                        },
                        {
                          "Date": "1990-04-24",
                          "Record": 1
                        },
                        {
                          "Date": "1990-04-25",
                          "Record": 1
                        },
                        {
                          "Date": "1990-04-26",
                          "Record": 1
                        },
                        {
                          "Date": "1990-04-28",
                          "Record": 1
                        },
                        {
                          "Date": "1990-05-22",
                          "Record": 1
                        },
                        {
                          "Date": "1990-06-01",
                          "Record": 1
                        },
                        {
                          "Date": "1990-06-08",
                          "Record": 1
                        },
                        {
                          "Date": "1990-06-12",
                          "Record": 1
                        },
                        {
                          "Date": "1990-06-13",
                          "Record": 1
                        },
                        {
                          "Date": "1990-06-21",
                          "Record": 1
                        },
                        {
                          "Date": "1990-06-23",
                          "Record": 1
                        },
                        {
                          "Date": "1990-06-25",
                          "Record": 1
                        },
                        {
                          "Date": "1990-07-16",
                          "Record": 1
                        },
                        {
                          "Date": "1990-07-24",
                          "Record": 1
                        },
                        {
                          "Date": "1990-07-25",
                          "Record": 2
                        },
                        {
                          "Date": "1990-07-30",
                          "Record": 1
                        },
                        {
                          "Date": "1990-08-08",
                          "Record": 1
                        },
                        {
                          "Date": "1990-08-10",
                          "Record": 1
                        },
                        {
                          "Date": "1990-08-23",
                          "Record": 1
                        },
                        {
                          "Date": "1990-08-28",
                          "Record": 4
                        },
                        {
                          "Date": "1990-08-30",
                          "Record": 1
                        },
                        {
                          "Date": "1990-09-03",
                          "Record": 1
                        },
                        {
                          "Date": "1990-09-14",
                          "Record": 1
                        },
                        {
                          "Date": "1990-09-20",
                          "Record": 1
                        },
                        {
                          "Date": "1990-09-28",
                          "Record": 1
                        },
                        {
                          "Date": "1990-10-02",
                          "Record": 1
                        },
                        {
                          "Date": "1990-10-04",
                          "Record": 1
                        },
                        {
                          "Date": "1990-10-05",
                          "Record": 1
                        },
                        {
                          "Date": "1990-10-06",
                          "Record": 1
                        },
                        {
                          "Date": "1990-10-12",
                          "Record": 1
                        },
                        {
                          "Date": "1990-10-18",
                          "Record": 1
                        },
                        {
                          "Date": "1990-10-30",
                          "Record": 1
                        },
                        {
                          "Date": "1990-11-13",
                          "Record": 1
                        },
                        {
                          "Date": "1990-11-14",
                          "Record": 1
                        },
                        {
                          "Date": "1990-11-15",
                          "Record": 1
                        },
                        {
                          "Date": "1990-11-20",
                          "Record": 3
                        },
                        {
                          "Date": "1990-11-23",
                          "Record": 1
                        },
                        {
                          "Date": "1990-11-26",
                          "Record": 1
                        },
                        {
                          "Date": "1990-11-28",
                          "Record": 1
                        },
                        {
                          "Date": "1990-12-01",
                          "Record": 1
                        },
                        {
                          "Date": "1990-12-02",
                          "Record": 1
                        },
                        {
                          "Date": "1990-12-04",
                          "Record": 1
                        },
                        {
                          "Date": "1990-12-10",
                          "Record": 1
                        },
                        {
                          "Date": "1990-12-22",
                          "Record": 1
                        },
                        {
                          "Date": "1991-01-08",
                          "Record": 1
                        },
                        {
                          "Date": "1991-01-15",
                          "Record": 1
                        },
                        {
                          "Date": "1991-01-18",
                          "Record": 1
                        },
                        {
                          "Date": "1991-01-29",
                          "Record": 1
                        },
                        {
                          "Date": "1991-02-05",
                          "Record": 1
                        },
                        {
                          "Date": "1991-02-12",
                          "Record": 1
                        },
                        {
                          "Date": "1991-02-15",
                          "Record": 1
                        },
                        {
                          "Date": "1991-02-26",
                          "Record": 1
                        },
                        {
                          "Date": "1991-03-02",
                          "Record": 1
                        },
                        {
                          "Date": "1991-03-08",
                          "Record": 2
                        },
                        {
                          "Date": "1991-03-12",
                          "Record": 1
                        },
                        {
                          "Date": "1991-03-19",
                          "Record": 1
                        },
                        {
                          "Date": "1991-03-22",
                          "Record": 1
                        },
                        {
                          "Date": "1991-04-04",
                          "Record": 1
                        },
                        {
                          "Date": "1991-04-05",
                          "Record": 1
                        },
                        {
                          "Date": "1991-04-13",
                          "Record": 1
                        },
                        {
                          "Date": "1991-04-16",
                          "Record": 1
                        },
                        {
                          "Date": "1991-04-18",
                          "Record": 1
                        },
                        {
                          "Date": "1991-04-24",
                          "Record": 1
                        },
                        {
                          "Date": "1991-04-28",
                          "Record": 1
                        },
                        {
                          "Date": "1991-05-14",
                          "Record": 1
                        },
                        {
                          "Date": "1991-05-16",
                          "Record": 1
                        },
                        {
                          "Date": "1991-05-29",
                          "Record": 1
                        },
                        {
                          "Date": "1991-06-04",
                          "Record": 1
                        },
                        {
                          "Date": "1991-06-05",
                          "Record": 1
                        },
                        {
                          "Date": "1991-06-11",
                          "Record": 1
                        },
                        {
                          "Date": "1991-06-13",
                          "Record": 1
                        },
                        {
                          "Date": "1991-06-18",
                          "Record": 1
                        },
                        {
                          "Date": "1991-06-25",
                          "Record": 1
                        },
                        {
                          "Date": "1991-07-04",
                          "Record": 1
                        },
                        {
                          "Date": "1991-07-17",
                          "Record": 1
                        },
                        {
                          "Date": "1991-07-21",
                          "Record": 1
                        },
                        {
                          "Date": "1991-08-01",
                          "Record": 1
                        },
                        {
                          "Date": "1991-08-02",
                          "Record": 1
                        },
                        {
                          "Date": "1991-08-14",
                          "Record": 1
                        },
                        {
                          "Date": "1991-08-15",
                          "Record": 1
                        },
                        {
                          "Date": "1991-08-22",
                          "Record": 1
                        },
                        {
                          "Date": "1991-08-25",
                          "Record": 2
                        },
                        {
                          "Date": "1991-08-29",
                          "Record": 1
                        },
                        {
                          "Date": "1991-08-30",
                          "Record": 2
                        },
                        {
                          "Date": "1991-09-12",
                          "Record": 1
                        },
                        {
                          "Date": "1991-09-17",
                          "Record": 1
                        },
                        {
                          "Date": "1991-09-26",
                          "Record": 1
                        },
                        {
                          "Date": "1991-09-28",
                          "Record": 1
                        },
                        {
                          "Date": "1991-10-10",
                          "Record": 1
                        },
                        {
                          "Date": "1991-10-29",
                          "Record": 1
                        },
                        {
                          "Date": "1991-11-08",
                          "Record": 1
                        },
                        {
                          "Date": "1991-11-12",
                          "Record": 1
                        },
                        {
                          "Date": "1991-11-24",
                          "Record": 1
                        },
                        {
                          "Date": "1991-11-27",
                          "Record": 1
                        },
                        {
                          "Date": "1991-11-28",
                          "Record": 1
                        },
                        {
                          "Date": "1991-12-07",
                          "Record": 1
                        },
                        {
                          "Date": "1991-12-16",
                          "Record": 1
                        },
                        {
                          "Date": "1991-12-18",
                          "Record": 1
                        },
                        {
                          "Date": "1991-12-20",
                          "Record": 1
                        },
                        {
                          "Date": "1991-12-28",
                          "Record": 1
                        },
                        {
                          "Date": "1992-01-22",
                          "Record": 1
                        },
                        {
                          "Date": "1992-01-24",
                          "Record": 1
                        },
                        {
                          "Date": "1992-02-05",
                          "Record": 1
                        },
                        {
                          "Date": "1992-02-11",
                          "Record": 2
                        },
                        {
                          "Date": "1992-02-17",
                          "Record": 1
                        },
                        {
                          "Date": "1992-02-26",
                          "Record": 1
                        },
                        {
                          "Date": "1992-03-04",
                          "Record": 1
                        },
                        {
                          "Date": "1992-03-09",
                          "Record": 1
                        },
                        {
                          "Date": "1992-03-14",
                          "Record": 1
                        },
                        {
                          "Date": "1992-03-23",
                          "Record": 1
                        },
                        {
                          "Date": "1992-03-24",
                          "Record": 1
                        },
                        {
                          "Date": "1992-04-10",
                          "Record": 1
                        },
                        {
                          "Date": "1992-04-15",
                          "Record": 2
                        },
                        {
                          "Date": "1992-04-25",
                          "Record": 1
                        },
                        {
                          "Date": "1992-05-07",
                          "Record": 1
                        },
                        {
                          "Date": "1992-05-14",
                          "Record": 1
                        },
                        {
                          "Date": "1992-06-03",
                          "Record": 1
                        },
                        {
                          "Date": "1992-06-07",
                          "Record": 1
                        },
                        {
                          "Date": "1992-06-10",
                          "Record": 1
                        },
                        {
                          "Date": "1992-06-25",
                          "Record": 1
                        },
                        {
                          "Date": "1992-07-01",
                          "Record": 1
                        },
                        {
                          "Date": "1992-07-02",
                          "Record": 1
                        },
                        {
                          "Date": "1992-07-07",
                          "Record": 1
                        },
                        {
                          "Date": "1992-07-08",
                          "Record": 1
                        },
                        {
                          "Date": "1992-07-09",
                          "Record": 1
                        },
                        {
                          "Date": "1992-07-13",
                          "Record": 1
                        },
                        {
                          "Date": "1992-07-24",
                          "Record": 2
                        },
                        {
                          "Date": "1992-07-31",
                          "Record": 1
                        },
                        {
                          "Date": "1992-08-06",
                          "Record": 1
                        },
                        {
                          "Date": "1992-08-09",
                          "Record": 1
                        },
                        {
                          "Date": "1992-08-10",
                          "Record": 1
                        },
                        {
                          "Date": "1992-08-12",
                          "Record": 1
                        },
                        {
                          "Date": "1992-08-13",
                          "Record": 1
                        },
                        {
                          "Date": "1992-08-22",
                          "Record": 1
                        },
                        {
                          "Date": "1992-09-09",
                          "Record": 1
                        },
                        {
                          "Date": "1992-09-10",
                          "Record": 1
                        },
                        {
                          "Date": "1992-09-12",
                          "Record": 1
                        },
                        {
                          "Date": "1992-09-25",
                          "Record": 1
                        },
                        {
                          "Date": "1992-10-06",
                          "Record": 1
                        },
                        {
                          "Date": "1992-10-12",
                          "Record": 1
                        },
                        {
                          "Date": "1992-10-14",
                          "Record": 1
                        },
                        {
                          "Date": "1992-10-20",
                          "Record": 1
                        },
                        {
                          "Date": "1992-10-22",
                          "Record": 1
                        },
                        {
                          "Date": "1992-10-28",
                          "Record": 1
                        },
                        {
                          "Date": "1992-10-29",
                          "Record": 1
                        },
                        {
                          "Date": "1992-11-17",
                          "Record": 1
                        },
                        {
                          "Date": "1992-11-21",
                          "Record": 1
                        },
                        {
                          "Date": "1992-11-22",
                          "Record": 1
                        },
                        {
                          "Date": "1992-11-24",
                          "Record": 1
                        },
                        {
                          "Date": "1992-11-25",
                          "Record": 1
                        },
                        {
                          "Date": "1992-11-28",
                          "Record": 1
                        },
                        {
                          "Date": "1992-12-01",
                          "Record": 1
                        },
                        {
                          "Date": "1992-12-02",
                          "Record": 2
                        },
                        {
                          "Date": "1992-12-18",
                          "Record": 1
                        },
                        {
                          "Date": "1992-12-21",
                          "Record": 1
                        },
                        {
                          "Date": "1992-12-22",
                          "Record": 1
                        },
                        {
                          "Date": "1992-12-25",
                          "Record": 2
                        },
                        {
                          "Date": "1993-01-12",
                          "Record": 1
                        },
                        {
                          "Date": "1993-01-13",
                          "Record": 2
                        },
                        {
                          "Date": "1993-01-26",
                          "Record": 1
                        },
                        {
                          "Date": "1993-02-03",
                          "Record": 1
                        },
                        {
                          "Date": "1993-02-09",
                          "Record": 2
                        },
                        {
                          "Date": "1993-02-20",
                          "Record": 1
                        },
                        {
                          "Date": "1993-03-16",
                          "Record": 1
                        },
                        {
                          "Date": "1993-03-25",
                          "Record": 2
                        },
                        {
                          "Date": "1993-03-26",
                          "Record": 1
                        },
                        {
                          "Date": "1993-03-30",
                          "Record": 2
                        },
                        {
                          "Date": "1993-04-01",
                          "Record": 1
                        },
                        {
                          "Date": "1993-04-06",
                          "Record": 1
                        },
                        {
                          "Date": "1993-04-08",
                          "Record": 1
                        },
                        {
                          "Date": "1993-04-09",
                          "Record": 1
                        },
                        {
                          "Date": "1993-04-16",
                          "Record": 1
                        },
                        {
                          "Date": "1993-04-21",
                          "Record": 1
                        },
                        {
                          "Date": "1993-04-25",
                          "Record": 1
                        },
                        {
                          "Date": "1993-04-26",
                          "Record": 1
                        },
                        {
                          "Date": "1993-04-28",
                          "Record": 1
                        },
                        {
                          "Date": "1993-05-11",
                          "Record": 1
                        },
                        {
                          "Date": "1993-05-12",
                          "Record": 1
                        },
                        {
                          "Date": "1993-05-13",
                          "Record": 1
                        },
                        {
                          "Date": "1993-05-26",
                          "Record": 1
                        },
                        {
                          "Date": "1993-06-16",
                          "Record": 1
                        },
                        {
                          "Date": "1993-06-21",
                          "Record": 1
                        },
                        {
                          "Date": "1993-06-24",
                          "Record": 1
                        },
                        {
                          "Date": "1993-06-25",
                          "Record": 1
                        },
                        {
                          "Date": "1993-06-26",
                          "Record": 1
                        },
                        {
                          "Date": "1993-07-07",
                          "Record": 1
                        },
                        {
                          "Date": "1993-07-19",
                          "Record": 1
                        },
                        {
                          "Date": "1993-07-22",
                          "Record": 1
                        },
                        {
                          "Date": "1993-08-02",
                          "Record": 1
                        },
                        {
                          "Date": "1993-08-04",
                          "Record": 1
                        },
                        {
                          "Date": "1993-08-09",
                          "Record": 1
                        },
                        {
                          "Date": "1993-08-10",
                          "Record": 1
                        },
                        {
                          "Date": "1993-08-30",
                          "Record": 1
                        },
                        {
                          "Date": "1993-08-31",
                          "Record": 1
                        },
                        {
                          "Date": "1993-09-03",
                          "Record": 1
                        },
                        {
                          "Date": "1993-09-12",
                          "Record": 1
                        },
                        {
                          "Date": "1993-09-16",
                          "Record": 1
                        },
                        {
                          "Date": "1993-09-17",
                          "Record": 1
                        },
                        {
                          "Date": "1993-09-20",
                          "Record": 1
                        },
                        {
                          "Date": "1993-09-26",
                          "Record": 1
                        },
                        {
                          "Date": "1993-10-05",
                          "Record": 1
                        },
                        {
                          "Date": "1993-10-08",
                          "Record": 1
                        },
                        {
                          "Date": "1993-10-18",
                          "Record": 1
                        },
                        {
                          "Date": "1993-10-22",
                          "Record": 1
                        },
                        {
                          "Date": "1993-10-26",
                          "Record": 2
                        },
                        {
                          "Date": "1993-11-02",
                          "Record": 1
                        },
                        {
                          "Date": "1993-11-20",
                          "Record": 1
                        },
                        {
                          "Date": "1993-11-28",
                          "Record": 1
                        },
                        {
                          "Date": "1993-12-02",
                          "Record": 1
                        },
                        {
                          "Date": "1993-12-08",
                          "Record": 1
                        },
                        {
                          "Date": "1993-12-16",
                          "Record": 1
                        },
                        {
                          "Date": "1993-12-18",
                          "Record": 1
                        },
                        {
                          "Date": "1993-12-22",
                          "Record": 1
                        },
                        {
                          "Date": "1994-01-24",
                          "Record": 1
                        },
                        {
                          "Date": "1994-01-25",
                          "Record": 2
                        },
                        {
                          "Date": "1994-02-03",
                          "Record": 2
                        },
                        {
                          "Date": "1994-02-07",
                          "Record": 1
                        },
                        {
                          "Date": "1994-02-08",
                          "Record": 1
                        },
                        {
                          "Date": "1994-02-12",
                          "Record": 1
                        },
                        {
                          "Date": "1994-03-02",
                          "Record": 1
                        },
                        {
                          "Date": "1994-03-04",
                          "Record": 1
                        },
                        {
                          "Date": "1994-03-10",
                          "Record": 1
                        },
                        {
                          "Date": "1994-03-13",
                          "Record": 1
                        },
                        {
                          "Date": "1994-03-19",
                          "Record": 1
                        },
                        {
                          "Date": "1994-04-09",
                          "Record": 1
                        },
                        {
                          "Date": "1994-04-13",
                          "Record": 1
                        },
                        {
                          "Date": "1994-04-23",
                          "Record": 1
                        },
                        {
                          "Date": "1994-04-26",
                          "Record": 1
                        },
                        {
                          "Date": "1994-05-03",
                          "Record": 1
                        },
                        {
                          "Date": "1994-05-04",
                          "Record": 1
                        },
                        {
                          "Date": "1994-05-19",
                          "Record": 1
                        },
                        {
                          "Date": "1994-05-25",
                          "Record": 1
                        },
                        {
                          "Date": "1994-06-17",
                          "Record": 1
                        },
                        {
                          "Date": "1994-06-24",
                          "Record": 1
                        },
                        {
                          "Date": "1994-06-27",
                          "Record": 1
                        },
                        {
                          "Date": "1994-07-03",
                          "Record": 1
                        },
                        {
                          "Date": "1994-07-08",
                          "Record": 2
                        },
                        {
                          "Date": "1994-07-14",
                          "Record": 1
                        },
                        {
                          "Date": "1994-07-21",
                          "Record": 1
                        },
                        {
                          "Date": "1994-08-02",
                          "Record": 1
                        },
                        {
                          "Date": "1994-08-03",
                          "Record": 1
                        },
                        {
                          "Date": "1994-08-05",
                          "Record": 1
                        },
                        {
                          "Date": "1994-08-10",
                          "Record": 1
                        },
                        {
                          "Date": "1994-08-23",
                          "Record": 1
                        },
                        {
                          "Date": "1994-08-26",
                          "Record": 1
                        },
                        {
                          "Date": "1994-08-27",
                          "Record": 2
                        },
                        {
                          "Date": "1994-08-28",
                          "Record": 1
                        },
                        {
                          "Date": "1994-08-29",
                          "Record": 1
                        },
                        {
                          "Date": "1994-09-03",
                          "Record": 1
                        },
                        {
                          "Date": "1994-09-09",
                          "Record": 2
                        },
                        {
                          "Date": "1994-09-27",
                          "Record": 1
                        },
                        {
                          "Date": "1994-09-30",
                          "Record": 1
                        },
                        {
                          "Date": "1994-10-06",
                          "Record": 1
                        },
                        {
                          "Date": "1994-10-08",
                          "Record": 1
                        },
                        {
                          "Date": "1994-10-11",
                          "Record": 1
                        },
                        {
                          "Date": "1994-10-15",
                          "Record": 1
                        },
                        {
                          "Date": "1994-11-01",
                          "Record": 2
                        },
                        {
                          "Date": "1994-11-02",
                          "Record": 1
                        },
                        {
                          "Date": "1994-11-03",
                          "Record": 1
                        },
                        {
                          "Date": "1994-11-04",
                          "Record": 1
                        },
                        {
                          "Date": "1994-11-24",
                          "Record": 1
                        },
                        {
                          "Date": "1994-11-29",
                          "Record": 3
                        },
                        {
                          "Date": "1994-12-01",
                          "Record": 1
                        },
                        {
                          "Date": "1994-12-14",
                          "Record": 1
                        },
                        {
                          "Date": "1994-12-20",
                          "Record": 1
                        },
                        {
                          "Date": "1994-12-22",
                          "Record": 1
                        },
                        {
                          "Date": "1994-12-26",
                          "Record": 2
                        },
                        {
                          "Date": "1994-12-30",
                          "Record": 1
                        },
                        {
                          "Date": "1995-01-10",
                          "Record": 1
                        },
                        {
                          "Date": "1995-01-15",
                          "Record": 1
                        },
                        {
                          "Date": "1995-01-24",
                          "Record": 1
                        },
                        {
                          "Date": "1995-01-25",
                          "Record": 1
                        },
                        {
                          "Date": "1995-01-29",
                          "Record": 1
                        },
                        {
                          "Date": "1995-02-03",
                          "Record": 1
                        },
                        {
                          "Date": "1995-03-02",
                          "Record": 2
                        },
                        {
                          "Date": "1995-03-18",
                          "Record": 1
                        },
                        {
                          "Date": "1995-03-22",
                          "Record": 2
                        },
                        {
                          "Date": "1995-03-24",
                          "Record": 1
                        },
                        {
                          "Date": "1995-03-28",
                          "Record": 2
                        },
                        {
                          "Date": "1995-04-03",
                          "Record": 1
                        },
                        {
                          "Date": "1995-04-05",
                          "Record": 1
                        },
                        {
                          "Date": "1995-04-07",
                          "Record": 1
                        },
                        {
                          "Date": "1995-04-21",
                          "Record": 1
                        },
                        {
                          "Date": "1995-05-14",
                          "Record": 1
                        },
                        {
                          "Date": "1995-05-17",
                          "Record": 1
                        },
                        {
                          "Date": "1995-05-23",
                          "Record": 1
                        },
                        {
                          "Date": "1995-05-24",
                          "Record": 1
                        },
                        {
                          "Date": "1995-05-31",
                          "Record": 1
                        },
                        {
                          "Date": "1995-06-08",
                          "Record": 1
                        },
                        {
                          "Date": "1995-06-10",
                          "Record": 1
                        },
                        {
                          "Date": "1995-06-22",
                          "Record": 1
                        },
                        {
                          "Date": "1995-06-27",
                          "Record": 1
                        },
                        {
                          "Date": "1995-07-05",
                          "Record": 1
                        },
                        {
                          "Date": "1995-07-07",
                          "Record": 1
                        },
                        {
                          "Date": "1995-07-10",
                          "Record": 1
                        },
                        {
                          "Date": "1995-07-13",
                          "Record": 1
                        },
                        {
                          "Date": "1995-07-31",
                          "Record": 1
                        },
                        {
                          "Date": "1995-08-02",
                          "Record": 1
                        },
                        {
                          "Date": "1995-08-03",
                          "Record": 1
                        },
                        {
                          "Date": "1995-08-09",
                          "Record": 1
                        },
                        {
                          "Date": "1995-08-15",
                          "Record": 1
                        },
                        {
                          "Date": "1995-08-29",
                          "Record": 2
                        },
                        {
                          "Date": "1995-08-31",
                          "Record": 1
                        },
                        {
                          "Date": "1995-09-05",
                          "Record": 1
                        },
                        {
                          "Date": "1995-09-07",
                          "Record": 1
                        },
                        {
                          "Date": "1995-09-24",
                          "Record": 1
                        },
                        {
                          "Date": "1995-10-06",
                          "Record": 1
                        },
                        {
                          "Date": "1995-10-19",
                          "Record": 1
                        },
                        {
                          "Date": "1995-10-20",
                          "Record": 1
                        },
                        {
                          "Date": "1995-10-22",
                          "Record": 1
                        },
                        {
                          "Date": "1995-10-23",
                          "Record": 1
                        },
                        {
                          "Date": "1995-10-31",
                          "Record": 1
                        },
                        {
                          "Date": "1995-11-04",
                          "Record": 1
                        },
                        {
                          "Date": "1995-11-06",
                          "Record": 1
                        },
                        {
                          "Date": "1995-11-12",
                          "Record": 1
                        },
                        {
                          "Date": "1995-11-17",
                          "Record": 1
                        },
                        {
                          "Date": "1995-11-28",
                          "Record": 1
                        },
                        {
                          "Date": "1995-12-02",
                          "Record": 1
                        },
                        {
                          "Date": "1995-12-05",
                          "Record": 1
                        },
                        {
                          "Date": "1995-12-06",
                          "Record": 1
                        },
                        {
                          "Date": "1995-12-15",
                          "Record": 1
                        },
                        {
                          "Date": "1995-12-20",
                          "Record": 1
                        },
                        {
                          "Date": "1995-12-28",
                          "Record": 2
                        },
                        {
                          "Date": "1995-12-30",
                          "Record": 1
                        },
                        {
                          "Date": "1996-01-11",
                          "Record": 1
                        },
                        {
                          "Date": "1996-01-12",
                          "Record": 1
                        },
                        {
                          "Date": "1996-01-14",
                          "Record": 1
                        },
                        {
                          "Date": "1996-01-16",
                          "Record": 1
                        },
                        {
                          "Date": "1996-02-01",
                          "Record": 1
                        },
                        {
                          "Date": "1996-02-05",
                          "Record": 1
                        },
                        {
                          "Date": "1996-02-14",
                          "Record": 1
                        },
                        {
                          "Date": "1996-02-17",
                          "Record": 1
                        },
                        {
                          "Date": "1996-02-19",
                          "Record": 1
                        },
                        {
                          "Date": "1996-02-22",
                          "Record": 1
                        },
                        {
                          "Date": "1996-02-24",
                          "Record": 1
                        },
                        {
                          "Date": "1996-03-09",
                          "Record": 1
                        },
                        {
                          "Date": "1996-03-14",
                          "Record": 1
                        },
                        {
                          "Date": "1996-03-21",
                          "Record": 1
                        },
                        {
                          "Date": "1996-03-22",
                          "Record": 1
                        },
                        {
                          "Date": "1996-03-28",
                          "Record": 1
                        },
                        {
                          "Date": "1996-04-03",
                          "Record": 1
                        },
                        {
                          "Date": "1996-04-20",
                          "Record": 1
                        },
                        {
                          "Date": "1996-04-24",
                          "Record": 3
                        },
                        {
                          "Date": "1996-04-30",
                          "Record": 1
                        },
                        {
                          "Date": "1996-05-12",
                          "Record": 1
                        },
                        {
                          "Date": "1996-05-16",
                          "Record": 1
                        },
                        {
                          "Date": "1996-05-17",
                          "Record": 1
                        },
                        {
                          "Date": "1996-05-19",
                          "Record": 1
                        },
                        {
                          "Date": "1996-05-24",
                          "Record": 1
                        },
                        {
                          "Date": "1996-06-04",
                          "Record": 1
                        },
                        {
                          "Date": "1996-06-15",
                          "Record": 1
                        },
                        {
                          "Date": "1996-06-20",
                          "Record": 1
                        },
                        {
                          "Date": "1996-07-02",
                          "Record": 1
                        },
                        {
                          "Date": "1996-07-03",
                          "Record": 2
                        },
                        {
                          "Date": "1996-07-09",
                          "Record": 1
                        },
                        {
                          "Date": "1996-07-16",
                          "Record": 1
                        },
                        {
                          "Date": "1996-07-25",
                          "Record": 1
                        },
                        {
                          "Date": "1996-08-08",
                          "Record": 1
                        },
                        {
                          "Date": "1996-08-14",
                          "Record": 1
                        },
                        {
                          "Date": "1996-08-17",
                          "Record": 1
                        },
                        {
                          "Date": "1996-08-18",
                          "Record": 1
                        },
                        {
                          "Date": "1996-08-21",
                          "Record": 1
                        },
                        {
                          "Date": "1996-08-29",
                          "Record": 1
                        },
                        {
                          "Date": "1996-09-04",
                          "Record": 1
                        },
                        {
                          "Date": "1996-09-05",
                          "Record": 1
                        },
                        {
                          "Date": "1996-09-08",
                          "Record": 1
                        },
                        {
                          "Date": "1996-09-11",
                          "Record": 1
                        },
                        {
                          "Date": "1996-09-12",
                          "Record": 1
                        },
                        {
                          "Date": "1996-09-16",
                          "Record": 1
                        },
                        {
                          "Date": "1996-10-20",
                          "Record": 1
                        },
                        {
                          "Date": "1996-10-24",
                          "Record": 1
                        },
                        {
                          "Date": "1996-11-04",
                          "Record": 1
                        },
                        {
                          "Date": "1996-11-07",
                          "Record": 1
                        },
                        {
                          "Date": "1996-11-13",
                          "Record": 1
                        },
                        {
                          "Date": "1996-11-21",
                          "Record": 1
                        },
                        {
                          "Date": "1996-12-04",
                          "Record": 1
                        },
                        {
                          "Date": "1996-12-07",
                          "Record": 1
                        },
                        {
                          "Date": "1996-12-11",
                          "Record": 1
                        },
                        {
                          "Date": "1996-12-18",
                          "Record": 1
                        },
                        {
                          "Date": "1996-12-20",
                          "Record": 2
                        },
                        {
                          "Date": "1997-01-12",
                          "Record": 1
                        },
                        {
                          "Date": "1997-01-17",
                          "Record": 1
                        },
                        {
                          "Date": "1997-01-30",
                          "Record": 1
                        },
                        {
                          "Date": "1997-02-11",
                          "Record": 1
                        },
                        {
                          "Date": "1997-02-12",
                          "Record": 1
                        },
                        {
                          "Date": "1997-02-14",
                          "Record": 1
                        },
                        {
                          "Date": "1997-02-17",
                          "Record": 1
                        },
                        {
                          "Date": "1997-02-23",
                          "Record": 1
                        },
                        {
                          "Date": "1997-03-01",
                          "Record": 1
                        },
                        {
                          "Date": "1997-03-04",
                          "Record": 1
                        },
                        {
                          "Date": "1997-03-08",
                          "Record": 1
                        },
                        {
                          "Date": "1997-04-04",
                          "Record": 2
                        },
                        {
                          "Date": "1997-04-16",
                          "Record": 1
                        },
                        {
                          "Date": "1997-04-17",
                          "Record": 1
                        },
                        {
                          "Date": "1997-04-21",
                          "Record": 1
                        },
                        {
                          "Date": "1997-04-25",
                          "Record": 1
                        },
                        {
                          "Date": "1997-05-05",
                          "Record": 1
                        },
                        {
                          "Date": "1997-05-11",
                          "Record": 1
                        },
                        {
                          "Date": "1997-05-14",
                          "Record": 1
                        },
                        {
                          "Date": "1997-05-15",
                          "Record": 1
                        },
                        {
                          "Date": "1997-05-20",
                          "Record": 2
                        },
                        {
                          "Date": "1997-06-03",
                          "Record": 1
                        },
                        {
                          "Date": "1997-06-10",
                          "Record": 1
                        },
                        {
                          "Date": "1997-06-25",
                          "Record": 1
                        },
                        {
                          "Date": "1997-07-01",
                          "Record": 1
                        },
                        {
                          "Date": "1997-07-09",
                          "Record": 1
                        },
                        {
                          "Date": "1997-07-23",
                          "Record": 1
                        },
                        {
                          "Date": "1997-07-28",
                          "Record": 1
                        },
                        {
                          "Date": "1997-08-01",
                          "Record": 1
                        },
                        {
                          "Date": "1997-08-07",
                          "Record": 1
                        },
                        {
                          "Date": "1997-08-08",
                          "Record": 1
                        },
                        {
                          "Date": "1997-08-19",
                          "Record": 1
                        },
                        {
                          "Date": "1997-08-21",
                          "Record": 1
                        },
                        {
                          "Date": "1997-08-23",
                          "Record": 1
                        },
                        {
                          "Date": "1997-08-25",
                          "Record": 1
                        },
                        {
                          "Date": "1997-08-29",
                          "Record": 1
                        },
                        {
                          "Date": "1997-09-01",
                          "Record": 1
                        },
                        {
                          "Date": "1997-09-02",
                          "Record": 1
                        },
                        {
                          "Date": "1997-09-04",
                          "Record": 1
                        },
                        {
                          "Date": "1997-09-23",
                          "Record": 2
                        },
                        {
                          "Date": "1997-09-24",
                          "Record": 1
                        },
                        {
                          "Date": "1997-09-25",
                          "Record": 1
                        },
                        {
                          "Date": "1997-09-27",
                          "Record": 1
                        },
                        {
                          "Date": "1997-09-29",
                          "Record": 1
                        },
                        {
                          "Date": "1997-10-05",
                          "Record": 1
                        },
                        {
                          "Date": "1997-10-15",
                          "Record": 1
                        },
                        {
                          "Date": "1997-10-16",
                          "Record": 1
                        },
                        {
                          "Date": "1997-10-22",
                          "Record": 1
                        },
                        {
                          "Date": "1997-10-24",
                          "Record": 1
                        },
                        {
                          "Date": "1997-10-25",
                          "Record": 1
                        },
                        {
                          "Date": "1997-10-30",
                          "Record": 1
                        },
                        {
                          "Date": "1997-11-02",
                          "Record": 1
                        },
                        {
                          "Date": "1997-11-06",
                          "Record": 1
                        },
                        {
                          "Date": "1997-11-08",
                          "Record": 1
                        },
                        {
                          "Date": "1997-11-09",
                          "Record": 1
                        },
                        {
                          "Date": "1997-11-19",
                          "Record": 1
                        },
                        {
                          "Date": "1997-11-27",
                          "Record": 1
                        },
                        {
                          "Date": "1997-12-02",
                          "Record": 1
                        },
                        {
                          "Date": "1997-12-08",
                          "Record": 2
                        },
                        {
                          "Date": "1997-12-09",
                          "Record": 1
                        },
                        {
                          "Date": "1997-12-12",
                          "Record": 1
                        },
                        {
                          "Date": "1997-12-20",
                          "Record": 1
                        },
                        {
                          "Date": "1997-12-22",
                          "Record": 1
                        },
                        {
                          "Date": "1997-12-23",
                          "Record": 1
                        },
                        {
                          "Date": "1997-12-24",
                          "Record": 2
                        },
                        {
                          "Date": "1998-01-07",
                          "Record": 1
                        },
                        {
                          "Date": "1998-01-10",
                          "Record": 1
                        },
                        {
                          "Date": "1998-01-22",
                          "Record": 2
                        },
                        {
                          "Date": "1998-01-29",
                          "Record": 1
                        },
                        {
                          "Date": "1998-02-04",
                          "Record": 1
                        },
                        {
                          "Date": "1998-02-10",
                          "Record": 1
                        },
                        {
                          "Date": "1998-02-14",
                          "Record": 1
                        },
                        {
                          "Date": "1998-02-18",
                          "Record": 1
                        },
                        {
                          "Date": "1998-02-21",
                          "Record": 1
                        },
                        {
                          "Date": "1998-02-26",
                          "Record": 1
                        },
                        {
                          "Date": "1998-02-27",
                          "Record": 1
                        },
                        {
                          "Date": "1998-02-28",
                          "Record": 1
                        },
                        {
                          "Date": "1998-03-16",
                          "Record": 1
                        },
                        {
                          "Date": "1998-03-24",
                          "Record": 1
                        },
                        {
                          "Date": "1998-03-25",
                          "Record": 1
                        },
                        {
                          "Date": "1998-03-30",
                          "Record": 1
                        },
                        {
                          "Date": "1998-04-02",
                          "Record": 1
                        },
                        {
                          "Date": "1998-04-17",
                          "Record": 1
                        },
                        {
                          "Date": "1998-04-24",
                          "Record": 1
                        },
                        {
                          "Date": "1998-04-28",
                          "Record": 1
                        },
                        {
                          "Date": "1998-05-02",
                          "Record": 1
                        },
                        {
                          "Date": "1998-05-07",
                          "Record": 1
                        },
                        {
                          "Date": "1998-05-09",
                          "Record": 1
                        },
                        {
                          "Date": "1998-05-13",
                          "Record": 1
                        },
                        {
                          "Date": "1998-05-17",
                          "Record": 1
                        },
                        {
                          "Date": "1998-05-30",
                          "Record": 1
                        },
                        {
                          "Date": "1998-06-02",
                          "Record": 1
                        },
                        {
                          "Date": "1998-06-10",
                          "Record": 1
                        },
                        {
                          "Date": "1998-06-15",
                          "Record": 1
                        },
                        {
                          "Date": "1998-06-18",
                          "Record": 2
                        },
                        {
                          "Date": "1998-07-01",
                          "Record": 1
                        },
                        {
                          "Date": "1998-07-03",
                          "Record": 1
                        },
                        {
                          "Date": "1998-07-07",
                          "Record": 1
                        },
                        {
                          "Date": "1998-07-10",
                          "Record": 1
                        },
                        {
                          "Date": "1998-07-28",
                          "Record": 1
                        },
                        {
                          "Date": "1998-08-02",
                          "Record": 1
                        },
                        {
                          "Date": "1998-08-12",
                          "Record": 2
                        },
                        {
                          "Date": "1998-08-19",
                          "Record": 1
                        },
                        {
                          "Date": "1998-08-24",
                          "Record": 1
                        },
                        {
                          "Date": "1998-08-25",
                          "Record": 1
                        },
                        {
                          "Date": "1998-08-27",
                          "Record": 1
                        },
                        {
                          "Date": "1998-08-31",
                          "Record": 1
                        },
                        {
                          "Date": "1998-09-08",
                          "Record": 1
                        },
                        {
                          "Date": "1998-09-09",
                          "Record": 1
                        },
                        {
                          "Date": "1998-09-16",
                          "Record": 1
                        },
                        {
                          "Date": "1998-09-23",
                          "Record": 1
                        },
                        {
                          "Date": "1998-09-28",
                          "Record": 1
                        },
                        {
                          "Date": "1998-10-03",
                          "Record": 1
                        },
                        {
                          "Date": "1998-10-05",
                          "Record": 1
                        },
                        {
                          "Date": "1998-10-09",
                          "Record": 1
                        },
                        {
                          "Date": "1998-10-20",
                          "Record": 1
                        },
                        {
                          "Date": "1998-10-21",
                          "Record": 1
                        },
                        {
                          "Date": "1998-10-22",
                          "Record": 1
                        },
                        {
                          "Date": "1998-10-28",
                          "Record": 1
                        },
                        {
                          "Date": "1998-10-29",
                          "Record": 1
                        },
                        {
                          "Date": "1998-11-06",
                          "Record": 1
                        },
                        {
                          "Date": "1998-11-22",
                          "Record": 1
                        },
                        {
                          "Date": "1998-12-04",
                          "Record": 1
                        },
                        {
                          "Date": "1998-12-06",
                          "Record": 2
                        },
                        {
                          "Date": "1998-12-10",
                          "Record": 1
                        },
                        {
                          "Date": "1998-12-11",
                          "Record": 1
                        },
                        {
                          "Date": "1998-12-19",
                          "Record": 1
                        },
                        {
                          "Date": "1998-12-22",
                          "Record": 1
                        },
                        {
                          "Date": "1998-12-24",
                          "Record": 1
                        },
                        {
                          "Date": "1999-01-03",
                          "Record": 1
                        },
                        {
                          "Date": "1999-01-27",
                          "Record": 1
                        },
                        {
                          "Date": "1999-02-07",
                          "Record": 1
                        },
                        {
                          "Date": "1999-02-16",
                          "Record": 1
                        },
                        {
                          "Date": "1999-02-23",
                          "Record": 1
                        },
                        {
                          "Date": "1999-02-26",
                          "Record": 1
                        },
                        {
                          "Date": "1999-03-05",
                          "Record": 1
                        },
                        {
                          "Date": "1999-03-28",
                          "Record": 1
                        },
                        {
                          "Date": "1999-04-02",
                          "Record": 1
                        },
                        {
                          "Date": "1999-04-09",
                          "Record": 1
                        },
                        {
                          "Date": "1999-04-12",
                          "Record": 1
                        },
                        {
                          "Date": "1999-04-15",
                          "Record": 1
                        },
                        {
                          "Date": "1999-04-21",
                          "Record": 1
                        },
                        {
                          "Date": "1999-04-27",
                          "Record": 1
                        },
                        {
                          "Date": "1999-04-28",
                          "Record": 1
                        },
                        {
                          "Date": "1999-04-30",
                          "Record": 1
                        },
                        {
                          "Date": "1999-05-05",
                          "Record": 1
                        },
                        {
                          "Date": "1999-05-10",
                          "Record": 1
                        },
                        {
                          "Date": "1999-05-18",
                          "Record": 1
                        },
                        {
                          "Date": "1999-05-22",
                          "Record": 1
                        },
                        {
                          "Date": "1999-05-27",
                          "Record": 1
                        },
                        {
                          "Date": "1999-05-29",
                          "Record": 1
                        },
                        {
                          "Date": "1999-06-10",
                          "Record": 1
                        },
                        {
                          "Date": "1999-06-11",
                          "Record": 1
                        },
                        {
                          "Date": "1999-06-20",
                          "Record": 1
                        },
                        {
                          "Date": "1999-06-24",
                          "Record": 1
                        },
                        {
                          "Date": "1999-07-08",
                          "Record": 1
                        },
                        {
                          "Date": "1999-07-10",
                          "Record": 1
                        },
                        {
                          "Date": "1999-07-17",
                          "Record": 1
                        },
                        {
                          "Date": "1999-07-23",
                          "Record": 1
                        },
                        {
                          "Date": "1999-07-25",
                          "Record": 1
                        },
                        {
                          "Date": "1999-08-07",
                          "Record": 1
                        },
                        {
                          "Date": "1999-08-12",
                          "Record": 1
                        },
                        {
                          "Date": "1999-08-17",
                          "Record": 1
                        },
                        {
                          "Date": "1999-08-26",
                          "Record": 1
                        },
                        {
                          "Date": "1999-09-04",
                          "Record": 1
                        },
                        {
                          "Date": "1999-09-23",
                          "Record": 1
                        },
                        {
                          "Date": "1999-09-24",
                          "Record": 1
                        },
                        {
                          "Date": "1999-09-25",
                          "Record": 1
                        },
                        {
                          "Date": "1999-10-10",
                          "Record": 1
                        },
                        {
                          "Date": "1999-10-14",
                          "Record": 1
                        },
                        {
                          "Date": "1999-10-19",
                          "Record": 1
                        },
                        {
                          "Date": "1999-11-13",
                          "Record": 1
                        },
                        {
                          "Date": "1999-11-15",
                          "Record": 1
                        },
                        {
                          "Date": "1999-11-19",
                          "Record": 1
                        },
                        {
                          "Date": "1999-11-23",
                          "Record": 1
                        },
                        {
                          "Date": "1999-12-03",
                          "Record": 1
                        },
                        {
                          "Date": "1999-12-04",
                          "Record": 1
                        },
                        {
                          "Date": "1999-12-10",
                          "Record": 1
                        },
                        {
                          "Date": "1999-12-11",
                          "Record": 1
                        },
                        {
                          "Date": "1999-12-12",
                          "Record": 1
                        },
                        {
                          "Date": "1999-12-18",
                          "Record": 1
                        },
                        {
                          "Date": "1999-12-20",
                          "Record": 1
                        },
                        {
                          "Date": "1999-12-22",
                          "Record": 1
                        },
                        {
                          "Date": "1999-12-26",
                          "Record": 1
                        },
                        {
                          "Date": "1999-12-27",
                          "Record": 1
                        },
                        {
                          "Date": "1999-12-31",
                          "Record": 1
                        },
                        {
                          "Date": "2000-01-21",
                          "Record": 1
                        },
                        {
                          "Date": "2000-01-25",
                          "Record": 2
                        },
                        {
                          "Date": "2000-01-27",
                          "Record": 1
                        },
                        {
                          "Date": "2000-02-03",
                          "Record": 1
                        },
                        {
                          "Date": "2000-02-08",
                          "Record": 1
                        },
                        {
                          "Date": "2000-02-10",
                          "Record": 1
                        },
                        {
                          "Date": "2000-02-11",
                          "Record": 1
                        },
                        {
                          "Date": "2000-02-18",
                          "Record": 1
                        },
                        {
                          "Date": "2000-03-02",
                          "Record": 1
                        },
                        {
                          "Date": "2000-03-12",
                          "Record": 2
                        },
                        {
                          "Date": "2000-03-21",
                          "Record": 1
                        },
                        {
                          "Date": "2000-03-25",
                          "Record": 1
                        },
                        {
                          "Date": "2000-04-19",
                          "Record": 1
                        },
                        {
                          "Date": "2000-05-03",
                          "Record": 1
                        },
                        {
                          "Date": "2000-05-08",
                          "Record": 1
                        },
                        {
                          "Date": "2000-05-11",
                          "Record": 1
                        },
                        {
                          "Date": "2000-05-16",
                          "Record": 1
                        },
                        {
                          "Date": "2000-05-19",
                          "Record": 1
                        },
                        {
                          "Date": "2000-05-24",
                          "Record": 1
                        },
                        {
                          "Date": "2000-06-07",
                          "Record": 1
                        },
                        {
                          "Date": "2000-06-25",
                          "Record": 1
                        },
                        {
                          "Date": "2000-06-28",
                          "Record": 1
                        },
                        {
                          "Date": "2000-06-30",
                          "Record": 1
                        },
                        {
                          "Date": "2000-07-14",
                          "Record": 1
                        },
                        {
                          "Date": "2000-07-15",
                          "Record": 1
                        },
                        {
                          "Date": "2000-07-16",
                          "Record": 1
                        },
                        {
                          "Date": "2000-07-19",
                          "Record": 1
                        },
                        {
                          "Date": "2000-07-28",
                          "Record": 1
                        },
                        {
                          "Date": "2000-08-17",
                          "Record": 2
                        },
                        {
                          "Date": "2000-08-23",
                          "Record": 1
                        },
                        {
                          "Date": "2000-09-06",
                          "Record": 1
                        },
                        {
                          "Date": "2000-09-08",
                          "Record": 1
                        },
                        {
                          "Date": "2000-09-14",
                          "Record": 1
                        },
                        {
                          "Date": "2000-09-21",
                          "Record": 1
                        },
                        {
                          "Date": "2000-09-25",
                          "Record": 1
                        },
                        {
                          "Date": "2000-09-26",
                          "Record": 1
                        },
                        {
                          "Date": "2000-10-06",
                          "Record": 1
                        },
                        {
                          "Date": "2000-10-09",
                          "Record": 1
                        },
                        {
                          "Date": "2000-10-11",
                          "Record": 1
                        },
                        {
                          "Date": "2000-10-20",
                          "Record": 1
                        },
                        {
                          "Date": "2000-10-21",
                          "Record": 1
                        },
                        {
                          "Date": "2000-10-29",
                          "Record": 1
                        },
                        {
                          "Date": "2000-10-30",
                          "Record": 1
                        },
                        {
                          "Date": "2000-11-10",
                          "Record": 1
                        },
                        {
                          "Date": "2000-11-16",
                          "Record": 1
                        },
                        {
                          "Date": "2000-11-20",
                          "Record": 1
                        },
                        {
                          "Date": "2000-11-21",
                          "Record": 2
                        },
                        {
                          "Date": "2000-11-30",
                          "Record": 1
                        },
                        {
                          "Date": "2000-12-05",
                          "Record": 1
                        },
                        {
                          "Date": "2000-12-06",
                          "Record": 1
                        },
                        {
                          "Date": "2000-12-20",
                          "Record": 2
                        },
                        {
                          "Date": "2000-12-27",
                          "Record": 1
                        },
                        {
                          "Date": "2001-01-09",
                          "Record": 1
                        },
                        {
                          "Date": "2001-01-10",
                          "Record": 1
                        },
                        {
                          "Date": "2001-01-30",
                          "Record": 1
                        },
                        {
                          "Date": "2001-02-07",
                          "Record": 2
                        },
                        {
                          "Date": "2001-02-20",
                          "Record": 1
                        },
                        {
                          "Date": "2001-02-27",
                          "Record": 1
                        },
                        {
                          "Date": "2001-03-08",
                          "Record": 2
                        },
                        {
                          "Date": "2001-03-18",
                          "Record": 1
                        },
                        {
                          "Date": "2001-04-07",
                          "Record": 1
                        },
                        {
                          "Date": "2001-04-18",
                          "Record": 1
                        },
                        {
                          "Date": "2001-04-19",
                          "Record": 1
                        },
                        {
                          "Date": "2001-05-08",
                          "Record": 1
                        },
                        {
                          "Date": "2001-05-18",
                          "Record": 1
                        },
                        {
                          "Date": "2001-06-08",
                          "Record": 1
                        },
                        {
                          "Date": "2001-06-09",
                          "Record": 1
                        },
                        {
                          "Date": "2001-06-19",
                          "Record": 1
                        },
                        {
                          "Date": "2001-06-30",
                          "Record": 1
                        },
                        {
                          "Date": "2001-07-12",
                          "Record": 2
                        },
                        {
                          "Date": "2001-07-20",
                          "Record": 1
                        },
                        {
                          "Date": "2001-07-23",
                          "Record": 1
                        },
                        {
                          "Date": "2001-08-06",
                          "Record": 1
                        },
                        {
                          "Date": "2001-08-08",
                          "Record": 1
                        },
                        {
                          "Date": "2001-08-10",
                          "Record": 1
                        },
                        {
                          "Date": "2001-08-29",
                          "Record": 1
                        },
                        {
                          "Date": "2001-08-30",
                          "Record": 1
                        },
                        {
                          "Date": "2001-09-09",
                          "Record": 1
                        },
                        {
                          "Date": "2001-09-21",
                          "Record": 1
                        },
                        {
                          "Date": "2001-09-25",
                          "Record": 1
                        },
                        {
                          "Date": "2001-09-30",
                          "Record": 1
                        },
                        {
                          "Date": "2001-10-05",
                          "Record": 1
                        },
                        {
                          "Date": "2001-10-11",
                          "Record": 1
                        },
                        {
                          "Date": "2001-10-18",
                          "Record": 1
                        },
                        {
                          "Date": "2001-10-22",
                          "Record": 1
                        },
                        {
                          "Date": "2001-10-25",
                          "Record": 1
                        },
                        {
                          "Date": "2001-11-27",
                          "Record": 1
                        },
                        {
                          "Date": "2001-12-05",
                          "Record": 1
                        },
                        {
                          "Date": "2001-12-07",
                          "Record": 1
                        },
                        {
                          "Date": "2001-12-10",
                          "Record": 1
                        },
                        {
                          "Date": "2001-12-21",
                          "Record": 1
                        },
                        {
                          "Date": "2001-12-28",
                          "Record": 1
                        },
                        {
                          "Date": "2002-01-16",
                          "Record": 1
                        },
                        {
                          "Date": "2002-01-23",
                          "Record": 1
                        },
                        {
                          "Date": "2002-02-04",
                          "Record": 1
                        },
                        {
                          "Date": "2002-02-05",
                          "Record": 1
                        },
                        {
                          "Date": "2002-02-11",
                          "Record": 1
                        },
                        {
                          "Date": "2002-02-21",
                          "Record": 1
                        },
                        {
                          "Date": "2002-02-23",
                          "Record": 1
                        },
                        {
                          "Date": "2002-03-01",
                          "Record": 2
                        },
                        {
                          "Date": "2002-03-08",
                          "Record": 1
                        },
                        {
                          "Date": "2002-03-17",
                          "Record": 1
                        },
                        {
                          "Date": "2002-03-25",
                          "Record": 1
                        },
                        {
                          "Date": "2002-03-29",
                          "Record": 1
                        },
                        {
                          "Date": "2002-04-01",
                          "Record": 1
                        },
                        {
                          "Date": "2002-04-08",
                          "Record": 1
                        },
                        {
                          "Date": "2002-04-16",
                          "Record": 1
                        },
                        {
                          "Date": "2002-05-04",
                          "Record": 1
                        },
                        {
                          "Date": "2002-05-15",
                          "Record": 1
                        },
                        {
                          "Date": "2002-05-28",
                          "Record": 2
                        },
                        {
                          "Date": "2002-06-05",
                          "Record": 2
                        },
                        {
                          "Date": "2002-06-15",
                          "Record": 1
                        },
                        {
                          "Date": "2002-06-20",
                          "Record": 1
                        },
                        {
                          "Date": "2002-06-24",
                          "Record": 1
                        },
                        {
                          "Date": "2002-07-02",
                          "Record": 1
                        },
                        {
                          "Date": "2002-07-03",
                          "Record": 1
                        },
                        {
                          "Date": "2002-07-05",
                          "Record": 1
                        },
                        {
                          "Date": "2002-07-08",
                          "Record": 1
                        },
                        {
                          "Date": "2002-08-21",
                          "Record": 1
                        },
                        {
                          "Date": "2002-08-28",
                          "Record": 1
                        },
                        {
                          "Date": "2002-09-06",
                          "Record": 1
                        },
                        {
                          "Date": "2002-09-10",
                          "Record": 1
                        },
                        {
                          "Date": "2002-09-12",
                          "Record": 1
                        },
                        {
                          "Date": "2002-09-15",
                          "Record": 1
                        },
                        {
                          "Date": "2002-09-18",
                          "Record": 1
                        },
                        {
                          "Date": "2002-09-26",
                          "Record": 1
                        },
                        {
                          "Date": "2002-10-07",
                          "Record": 1
                        },
                        {
                          "Date": "2002-10-27",
                          "Record": 1
                        },
                        {
                          "Date": "2002-11-20",
                          "Record": 1
                        },
                        {
                          "Date": "2002-11-24",
                          "Record": 1
                        },
                        {
                          "Date": "2002-11-28",
                          "Record": 1
                        },
                        {
                          "Date": "2002-12-05",
                          "Record": 1
                        },
                        {
                          "Date": "2002-12-11",
                          "Record": 1
                        },
                        {
                          "Date": "2002-12-14",
                          "Record": 1
                        },
                        {
                          "Date": "2002-12-17",
                          "Record": 1
                        },
                        {
                          "Date": "2002-12-20",
                          "Record": 1
                        },
                        {
                          "Date": "2002-12-24",
                          "Record": 1
                        },
                        {
                          "Date": "2002-12-29",
                          "Record": 1
                        },
                        {
                          "Date": "2003-01-06",
                          "Record": 1
                        },
                        {
                          "Date": "2003-01-13",
                          "Record": 1
                        },
                        {
                          "Date": "2003-01-16",
                          "Record": 1
                        },
                        {
                          "Date": "2003-01-25",
                          "Record": 1
                        },
                        {
                          "Date": "2003-01-29",
                          "Record": 1
                        },
                        {
                          "Date": "2003-02-15",
                          "Record": 1
                        },
                        {
                          "Date": "2003-03-11",
                          "Record": 1
                        },
                        {
                          "Date": "2003-03-28",
                          "Record": 1
                        },
                        {
                          "Date": "2003-03-31",
                          "Record": 1
                        },
                        {
                          "Date": "2003-04-02",
                          "Record": 1
                        },
                        {
                          "Date": "2003-04-08",
                          "Record": 1
                        },
                        {
                          "Date": "2003-04-09",
                          "Record": 1
                        },
                        {
                          "Date": "2003-04-12",
                          "Record": 1
                        },
                        {
                          "Date": "2003-04-28",
                          "Record": 1
                        },
                        {
                          "Date": "2003-05-08",
                          "Record": 1
                        },
                        {
                          "Date": "2003-05-09",
                          "Record": 1
                        },
                        {
                          "Date": "2003-05-13",
                          "Record": 1
                        },
                        {
                          "Date": "2003-05-24",
                          "Record": 1
                        },
                        {
                          "Date": "2003-06-02",
                          "Record": 1
                        },
                        {
                          "Date": "2003-06-04",
                          "Record": 1
                        },
                        {
                          "Date": "2003-06-10",
                          "Record": 2
                        },
                        {
                          "Date": "2003-06-11",
                          "Record": 1
                        },
                        {
                          "Date": "2003-06-19",
                          "Record": 1
                        },
                        {
                          "Date": "2003-06-26",
                          "Record": 1
                        },
                        {
                          "Date": "2003-06-30",
                          "Record": 1
                        },
                        {
                          "Date": "2003-07-08",
                          "Record": 1
                        },
                        {
                          "Date": "2003-07-17",
                          "Record": 1
                        },
                        {
                          "Date": "2003-08-08",
                          "Record": 1
                        },
                        {
                          "Date": "2003-08-13",
                          "Record": 1
                        },
                        {
                          "Date": "2003-08-19",
                          "Record": 1
                        },
                        {
                          "Date": "2003-08-25",
                          "Record": 2
                        },
                        {
                          "Date": "2003-08-29",
                          "Record": 1
                        },
                        {
                          "Date": "2003-09-09",
                          "Record": 1
                        },
                        {
                          "Date": "2003-09-16",
                          "Record": 1
                        },
                        {
                          "Date": "2003-09-27",
                          "Record": 2
                        },
                        {
                          "Date": "2003-10-01",
                          "Record": 1
                        },
                        {
                          "Date": "2003-10-15",
                          "Record": 1
                        },
                        {
                          "Date": "2003-10-17",
                          "Record": 1
                        },
                        {
                          "Date": "2003-10-18",
                          "Record": 1
                        },
                        {
                          "Date": "2003-10-21",
                          "Record": 1
                        },
                        {
                          "Date": "2003-10-30",
                          "Record": 1
                        },
                        {
                          "Date": "2003-11-03",
                          "Record": 1
                        },
                        {
                          "Date": "2003-11-14",
                          "Record": 1
                        },
                        {
                          "Date": "2003-11-29",
                          "Record": 1
                        },
                        {
                          "Date": "2003-12-02",
                          "Record": 1
                        },
                        {
                          "Date": "2003-12-05",
                          "Record": 1
                        },
                        {
                          "Date": "2003-12-10",
                          "Record": 1
                        },
                        {
                          "Date": "2003-12-21",
                          "Record": 1
                        },
                        {
                          "Date": "2003-12-29",
                          "Record": 1
                        },
                        {
                          "Date": "2004-01-11",
                          "Record": 1
                        },
                        {
                          "Date": "2004-02-05",
                          "Record": 1
                        },
                        {
                          "Date": "2004-02-14",
                          "Record": 1
                        },
                        {
                          "Date": "2004-02-18",
                          "Record": 1
                        },
                        {
                          "Date": "2004-03-02",
                          "Record": 1
                        },
                        {
                          "Date": "2004-03-13",
                          "Record": 1
                        },
                        {
                          "Date": "2004-03-20",
                          "Record": 1
                        },
                        {
                          "Date": "2004-04-16",
                          "Record": 1
                        },
                        {
                          "Date": "2004-04-18",
                          "Record": 1
                        },
                        {
                          "Date": "2004-04-19",
                          "Record": 1
                        },
                        {
                          "Date": "2004-04-20",
                          "Record": 1
                        },
                        {
                          "Date": "2004-05-04",
                          "Record": 1
                        },
                        {
                          "Date": "2004-05-20",
                          "Record": 1
                        },
                        {
                          "Date": "2004-05-28",
                          "Record": 1
                        },
                        {
                          "Date": "2004-06-10",
                          "Record": 1
                        },
                        {
                          "Date": "2004-06-23",
                          "Record": 1
                        },
                        {
                          "Date": "2004-06-29",
                          "Record": 2
                        },
                        {
                          "Date": "2004-07-15",
                          "Record": 1
                        },
                        {
                          "Date": "2004-07-18",
                          "Record": 1
                        },
                        {
                          "Date": "2004-07-22",
                          "Record": 1
                        },
                        {
                          "Date": "2004-07-25",
                          "Record": 1
                        },
                        {
                          "Date": "2004-08-03",
                          "Record": 1
                        },
                        {
                          "Date": "2004-08-29",
                          "Record": 1
                        },
                        {
                          "Date": "2004-08-31",
                          "Record": 1
                        },
                        {
                          "Date": "2004-09-06",
                          "Record": 1
                        },
                        {
                          "Date": "2004-09-08",
                          "Record": 1
                        },
                        {
                          "Date": "2004-09-20",
                          "Record": 1
                        },
                        {
                          "Date": "2004-09-23",
                          "Record": 1
                        },
                        {
                          "Date": "2004-09-27",
                          "Record": 1
                        },
                        {
                          "Date": "2004-10-19",
                          "Record": 1
                        },
                        {
                          "Date": "2004-11-06",
                          "Record": 2
                        },
                        {
                          "Date": "2004-11-08",
                          "Record": 1
                        },
                        {
                          "Date": "2004-11-18",
                          "Record": 1
                        },
                        {
                          "Date": "2004-11-20",
                          "Record": 1
                        },
                        {
                          "Date": "2004-12-17",
                          "Record": 1
                        },
                        {
                          "Date": "2004-12-18",
                          "Record": 1
                        },
                        {
                          "Date": "2004-12-21",
                          "Record": 1
                        },
                        {
                          "Date": "2004-12-24",
                          "Record": 1
                        },
                        {
                          "Date": "2005-01-12",
                          "Record": 1
                        },
                        {
                          "Date": "2005-01-20",
                          "Record": 1
                        },
                        {
                          "Date": "2005-02-03",
                          "Record": 1
                        },
                        {
                          "Date": "2005-02-12",
                          "Record": 1
                        },
                        {
                          "Date": "2005-02-26",
                          "Record": 1
                        },
                        {
                          "Date": "2005-03-01",
                          "Record": 1
                        },
                        {
                          "Date": "2005-03-11",
                          "Record": 1
                        },
                        {
                          "Date": "2005-04-11",
                          "Record": 1
                        },
                        {
                          "Date": "2005-04-12",
                          "Record": 1
                        },
                        {
                          "Date": "2005-04-15",
                          "Record": 1
                        },
                        {
                          "Date": "2005-04-26",
                          "Record": 1
                        },
                        {
                          "Date": "2005-04-30",
                          "Record": 1
                        },
                        {
                          "Date": "2005-05-05",
                          "Record": 1
                        },
                        {
                          "Date": "2005-05-20",
                          "Record": 1
                        },
                        {
                          "Date": "2005-06-21",
                          "Record": 2
                        },
                        {
                          "Date": "2005-06-23",
                          "Record": 1
                        },
                        {
                          "Date": "2005-07-05",
                          "Record": 1
                        },
                        {
                          "Date": "2005-07-10",
                          "Record": 1
                        },
                        {
                          "Date": "2005-07-26",
                          "Record": 1
                        },
                        {
                          "Date": "2005-08-02",
                          "Record": 1
                        },
                        {
                          "Date": "2005-08-11",
                          "Record": 1
                        },
                        {
                          "Date": "2005-08-12",
                          "Record": 1
                        },
                        {
                          "Date": "2005-08-23",
                          "Record": 1
                        },
                        {
                          "Date": "2005-08-26",
                          "Record": 1
                        },
                        {
                          "Date": "2005-08-29",
                          "Record": 1
                        },
                        {
                          "Date": "2005-09-22",
                          "Record": 1
                        },
                        {
                          "Date": "2005-09-26",
                          "Record": 1
                        },
                        {
                          "Date": "2005-10-08",
                          "Record": 1
                        },
                        {
                          "Date": "2005-10-13",
                          "Record": 1
                        },
                        {
                          "Date": "2005-10-16",
                          "Record": 1
                        },
                        {
                          "Date": "2005-10-19",
                          "Record": 1
                        },
                        {
                          "Date": "2005-10-27",
                          "Record": 1
                        },
                        {
                          "Date": "2005-11-08",
                          "Record": 1
                        },
                        {
                          "Date": "2005-11-16",
                          "Record": 1
                        },
                        {
                          "Date": "2005-12-21",
                          "Record": 2
                        },
                        {
                          "Date": "2006-01-19",
                          "Record": 1
                        },
                        {
                          "Date": "2006-01-24",
                          "Record": 1
                        },
                        {
                          "Date": "2006-02-15",
                          "Record": 1
                        },
                        {
                          "Date": "2006-02-18",
                          "Record": 1
                        },
                        {
                          "Date": "2006-02-21",
                          "Record": 1
                        },
                        {
                          "Date": "2006-03-11",
                          "Record": 1
                        },
                        {
                          "Date": "2006-03-24",
                          "Record": 1
                        },
                        {
                          "Date": "2006-03-28",
                          "Record": 1
                        },
                        {
                          "Date": "2006-04-12",
                          "Record": 1
                        },
                        {
                          "Date": "2006-04-15",
                          "Record": 1
                        },
                        {
                          "Date": "2006-04-20",
                          "Record": 1
                        },
                        {
                          "Date": "2006-04-25",
                          "Record": 1
                        },
                        {
                          "Date": "2006-04-26",
                          "Record": 1
                        },
                        {
                          "Date": "2006-04-28",
                          "Record": 1
                        },
                        {
                          "Date": "2006-05-24",
                          "Record": 1
                        },
                        {
                          "Date": "2006-05-26",
                          "Record": 1
                        },
                        {
                          "Date": "2006-05-27",
                          "Record": 1
                        },
                        {
                          "Date": "2006-06-18",
                          "Record": 1
                        },
                        {
                          "Date": "2006-06-21",
                          "Record": 1
                        },
                        {
                          "Date": "2006-06-25",
                          "Record": 1
                        },
                        {
                          "Date": "2006-06-28",
                          "Record": 1
                        },
                        {
                          "Date": "2006-07-04",
                          "Record": 1
                        },
                        {
                          "Date": "2006-07-10",
                          "Record": 1
                        },
                        {
                          "Date": "2006-07-12",
                          "Record": 1
                        },
                        {
                          "Date": "2006-07-21",
                          "Record": 1
                        },
                        {
                          "Date": "2006-07-26",
                          "Record": 1
                        },
                        {
                          "Date": "2006-07-28",
                          "Record": 1
                        },
                        {
                          "Date": "2006-08-11",
                          "Record": 1
                        },
                        {
                          "Date": "2006-08-22",
                          "Record": 1
                        },
                        {
                          "Date": "2006-09-09",
                          "Record": 2
                        },
                        {
                          "Date": "2006-09-11",
                          "Record": 1
                        },
                        {
                          "Date": "2006-09-12",
                          "Record": 1
                        },
                        {
                          "Date": "2006-09-22",
                          "Record": 1
                        },
                        {
                          "Date": "2006-09-25",
                          "Record": 1
                        },
                        {
                          "Date": "2006-10-13",
                          "Record": 1
                        },
                        {
                          "Date": "2006-10-23",
                          "Record": 1
                        },
                        {
                          "Date": "2006-10-26",
                          "Record": 1
                        },
                        {
                          "Date": "2006-10-28",
                          "Record": 1
                        },
                        {
                          "Date": "2006-10-30",
                          "Record": 1
                        },
                        {
                          "Date": "2006-11-04",
                          "Record": 1
                        },
                        {
                          "Date": "2006-11-17",
                          "Record": 1
                        },
                        {
                          "Date": "2006-12-08",
                          "Record": 2
                        },
                        {
                          "Date": "2006-12-10",
                          "Record": 1
                        },
                        {
                          "Date": "2006-12-14",
                          "Record": 1
                        },
                        {
                          "Date": "2006-12-16",
                          "Record": 1
                        },
                        {
                          "Date": "2006-12-18",
                          "Record": 1
                        },
                        {
                          "Date": "2006-12-19",
                          "Record": 1
                        },
                        {
                          "Date": "2007-01-10",
                          "Record": 1
                        },
                        {
                          "Date": "2007-01-30",
                          "Record": 1
                        },
                        {
                          "Date": "2007-02-02",
                          "Record": 1
                        },
                        {
                          "Date": "2007-02-17",
                          "Record": 1
                        },
                        {
                          "Date": "2007-02-24",
                          "Record": 1
                        },
                        {
                          "Date": "2007-03-09",
                          "Record": 1
                        },
                        {
                          "Date": "2007-03-11",
                          "Record": 1
                        },
                        {
                          "Date": "2007-03-21",
                          "Record": 1
                        },
                        {
                          "Date": "2007-04-11",
                          "Record": 1
                        },
                        {
                          "Date": "2007-04-13",
                          "Record": 1
                        },
                        {
                          "Date": "2007-04-17",
                          "Record": 1
                        },
                        {
                          "Date": "2007-04-23",
                          "Record": 1
                        },
                        {
                          "Date": "2007-04-24",
                          "Record": 1
                        },
                        {
                          "Date": "2007-04-25",
                          "Record": 1
                        },
                        {
                          "Date": "2007-05-04",
                          "Record": 1
                        },
                        {
                          "Date": "2007-05-13",
                          "Record": 1
                        },
                        {
                          "Date": "2007-05-25",
                          "Record": 1
                        },
                        {
                          "Date": "2007-05-31",
                          "Record": 1
                        },
                        {
                          "Date": "2007-06-08",
                          "Record": 2
                        },
                        {
                          "Date": "2007-06-10",
                          "Record": 1
                        },
                        {
                          "Date": "2007-06-15",
                          "Record": 2
                        },
                        {
                          "Date": "2007-06-28",
                          "Record": 1
                        },
                        {
                          "Date": "2007-06-29",
                          "Record": 1
                        },
                        {
                          "Date": "2007-07-02",
                          "Record": 1
                        },
                        {
                          "Date": "2007-07-05",
                          "Record": 1
                        },
                        {
                          "Date": "2007-08-04",
                          "Record": 1
                        },
                        {
                          "Date": "2007-08-08",
                          "Record": 1
                        },
                        {
                          "Date": "2007-08-14",
                          "Record": 1
                        },
                        {
                          "Date": "2007-09-02",
                          "Record": 1
                        },
                        {
                          "Date": "2007-09-11",
                          "Record": 1
                        },
                        {
                          "Date": "2007-09-14",
                          "Record": 1
                        },
                        {
                          "Date": "2007-09-18",
                          "Record": 1
                        },
                        {
                          "Date": "2007-09-19",
                          "Record": 1
                        },
                        {
                          "Date": "2007-09-27",
                          "Record": 1
                        },
                        {
                          "Date": "2007-10-05",
                          "Record": 1
                        },
                        {
                          "Date": "2007-10-11",
                          "Record": 1
                        },
                        {
                          "Date": "2007-10-17",
                          "Record": 1
                        },
                        {
                          "Date": "2007-10-23",
                          "Record": 2
                        },
                        {
                          "Date": "2007-10-24",
                          "Record": 1
                        },
                        {
                          "Date": "2007-11-01",
                          "Record": 1
                        },
                        {
                          "Date": "2007-11-11",
                          "Record": 2
                        },
                        {
                          "Date": "2007-11-14",
                          "Record": 1
                        },
                        {
                          "Date": "2007-12-09",
                          "Record": 1
                        },
                        {
                          "Date": "2007-12-10",
                          "Record": 1
                        },
                        {
                          "Date": "2007-12-20",
                          "Record": 1
                        },
                        {
                          "Date": "2007-12-21",
                          "Record": 1
                        },
                        {
                          "Date": "2008-01-15",
                          "Record": 1
                        },
                        {
                          "Date": "2008-01-21",
                          "Record": 1
                        },
                        {
                          "Date": "2008-02-07",
                          "Record": 1
                        },
                        {
                          "Date": "2008-02-23",
                          "Record": 1
                        },
                        {
                          "Date": "2008-03-09",
                          "Record": 1
                        },
                        {
                          "Date": "2008-03-11",
                          "Record": 1
                        },
                        {
                          "Date": "2008-03-13",
                          "Record": 1
                        },
                        {
                          "Date": "2008-03-15",
                          "Record": 1
                        },
                        {
                          "Date": "2008-03-19",
                          "Record": 1
                        },
                        {
                          "Date": "2008-03-27",
                          "Record": 1
                        },
                        {
                          "Date": "2008-04-14",
                          "Record": 1
                        },
                        {
                          "Date": "2008-04-15",
                          "Record": 1
                        },
                        {
                          "Date": "2008-04-18",
                          "Record": 1
                        },
                        {
                          "Date": "2008-04-25",
                          "Record": 1
                        },
                        {
                          "Date": "2008-04-28",
                          "Record": 2
                        },
                        {
                          "Date": "2008-05-21",
                          "Record": 1
                        },
                        {
                          "Date": "2008-05-23",
                          "Record": 1
                        },
                        {
                          "Date": "2008-05-27",
                          "Record": 1
                        },
                        {
                          "Date": "2008-05-31",
                          "Record": 1
                        },
                        {
                          "Date": "2008-06-09",
                          "Record": 1
                        },
                        {
                          "Date": "2008-06-11",
                          "Record": 1
                        },
                        {
                          "Date": "2008-06-12",
                          "Record": 1
                        },
                        {
                          "Date": "2008-06-19",
                          "Record": 1
                        },
                        {
                          "Date": "2008-06-20",
                          "Record": 1
                        },
                        {
                          "Date": "2008-07-07",
                          "Record": 1
                        },
                        {
                          "Date": "2008-07-16",
                          "Record": 1
                        },
                        {
                          "Date": "2008-07-22",
                          "Record": 1
                        },
                        {
                          "Date": "2008-08-03",
                          "Record": 1
                        },
                        {
                          "Date": "2008-08-14",
                          "Record": 1
                        },
                        {
                          "Date": "2008-08-17",
                          "Record": 1
                        },
                        {
                          "Date": "2008-08-29",
                          "Record": 1
                        },
                        {
                          "Date": "2008-09-06",
                          "Record": 2
                        },
                        {
                          "Date": "2008-09-24",
                          "Record": 1
                        },
                        {
                          "Date": "2008-09-28",
                          "Record": 2
                        },
                        {
                          "Date": "2008-10-01",
                          "Record": 1
                        },
                        {
                          "Date": "2008-10-19",
                          "Record": 1
                        },
                        {
                          "Date": "2008-10-22",
                          "Record": 1
                        },
                        {
                          "Date": "2008-10-25",
                          "Record": 2
                        },
                        {
                          "Date": "2008-10-29",
                          "Record": 1
                        },
                        {
                          "Date": "2008-11-05",
                          "Record": 2
                        },
                        {
                          "Date": "2008-11-15",
                          "Record": 1
                        },
                        {
                          "Date": "2008-12-02",
                          "Record": 1
                        },
                        {
                          "Date": "2008-12-20",
                          "Record": 1
                        },
                        {
                          "Date": "2009-01-18",
                          "Record": 1
                        },
                        {
                          "Date": "2009-01-23",
                          "Record": 1
                        },
                        {
                          "Date": "2009-01-30",
                          "Record": 1
                        },
                        {
                          "Date": "2009-02-02",
                          "Record": 1
                        },
                        {
                          "Date": "2009-02-06",
                          "Record": 1
                        },
                        {
                          "Date": "2009-02-12",
                          "Record": 1
                        },
                        {
                          "Date": "2009-02-24",
                          "Record": 1
                        },
                        {
                          "Date": "2009-02-26",
                          "Record": 1
                        },
                        {
                          "Date": "2009-03-07",
                          "Record": 1
                        },
                        {
                          "Date": "2009-03-15",
                          "Record": 1
                        },
                        {
                          "Date": "2009-03-17",
                          "Record": 1
                        },
                        {
                          "Date": "2009-03-24",
                          "Record": 1
                        },
                        {
                          "Date": "2009-04-04",
                          "Record": 1
                        },
                        {
                          "Date": "2009-04-05",
                          "Record": 1
                        },
                        {
                          "Date": "2009-04-20",
                          "Record": 2
                        },
                        {
                          "Date": "2009-05-05",
                          "Record": 1
                        },
                        {
                          "Date": "2009-05-11",
                          "Record": 1
                        },
                        {
                          "Date": "2009-05-14",
                          "Record": 1
                        },
                        {
                          "Date": "2009-05-19",
                          "Record": 1
                        },
                        {
                          "Date": "2009-06-18",
                          "Record": 1
                        },
                        {
                          "Date": "2009-06-21",
                          "Record": 1
                        },
                        {
                          "Date": "2009-06-27",
                          "Record": 1
                        },
                        {
                          "Date": "2009-07-01",
                          "Record": 1
                        },
                        {
                          "Date": "2009-07-06",
                          "Record": 1
                        },
                        {
                          "Date": "2009-07-14",
                          "Record": 1
                        },
                        {
                          "Date": "2009-07-15",
                          "Record": 1
                        },
                        {
                          "Date": "2009-07-21",
                          "Record": 1
                        },
                        {
                          "Date": "2009-07-29",
                          "Record": 1
                        },
                        {
                          "Date": "2009-08-17",
                          "Record": 1
                        },
                        {
                          "Date": "2009-08-21",
                          "Record": 1
                        },
                        {
                          "Date": "2009-08-25",
                          "Record": 1
                        },
                        {
                          "Date": "2009-08-28",
                          "Record": 1
                        },
                        {
                          "Date": "2009-09-08",
                          "Record": 1
                        },
                        {
                          "Date": "2009-09-10",
                          "Record": 1
                        },
                        {
                          "Date": "2009-09-23",
                          "Record": 1
                        },
                        {
                          "Date": "2009-09-25",
                          "Record": 1
                        },
                        {
                          "Date": "2009-10-01",
                          "Record": 1
                        },
                        {
                          "Date": "2009-10-08",
                          "Record": 1
                        },
                        {
                          "Date": "2009-10-18",
                          "Record": 1
                        },
                        {
                          "Date": "2009-10-28",
                          "Record": 1
                        },
                        {
                          "Date": "2009-10-29",
                          "Record": 1
                        },
                        {
                          "Date": "2009-11-02",
                          "Record": 1
                        },
                        {
                          "Date": "2009-11-16",
                          "Record": 1
                        },
                        {
                          "Date": "2009-11-23",
                          "Record": 1
                        },
                        {
                          "Date": "2009-11-28",
                          "Record": 1
                        },
                        {
                          "Date": "2009-11-30",
                          "Record": 1
                        },
                        {
                          "Date": "2009-12-06",
                          "Record": 1
                        },
                        {
                          "Date": "2009-12-14",
                          "Record": 1
                        },
                        {
                          "Date": "2009-12-18",
                          "Record": 1
                        },
                        {
                          "Date": "2010-02-03",
                          "Record": 1
                        },
                        {
                          "Date": "2010-02-08",
                          "Record": 1
                        },
                        {
                          "Date": "2010-02-11",
                          "Record": 1
                        },
                        {
                          "Date": "2010-03-04",
                          "Record": 1
                        },
                        {
                          "Date": "2010-04-02",
                          "Record": 1
                        },
                        {
                          "Date": "2010-04-05",
                          "Record": 1
                        },
                        {
                          "Date": "2010-04-08",
                          "Record": 1
                        },
                        {
                          "Date": "2010-04-15",
                          "Record": 1
                        },
                        {
                          "Date": "2010-04-22",
                          "Record": 1
                        },
                        {
                          "Date": "2010-04-27",
                          "Record": 1
                        },
                        {
                          "Date": "2010-04-28",
                          "Record": 1
                        },
                        {
                          "Date": "2010-05-10",
                          "Record": 1
                        },
                        {
                          "Date": "2010-05-14",
                          "Record": 1
                        },
                        {
                          "Date": "2010-05-21",
                          "Record": 1
                        },
                        {
                          "Date": "2010-05-28",
                          "Record": 1
                        },
                        {
                          "Date": "2010-06-02",
                          "Record": 1
                        },
                        {
                          "Date": "2010-06-04",
                          "Record": 1
                        },
                        {
                          "Date": "2010-06-10",
                          "Record": 1
                        },
                        {
                          "Date": "2010-06-15",
                          "Record": 1
                        },
                        {
                          "Date": "2010-06-21",
                          "Record": 1
                        },
                        {
                          "Date": "2010-06-22",
                          "Record": 1
                        },
                        {
                          "Date": "2010-06-26",
                          "Record": 1
                        },
                        {
                          "Date": "2010-07-12",
                          "Record": 1
                        },
                        {
                          "Date": "2010-08-04",
                          "Record": 1
                        },
                        {
                          "Date": "2010-08-14",
                          "Record": 1
                        },
                        {
                          "Date": "2010-09-08",
                          "Record": 1
                        },
                        {
                          "Date": "2010-09-21",
                          "Record": 1
                        },
                        {
                          "Date": "2010-09-26",
                          "Record": 1
                        },
                        {
                          "Date": "2010-09-30",
                          "Record": 1
                        },
                        {
                          "Date": "2010-10-28",
                          "Record": 1
                        },
                        {
                          "Date": "2010-11-06",
                          "Record": 1
                        },
                        {
                          "Date": "2010-11-20",
                          "Record": 1
                        },
                        {
                          "Date": "2010-11-21",
                          "Record": 1
                        },
                        {
                          "Date": "2010-11-26",
                          "Record": 1
                        },
                        {
                          "Date": "2010-12-08",
                          "Record": 1
                        },
                        {
                          "Date": "2010-12-25",
                          "Record": 1
                        },
                        {
                          "Date": "2010-12-29",
                          "Record": 1
                        },
                        {
                          "Date": "2011-01-20",
                          "Record": 2
                        },
                        {
                          "Date": "2011-01-22",
                          "Record": 1
                        },
                        {
                          "Date": "2011-02-01",
                          "Record": 1
                        },
                        {
                          "Date": "2011-02-06",
                          "Record": 1
                        },
                        {
                          "Date": "2011-02-15",
                          "Record": 1
                        },
                        {
                          "Date": "2011-02-24",
                          "Record": 1
                        },
                        {
                          "Date": "2011-03-04",
                          "Record": 1
                        },
                        {
                          "Date": "2011-03-05",
                          "Record": 1
                        },
                        {
                          "Date": "2011-03-11",
                          "Record": 1
                        },
                        {
                          "Date": "2011-04-15",
                          "Record": 1
                        },
                        {
                          "Date": "2011-04-20",
                          "Record": 1
                        },
                        {
                          "Date": "2011-04-22",
                          "Record": 1
                        },
                        {
                          "Date": "2011-05-07",
                          "Record": 1
                        },
                        {
                          "Date": "2011-05-16",
                          "Record": 1
                        },
                        {
                          "Date": "2011-05-20",
                          "Record": 1
                        },
                        {
                          "Date": "2011-06-10",
                          "Record": 1
                        },
                        {
                          "Date": "2011-06-15",
                          "Record": 1
                        },
                        {
                          "Date": "2011-06-30",
                          "Record": 1
                        },
                        {
                          "Date": "2011-07-08",
                          "Record": 1
                        },
                        {
                          "Date": "2011-07-15",
                          "Record": 1
                        },
                        {
                          "Date": "2011-07-16",
                          "Record": 1
                        },
                        {
                          "Date": "2011-07-18",
                          "Record": 1
                        },
                        {
                          "Date": "2011-08-05",
                          "Record": 1
                        },
                        {
                          "Date": "2011-08-06",
                          "Record": 1
                        },
                        {
                          "Date": "2011-08-17",
                          "Record": 1
                        },
                        {
                          "Date": "2011-09-10",
                          "Record": 1
                        },
                        {
                          "Date": "2011-09-11",
                          "Record": 1
                        },
                        {
                          "Date": "2011-09-21",
                          "Record": 1
                        },
                        {
                          "Date": "2011-09-23",
                          "Record": 1
                        },
                        {
                          "Date": "2011-09-24",
                          "Record": 1
                        },
                        {
                          "Date": "2011-09-27",
                          "Record": 1
                        },
                        {
                          "Date": "2011-09-29",
                          "Record": 1
                        },
                        {
                          "Date": "2011-10-05",
                          "Record": 1
                        },
                        {
                          "Date": "2011-10-12",
                          "Record": 1
                        },
                        {
                          "Date": "2011-10-21",
                          "Record": 1
                        },
                        {
                          "Date": "2011-10-28",
                          "Record": 1
                        },
                        {
                          "Date": "2011-10-31",
                          "Record": 1
                        },
                        {
                          "Date": "2011-11-08",
                          "Record": 1
                        },
                        {
                          "Date": "2011-11-26",
                          "Record": 1
                        },
                        {
                          "Date": "2011-12-12",
                          "Record": 1
                        },
                        {
                          "Date": "2011-12-17",
                          "Record": 1
                        },
                        {
                          "Date": "2012-01-20",
                          "Record": 1
                        },
                        {
                          "Date": "2012-02-03",
                          "Record": 1
                        },
                        {
                          "Date": "2012-02-13",
                          "Record": 1
                        },
                        {
                          "Date": "2012-02-24",
                          "Record": 1
                        },
                        {
                          "Date": "2012-03-23",
                          "Record": 1
                        },
                        {
                          "Date": "2012-04-03",
                          "Record": 1
                        },
                        {
                          "Date": "2012-04-12",
                          "Record": 1
                        },
                        {
                          "Date": "2012-04-26",
                          "Record": 2
                        },
                        {
                          "Date": "2012-05-04",
                          "Record": 1
                        },
                        {
                          "Date": "2012-05-15",
                          "Record": 1
                        },
                        {
                          "Date": "2012-05-17",
                          "Record": 1
                        },
                        {
                          "Date": "2012-05-22",
                          "Record": 1
                        },
                        {
                          "Date": "2012-05-23",
                          "Record": 1
                        },
                        {
                          "Date": "2012-06-01",
                          "Record": 1
                        },
                        {
                          "Date": "2012-06-13",
                          "Record": 1
                        },
                        {
                          "Date": "2012-06-16",
                          "Record": 1
                        },
                        {
                          "Date": "2012-06-20",
                          "Record": 1
                        },
                        {
                          "Date": "2012-06-29",
                          "Record": 1
                        },
                        {
                          "Date": "2012-07-05",
                          "Record": 1
                        },
                        {
                          "Date": "2012-07-21",
                          "Record": 1
                        },
                        {
                          "Date": "2012-07-28",
                          "Record": 1
                        },
                        {
                          "Date": "2012-08-02",
                          "Record": 1
                        },
                        {
                          "Date": "2012-08-19",
                          "Record": 1
                        },
                        {
                          "Date": "2012-08-30",
                          "Record": 1
                        },
                        {
                          "Date": "2012-09-09",
                          "Record": 1
                        },
                        {
                          "Date": "2012-09-13",
                          "Record": 1
                        },
                        {
                          "Date": "2012-09-22",
                          "Record": 1
                        },
                        {
                          "Date": "2012-09-28",
                          "Record": 1
                        },
                        {
                          "Date": "2012-10-04",
                          "Record": 1
                        },
                        {
                          "Date": "2012-10-08",
                          "Record": 1
                        },
                        {
                          "Date": "2012-10-12",
                          "Record": 1
                        },
                        {
                          "Date": "2012-11-10",
                          "Record": 1
                        },
                        {
                          "Date": "2012-12-02",
                          "Record": 1
                        },
                        {
                          "Date": "2012-12-03",
                          "Record": 1
                        },
                        {
                          "Date": "2012-12-11",
                          "Record": 1
                        },
                        {
                          "Date": "2012-12-12",
                          "Record": 1
                        },
                        {
                          "Date": "2012-12-19",
                          "Record": 1
                        },
                        {
                          "Date": "2013-01-15",
                          "Record": 1
                        },
                        {
                          "Date": "2013-01-27",
                          "Record": 1
                        },
                        {
                          "Date": "2013-01-30",
                          "Record": 1
                        },
                        {
                          "Date": "2013-01-31",
                          "Record": 1
                        },
                        {
                          "Date": "2013-02-01",
                          "Record": 1
                        },
                        {
                          "Date": "2013-02-07",
                          "Record": 1
                        },
                        {
                          "Date": "2013-02-11",
                          "Record": 1
                        },
                        {
                          "Date": "2013-02-25",
                          "Record": 1
                        },
                        {
                          "Date": "2013-03-01",
                          "Record": 1
                        },
                        {
                          "Date": "2013-03-19",
                          "Record": 1
                        },
                        {
                          "Date": "2013-04-21",
                          "Record": 1
                        },
                        {
                          "Date": "2013-05-07",
                          "Record": 1
                        },
                        {
                          "Date": "2013-05-15",
                          "Record": 1
                        },
                        {
                          "Date": "2013-05-25",
                          "Record": 1
                        },
                        {
                          "Date": "2013-06-05",
                          "Record": 1
                        },
                        {
                          "Date": "2013-06-11",
                          "Record": 1
                        },
                        {
                          "Date": "2013-06-25",
                          "Record": 1
                        },
                        {
                          "Date": "2013-06-27",
                          "Record": 1
                        },
                        {
                          "Date": "2013-06-28",
                          "Record": 1
                        },
                        {
                          "Date": "2013-07-01",
                          "Record": 1
                        },
                        {
                          "Date": "2013-07-02",
                          "Record": 1
                        },
                        {
                          "Date": "2013-07-19",
                          "Record": 1
                        },
                        {
                          "Date": "2013-07-25",
                          "Record": 1
                        },
                        {
                          "Date": "2013-08-03",
                          "Record": 1
                        },
                        {
                          "Date": "2013-08-08",
                          "Record": 1
                        },
                        {
                          "Date": "2013-08-22",
                          "Record": 1
                        },
                        {
                          "Date": "2013-08-28",
                          "Record": 1
                        },
                        {
                          "Date": "2013-08-29",
                          "Record": 1
                        },
                        {
                          "Date": "2013-08-31",
                          "Record": 1
                        },
                        {
                          "Date": "2013-09-07",
                          "Record": 1
                        },
                        {
                          "Date": "2013-09-11",
                          "Record": 1
                        },
                        {
                          "Date": "2013-09-13",
                          "Record": 1
                        },
                        {
                          "Date": "2013-09-14",
                          "Record": 1
                        },
                        {
                          "Date": "2013-09-18",
                          "Record": 1
                        },
                        {
                          "Date": "2013-09-25",
                          "Record": 1
                        },
                        {
                          "Date": "2013-09-29",
                          "Record": 1
                        },
                        {
                          "Date": "2013-11-05",
                          "Record": 1
                        },
                        {
                          "Date": "2013-11-18",
                          "Record": 1
                        },
                        {
                          "Date": "2013-11-20",
                          "Record": 1
                        },
                        {
                          "Date": "2013-11-21",
                          "Record": 1
                        },
                        {
                          "Date": "2013-11-22",
                          "Record": 1
                        },
                        {
                          "Date": "2013-12-03",
                          "Record": 1
                        },
                        {
                          "Date": "2013-12-06",
                          "Record": 1
                        },
                        {
                          "Date": "2013-12-19",
                          "Record": 1
                        },
                        {
                          "Date": "2013-12-25",
                          "Record": 1
                        },
                        {
                          "Date": "2013-12-28",
                          "Record": 1
                        },
                        {
                          "Date": "2014-01-05",
                          "Record": 1
                        },
                        {
                          "Date": "2014-01-06",
                          "Record": 1
                        },
                        {
                          "Date": "2014-01-09",
                          "Record": 1
                        },
                        {
                          "Date": "2014-01-24",
                          "Record": 1
                        },
                        {
                          "Date": "2014-02-06",
                          "Record": 1
                        },
                        {
                          "Date": "2014-02-21",
                          "Record": 1
                        },
                        {
                          "Date": "2014-02-27",
                          "Record": 1
                        },
                        {
                          "Date": "2014-03-22",
                          "Record": 1
                        },
                        {
                          "Date": "2014-04-03",
                          "Record": 2
                        },
                        {
                          "Date": "2014-04-04",
                          "Record": 1
                        },
                        {
                          "Date": "2014-04-09",
                          "Record": 1
                        },
                        {
                          "Date": "2014-04-10",
                          "Record": 1
                        },
                        {
                          "Date": "2014-04-18",
                          "Record": 1
                        },
                        {
                          "Date": "2014-04-30",
                          "Record": 1
                        },
                        {
                          "Date": "2014-05-17",
                          "Record": 1
                        },
                        {
                          "Date": "2014-05-22",
                          "Record": 1
                        },
                        {
                          "Date": "2014-05-23",
                          "Record": 1
                        },
                        {
                          "Date": "2014-05-24",
                          "Record": 2
                        },
                        {
                          "Date": "2014-06-19",
                          "Record": 1
                        },
                        {
                          "Date": "2014-06-30",
                          "Record": 1
                        },
                        {
                          "Date": "2014-07-02",
                          "Record": 1
                        },
                        {
                          "Date": "2014-07-03",
                          "Record": 1
                        },
                        {
                          "Date": "2014-07-09",
                          "Record": 1
                        },
                        {
                          "Date": "2014-07-10",
                          "Record": 1
                        },
                        {
                          "Date": "2014-07-13",
                          "Record": 1
                        },
                        {
                          "Date": "2014-07-14",
                          "Record": 1
                        },
                        {
                          "Date": "2014-07-28",
                          "Record": 1
                        },
                        {
                          "Date": "2014-07-29",
                          "Record": 1
                        },
                        {
                          "Date": "2014-08-02",
                          "Record": 1
                        },
                        {
                          "Date": "2014-08-05",
                          "Record": 1
                        },
                        {
                          "Date": "2014-08-13",
                          "Record": 1
                        },
                        {
                          "Date": "2014-08-22",
                          "Record": 1
                        },
                        {
                          "Date": "2014-09-07",
                          "Record": 1
                        },
                        {
                          "Date": "2014-09-11",
                          "Record": 1
                        },
                        {
                          "Date": "2014-09-17",
                          "Record": 1
                        },
                        {
                          "Date": "2014-09-21",
                          "Record": 1
                        },
                        {
                          "Date": "2014-10-07",
                          "Record": 1
                        },
                        {
                          "Date": "2014-10-16",
                          "Record": 2
                        },
                        {
                          "Date": "2014-10-28",
                          "Record": 1
                        },
                        {
                          "Date": "2014-10-29",
                          "Record": 1
                        },
                        {
                          "Date": "2014-11-06",
                          "Record": 1
                        },
                        {
                          "Date": "2014-11-21",
                          "Record": 1
                        },
                        {
                          "Date": "2014-12-03",
                          "Record": 1
                        },
                        {
                          "Date": "2014-12-05",
                          "Record": 1
                        },
                        {
                          "Date": "2014-12-06",
                          "Record": 1
                        },
                        {
                          "Date": "2014-12-13",
                          "Record": 1
                        },
                        {
                          "Date": "2014-12-18",
                          "Record": 2
                        },
                        {
                          "Date": "2014-12-19",
                          "Record": 1
                        },
                        {
                          "Date": "2014-12-23",
                          "Record": 1
                        },
                        {
                          "Date": "2015-01-10",
                          "Record": 1
                        },
                        {
                          "Date": "2015-01-21",
                          "Record": 1
                        },
                        {
                          "Date": "2015-01-31",
                          "Record": 1
                        },
                        {
                          "Date": "2015-02-01",
                          "Record": 1
                        },
                        {
                          "Date": "2015-02-02",
                          "Record": 1
                        },
                        {
                          "Date": "2015-02-11",
                          "Record": 2
                        },
                        {
                          "Date": "2015-02-17",
                          "Record": 1
                        },
                        {
                          "Date": "2015-03-02",
                          "Record": 1
                        },
                        {
                          "Date": "2015-03-13",
                          "Record": 1
                        },
                        {
                          "Date": "2015-03-25",
                          "Record": 2
                        },
                        {
                          "Date": "2015-03-26",
                          "Record": 1
                        },
                        {
                          "Date": "2015-03-27",
                          "Record": 1
                        },
                        {
                          "Date": "2015-03-28",
                          "Record": 1
                        },
                        {
                          "Date": "2015-03-31",
                          "Record": 1
                        },
                        {
                          "Date": "2015-04-15",
                          "Record": 1
                        },
                        {
                          "Date": "2015-04-26",
                          "Record": 1
                        },
                        {
                          "Date": "2015-04-27",
                          "Record": 1
                        },
                        {
                          "Date": "2015-04-29",
                          "Record": 1
                        },
                        {
                          "Date": "2015-05-20",
                          "Record": 1
                        },
                        {
                          "Date": "2015-05-27",
                          "Record": 1
                        },
                        {
                          "Date": "2015-06-23",
                          "Record": 1
                        },
                        {
                          "Date": "2015-06-28",
                          "Record": 1
                        },
                        {
                          "Date": "2015-07-10",
                          "Record": 1
                        },
                        {
                          "Date": "2015-07-15",
                          "Record": 2
                        },
                        {
                          "Date": "2015-07-24",
                          "Record": 1
                        },
                        {
                          "Date": "2015-08-19",
                          "Record": 1
                        },
                        {
                          "Date": "2015-08-20",
                          "Record": 1
                        },
                        {
                          "Date": "2015-08-27",
                          "Record": 1
                        },
                        {
                          "Date": "2015-09-02",
                          "Record": 1
                        },
                        {
                          "Date": "2015-09-11",
                          "Record": 1
                        },
                        {
                          "Date": "2015-09-19",
                          "Record": 1
                        },
                        {
                          "Date": "2015-09-23",
                          "Record": 1
                        },
                        {
                          "Date": "2015-09-25",
                          "Record": 1
                        },
                        {
                          "Date": "2015-09-28",
                          "Record": 1
                        },
                        {
                          "Date": "2015-09-30",
                          "Record": 1
                        },
                        {
                          "Date": "2015-10-02",
                          "Record": 1
                        },
                        {
                          "Date": "2015-10-08",
                          "Record": 1
                        },
                        {
                          "Date": "2015-10-31",
                          "Record": 1
                        },
                        {
                          "Date": "2015-11-04",
                          "Record": 1
                        },
                        {
                          "Date": "2015-11-10",
                          "Record": 1
                        },
                        {
                          "Date": "2015-11-23",
                          "Record": 1
                        },
                        {
                          "Date": "2015-11-24",
                          "Record": 1
                        },
                        {
                          "Date": "2015-12-03",
                          "Record": 1
                        },
                        {
                          "Date": "2015-12-05",
                          "Record": 1
                        },
                        {
                          "Date": "2015-12-06",
                          "Record": 1
                        },
                        {
                          "Date": "2015-12-11",
                          "Record": 1
                        },
                        {
                          "Date": "2015-12-16",
                          "Record": 1
                        },
                        {
                          "Date": "2015-12-17",
                          "Record": 1
                        },
                        {
                          "Date": "2015-12-22",
                          "Record": 1
                        },
                        {
                          "Date": "2016-01-15",
                          "Record": 1
                        },
                        {
                          "Date": "2016-01-17",
                          "Record": 1
                        },
                        {
                          "Date": "2016-01-20",
                          "Record": 1
                        },
                        {
                          "Date": "2016-01-22",
                          "Record": 1
                        },
                        {
                          "Date": "2016-01-27",
                          "Record": 1
                        },
                        {
                          "Date": "2016-01-29",
                          "Record": 1
                        },
                        {
                          "Date": "2016-02-01",
                          "Record": 1
                        },
                        {
                          "Date": "2016-02-05",
                          "Record": 1
                        },
                        {
                          "Date": "2016-02-07",
                          "Record": 2
                        },
                        {
                          "Date": "2016-02-10",
                          "Record": 1
                        },
                        {
                          "Date": "2016-02-16",
                          "Record": 1
                        },
                        {
                          "Date": "2016-02-17",
                          "Record": 1
                        },
                        {
                          "Date": "2016-03-04",
                          "Record": 1
                        },
                        {
                          "Date": "2016-03-09",
                          "Record": 1
                        },
                        {
                          "Date": "2016-03-10",
                          "Record": 1
                        },
                        {
                          "Date": "2016-03-13",
                          "Record": 1
                        },
                        {
                          "Date": "2016-03-14",
                          "Record": 1
                        },
                        {
                          "Date": "2016-03-18",
                          "Record": 1
                        },
                        {
                          "Date": "2016-03-23",
                          "Record": 1
                        },
                        {
                          "Date": "2016-03-24",
                          "Record": 1
                        },
                        {
                          "Date": "2016-03-29",
                          "Record": 1
                        },
                        {
                          "Date": "2016-03-31",
                          "Record": 1
                        },
                        {
                          "Date": "2016-04-02",
                          "Record": 1
                        },
                        {
                          "Date": "2016-04-05",
                          "Record": 1
                        },
                        {
                          "Date": "2016-04-08",
                          "Record": 1
                        },
                        {
                          "Date": "2016-04-25",
                          "Record": 1
                        },
                        {
                          "Date": "2016-04-28",
                          "Record": 2
                        },
                        {
                          "Date": "2016-05-06",
                          "Record": 1
                        },
                        {
                          "Date": "2016-05-15",
                          "Record": 1
                        },
                        {
                          "Date": "2016-05-24",
                          "Record": 1
                        },
                        {
                          "Date": "2016-05-27",
                          "Record": 1
                        },
                        {
                          "Date": "2016-05-29",
                          "Record": 1
                        },
                        {
                          "Date": "2016-05-30",
                          "Record": 1
                        },
                        {
                          "Date": "2016-06-04",
                          "Record": 1
                        },
                        {
                          "Date": "2016-06-09",
                          "Record": 1
                        },
                        {
                          "Date": "2016-06-11",
                          "Record": 1
                        },
                        {
                          "Date": "2016-06-12",
                          "Record": 1
                        },
                        {
                          "Date": "2016-06-15",
                          "Record": 1
                        },
                        {
                          "Date": "2016-06-18",
                          "Record": 1
                        },
                        {
                          "Date": "2016-06-19",
                          "Record": 1
                        },
                        {
                          "Date": "2016-06-22",
                          "Record": 1
                        },
                        {
                          "Date": "2016-06-24",
                          "Record": 1
                        },
                        {
                          "Date": "2016-06-25",
                          "Record": 1
                        },
                        {
                          "Date": "2016-06-29",
                          "Record": 1
                        },
                        {
                          "Date": "2016-07-07",
                          "Record": 1
                        },
                        {
                          "Date": "2016-07-16",
                          "Record": 1
                        },
                        {
                          "Date": "2016-07-18",
                          "Record": 1
                        },
                        {
                          "Date": "2016-07-28",
                          "Record": 1
                        },
                        {
                          "Date": "2016-08-05",
                          "Record": 1
                        },
                        {
                          "Date": "2016-08-09",
                          "Record": 1
                        },
                        {
                          "Date": "2016-08-14",
                          "Record": 1
                        },
                        {
                          "Date": "2016-08-15",
                          "Record": 1
                        },
                        {
                          "Date": "2016-08-19",
                          "Record": 1
                        },
                        {
                          "Date": "2016-08-24",
                          "Record": 1
                        },
                        {
                          "Date": "2016-08-31",
                          "Record": 1
                        },
                        {
                          "Date": "2016-09-01",
                          "Record": 1
                        },
                        {
                          "Date": "2016-09-08",
                          "Record": 2
                        },
                        {
                          "Date": "2016-09-13",
                          "Record": 1
                        },
                        {
                          "Date": "2016-09-15",
                          "Record": 1
                        },
                        {
                          "Date": "2016-09-16",
                          "Record": 1
                        },
                        {
                          "Date": "2016-09-26",
                          "Record": 1
                        },
                        {
                          "Date": "2016-10-05",
                          "Record": 1
                        },
                        {
                          "Date": "2016-10-06",
                          "Record": 1
                        },
                        {
                          "Date": "2016-10-16",
                          "Record": 1
                        },
                        {
                          "Date": "2016-10-17",
                          "Record": 1
                        },
                        {
                          "Date": "2016-10-19",
                          "Record": 1
                        },
                        {
                          "Date": "2016-11-02",
                          "Record": 1
                        },
                        {
                          "Date": "2016-11-03",
                          "Record": 1
                        },
                        {
                          "Date": "2016-11-09",
                          "Record": 1
                        },
                        {
                          "Date": "2016-11-11",
                          "Record": 2
                        },
                        {
                          "Date": "2016-11-17",
                          "Record": 2
                        },
                        {
                          "Date": "2016-11-19",
                          "Record": 1
                        },
                        {
                          "Date": "2016-11-22",
                          "Record": 1
                        },
                        {
                          "Date": "2016-12-01",
                          "Record": 1
                        },
                        {
                          "Date": "2016-12-05",
                          "Record": 1
                        },
                        {
                          "Date": "2016-12-07",
                          "Record": 2
                        },
                        {
                          "Date": "2016-12-09",
                          "Record": 1
                        },
                        {
                          "Date": "2016-12-10",
                          "Record": 1
                        },
                        {
                          "Date": "2016-12-15",
                          "Record": 1
                        },
                        {
                          "Date": "2016-12-18",
                          "Record": 1
                        },
                        {
                          "Date": "2016-12-20",
                          "Record": 1
                        },
                        {
                          "Date": "2016-12-21",
                          "Record": 2
                        },
                        {
                          "Date": "2016-12-28",
                          "Record": 1
                        },
                        {
                          "Date": "2017-01-05",
                          "Record": 1
                        },
                        {
                          "Date": "2017-01-09",
                          "Record": 1
                        },
                        {
                          "Date": "2017-01-14",
                          "Record": 2
                        },
                        {
                          "Date": "2017-01-21",
                          "Record": 1
                        },
                        {
                          "Date": "2017-01-24",
                          "Record": 1
                        },
                        {
                          "Date": "2017-01-28",
                          "Record": 1
                        },
                        {
                          "Date": "2017-02-14",
                          "Record": 1
                        },
                        {
                          "Date": "2017-02-15",
                          "Record": 1
                        },
                        {
                          "Date": "2017-02-19",
                          "Record": 1
                        },
                        {
                          "Date": "2017-02-22",
                          "Record": 1
                        },
                        {
                          "Date": "2017-03-01",
                          "Record": 1
                        },
                        {
                          "Date": "2017-03-02",
                          "Record": 1
                        },
                        {
                          "Date": "2017-03-07",
                          "Record": 1
                        },
                        {
                          "Date": "2017-03-16",
                          "Record": 1
                        },
                        {
                          "Date": "2017-03-17",
                          "Record": 1
                        },
                        {
                          "Date": "2017-03-19",
                          "Record": 1
                        },
                        {
                          "Date": "2017-03-30",
                          "Record": 1
                        },
                        {
                          "Date": "2017-04-12",
                          "Record": 1
                        },
                        {
                          "Date": "2017-04-18",
                          "Record": 1
                        },
                        {
                          "Date": "2017-04-20",
                          "Record": 2
                        },
                        {
                          "Date": "2017-05-01",
                          "Record": 1
                        },
                        {
                          "Date": "2017-05-04",
                          "Record": 1
                        },
                        {
                          "Date": "2017-05-05",
                          "Record": 1
                        },
                        {
                          "Date": "2017-05-15",
                          "Record": 1
                        },
                        {
                          "Date": "2017-05-18",
                          "Record": 1
                        },
                        {
                          "Date": "2017-05-25",
                          "Record": 2
                        },
                        {
                          "Date": "2017-06-01",
                          "Record": 2
                        },
                        {
                          "Date": "2017-06-03",
                          "Record": 1
                        },
                        {
                          "Date": "2017-06-05",
                          "Record": 1
                        },
                        {
                          "Date": "2017-06-08",
                          "Record": 1
                        },
                        {
                          "Date": "2017-06-14",
                          "Record": 1
                        },
                        {
                          "Date": "2017-06-15",
                          "Record": 1
                        },
                        {
                          "Date": "2017-06-18",
                          "Record": 1
                        },
                        {
                          "Date": "2017-06-23",
                          "Record": 3
                        },
                        {
                          "Date": "2017-06-25",
                          "Record": 1
                        },
                        {
                          "Date": "2017-06-28",
                          "Record": 1
                        },
                        {
                          "Date": "2017-07-02",
                          "Record": 1
                        },
                        {
                          "Date": "2017-07-05",
                          "Record": 1
                        },
                        {
                          "Date": "2017-07-14",
                          "Record": 1
                        },
                        {
                          "Date": "2017-07-27",
                          "Record": 1
                        },
                        {
                          "Date": "2017-07-28",
                          "Record": 1
                        },
                        {
                          "Date": "2017-08-02",
                          "Record": 1
                        },
                        {
                          "Date": "2017-08-12",
                          "Record": 1
                        },
                        {
                          "Date": "2017-08-14",
                          "Record": 1
                        },
                        {
                          "Date": "2017-08-16",
                          "Record": 1
                        },
                        {
                          "Date": "2017-08-18",
                          "Record": 1
                        },
                        {
                          "Date": "2017-08-19",
                          "Record": 1
                        },
                        {
                          "Date": "2017-08-22",
                          "Record": 1
                        },
                        {
                          "Date": "2017-08-24",
                          "Record": 1
                        },
                        {
                          "Date": "2017-08-25",
                          "Record": 1
                        },
                        {
                          "Date": "2017-08-31",
                          "Record": 1
                        },
                        {
                          "Date": "2017-09-07",
                          "Record": 1
                        },
                        {
                          "Date": "2017-09-11",
                          "Record": 1
                        },
                        {
                          "Date": "2017-09-24",
                          "Record": 1
                        },
                        {
                          "Date": "2017-09-28",
                          "Record": 1
                        },
                        {
                          "Date": "2017-09-29",
                          "Record": 2
                        },
                        {
                          "Date": "2017-10-09",
                          "Record": 3
                        },
                        {
                          "Date": "2017-10-11",
                          "Record": 1
                        },
                        {
                          "Date": "2017-10-13",
                          "Record": 1
                        },
                        {
                          "Date": "2017-10-14",
                          "Record": 1
                        },
                        {
                          "Date": "2017-10-15",
                          "Record": 1
                        },
                        {
                          "Date": "2017-10-30",
                          "Record": 1
                        },
                        {
                          "Date": "2017-10-31",
                          "Record": 1
                        },
                        {
                          "Date": "2017-11-05",
                          "Record": 1
                        },
                        {
                          "Date": "2017-11-08",
                          "Record": 1
                        },
                        {
                          "Date": "2017-11-12",
                          "Record": 1
                        },
                        {
                          "Date": "2017-11-14",
                          "Record": 1
                        },
                        {
                          "Date": "2017-11-18",
                          "Record": 1
                        },
                        {
                          "Date": "2017-11-21",
                          "Record": 1
                        },
                        {
                          "Date": "2017-11-24",
                          "Record": 1
                        },
                        {
                          "Date": "2017-11-28",
                          "Record": 1
                        },
                        {
                          "Date": "2017-12-02",
                          "Record": 1
                        },
                        {
                          "Date": "2017-12-03",
                          "Record": 1
                        },
                        {
                          "Date": "2017-12-10",
                          "Record": 1
                        },
                        {
                          "Date": "2017-12-12",
                          "Record": 1
                        },
                        {
                          "Date": "2017-12-15",
                          "Record": 1
                        },
                        {
                          "Date": "2017-12-17",
                          "Record": 2
                        },
                        {
                          "Date": "2017-12-23",
                          "Record": 3
                        },
                        {
                          "Date": "2017-12-25",
                          "Record": 1
                        },
                        {
                          "Date": "2017-12-26",
                          "Record": 1
                        },
                        {
                          "Date": "2018-01-08",
                          "Record": 1
                        },
                        {
                          "Date": "2018-01-09",
                          "Record": 1
                        },
                        {
                          "Date": "2018-01-11",
                          "Record": 1
                        },
                        {
                          "Date": "2018-01-12",
                          "Record": 2
                        },
                        {
                          "Date": "2018-01-13",
                          "Record": 1
                        },
                        {
                          "Date": "2018-01-17",
                          "Record": 1
                        },
                        {
                          "Date": "2018-01-19",
                          "Record": 1
                        },
                        {
                          "Date": "2018-01-20",
                          "Record": 1
                        },
                        {
                          "Date": "2018-01-21",
                          "Record": 1
                        },
                        {
                          "Date": "2018-01-25",
                          "Record": 2
                        },
                        {
                          "Date": "2018-01-31",
                          "Record": 1
                        },
                        {
                          "Date": "2018-02-01",
                          "Record": 1
                        },
                        {
                          "Date": "2018-02-02",
                          "Record": 1
                        },
                        {
                          "Date": "2018-02-03",
                          "Record": 1
                        },
                        {
                          "Date": "2018-02-06",
                          "Record": 1
                        },
                        {
                          "Date": "2018-02-12",
                          "Record": 1
                        },
                        {
                          "Date": "2018-02-13",
                          "Record": 1
                        },
                        {
                          "Date": "2018-02-22",
                          "Record": 1
                        },
                        {
                          "Date": "2018-02-27",
                          "Record": 1
                        },
                        {
                          "Date": "2018-03-01",
                          "Record": 1
                        },
                        {
                          "Date": "2018-03-06",
                          "Record": 1
                        },
                        {
                          "Date": "2018-03-09",
                          "Record": 1
                        },
                        {
                          "Date": "2018-03-17",
                          "Record": 1
                        },
                        {
                          "Date": "2018-03-21",
                          "Record": 1
                        },
                        {
                          "Date": "2018-03-29",
                          "Record": 3
                        },
                        {
                          "Date": "2018-03-30",
                          "Record": 1
                        },
                        {
                          "Date": "2018-03-31",
                          "Record": 1
                        },
                        {
                          "Date": "2018-04-02",
                          "Record": 1
                        },
                        {
                          "Date": "2018-04-05",
                          "Record": 1
                        },
                        {
                          "Date": "2018-04-10",
                          "Record": 1
                        },
                        {
                          "Date": "2018-04-11",
                          "Record": 1
                        },
                        {
                          "Date": "2018-04-14",
                          "Record": 1
                        },
                        {
                          "Date": "2018-04-18",
                          "Record": 2
                        },
                        {
                          "Date": "2018-04-25",
                          "Record": 1
                        },
                        {
                          "Date": "2018-04-26",
                          "Record": 1
                        },
                        {
                          "Date": "2018-04-29",
                          "Record": 1
                        },
                        {
                          "Date": "2018-05-03",
                          "Record": 1
                        },
                        {
                          "Date": "2018-05-05",
                          "Record": 1
                        },
                        {
                          "Date": "2018-05-08",
                          "Record": 1
                        },
                        {
                          "Date": "2018-05-11",
                          "Record": 1
                        },
                        {
                          "Date": "2018-05-20",
                          "Record": 1
                        },
                        {
                          "Date": "2018-05-21",
                          "Record": 1
                        },
                        {
                          "Date": "2018-05-22",
                          "Record": 1
                        },
                        {
                          "Date": "2018-06-02",
                          "Record": 1
                        },
                        {
                          "Date": "2018-06-04",
                          "Record": 1
                        },
                        {
                          "Date": "2018-06-05",
                          "Record": 1
                        },
                        {
                          "Date": "2018-06-06",
                          "Record": 1
                        },
                        {
                          "Date": "2018-06-12",
                          "Record": 1
                        },
                        {
                          "Date": "2018-06-16",
                          "Record": 1
                        },
                        {
                          "Date": "2018-06-27",
                          "Record": 1
                        },
                        {
                          "Date": "2018-06-29",
                          "Record": 1
                        },
                        {
                          "Date": "2018-07-09",
                          "Record": 3
                        },
                        {
                          "Date": "2018-07-18",
                          "Record": 1
                        },
                        {
                          "Date": "2018-07-22",
                          "Record": 1
                        },
                        {
                          "Date": "2018-07-25",
                          "Record": 2
                        },
                        {
                          "Date": "2018-07-29",
                          "Record": 1
                        },
                        {
                          "Date": "2018-07-31",
                          "Record": 1
                        },
                        {
                          "Date": "2018-08-07",
                          "Record": 1
                        },
                        {
                          "Date": "2018-08-12",
                          "Record": 1
                        },
                        {
                          "Date": "2018-08-22",
                          "Record": 1
                        },
                        {
                          "Date": "2018-08-24",
                          "Record": 1
                        },
                        {
                          "Date": "2018-08-25",
                          "Record": 1
                        },
                        {
                          "Date": "2018-09-07",
                          "Record": 1
                        },
                        {
                          "Date": "2018-09-10",
                          "Record": 1
                        },
                        {
                          "Date": "2018-09-15",
                          "Record": 1
                        },
                        {
                          "Date": "2018-09-16",
                          "Record": 1
                        },
                        {
                          "Date": "2018-09-19",
                          "Record": 1
                        },
                        {
                          "Date": "2018-09-22",
                          "Record": 1
                        },
                        {
                          "Date": "2018-09-25",
                          "Record": 1
                        },
                        {
                          "Date": "2018-09-29",
                          "Record": 1
                        },
                        {
                          "Date": "2018-10-08",
                          "Record": 1
                        },
                        {
                          "Date": "2018-10-09",
                          "Record": 1
                        },
                        {
                          "Date": "2018-10-11",
                          "Record": 1
                        },
                        {
                          "Date": "2018-10-15",
                          "Record": 1
                        },
                        {
                          "Date": "2018-10-17",
                          "Record": 1
                        },
                        {
                          "Date": "2018-10-20",
                          "Record": 1
                        },
                        {
                          "Date": "2018-10-24",
                          "Record": 1
                        },
                        {
                          "Date": "2018-10-25",
                          "Record": 1
                        },
                        {
                          "Date": "2018-10-27",
                          "Record": 1
                        },
                        {
                          "Date": "2018-10-29",
                          "Record": 2
                        },
                        {
                          "Date": "2018-11-01",
                          "Record": 1
                        },
                        {
                          "Date": "2018-11-03",
                          "Record": 1
                        },
                        {
                          "Date": "2018-11-07",
                          "Record": 1
                        },
                        {
                          "Date": "2018-11-11",
                          "Record": 1
                        },
                        {
                          "Date": "2018-11-14",
                          "Record": 1
                        },
                        {
                          "Date": "2018-11-15",
                          "Record": 1
                        },
                        {
                          "Date": "2018-11-16",
                          "Record": 1
                        },
                        {
                          "Date": "2018-11-17",
                          "Record": 1
                        },
                        {
                          "Date": "2018-11-18",
                          "Record": 1
                        },
                        {
                          "Date": "2018-11-19",
                          "Record": 1
                        },
                        {
                          "Date": "2018-11-21",
                          "Record": 1
                        },
                        {
                          "Date": "2018-11-29",
                          "Record": 1
                        },
                        {
                          "Date": "2018-11-30",
                          "Record": 1
                        },
                        {
                          "Date": "2018-12-03",
                          "Record": 2
                        },
                        {
                          "Date": "2018-12-04",
                          "Record": 1
                        },
                        {
                          "Date": "2018-12-05",
                          "Record": 1
                        },
                        {
                          "Date": "2018-12-07",
                          "Record": 2
                        },
                        {
                          "Date": "2018-12-16",
                          "Record": 1
                        },
                        {
                          "Date": "2018-12-19",
                          "Record": 2
                        },
                        {
                          "Date": "2018-12-21",
                          "Record": 2
                        },
                        {
                          "Date": "2018-12-23",
                          "Record": 1
                        },
                        {
                          "Date": "2018-12-24",
                          "Record": 1
                        },
                        {
                          "Date": "2018-12-27",
                          "Record": 1
                        },
                        {
                          "Date": "2018-12-29",
                          "Record": 1
                        },
                        {
                          "Date": "2019-01-10",
                          "Record": 1
                        },
                        {
                          "Date": "2019-01-11",
                          "Record": 1
                        },
                        {
                          "Date": "2019-01-15",
                          "Record": 1
                        },
                        {
                          "Date": "2019-01-18",
                          "Record": 1
                        },
                        {
                          "Date": "2019-01-19",
                          "Record": 1
                        },
                        {
                          "Date": "2019-01-21",
                          "Record": 1
                        },
                        {
                          "Date": "2019-01-23",
                          "Record": 1
                        },
                        {
                          "Date": "2019-01-24",
                          "Record": 1
                        },
                        {
                          "Date": "2019-02-05",
                          "Record": 2
                        },
                        {
                          "Date": "2019-02-21",
                          "Record": 1
                        },
                        {
                          "Date": "2019-02-22",
                          "Record": 1
                        },
                        {
                          "Date": "2019-02-27",
                          "Record": 1
                        },
                        {
                          "Date": "2019-03-02",
                          "Record": 2
                        },
                        {
                          "Date": "2019-03-09",
                          "Record": 1
                        },
                        {
                          "Date": "2019-03-14",
                          "Record": 1
                        },
                        {
                          "Date": "2019-03-16",
                          "Record": 1
                        },
                        {
                          "Date": "2019-03-22",
                          "Record": 1
                        },
                        {
                          "Date": "2019-03-27",
                          "Record": 1
                        },
                        {
                          "Date": "2019-03-28",
                          "Record": 1
                        },
                        {
                          "Date": "2019-03-31",
                          "Record": 1
                        },
                        {
                          "Date": "2019-04-01",
                          "Record": 1
                        },
                        {
                          "Date": "2019-04-04",
                          "Record": 2
                        },
                        {
                          "Date": "2019-04-11",
                          "Record": 1
                        },
                        {
                          "Date": "2019-04-17",
                          "Record": 1
                        },
                        {
                          "Date": "2019-04-20",
                          "Record": 1
                        },
                        {
                          "Date": "2019-04-29",
                          "Record": 1
                        },
                        {
                          "Date": "2019-05-02",
                          "Record": 1
                        },
                        {
                          "Date": "2019-05-04",
                          "Record": 1
                        },
                        {
                          "Date": "2019-05-05",
                          "Record": 1
                        },
                        {
                          "Date": "2019-05-17",
                          "Record": 1
                        },
                        {
                          "Date": "2019-05-22",
                          "Record": 2
                        },
                        {
                          "Date": "2019-05-24",
                          "Record": 1
                        },
                        {
                          "Date": "2019-05-27",
                          "Record": 1
                        },
                        {
                          "Date": "2019-05-30",
                          "Record": 1
                        },
                        {
                          "Date": "2019-06-05",
                          "Record": 1
                        },
                        {
                          "Date": "2019-06-12",
                          "Record": 1
                        },
                        {
                          "Date": "2019-06-20",
                          "Record": 1
                        },
                        {
                          "Date": "2019-06-24",
                          "Record": 1
                        },
                        {
                          "Date": "2019-06-25",
                          "Record": 1
                        },
                        {
                          "Date": "2019-06-29",
                          "Record": 2
                        },
                        {
                          "Date": "2019-07-05",
                          "Record": 1
                        },
                        {
                          "Date": "2019-07-10",
                          "Record": 1
                        },
                        {
                          "Date": "2019-07-11",
                          "Record": 1
                        },
                        {
                          "Date": "2019-07-13",
                          "Record": 1
                        },
                        {
                          "Date": "2019-07-20",
                          "Record": 1
                        },
                        {
                          "Date": "2019-07-22",
                          "Record": 1
                        },
                        {
                          "Date": "2019-07-25",
                          "Record": 2
                        },
                        {
                          "Date": "2019-07-26",
                          "Record": 1
                        },
                        {
                          "Date": "2019-07-30",
                          "Record": 1
                        },
                        {
                          "Date": "2019-07-31",
                          "Record": 1
                        },
                        {
                          "Date": "2019-08-05",
                          "Record": 1
                        },
                        {
                          "Date": "2019-08-06",
                          "Record": 2
                        },
                        {
                          "Date": "2019-08-08",
                          "Record": 1
                        },
                        {
                          "Date": "2019-08-17",
                          "Record": 1
                        },
                        {
                          "Date": "2019-08-19",
                          "Record": 2
                        },
                        {
                          "Date": "2019-08-22",
                          "Record": 2
                        },
                        {
                          "Date": "2019-08-29",
                          "Record": 1
                        },
                        {
                          "Date": "2019-08-30",
                          "Record": 2
                        },
                        {
                          "Date": "2019-09-12",
                          "Record": 1
                        },
                        {
                          "Date": "2019-09-19",
                          "Record": 1
                        },
                        {
                          "Date": "2019-09-22",
                          "Record": 1
                        },
                        {
                          "Date": "2019-09-24",
                          "Record": 1
                        },
                        {
                          "Date": "2019-09-25",
                          "Record": 2
                        },
                        {
                          "Date": "2019-09-26",
                          "Record": 1
                        },
                        {
                          "Date": "2019-10-04",
                          "Record": 1
                        },
                        {
                          "Date": "2019-10-09",
                          "Record": 1
                        },
                        {
                          "Date": "2019-10-11",
                          "Record": 1
                        },
                        {
                          "Date": "2019-10-17",
                          "Record": 2
                        },
                        {
                          "Date": "2019-10-26",
                          "Record": 1
                        },
                        {
                          "Date": "2019-11-02",
                          "Record": 1
                        },
                        {
                          "Date": "2019-11-03",
                          "Record": 1
                        },
                        {
                          "Date": "2019-11-04",
                          "Record": 1
                        },
                        {
                          "Date": "2019-11-11",
                          "Record": 1
                        },
                        {
                          "Date": "2019-11-13",
                          "Record": 2
                        },
                        {
                          "Date": "2019-11-17",
                          "Record": 1
                        },
                        {
                          "Date": "2019-11-23",
                          "Record": 1
                        },
                        {
                          "Date": "2019-11-25",
                          "Record": 1
                        },
                        {
                          "Date": "2019-11-26",
                          "Record": 1
                        },
                        {
                          "Date": "2019-11-27",
                          "Record": 2
                        },
                        {
                          "Date": "2019-12-05",
                          "Record": 1
                        },
                        {
                          "Date": "2019-12-06",
                          "Record": 2
                        },
                        {
                          "Date": "2019-12-07",
                          "Record": 2
                        },
                        {
                          "Date": "2019-12-11",
                          "Record": 3
                        },
                        {
                          "Date": "2019-12-16",
                          "Record": 1
                        },
                        {
                          "Date": "2019-12-17",
                          "Record": 1
                        },
                        {
                          "Date": "2019-12-18",
                          "Record": 1
                        },
                        {
                          "Date": "2019-12-20",
                          "Record": 2
                        },
                        {
                          "Date": "2019-12-24",
                          "Record": 1
                        },
                        {
                          "Date": "2019-12-26",
                          "Record": 1
                        },
                        {
                          "Date": "2019-12-27",
                          "Record": 1
                        },
                        {
                          "Date": "2020-01-07",
                          "Record": 2
                        },
                        {
                          "Date": "2020-01-15",
                          "Record": 1
                        },
                        {
                          "Date": "2020-01-16",
                          "Record": 2
                        },
                        {
                          "Date": "2020-01-19",
                          "Record": 1
                        },
                        {
                          "Date": "2020-01-29",
                          "Record": 1
                        },
                        {
                          "Date": "2020-01-31",
                          "Record": 1
                        },
                        {
                          "Date": "2020-02-06",
                          "Record": 1
                        },
                        {
                          "Date": "2020-02-09",
                          "Record": 2
                        },
                        {
                          "Date": "2020-02-10",
                          "Record": 1
                        },
                        {
                          "Date": "2020-02-15",
                          "Record": 1
                        },
                        {
                          "Date": "2020-02-17",
                          "Record": 1
                        },
                        {
                          "Date": "2020-02-18",
                          "Record": 1
                        },
                        {
                          "Date": "2020-02-19",
                          "Record": 1
                        },
                        {
                          "Date": "2020-02-20",
                          "Record": 1
                        },
                        {
                          "Date": "2020-03-07",
                          "Record": 1
                        },
                        {
                          "Date": "2020-03-09",
                          "Record": 1
                        },
                        {
                          "Date": "2020-03-16",
                          "Record": 2
                        },
                        {
                          "Date": "2020-03-18",
                          "Record": 1
                        },
                        {
                          "Date": "2020-03-21",
                          "Record": 1
                        },
                        {
                          "Date": "2020-03-24",
                          "Record": 1
                        },
                        {
                          "Date": "2020-03-26",
                          "Record": 1
                        },
                        {
                          "Date": "2020-04-09",
                          "Record": 2
                        },
                        {
                          "Date": "2020-04-22",
                          "Record": 2
                        },
                        {
                          "Date": "2020-04-25",
                          "Record": 1
                        },
                        {
                          "Date": "2020-05-05",
                          "Record": 1
                        },
                        {
                          "Date": "2020-05-12",
                          "Record": 1
                        },
                        {
                          "Date": "2020-05-17",
                          "Record": 1
                        },
                        {
                          "Date": "2020-05-20",
                          "Record": 1
                        },
                        {
                          "Date": "2020-05-22",
                          "Record": 1
                        },
                        {
                          "Date": "2020-05-25",
                          "Record": 1
                        },
                        {
                          "Date": "2020-05-29",
                          "Record": 1
                        },
                        {
                          "Date": "2020-05-30",
                          "Record": 1
                        },
                        {
                          "Date": "2020-05-31",
                          "Record": 1
                        },
                        {
                          "Date": "2020-06-04",
                          "Record": 1
                        },
                        {
                          "Date": "2020-06-10",
                          "Record": 1
                        },
                        {
                          "Date": "2020-06-13",
                          "Record": 2
                        },
                        {
                          "Date": "2020-06-17",
                          "Record": 1
                        },
                        {
                          "Date": "2020-06-23",
                          "Record": 1
                        },
                        {
                          "Date": "2020-06-30",
                          "Record": 1
                        },
                        {
                          "Date": "2020-07-03",
                          "Record": 1
                        },
                        {
                          "Date": "2020-07-04",
                          "Record": 2
                        },
                        {
                          "Date": "2020-07-06",
                          "Record": 1
                        },
                        {
                          "Date": "2020-07-09",
                          "Record": 1
                        },
                        {
                          "Date": "2020-07-10",
                          "Record": 1
                        },
                        {
                          "Date": "2020-07-15",
                          "Record": 1
                        },
                        {
                          "Date": "2020-07-19",
                          "Record": 1
                        },
                        {
                          "Date": "2020-07-20",
                          "Record": 1
                        },
                        {
                          "Date": "2020-07-23",
                          "Record": 2
                        },
                        {
                          "Date": "2020-07-25",
                          "Record": 1
                        },
                        {
                          "Date": "2020-07-30",
                          "Record": 2
                        },
                        {
                          "Date": "2020-08-04",
                          "Record": 1
                        },
                        {
                          "Date": "2020-08-06",
                          "Record": 1
                        },
                        {
                          "Date": "2020-08-07",
                          "Record": 1
                        },
                        {
                          "Date": "2020-08-15",
                          "Record": 1
                        },
                        {
                          "Date": "2020-08-18",
                          "Record": 1
                        },
                        {
                          "Date": "2020-08-23",
                          "Record": 1
                        },
                        {
                          "Date": "2020-08-30",
                          "Record": 1
                        },
                        {
                          "Date": "2020-08-31",
                          "Record": 1
                        },
                        {
                          "Date": "2020-09-03",
                          "Record": 2
                        },
                        {
                          "Date": "2020-09-04",
                          "Record": 1
                        },
                        {
                          "Date": "2020-09-07",
                          "Record": 1
                        },
                        {
                          "Date": "2020-09-12",
                          "Record": 2
                        },
                        {
                          "Date": "2020-09-15",
                          "Record": 1
                        },
                        {
                          "Date": "2020-09-21",
                          "Record": 1
                        },
                        {
                          "Date": "2020-09-27",
                          "Record": 1
                        },
                        {
                          "Date": "2020-09-28",
                          "Record": 1
                        },
                        {
                          "Date": "2020-10-03",
                          "Record": 1
                        },
                        {
                          "Date": "2020-10-06",
                          "Record": 1
                        },
                        {
                          "Date": "2020-10-11",
                          "Record": 1
                        },
                        {
                          "Date": "2020-10-13",
                          "Record": 1
                        },
                        {
                          "Date": "2020-10-14",
                          "Record": 1
                        },
                        {
                          "Date": "2020-10-18",
                          "Record": 1
                        },
                        {
                          "Date": "2020-10-24",
                          "Record": 1
                        },
                        {
                          "Date": "2020-10-25",
                          "Record": 1
                        },
                        {
                          "Date": "2020-10-26",
                          "Record": 1
                        },
                        {
                          "Date": "2020-10-28",
                          "Record": 1
                        },
                        {
                          "Date": "2020-11-05",
                          "Record": 1
                        },
                        {
                          "Date": "2020-11-06",
                          "Record": 1
                        },
                        {
                          "Date": "2020-11-07",
                          "Record": 2
                        },
                        {
                          "Date": "2020-11-12",
                          "Record": 1
                        },
                        {
                          "Date": "2020-11-13",
                          "Record": 1
                        },
                        {
                          "Date": "2020-11-16",
                          "Record": 1
                        },
                        {
                          "Date": "2020-11-17",
                          "Record": 1
                        },
                        {
                          "Date": "2020-11-20",
                          "Record": 1
                        },
                        {
                          "Date": "2020-11-21",
                          "Record": 1
                        },
                        {
                          "Date": "2020-11-23",
                          "Record": 1
                        },
                        {
                          "Date": "2020-11-25",
                          "Record": 1
                        },
                        {
                          "Date": "2020-11-29",
                          "Record": 1
                        },
                        {
                          "Date": "2020-12-02",
                          "Record": 1
                        },
                        {
                          "Date": "2020-12-03",
                          "Record": 1
                        },
                        {
                          "Date": "2020-12-06",
                          "Record": 2
                        },
                        {
                          "Date": "2020-12-09",
                          "Record": 2
                        },
                        {
                          "Date": "2020-12-11",
                          "Record": 1
                        },
                        {
                          "Date": "2020-12-12",
                          "Record": 1
                        },
                        {
                          "Date": "2020-12-13",
                          "Record": 1
                        },
                        {
                          "Date": "2020-12-14",
                          "Record": 1
                        },
                        {
                          "Date": "2020-12-15",
                          "Record": 2
                        },
                        {
                          "Date": "2020-12-17",
                          "Record": 1
                        },
                        {
                          "Date": "2020-12-18",
                          "Record": 1
                        },
                        {
                          "Date": "2020-12-19",
                          "Record": 1
                        },
                        {
                          "Date": "2020-12-22",
                          "Record": 1
                        },
                        {
                          "Date": "2020-12-27",
                          "Record": 1
                        },
                        {
                          "Date": "2020-12-29",
                          "Record": 1
                        },
                        {
                          "Date": "2021-01-08",
                          "Record": 1
                        },
                        {
                          "Date": "2021-01-14",
                          "Record": 1
                        },
                        {
                          "Date": "2021-01-17",
                          "Record": 1
                        },
                        {
                          "Date": "2021-01-19",
                          "Record": 1
                        },
                        {
                          "Date": "2021-01-20",
                          "Record": 2
                        },
                        {
                          "Date": "2021-01-24",
                          "Record": 1
                        },
                        {
                          "Date": "2021-01-29",
                          "Record": 1
                        },
                        {
                          "Date": "2021-02-01",
                          "Record": 2
                        },
                        {
                          "Date": "2021-02-02",
                          "Record": 2
                        },
                        {
                          "Date": "2021-02-04",
                          "Record": 2
                        },
                        {
                          "Date": "2021-02-15",
                          "Record": 1
                        },
                        {
                          "Date": "2021-02-16",
                          "Record": 1
                        },
                        {
                          "Date": "2021-02-20",
                          "Record": 1
                        },
                        {
                          "Date": "2021-02-24",
                          "Record": 1
                        },
                        {
                          "Date": "2021-02-28",
                          "Record": 2
                        },
                        {
                          "Date": "2021-03-03",
                          "Record": 1
                        },
                        {
                          "Date": "2021-03-04",
                          "Record": 1
                        },
                        {
                          "Date": "2021-03-11",
                          "Record": 2
                        },
                        {
                          "Date": "2021-03-13",
                          "Record": 1
                        },
                        {
                          "Date": "2021-03-14",
                          "Record": 1
                        },
                        {
                          "Date": "2021-03-22",
                          "Record": 2
                        },
                        {
                          "Date": "2021-03-24",
                          "Record": 1
                        },
                        {
                          "Date": "2021-03-25",
                          "Record": 1
                        },
                        {
                          "Date": "2021-03-30",
                          "Record": 2
                        },
                        {
                          "Date": "2021-04-07",
                          "Record": 1
                        },
                        {
                          "Date": "2021-04-08",
                          "Record": 1
                        },
                        {
                          "Date": "2021-04-09",
                          "Record": 1
                        },
                        {
                          "Date": "2021-04-14",
                          "Record": 1
                        },
                        {
                          "Date": "2021-04-23",
                          "Record": 1
                        },
                        {
                          "Date": "2021-04-25",
                          "Record": 1
                        },
                        {
                          "Date": "2021-04-26",
                          "Record": 1
                        },
                        {
                          "Date": "2021-04-27",
                          "Record": 1
                        },
                        {
                          "Date": "2021-04-29",
                          "Record": 3
                        },
                        {
                          "Date": "2021-04-30",
                          "Record": 1
                        },
                        {
                          "Date": "2021-05-04",
                          "Record": 1
                        },
                        {
                          "Date": "2021-05-05",
                          "Record": 1
                        },
                        {
                          "Date": "2021-05-06",
                          "Record": 1
                        },
                        {
                          "Date": "2021-05-09",
                          "Record": 1
                        },
                        {
                          "Date": "2021-05-15",
                          "Record": 2
                        },
                        {
                          "Date": "2021-05-18",
                          "Record": 1
                        },
                        {
                          "Date": "2021-05-19",
                          "Record": 1
                        },
                        {
                          "Date": "2021-05-22",
                          "Record": 1
                        },
                        {
                          "Date": "2021-05-26",
                          "Record": 1
                        },
                        {
                          "Date": "2021-05-28",
                          "Record": 1
                        },
                        {
                          "Date": "2021-05-29",
                          "Record": 1
                        },
                        {
                          "Date": "2021-06-02",
                          "Record": 1
                        },
                        {
                          "Date": "2021-06-03",
                          "Record": 1
                        },
                        {
                          "Date": "2021-06-06",
                          "Record": 1
                        },
                        {
                          "Date": "2021-06-11",
                          "Record": 1
                        },
                        {
                          "Date": "2021-06-13",
                          "Record": 1
                        },
                        {
                          "Date": "2021-06-15",
                          "Record": 1
                        },
                        {
                          "Date": "2021-06-17",
                          "Record": 2
                        },
                        {
                          "Date": "2021-06-18",
                          "Record": 1
                        },
                        {
                          "Date": "2021-06-25",
                          "Record": 1
                        },
                        {
                          "Date": "2021-06-29",
                          "Record": 1
                        },
                        {
                          "Date": "2021-06-30",
                          "Record": 2
                        },
                        {
                          "Date": "2021-07-01",
                          "Record": 1
                        },
                        {
                          "Date": "2021-07-03",
                          "Record": 1
                        },
                        {
                          "Date": "2021-07-04",
                          "Record": 1
                        },
                        {
                          "Date": "2021-07-06",
                          "Record": 1
                        },
                        {
                          "Date": "2021-07-09",
                          "Record": 1
                        },
                        {
                          "Date": "2021-07-11",
                          "Record": 1
                        },
                        {
                          "Date": "2021-07-19",
                          "Record": 1
                        },
                        {
                          "Date": "2021-07-20",
                          "Record": 1
                        },
                        {
                          "Date": "2021-07-21",
                          "Record": 1
                        },
                        {
                          "Date": "2021-07-29",
                          "Record": 2
                        },
                        {
                          "Date": "2021-07-30",
                          "Record": 1
                        },
                        {
                          "Date": "2021-08-03",
                          "Record": 1
                        },
                        {
                          "Date": "2021-08-04",
                          "Record": 1
                        },
                        {
                          "Date": "2021-08-05",
                          "Record": 1
                        },
                        {
                          "Date": "2021-08-10",
                          "Record": 1
                        },
                        {
                          "Date": "2021-08-12",
                          "Record": 1
                        },
                        {
                          "Date": "2021-08-17",
                          "Record": 1
                        },
                        {
                          "Date": "2021-08-18",
                          "Record": 1
                        },
                        {
                          "Date": "2021-08-21",
                          "Record": 1
                        },
                        {
                          "Date": "2021-08-24",
                          "Record": 2
                        },
                        {
                          "Date": "2021-08-26",
                          "Record": 1
                        },
                        {
                          "Date": "2021-08-28",
                          "Record": 1
                        },
                        {
                          "Date": "2021-08-29",
                          "Record": 1
                        },
                        {
                          "Date": "2021-09-03",
                          "Record": 1
                        },
                        {
                          "Date": "2021-09-07",
                          "Record": 1
                        },
                        {
                          "Date": "2021-09-09",
                          "Record": 2
                        },
                        {
                          "Date": "2021-09-14",
                          "Record": 2
                        },
                        {
                          "Date": "2021-09-16",
                          "Record": 1
                        },
                        {
                          "Date": "2021-09-20",
                          "Record": 1
                        },
                        {
                          "Date": "2021-09-27",
                          "Record": 3
                        },
                        {
                          "Date": "2021-10-05",
                          "Record": 1
                        },
                        {
                          "Date": "2021-10-13",
                          "Record": 1
                        },
                        {
                          "Date": "2021-10-14",
                          "Record": 2
                        },
                        {
                          "Date": "2021-10-15",
                          "Record": 1
                        },
                        {
                          "Date": "2021-10-16",
                          "Record": 1
                        },
                        {
                          "Date": "2021-10-21",
                          "Record": 1
                        },
                        {
                          "Date": "2021-10-24",
                          "Record": 2
                        },
                        {
                          "Date": "2021-10-26",
                          "Record": 1
                        },
                        {
                          "Date": "2021-10-27",
                          "Record": 1
                        },
                        {
                          "Date": "2021-10-28",
                          "Record": 1
                        },
                        {
                          "Date": "2021-11-03",
                          "Record": 1
                        },
                        {
                          "Date": "2021-11-05",
                          "Record": 1
                        },
                        {
                          "Date": "2021-11-06",
                          "Record": 1
                        },
                        {
                          "Date": "2021-11-09",
                          "Record": 1
                        },
                        {
                          "Date": "2021-11-11",
                          "Record": 1
                        },
                        {
                          "Date": "2021-11-13",
                          "Record": 1
                        },
                        {
                          "Date": "2021-11-16",
                          "Record": 1
                        },
                        {
                          "Date": "2021-11-18",
                          "Record": 1
                        },
                        {
                          "Date": "2021-11-20",
                          "Record": 2
                        },
                        {
                          "Date": "2021-11-22",
                          "Record": 1
                        },
                        {
                          "Date": "2021-11-24",
                          "Record": 3
                        },
                        {
                          "Date": "2021-11-25",
                          "Record": 1
                        },
                        {
                          "Date": "2021-11-26",
                          "Record": 1
                        },
                        {
                          "Date": "2021-12-02",
                          "Record": 1
                        },
                        {
                          "Date": "2021-12-05",
                          "Record": 1
                        },
                        {
                          "Date": "2021-12-07",
                          "Record": 2
                        },
                        {
                          "Date": "2021-12-08",
                          "Record": 1
                        },
                        {
                          "Date": "2021-12-09",
                          "Record": 2
                        },
                        {
                          "Date": "2021-12-10",
                          "Record": 1
                        },
                        {
                          "Date": "2021-12-11",
                          "Record": 1
                        },
                        {
                          "Date": "2021-12-13",
                          "Record": 2
                        },
                        {
                          "Date": "2021-12-15",
                          "Record": 1
                        },
                        {
                          "Date": "2021-12-18",
                          "Record": 1
                        },
                        {
                          "Date": "2021-12-19",
                          "Record": 1
                        },
                        {
                          "Date": "2021-12-21",
                          "Record": 1
                        },
                        {
                          "Date": "2021-12-22",
                          "Record": 1
                        },
                        {
                          "Date": "2021-12-23",
                          "Record": 1
                        },
                        {
                          "Date": "2021-12-25",
                          "Record": 1
                        },
                        {
                          "Date": "2021-12-26",
                          "Record": 1
                        },
                        {
                          "Date": "2021-12-27",
                          "Record": 2
                        },
                        {
                          "Date": "2021-12-29",
                          "Record": 2
                        },
                        {
                          "Date": "2021-12-30",
                          "Record": 1
                        },
                        {
                          "Date": "2022-01-06",
                          "Record": 1
                        },
                        {
                          "Date": "2022-01-13",
                          "Record": 2
                        },
                        {
                          "Date": "2022-01-17",
                          "Record": 1
                        },
                        {
                          "Date": "2022-01-19",
                          "Record": 1
                        },
                        {
                          "Date": "2022-01-21",
                          "Record": 1
                        },
                        {
                          "Date": "2022-01-25",
                          "Record": 1
                        },
                        {
                          "Date": "2022-01-31",
                          "Record": 1
                        },
                        {
                          "Date": "2022-02-02",
                          "Record": 1
                        },
                        {
                          "Date": "2022-02-03",
                          "Record": 1
                        },
                        {
                          "Date": "2022-02-05",
                          "Record": 1
                        },
                        {
                          "Date": "2022-02-10",
                          "Record": 2
                        },
                        {
                          "Date": "2022-02-14",
                          "Record": 1
                        },
                        {
                          "Date": "2022-02-15",
                          "Record": 1
                        },
                        {
                          "Date": "2022-02-19",
                          "Record": 1
                        },
                        {
                          "Date": "2022-02-21",
                          "Record": 1
                        },
                        {
                          "Date": "2022-02-25",
                          "Record": 1
                        },
                        {
                          "Date": "2022-02-26",
                          "Record": 1
                        },
                        {
                          "Date": "2022-02-27",
                          "Record": 1
                        },
                        {
                          "Date": "2022-02-28",
                          "Record": 1
                        },
                        {
                          "Date": "2022-03-01",
                          "Record": 1
                        },
                        {
                          "Date": "2022-03-03",
                          "Record": 1
                        },
                        {
                          "Date": "2022-03-05",
                          "Record": 1
                        },
                        {
                          "Date": "2022-03-08",
                          "Record": 1
                        },
                        {
                          "Date": "2022-03-09",
                          "Record": 1
                        },
                        {
                          "Date": "2022-03-15",
                          "Record": 1
                        },
                        {
                          "Date": "2022-03-17",
                          "Record": 1
                        },
                        {
                          "Date": "2022-03-18",
                          "Record": 1
                        },
                        {
                          "Date": "2022-03-19",
                          "Record": 1
                        },
                        {
                          "Date": "2022-03-22",
                          "Record": 1
                        },
                        {
                          "Date": "2022-03-29",
                          "Record": 1
                        },
                        {
                          "Date": "2022-03-30",
                          "Record": 1
                        },
                        {
                          "Date": "2022-03-31",
                          "Record": 1
                        },
                        {
                          "Date": "2022-04-01",
                          "Record": 1
                        },
                        {
                          "Date": "2022-04-02",
                          "Record": 1
                        },
                        {
                          "Date": "2022-04-06",
                          "Record": 1
                        },
                        {
                          "Date": "2022-04-07",
                          "Record": 1
                        },
                        {
                          "Date": "2022-04-08",
                          "Record": 1
                        },
                        {
                          "Date": "2022-04-15",
                          "Record": 2
                        },
                        {
                          "Date": "2022-04-17",
                          "Record": 1
                        },
                        {
                          "Date": "2022-04-21",
                          "Record": 1
                        },
                        {
                          "Date": "2022-04-27",
                          "Record": 1
                        },
                        {
                          "Date": "2022-04-29",
                          "Record": 3
                        },
                        {
                          "Date": "2022-04-30",
                          "Record": 1
                        },
                        {
                          "Date": "2022-05-02",
                          "Record": 1
                        },
                        {
                          "Date": "2022-05-05",
                          "Record": 1
                        },
                        {
                          "Date": "2022-05-06",
                          "Record": 1
                        },
                        {
                          "Date": "2022-05-09",
                          "Record": 1
                        },
                        {
                          "Date": "2022-05-13",
                          "Record": 2
                        },
                        {
                          "Date": "2022-05-14",
                          "Record": 1
                        },
                        {
                          "Date": "2022-05-18",
                          "Record": 1
                        },
                        {
                          "Date": "2022-05-19",
                          "Record": 2
                        },
                        {
                          "Date": "2022-05-20",
                          "Record": 1
                        },
                        {
                          "Date": "2022-05-25",
                          "Record": 1
                        },
                        {
                          "Date": "2022-06-02",
                          "Record": 1
                        },
                        {
                          "Date": "2022-06-03",
                          "Record": 1
                        },
                        {
                          "Date": "2022-06-04",
                          "Record": 1
                        },
                        {
                          "Date": "2022-06-05",
                          "Record": 1
                        },
                        {
                          "Date": "2022-06-08",
                          "Record": 1
                        },
                        {
                          "Date": "2022-06-17",
                          "Record": 1
                        },
                        {
                          "Date": "2022-06-18",
                          "Record": 1
                        },
                        {
                          "Date": "2022-06-19",
                          "Record": 1
                        },
                        {
                          "Date": "2022-06-21",
                          "Record": 1
                        },
                        {
                          "Date": "2022-06-22",
                          "Record": 2
                        },
                        {
                          "Date": "2022-06-23",
                          "Record": 1
                        },
                        {
                          "Date": "2022-06-27",
                          "Record": 1
                        },
                        {
                          "Date": "2022-06-28",
                          "Record": 1
                        },
                        {
                          "Date": "2022-06-29",
                          "Record": 1
                        },
                        {
                          "Date": "2022-06-30",
                          "Record": 1
                        },
                        {
                          "Date": "2022-07-01",
                          "Record": 1
                        },
                        {
                          "Date": "2022-07-02",
                          "Record": 1
                        },
                        {
                          "Date": "2022-07-07",
                          "Record": 2
                        },
                        {
                          "Date": "2022-07-11",
                          "Record": 1
                        },
                        {
                          "Date": "2022-07-12",
                          "Record": 2
                        },
                        {
                          "Date": "2022-07-13",
                          "Record": 2
                        },
                        {
                          "Date": "2022-07-15",
                          "Record": 2
                        },
                        {
                          "Date": "2022-07-17",
                          "Record": 1
                        },
                        {
                          "Date": "2022-07-22",
                          "Record": 1
                        },
                        {
                          "Date": "2022-07-24",
                          "Record": 2
                        },
                        {
                          "Date": "2022-07-27",
                          "Record": 1
                        },
                        {
                          "Date": "2022-07-29",
                          "Record": 1
                        }
                      ]
                    },
                    "vislib": "vegalite"
                  },
                  {
                    "config": {
                      "view": {
                        "continuousWidth": 400,
                        "continuousHeight": 300
                      },
                      "axis": {
                        "labelColor": "#505050",
                        "labelFont": "Helvetica Neue",
                        "labelFontSize": 9,
                        "labelFontWeight": 400,
                        "titleFont": "Helvetica Neue",
                        "titleFontSize": 11,
                        "titleFontWeight": 500
                      },
                      "legend": {
                        "labelFont": "Helvetica Neue",
                        "labelFontSize": 9,
                        "labelFontWeight": 400,
                        "titleFont": "Helvetica Neue",
                        "titleFontSize": 10,
                        "titleFontWeight": 500
                      },
                      "title": {
                        "font": "Helvetica Neue",
                        "fontSize": 13,
                        "fontWeight": 500
                      }
                    },
                    "data": {
                      "name": "data-6e815ea75ee681b3c61be96203aa452f"
                    },
                    "mark": "line",
                    "encoding": {
                      "x": {
                        "axis": {
                          "title": "Date (year)"
                        },
                        "field": "Date (year)",
                        "type": "temporal"
                      },
                      "y": {
                        "axis": {
                          "title": "Record"
                        },
                        "field": "Record",
                        "title": "Number of Records",
                        "type": "quantitative"
                      }
                    },
                    "height": 150,
                    "selection": {
                      "selector002": {
                        "type": "interval",
                        "bind": "scales",
                        "encodings": [
                          "x",
                          "y"
                        ]
                      }
                    },
                    "width": 160,
                    "$schema": "https://vega.github.io/schema/vega-lite/v4.17.0.json",
                    "datasets": {
                      "data-6e815ea75ee681b3c61be96203aa452f": [
                        {
                          "Date (year)": "1957-01-01T00:00:00",
                          "Record": 3
                        },
                        {
                          "Date (year)": "1958-01-01T00:00:00",
                          "Record": 28
                        },
                        {
                          "Date (year)": "1959-01-01T00:00:00",
                          "Record": 20
                        },
                        {
                          "Date (year)": "1960-01-01T00:00:00",
                          "Record": 39
                        },
                        {
                          "Date (year)": "1961-01-01T00:00:00",
                          "Record": 52
                        },
                        {
                          "Date (year)": "1962-01-01T00:00:00",
                          "Record": 82
                        },
                        {
                          "Date (year)": "1963-01-01T00:00:00",
                          "Record": 41
                        },
                        {
                          "Date (year)": "1964-01-01T00:00:00",
                          "Record": 60
                        },
                        {
                          "Date (year)": "1965-01-01T00:00:00",
                          "Record": 87
                        },
                        {
                          "Date (year)": "1966-01-01T00:00:00",
                          "Record": 101
                        },
                        {
                          "Date (year)": "1967-01-01T00:00:00",
                          "Record": 106
                        },
                        {
                          "Date (year)": "1968-01-01T00:00:00",
                          "Record": 103
                        },
                        {
                          "Date (year)": "1969-01-01T00:00:00",
                          "Record": 103
                        },
                        {
                          "Date (year)": "1970-01-01T00:00:00",
                          "Record": 107
                        },
                        {
                          "Date (year)": "1971-01-01T00:00:00",
                          "Record": 119
                        },
                        {
                          "Date (year)": "1972-01-01T00:00:00",
                          "Record": 99
                        },
                        {
                          "Date (year)": "1973-01-01T00:00:00",
                          "Record": 103
                        },
                        {
                          "Date (year)": "1974-01-01T00:00:00",
                          "Record": 98
                        },
                        {
                          "Date (year)": "1975-01-01T00:00:00",
                          "Record": 113
                        },
                        {
                          "Date (year)": "1976-01-01T00:00:00",
                          "Record": 113
                        },
                        {
                          "Date (year)": "1977-01-01T00:00:00",
                          "Record": 114
                        },
                        {
                          "Date (year)": "1978-01-01T00:00:00",
                          "Record": 97
                        },
                        {
                          "Date (year)": "1979-01-01T00:00:00",
                          "Record": 49
                        },
                        {
                          "Date (year)": "1980-01-01T00:00:00",
                          "Record": 55
                        },
                        {
                          "Date (year)": "1981-01-01T00:00:00",
                          "Record": 71
                        },
                        {
                          "Date (year)": "1982-01-01T00:00:00",
                          "Record": 67
                        },
                        {
                          "Date (year)": "1983-01-01T00:00:00",
                          "Record": 66
                        },
                        {
                          "Date (year)": "1984-01-01T00:00:00",
                          "Record": 69
                        },
                        {
                          "Date (year)": "1985-01-01T00:00:00",
                          "Record": 74
                        },
                        {
                          "Date (year)": "1986-01-01T00:00:00",
                          "Record": 62
                        },
                        {
                          "Date (year)": "1987-01-01T00:00:00",
                          "Record": 56
                        },
                        {
                          "Date (year)": "1988-01-01T00:00:00",
                          "Record": 59
                        },
                        {
                          "Date (year)": "1989-01-01T00:00:00",
                          "Record": 52
                        },
                        {
                          "Date (year)": "1990-01-01T00:00:00",
                          "Record": 80
                        },
                        {
                          "Date (year)": "1991-01-01T00:00:00",
                          "Record": 59
                        },
                        {
                          "Date (year)": "1992-01-01T00:00:00",
                          "Record": 62
                        },
                        {
                          "Date (year)": "1993-01-01T00:00:00",
                          "Record": 61
                        },
                        {
                          "Date (year)": "1994-01-01T00:00:00",
                          "Record": 64
                        },
                        {
                          "Date (year)": "1995-01-01T00:00:00",
                          "Record": 61
                        },
                        {
                          "Date (year)": "1996-01-01T00:00:00",
                          "Record": 60
                        },
                        {
                          "Date (year)": "1997-01-01T00:00:00",
                          "Record": 70
                        },
                        {
                          "Date (year)": "1998-01-01T00:00:00",
                          "Record": 68
                        },
                        {
                          "Date (year)": "1999-01-01T00:00:00",
                          "Record": 57
                        },
                        {
                          "Date (year)": "2000-01-01T00:00:00",
                          "Record": 57
                        },
                        {
                          "Date (year)": "2001-01-01T00:00:00",
                          "Record": 43
                        },
                        {
                          "Date (year)": "2002-01-01T00:00:00",
                          "Record": 49
                        },
                        {
                          "Date (year)": "2003-01-01T00:00:00",
                          "Record": 52
                        },
                        {
                          "Date (year)": "2004-01-01T00:00:00",
                          "Record": 40
                        },
                        {
                          "Date (year)": "2005-01-01T00:00:00",
                          "Record": 37
                        },
                        {
                          "Date (year)": "2006-01-01T00:00:00",
                          "Record": 49
                        },
                        {
                          "Date (year)": "2007-01-01T00:00:00",
                          "Record": 50
                        },
                        {
                          "Date (year)": "2008-01-01T00:00:00",
                          "Record": 48
                        },
                        {
                          "Date (year)": "2009-01-01T00:00:00",
                          "Record": 50
                        },
                        {
                          "Date (year)": "2010-01-01T00:00:00",
                          "Record": 37
                        },
                        {
                          "Date (year)": "2011-01-01T00:00:00",
                          "Record": 42
                        },
                        {
                          "Date (year)": "2012-01-01T00:00:00",
                          "Record": 38
                        },
                        {
                          "Date (year)": "2013-01-01T00:00:00",
                          "Record": 46
                        },
                        {
                          "Date (year)": "2014-01-01T00:00:00",
                          "Record": 53
                        },
                        {
                          "Date (year)": "2015-01-01T00:00:00",
                          "Record": 52
                        },
                        {
                          "Date (year)": "2016-01-01T00:00:00",
                          "Record": 90
                        },
                        {
                          "Date (year)": "2017-01-01T00:00:00",
                          "Record": 92
                        },
                        {
                          "Date (year)": "2018-01-01T00:00:00",
                          "Record": 117
                        },
                        {
                          "Date (year)": "2019-01-01T00:00:00",
                          "Record": 109
                        },
                        {
                          "Date (year)": "2020-01-01T00:00:00",
                          "Record": 119
                        },
                        {
                          "Date (year)": "2021-01-01T00:00:00",
                          "Record": 157
                        },
                        {
                          "Date (year)": "2022-01-01T00:00:00",
                          "Record": 93
                        }
                      ]
                    },
                    "vislib": "vegalite"
                  },
                  {
                    "config": {
                      "view": {
                        "continuousWidth": 400,
                        "continuousHeight": 300
                      },
                      "axis": {
                        "labelColor": "#505050",
                        "labelFont": "Helvetica Neue",
                        "labelFontSize": 9,
                        "labelFontWeight": 400,
                        "titleFont": "Helvetica Neue",
                        "titleFontSize": 11,
                        "titleFontWeight": 500
                      },
                      "legend": {
                        "labelFont": "Helvetica Neue",
                        "labelFontSize": 9,
                        "labelFontWeight": 400,
                        "titleFont": "Helvetica Neue",
                        "titleFontSize": 10,
                        "titleFontWeight": 500
                      },
                      "title": {
                        "font": "Helvetica Neue",
                        "fontSize": 13,
                        "fontWeight": 500
                      }
                    },
                    "data": {
                      "name": "data-e090d7e6856286c683f7a8f285e53271"
                    },
                    "mark": "line",
                    "encoding": {
                      "x": {
                        "axis": {
                          "title": "Date (month)"
                        },
                        "field": "Date (month)",
                        "type": "ordinal"
                      },
                      "y": {
                        "axis": {
                          "title": "Record"
                        },
                        "field": "Record",
                        "title": "Number of Records",
                        "type": "quantitative"
                      }
                    },
                    "height": 150,
                    "selection": {
                      "selector003": {
                        "type": "interval",
                        "bind": "scales",
                        "encodings": [
                          "x",
                          "y"
                        ]
                      }
                    },
                    "width": 160,
                    "$schema": "https://vega.github.io/schema/vega-lite/v4.17.0.json",
                    "datasets": {
                      "data-e090d7e6856286c683f7a8f285e53271": [
                        {
                          "Date (month)": 1,
                          "Record": 284
                        },
                        {
                          "Date (month)": 2,
                          "Record": 361
                        },
                        {
                          "Date (month)": 3,
                          "Record": 378
                        },
                        {
                          "Date (month)": 4,
                          "Record": 409
                        },
                        {
                          "Date (month)": 5,
                          "Record": 350
                        },
                        {
                          "Date (month)": 6,
                          "Record": 431
                        },
                        {
                          "Date (month)": 7,
                          "Record": 380
                        },
                        {
                          "Date (month)": 8,
                          "Record": 391
                        },
                        {
                          "Date (month)": 9,
                          "Record": 386
                        },
                        {
                          "Date (month)": 10,
                          "Record": 403
                        },
                        {
                          "Date (month)": 11,
                          "Record": 365
                        },
                        {
                          "Date (month)": 12,
                          "Record": 492
                        }
                      ]
                    },
                    "vislib": "vegalite"
                  },
                  {
                    "config": {
                      "view": {
                        "continuousWidth": 400,
                        "continuousHeight": 300
                      },
                      "axis": {
                        "labelColor": "#505050",
                        "labelFont": "Helvetica Neue",
                        "labelFontSize": 9,
                        "labelFontWeight": 400,
                        "titleFont": "Helvetica Neue",
                        "titleFontSize": 11,
                        "titleFontWeight": 500
                      },
                      "legend": {
                        "labelFont": "Helvetica Neue",
                        "labelFontSize": 9,
                        "labelFontWeight": 400,
                        "titleFont": "Helvetica Neue",
                        "titleFontSize": 10,
                        "titleFontWeight": 500
                      },
                      "title": {
                        "font": "Helvetica Neue",
                        "fontSize": 13,
                        "fontWeight": 500
                      }
                    },
                    "data": {
                      "name": "data-316976e5df06619a0e4816598dd88b7d"
                    },
                    "mark": "line",
                    "encoding": {
                      "x": {
                        "axis": {
                          "title": "Date (day of week)"
                        },
                        "field": "Date (day of week)",
                        "type": "ordinal"
                      },
                      "y": {
                        "axis": {
                          "title": "Record"
                        },
                        "field": "Record",
                        "title": "Number of Records",
                        "type": "quantitative"
                      }
                    },
                    "height": 150,
                    "selection": {
                      "selector004": {
                        "type": "interval",
                        "bind": "scales",
                        "encodings": [
                          "x",
                          "y"
                        ]
                      }
                    },
                    "width": 160,
                    "$schema": "https://vega.github.io/schema/vega-lite/v4.17.0.json",
                    "datasets": {
                      "data-316976e5df06619a0e4816598dd88b7d": [
                        {
                          "Date (day of week)": 0,
                          "Record": 453
                        },
                        {
                          "Date (day of week)": 1,
                          "Record": 791
                        },
                        {
                          "Date (day of week)": 2,
                          "Record": 869
                        },
                        {
                          "Date (day of week)": 3,
                          "Record": 869
                        },
                        {
                          "Date (day of week)": 4,
                          "Record": 815
                        },
                        {
                          "Date (day of week)": 5,
                          "Record": 528
                        },
                        {
                          "Date (day of week)": 6,
                          "Record": 305
                        }
                      ]
                    },
                    "vislib": "vegalite"
                  }
                ]
              }
            ],
            "selectedIntentIndex": {}
          }
        },
        "11c4995baf3e4db0b883d2f4f911cfc7": {
          "model_module": "@jupyter-widgets/base",
          "model_name": "LayoutModel",
          "model_module_version": "1.2.0",
          "state": {
            "_model_module": "@jupyter-widgets/base",
            "_model_module_version": "1.2.0",
            "_model_name": "LayoutModel",
            "_view_count": null,
            "_view_module": "@jupyter-widgets/base",
            "_view_module_version": "1.2.0",
            "_view_name": "LayoutView",
            "align_content": null,
            "align_items": null,
            "align_self": null,
            "border": null,
            "bottom": null,
            "display": null,
            "flex": null,
            "flex_flow": null,
            "grid_area": null,
            "grid_auto_columns": null,
            "grid_auto_flow": null,
            "grid_auto_rows": null,
            "grid_column": null,
            "grid_gap": null,
            "grid_row": null,
            "grid_template_areas": null,
            "grid_template_columns": null,
            "grid_template_rows": null,
            "height": null,
            "justify_content": null,
            "justify_items": null,
            "left": null,
            "margin": null,
            "max_height": null,
            "max_width": null,
            "min_height": null,
            "min_width": null,
            "object_fit": null,
            "object_position": null,
            "order": null,
            "overflow": null,
            "overflow_x": null,
            "overflow_y": null,
            "padding": null,
            "right": null,
            "top": null,
            "visibility": null,
            "width": null
          }
        }
      }
    }
  },
  "cells": [
    {
      "cell_type": "markdown",
      "metadata": {
        "id": "view-in-github",
        "colab_type": "text"
      },
      "source": [
        "<a href=\"https://colab.research.google.com/github/brndnaxr/brndnaxr-micro-projects/blob/main/maven-challenges/space-mission/Maven_Space_Mission_Challenge.ipynb\" target=\"_parent\"><img src=\"https://colab.research.google.com/assets/colab-badge.svg\" alt=\"Open In Colab\"/></a>"
      ]
    },
    {
      "cell_type": "code",
      "execution_count": 1,
      "metadata": {
        "id": "TQxWUDyqGt-p"
      },
      "outputs": [],
      "source": [
        "from google.colab import output\n",
        "output.enable_custom_widget_manager()\n",
        "\n",
        "import lux\n",
        "import pandas as pd\n",
        "from pandas_profiling import ProfileReport"
      ]
    },
    {
      "cell_type": "code",
      "source": [
        "data = pd.read_csv(\"space_missions.csv\", encoding='latin-1')"
      ],
      "metadata": {
        "id": "uZU1MptADT3l"
      },
      "execution_count": 2,
      "outputs": []
    },
    {
      "cell_type": "code",
      "source": [
        "data"
      ],
      "metadata": {
        "colab": {
          "base_uri": "https://localhost:8080/",
          "height": 582,
          "referenced_widgets": [
            "b3d2f3528bc541c28a573e1a9821d13b",
            "33451cc90515431bace249dd2d54c6ad",
            "69fcb582d7c74f90890c626fe0e5a801",
            "6ccb079fbbad4263a078b1700b0bed42",
            "82650407280243458a7f24fc89166741",
            "b20df32a18594234add1786cf781d59d",
            "11c4995baf3e4db0b883d2f4f911cfc7"
          ]
        },
        "id": "H_TVZicqDaLf",
        "outputId": "3b7fba95-7eb1-4caf-f859-00a2971a73a5"
      },
      "execution_count": 3,
      "outputs": [
        {
          "output_type": "stream",
          "name": "stderr",
          "text": [
            "/usr/local/lib/python3.7/dist-packages/lux/executor/PandasExecutor.py:448: UserWarning:\n",
            "Lux detects that attributes ['Date', 'Time'] may be temporal.\n",
            "To display visualizations for these attributes accurately, please convert temporal attributes to Datetime objects.\n",
            "For example, you can convert a Year attribute (e.g., 1998, 1971, 1982) using pd.to_datetime by specifying the `format` as '%Y'.\n",
            "\n",
            "Here is a starter template that you can use for converting the temporal fields:\n",
            "\tdf['Date'] = pd.to_datetime(df['Date'], format='<replace-with-datetime-format>')\n",
            "\tdf['Time'] = pd.to_datetime(df['Time'], format='<replace-with-datetime-format>')\n",
            "\n",
            "See more at: https://pandas.pydata.org/pandas-docs/stable/reference/api/pandas.to_datetime.html\n",
            "If Time is not a temporal attribute, please use override Lux's automatically detected type:\n",
            "\tdf.set_data_type({'Time':'quantitative'})\n"
          ]
        },
        {
          "output_type": "display_data",
          "data": {
            "text/plain": [
              "Button(description='Toggle Pandas/Lux', layout=Layout(top='5px', width='140px'), style=ButtonStyle())"
            ],
            "application/vnd.jupyter.widget-view+json": {
              "version_major": 2,
              "version_minor": 0,
              "model_id": "b3d2f3528bc541c28a573e1a9821d13b"
            }
          },
          "metadata": {
            "application/vnd.jupyter.widget-view+json": {
              "colab": {
                "custom_widget_manager": {
                  "url": "https://ssl.gstatic.com/colaboratory-static/widgets/colab-cdn-widget-manager/d2e234f7cc04bf79/manager.min.js"
                }
              }
            }
          }
        },
        {
          "output_type": "display_data",
          "data": {
            "text/plain": [
              "Output()"
            ],
            "application/vnd.jupyter.widget-view+json": {
              "version_major": 2,
              "version_minor": 0,
              "model_id": "6ccb079fbbad4263a078b1700b0bed42"
            }
          },
          "metadata": {
            "application/vnd.jupyter.widget-view+json": {
              "colab": {
                "custom_widget_manager": {
                  "url": "https://ssl.gstatic.com/colaboratory-static/widgets/colab-cdn-widget-manager/d2e234f7cc04bf79/manager.min.js"
                }
              }
            }
          }
        }
      ]
    },
    {
      "cell_type": "code",
      "source": [],
      "metadata": {
        "id": "LaSLElvoDtag"
      },
      "execution_count": 3,
      "outputs": []
    }
  ]
}