{
 "cells": [
  {
   "cell_type": "markdown",
   "metadata": {},
   "source": [
    "## Seção 0 - Dicas para uma Aprendizagem Online de Sucesso [(by edX team)](https://blog.edx.org/tips-for-successful-online-learning?utm_source=braze&utm_medium=email&utm_campaign=dynamicpacing&utm_content=dormant)"
   ]
  },
  {
   "cell_type": "markdown",
   "metadata": {},
   "source": [
    "Se você é novo no aprendizado online, antes de tudo, BEM-VINDO! Aprender online é uma maneira fantástica de aumentar seus conhecimentos e habilidades em um ambiente único e flexível, com seus próprios pontos fortes e oportunidades.\n",
    "\n",
    "Esteja você experimentando aulas online pela primeira vez ou procurando maneiras de fortalecer seus hábitos e abordagens atuais,\n",
    "existem algumas áreas principais a serem consideradas para se preparar para o sucesso e tirar o máximo proveito de tudo o que o aprendizado online tem a oferecer.\n",
    "\n",
    "Nesta coleção de práticas recomendadas de aprendizagem online, compartilhamos dicas e estratégias para ajudá-lo a ter sucesso em sua jornada de aprendizagem, incluindo maneiras de:\n",
    "\n",
    "* Mantenha sua mente e corpo saudáveis\n",
    "* Gerencie seu tempo com eficácia e minimize as distrações\n",
    "* Estabeleça conexões com sua comunidade de aprendizagem virtual\n",
    "* Tire o máximo proveito do seu aprendizado\n",
    "* Conquiste a logística\n",
    "\n",
    "### Sefl Care (Autocuidado)\n",
    "\n",
    "O autocuidado é importante para sua experiência de aprendizado bem-sucedida. Uma mente (e um corpo) saudáveis é uma mente pronta para aprender.\n",
    "\n",
    "* **Defenda suas necessidades de aprendizagem:** peça maneiras flexíveis de participar da aula que funcionem para você. Isso é importante para os alunos que precisam de acomodações específicas, como um anotador ou tempo de teste prolongado, mas também é importante para todos os alunos.\n",
    "* **Agendar intervalos:** levante-se e caminhe, saia, agende suas distrações, não se esqueça de se mover. Existem muitos aplicativos para mantê-lo concentrado nas tarefas e desligar as distrações, bem como lembrá-lo de se levantar e fazer pausas.\n",
    "* **Mantenha hábitos saudáveis:** seu cérebro, assim como seu corpo, precisa de descanso e exercícios. Durma, mantenha-se hidratado, saia de casa, coma bem.\n",
    "\n",
    "### Time Management (Gerenciamento do Tempo)\n",
    "\n",
    "Um dos maiores benefícios do aprendizado online é a flexibilidade, mas muita liberdade pode representar novos desafios. Encontre maneiras de estruturar e otimizar seu tempo para quando e onde você aprende melhor e mantenha seu aprendizado no caminho certo.\n",
    "\n",
    "* **Reserve um tempo para aprender:** isso não significa que você precisa encontrar blocos de quatro horas, três dias por semana. O aprendizado online é projetado para ser modular e flexível. Você pode encontrar 15 minutos para assistir a uma curta aula em vídeo e escrever uma postagem de reflexão de três frases. Mas é claro que outras atividades de aprendizagem exigirão mais tempo. Seja planejado e dedique tempo para aprender como faria para se exercitar ou passar tempo com os amigos.\n",
    "* **Monitore prazos:** adicione datas de vencimento importantes a um calendário para não perder prazos importantes.\n",
    "* **Minimize as distrações:** Tanto quanto você puder, minimize as distrações em seu ambiente físico e digital. Feche as janelas do navegador da web não relevantes para o seu aprendizado, mantenha a TV desligada, etc.\n",
    "\n",
    "### Community and Social Learning (Comunidade e Aprendizagem Social)\n",
    "\n",
    "O aprendizado online vem com conexões para professores de nível mundial e uma comunidade global de colegas de classe apaixonados. Encontre maneiras de se conectar com essas ricas comunidades de aprendizagem, desde a participação em fóruns até o networking com colegas.\n",
    "\n",
    "* **Mantenha o seu instrutor informado:** peça ajuda ao seu instrutor quando precisar - informe-o se você estiver doente,\n",
    "incapaz de fazer logon, etc.\n",
    "* **Encontre virtualmente e interaja com seus colegas de aprendizagem:** Você não está sozinho! Apresente-se, responda às perguntas postadas pelo instrutor nos fóruns de discussão e responda às postagens de seus colegas.\n",
    "* **Crie um grupo de rede social:** além de fóruns, crie um espaço distinto, como um grupo no Facebook ou um bate-papo no Whatsapp, para que você e seus colegas se conectem, compartilhem interesses e apoiem uns aos outros.\n",
    "* **Crie grupos de estudo virtuais:** mantenha a linha aberta e encontre maneiras de se conectar com seus colegas de aprendizagem em pequenos grupos de estudo. Os aplicativos de bate-papo por vídeo são uma ótima maneira de fazer isso.\n",
    "* **Dê e espere respeito:** especialmente durante a comunicação assíncrona, como fóruns de discussão e e-mail, pode ser fácil interpretar mal o significado de alguém. Como você, seus colegas são pessoas reais. Faça sua parte para promover uma comunidade de respeito e apoio.\n",
    "\n",
    "### Learning Strategies (Estratégias de Aprendizado)\n",
    "\n",
    "Em nosso cenário de aprendizado moderno, há uma grande quantidade de conteúdo sobre praticamente qualquer assunto para assistir, ler e ouvir, mas saber é diferente de fazer. Para obter o máximo do aprendizado online, certifique-se de desenvolver novos conhecimentos e habilidades de uma forma que você possa reter, aplicar repetidamente e se adaptar a novos contextos.\n",
    "\n",
    "* **Faça seu aprendizado persistir:** aproveite os princípios de prática, aplicação e reflexão da ciência da aprendizagem estabelecidos. Para garantir que seus conhecimentos e habilidades recém-aprendidos permaneçam com você, é importante praticar as habilidades repetidamente, aplicar o conhecimento em diferentes contextos e refletir sobre o que você aprendeu, especialmente à medida que você pratica e aplica em novos ambientes. Uma experiência de aprendizado bem planejada fornecerá oportunidades para praticar, aplicar e refletir, mas você pode reforçar seu aprendizado fora da classe conectando-o à sua vida cotidiana e ao trabalho.\n",
    "* **Estratégias de vídeo:** para vídeo gravado, faça uma pausa e escreva um breve resumo do que você ouviu em notas a cada poucos minutos. Para vídeo ao vivo, especialmente se o vídeo estiver disponível para assistir mais tarde, evite fazer anotações. Preste atenção ao que está ouvindo e participe da discussão para ajudar a manter o foco. Levante a mão virtual ou faça uma pergunta no chat.\n",
    "* **Aproveite as vantagens dos grupos de vídeo:** se oferecidos, essas discussões ao vivo em pequenos grupos darão a você a chance de ouvir outras perspectivas ou revisar o material desafiador como um grupo.\n",
    "\n",
    "### Logistics (Logística)\n",
    "\n",
    "Por último, mas não menos importante: logística. Detectar os detalhes de sua experiência de aprendizado pode pagar dividendos.\n",
    "\n",
    "* **Facilite o acesso às informações relevantes:** reúna os números de telefone, endereços de e-mail e links de suporte da sua instituição em um só lugar para que, se e quando você precisar, não precise sair à caça. Por exemplo, quem são os TAs do curso e como você os contata? Se você tiver problemas técnicos, qual departamento você contata?\n",
    "* **Reúna sua tecnologia:** se o curso exigir software de videoconferência, baixe o aplicativo e teste bem antes de começar uma palestra ao vivo. Se as atribuições forem enviadas para um serviço em nuvem (por exemplo, Google Drive, Dropbox), certifique-se de ter os detalhes da conta necessários ou informações de acesso antes de um prazo.\n",
    "* **Minimize a dependência de WiFi:** Se possível, use um cabo Ethernet e baixe os materiais do curso para trabalhar offline. Muitos cursos online funcionam em dispositivos móveis também, mas outros não. Tenha um plano de acesso à Internet.\n",
    "* **Sempre salve seu trabalho:** Salve seu trabalho localmente em seu computador e / ou na nuvem onde você pode acessá-lo facilmente. Por exemplo, faça um rascunho de redações em um aplicativo de processamento de texto ou em um e-mail para você mesmo e, em seguida, recorte e cole seu trabalho no LMS (sistema de gerenciamento de aprendizagem) do curso para entregar sua tarefa.\n",
    "\n",
    "### Tips (Dicas)\n",
    "\n",
    "Abaixo, algumas dicas que acredito possam te ajudar. São apenas sugestões.\n",
    "\n",
    "* **Ferramentas:** considere utilizar ferramentas como ``OneNote``, ``Mendeley``, ``Dropbox``, ``Notas Autoadesivas``, ``Microsoft To Do``, ``Trello`` para melhorar sua produtividade. Organizar os estudos é parte fundamental no processo de aprendizagem. Se não essas, utilize outra ferramenta que seja do seu agrado. Procure usar pelo menos uma.\n",
    "* **Printscreen:** **não há necessidade** de tirar print dos slides. Eles **estão disponíveis** para que você faça o *download*. O material é \"open-source\". Significa que você está autorizado a utilizá-lo e modificá-lo para uso próprio."
   ]
  },
  {
   "cell_type": "code",
   "execution_count": null,
   "metadata": {},
   "outputs": [],
   "source": []
  }
 ],
 "metadata": {
  "kernelspec": {
   "display_name": "Python 3",
   "language": "python",
   "name": "python3"
  },
  "language_info": {
   "codemirror_mode": {
    "name": "ipython",
    "version": 3
   },
   "file_extension": ".py",
   "mimetype": "text/x-python",
   "name": "python",
   "nbconvert_exporter": "python",
   "pygments_lexer": "ipython3",
   "version": "3.8.5"
  }
 },
 "nbformat": 4,
 "nbformat_minor": 4
}
