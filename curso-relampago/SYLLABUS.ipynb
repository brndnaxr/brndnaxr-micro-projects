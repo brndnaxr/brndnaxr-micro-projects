{
 "cells": [
  {
   "cell_type": "markdown",
   "metadata": {},
   "source": [
    "# Monitoria **Estatística e Probabilidade Aplicada**"
   ]
  },
  {
   "cell_type": "markdown",
   "metadata": {},
   "source": [
    "<center>\n",
    "    <img src=\"https://64.media.tumblr.com/e21b9790960cc02a51e4a3bb95df0524/90542c5773820da2-47/s640x960/7aeeb11bdf051a9cc60d5a0f22def7324bcd7afb.png\" width=\"700\" alt=\"Error 404\"  />\n",
    "</center>"
   ]
  },
  {
   "cell_type": "markdown",
   "metadata": {},
   "source": [
    "* **Monitor:** [``Brandon Aguiar``](https://www.instagram.com/brndnaxr/)\n",
    "* **Data *1ª parte*:** ``15-05-21``\n",
    "* **Data *2ª parte*:** ``22-05-21``\n",
    "* **Horário início:** ``9h00``\n",
    "* **Horário término:** ``sem horário``\n",
    "* **Local:** [``canal do YouTube``](https://www.youtube.com/channel/UCKuM3lpJEoaNaQpunLCkrsg/featured)\n",
    "\n",
    "## Visão Global (*Overview*)\n",
    "Tempo estimado de leitura: **10** minutos\n",
    "\n",
    "<hr>\n",
    "\n",
    "* [*Cronograma do curso*](#cronograma_curso)\n",
    "\n",
    "<hr>"
   ]
  },
  {
   "cell_type": "markdown",
   "metadata": {},
   "source": [
    "## Referências Bibliográficas\n",
    "* [Massachusetts Institute of Technology - MITOPENCOURSEWARE](https://ocw.mit.edu/)\n",
    "    * [Probabilistic Systems Analysis and Applied Probability](https://ocw.mit.edu/courses/electrical-engineering-and-computer-science/6-041-probabilistic-systems-analysis-and-applied-probability-fall-2010/video-lectures/)\n",
    "    * [Statistics for Applications](https://ocw.mit.edu/courses/mathematics/18-650-statistics-for-applications-fall-2016/lecture-videos/)\n",
    "* [IBM Data Science](https://www.edx.org/professional-certificate/ibm-data-science)\n",
    "    * [Python Basics for Data Science](https://www.edx.org/course/python-basics-for-data-science)"
   ]
  },
  {
   "cell_type": "markdown",
   "metadata": {},
   "source": [
    "## Livros para apoio\n",
    "* **Estatística**\n",
    "    * [Applied Statistics and Probability for Engineers, 6th Edition](https://drive.google.com/file/d/17pIpEAD3SbZhSpBAG5nnsJ-n7AxKsESj/view?usp=sharing)\n",
    "    * [Large Sample Techniques for Statistics](https://drive.google.com/file/d/1Is2jMs8sa8Jh3veoWCFtVDkGV37_T0-F/view?usp=sharing)\n",
    "    * [Statistical Consequences of Fat Tails](https://drive.google.com/file/d/12xLSGliU1GVxnE8nvrhacFlgB3Gcr8jY/view?usp=sharing)\n",
    "    * [Schaum's Outlines of Probability and Statistics](https://drive.google.com/file/d/1OZ0iByIG3__Y4VdU48E27c2zVb-cqN0c/view?usp=sharing)\n",
    "    * [Probability with Applications in Engineering, Science, and Technology](https://drive.google.com/file/d/13QOK4Hd_a3N4R3MLFF6LHFk__ujuHyy4/view?usp=sharing)\n",
    "\n",
    "\n",
    "* **Programação (python)**\n",
    "    * [Python Notes For Professionals](https://drive.google.com/file/d/1EV0zevfHGvl1c8BkZJKTb6MPW8zJoTqi/view?usp=sharing)"
   ]
  },
  {
   "cell_type": "markdown",
   "metadata": {},
   "source": [
    "## Objetivos do curso\n",
    "Aprender a **resolver** os **exercícios da prova** utilizando ``python``."
   ]
  },
  {
   "cell_type": "markdown",
   "metadata": {},
   "source": [
    "## Como faremos isso?\n",
    "* Na 1ª parte, utilizando o ``Google Colab``.\n",
    "* Na 2ª parte, utilizando o ``Jupyter Notebook``."
   ]
  },
  {
   "cell_type": "markdown",
   "metadata": {},
   "source": [
    "## O que esse curso NÃO é\n",
    "* **Não esgota** todas as possibilidades e caminhos para chegar num resultado.\n",
    "* **Não aborda** todas as diferentes maneiras de resolver um exercício.\n",
    "* **Não pretende** fazer de você um programador.\n",
    "* É um **recorte arbitrário** e, como todo recorte, comporta uma certa margem de **arbitrariedade**.\n",
    "* **Não possui pretensão** de trabalhar exaustivamente os métodos de resolução."
   ]
  },
  {
   "cell_type": "markdown",
   "metadata": {},
   "source": [
    "## Por que estudar python?\n",
    "Python é uma linguagem de **programação de alto nível**, de **código aberto**, de **uso geral** e amplamente utilizada.\n",
    "Sua sintaxe permite programadores expressarem seus conceitos em **poucas linhas de código**.\n",
    "É uma ferramenta ideal para iniciantes porque foca na **simplicidade** e **legibilidade**.\n",
    "Ótima para performar tarefas de alto nível computacional envolvendo **grandes volumes de dados**."
   ]
  },
  {
   "cell_type": "markdown",
   "metadata": {},
   "source": [
    "## Onde python é útil?\n",
    "**Todo lugar!**\n",
    "* Física (quântica) – ``modelagem probabilística``.\n",
    "* Biologia – simulações: evolução de sistemas, bioinformática, etc.\n",
    "* Comunicação e ``processamento de sinais`` – eletrônica.\n",
    "* Gerenciamento – ``modelos de demanda``, planejamento de investimentos.\n",
    "* ``Finanças`` – precificação de ativos, otimização de portfólios, monte carlo, etc.\n",
    "* Transporte – e.g. ``“Ant Algorithms”`` ACO – Ant Colony Optimization.\n",
    "* Redes sociais – “trends”, posts viralizantes, ``grafos``, etc.\n",
    "* ``Saúde`` – simulações: epidemias, novos remédios, etc."
   ]
  },
  {
   "cell_type": "markdown",
   "metadata": {},
   "source": [
    "# Cronograma sábado 15-05-21 <a class=\"anchor\" id=\"cronograma_curso\"></a>"
   ]
  },
  {
   "cell_type": "markdown",
   "metadata": {},
   "source": [
    "* **Faremos uma revisão geral da matéria vista até agora:**\n",
    "    * UNIT 1 Conceito de população e amostra (05/05/21)\n",
    "    * UNIT 2 Tipos de variáveis estatísticas (07/05/21)\n",
    "    * UNIT 3 Gráficos: principais tipos: (12/05/21)\n",
    "    * UNIT 4 Medidas de posição (14/05/21)\n",
    "    \n",
    "    \n",
    "* **Abordaremos os seguintes temas:**\n",
    "    * Introdução à programação com python do zero absoluto\n",
    "    * Breve histórico sobre linguagens de programção e os diversos tipos\n",
    "    * O que são notebooks? Google Colab e Jupyter Notebook\n",
    "    * Distribuição Anaconda - o pacote ideal para quem está começando na ciência de dados\n",
    "    * Estatística - visão geral dentro da programção e fora dela\n",
    "\n",
    "\n",
    "* **Passaremos uma visão geral sobre (bem rápido, mas não menos eficaz):**\n",
    "    * Algoritmos\n",
    "    * P.O.O - Programação Orientada a Objetos\n",
    "    * Cybersegurança\n",
    "    * Git - GitHub, GitLab e Bitbucket\n",
    "    * Classes, Heranças e Métodos\n",
    "    \n",
    "**Lembrando**: Imagino que vocês, assim como eu, não julguem ser uma pretensão responsável da minha parte, nesse período que nós passaremos juntos, esgotar os assuntos citados. Isto é, fazer um exame exaustivo de todos os temas. Até porque, cada tema desse isolado, daria um curso consideravelmente extenso. Portanto, a gente terá que proceder seletivamente, por recortes. E como todo recorte é arbitrário, isso comporta uma certa margem de arbitrariedade. Mas isso é inevitável, pois, se tenho que abordar um tema, só posso abordá-lo da única maneira que disponho. Totalmente viesada pelas minhas experiências, e os conteúdos que tive contato. Portanto, é fundamental lembrarmos que tudo pode ser diferente do que é. "
   ]
  },
  {
   "cell_type": "markdown",
   "metadata": {},
   "source": [
    "## Motivação\n",
    "* Fácil de aprender.\n",
    "* Código aberto.\n",
    "* Pode ser transferido para várias plataformas (o código).\n",
    "* Possui um suporte enorme de uma comunidade ampla e já madura.\n",
    "* Fornece bibliotecas de código aberto para manipulação e visualização de dados.\n",
    "* Cálculos estatísticos.\n",
    "* Operações matemáticas."
   ]
  },
  {
   "cell_type": "markdown",
   "metadata": {},
   "source": [
    "## Author\n",
    "\n",
    "<a href=\"https://www.linkedin.com/in/brndnaxr/\" target=\"_blank\">Brandon Aguiar</a>\n",
    "\n",
    "## Change Log\n",
    "\n",
    "| Date (YYYY-MM-DD) | Version | Changed By | Change Description                                                                                                     |\n",
    "| ----------------- | ------- | ---------- | ---------------------------------------------------------------------------------------------------------------------- |\n",
    "|       |     |     |                                                                                     |\n",
    "\n",
    "<hr/>\n",
    "\n",
    "## <h3 align=\"center\"> © UAM Monitoria 2021. All rights reserved. <h3/>"
   ]
  }
 ],
 "metadata": {
  "kernelspec": {
   "display_name": "Python 3",
   "language": "python",
   "name": "python3"
  },
  "language_info": {
   "codemirror_mode": {
    "name": "ipython",
    "version": 3
   },
   "file_extension": ".py",
   "mimetype": "text/x-python",
   "name": "python",
   "nbconvert_exporter": "python",
   "pygments_lexer": "ipython3",
   "version": "3.8.5"
  }
 },
 "nbformat": 4,
 "nbformat_minor": 4
}
