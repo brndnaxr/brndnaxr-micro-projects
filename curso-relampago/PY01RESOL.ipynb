{
 "cells": [
  {
   "cell_type": "markdown",
   "metadata": {},
   "source": [
    "# Monitoria **Estatística e Probabilidade Aplicada**\n",
    "Monitor: ``Brandon Aguiar``\n",
    "\n",
    "<center>\n",
    "    <img src=\"https://portal.anhembi.br/wp-content/uploads/2016/04/anhembi-morumbi-300x73.png\" width=\"300\" alt=\"Error 404\"  />\n",
    "</center>\n",
    "\n",
    "## Resolução dos exercícios (9) (10) e (11)\n",
    "Tempo estimado: **45** minutos\n",
    "<hr>"
   ]
  },
  {
   "cell_type": "markdown",
   "metadata": {},
   "source": [
    "<center>\n",
    "    <img src='https://64.media.tumblr.com/e21b9790960cc02a51e4a3bb95df0524/90542c5773820da2-47/s640x960/7aeeb11bdf051a9cc60d5a0f22def7324bcd7afb.png' width=700></center>"
   ]
  },
  {
   "cell_type": "markdown",
   "metadata": {},
   "source": [
    "<h2>Tabela de conteúdos</h2>\n",
    "<div class=\"alert alert-block alert-info\" style=\"margin-top: 20px\">\n",
    "    <ul>\n",
    "        <li>\n",
    "            <a href=\"#resol\">Resolução dos exercícios</a>\n",
    "            <ul>\n",
    "                <li><a href=\"unit\">UNIT 1 Introdução à Estatística (05/05/21)</a></li>\n",
    "                <li><a href=\"concept\">Conceito de população x amostra | Técnicas de amostragem</a></li>\n",
    "            </ul>\n",
    "        </li>\n",
    "    </ul>\n",
    "\n",
    "</div>\n",
    "\n",
    "<hr>"
   ]
  },
  {
   "cell_type": "markdown",
   "metadata": {},
   "source": [
    "## Exercícios"
   ]
  },
  {
   "cell_type": "markdown",
   "metadata": {},
   "source": [
    "**Antes, um reparo**: os exercícios de **1)** a **8)** não nos interesssam. Abordam fundamentos elementares. Isto significa que partiremos do pressuposto - nesta resolução -  de que o estudante já está familiarizado com os conceitos básicos."
   ]
  },
  {
   "cell_type": "markdown",
   "metadata": {},
   "source": [
    "**9)** O diretor de uma escola, na qual estão matriculados 280 meninos e 320 meninas, desejoso de conhecer as condições de vida extra-escolar de seus alunos e não dispondo de tempo para entrevistar todas as famílias, resolve fazer um levantamento por amostragem, em 10% dessa clientela. Obtenha, para esse diretor, os elementos componentes da amostra.\n"
   ]
  },
  {
   "cell_type": "markdown",
   "metadata": {},
   "source": [
    "``breve teórico``"
   ]
  },
  {
   "cell_type": "code",
   "execution_count": 1,
   "metadata": {},
   "outputs": [],
   "source": [
    "# Importando as biliotecas necessárias\n",
    "\n",
    "import pandas as pd      # manipulação de 'tabelas'"
   ]
  },
  {
   "cell_type": "markdown",
   "metadata": {},
   "source": [
    "A resolução desse exercício é 'do tipo' da tabela abaixo. Apenas alterando os valores."
   ]
  },
  {
   "cell_type": "code",
   "execution_count": 2,
   "metadata": {},
   "outputs": [],
   "source": [
    "# criando a tabela exemplo da página 11 - introdução à estatística \n",
    "\n",
    "dados = {'Sexo' : ['M', 'F', 'Total'],\n",
    "            'População' : [54, 36, 90],\n",
    "            '10%' : [5.4, 3.6, 9],\n",
    "            'Amostra' : [5, 4, 9] }  # atribui o dicionário a variável 'dados_v9'"
   ]
  },
  {
   "cell_type": "markdown",
   "metadata": {},
   "source": [
    "Esse processo consiste em duas etapas: criar a \"lista\" (que na verdade é um dicionário) com os nossos dados, em seguida, fazer a 'leitura' destes dados incorporando-os em um dataframe.\n",
    "1. Criamos o dicionário na linha acima e, abaixo, criaremos o dataframe."
   ]
  },
  {
   "cell_type": "code",
   "execution_count": 3,
   "metadata": {},
   "outputs": [
    {
     "data": {
      "text/html": [
       "<div>\n",
       "<style scoped>\n",
       "    .dataframe tbody tr th:only-of-type {\n",
       "        vertical-align: middle;\n",
       "    }\n",
       "\n",
       "    .dataframe tbody tr th {\n",
       "        vertical-align: top;\n",
       "    }\n",
       "\n",
       "    .dataframe thead th {\n",
       "        text-align: right;\n",
       "    }\n",
       "</style>\n",
       "<table border=\"1\" class=\"dataframe\">\n",
       "  <thead>\n",
       "    <tr style=\"text-align: right;\">\n",
       "      <th></th>\n",
       "      <th>Sexo</th>\n",
       "      <th>População</th>\n",
       "      <th>10%</th>\n",
       "      <th>Amostra</th>\n",
       "    </tr>\n",
       "  </thead>\n",
       "  <tbody>\n",
       "    <tr>\n",
       "      <th>0</th>\n",
       "      <td>M</td>\n",
       "      <td>54</td>\n",
       "      <td>5.4</td>\n",
       "      <td>5</td>\n",
       "    </tr>\n",
       "    <tr>\n",
       "      <th>1</th>\n",
       "      <td>F</td>\n",
       "      <td>36</td>\n",
       "      <td>3.6</td>\n",
       "      <td>4</td>\n",
       "    </tr>\n",
       "    <tr>\n",
       "      <th>2</th>\n",
       "      <td>Total</td>\n",
       "      <td>90</td>\n",
       "      <td>9.0</td>\n",
       "      <td>9</td>\n",
       "    </tr>\n",
       "  </tbody>\n",
       "</table>\n",
       "</div>"
      ],
      "text/plain": [
       "    Sexo  População  10%  Amostra\n",
       "0      M         54  5.4        5\n",
       "1      F         36  3.6        4\n",
       "2  Total         90  9.0        9"
      ]
     },
     "execution_count": 3,
     "metadata": {},
     "output_type": "execute_result"
    }
   ],
   "source": [
    "# cria um datafram a partir dos dados do dicionário que criamos\n",
    "\n",
    "df_dados = pd.DataFrame(data = dados)\n",
    "\n",
    "df_dados   # visualiza o dataframe"
   ]
  },
  {
   "cell_type": "markdown",
   "metadata": {},
   "source": [
    "* Porém, para facilitar nossa vida, iremos retrabalhar a maneira como criamos as tabelas. Com qual objetivo? Com o objetivo de facilitar os cálculos. Afinal, é pra isso que viemos. É por isso estamos aqui reunidos.\n",
    "* Perceba só, as colunas ``Sexo`` e ``População`` são dados do exercício. As colunas ``10%`` e ``Amostra`` são resultados de cálculos obtidos. Portanto, iremos imputar os dados fornecidos pelo exercício, e todo o resto será calculado automaticamente.\n",
    "* Por último, criaremos essa linha ``Total`` - também resultado de um cálculo feito - como se fosse um 'somar' do excel."
   ]
  },
  {
   "cell_type": "markdown",
   "metadata": {},
   "source": [
    "**Reescrevendo** o ``dataframe`` conforme descrito acima."
   ]
  },
  {
   "cell_type": "markdown",
   "metadata": {},
   "source": [
    "**1. Imputando os dados fornecidos pelo exercício.**"
   ]
  },
  {
   "cell_type": "code",
   "execution_count": 4,
   "metadata": {},
   "outputs": [
    {
     "data": {
      "text/html": [
       "<div>\n",
       "<style scoped>\n",
       "    .dataframe tbody tr th:only-of-type {\n",
       "        vertical-align: middle;\n",
       "    }\n",
       "\n",
       "    .dataframe tbody tr th {\n",
       "        vertical-align: top;\n",
       "    }\n",
       "\n",
       "    .dataframe thead th {\n",
       "        text-align: right;\n",
       "    }\n",
       "</style>\n",
       "<table border=\"1\" class=\"dataframe\">\n",
       "  <thead>\n",
       "    <tr style=\"text-align: right;\">\n",
       "      <th></th>\n",
       "      <th>Sexo</th>\n",
       "      <th>População</th>\n",
       "    </tr>\n",
       "  </thead>\n",
       "  <tbody>\n",
       "    <tr>\n",
       "      <th>0</th>\n",
       "      <td>M</td>\n",
       "      <td>54</td>\n",
       "    </tr>\n",
       "    <tr>\n",
       "      <th>1</th>\n",
       "      <td>F</td>\n",
       "      <td>36</td>\n",
       "    </tr>\n",
       "  </tbody>\n",
       "</table>\n",
       "</div>"
      ],
      "text/plain": [
       "  Sexo  População\n",
       "0    M         54\n",
       "1    F         36"
      ]
     },
     "execution_count": 4,
     "metadata": {},
     "output_type": "execute_result"
    }
   ],
   "source": [
    "# cria dicionário de valores e atribui na variável 'dados'\n",
    "\n",
    "dados = {'Sexo' : ['M','F'], 'População' : [54,36] } \n",
    "\n",
    "# cria dataframe a partir do dicinario 'dados' e atribui na variável 'df_dados' \n",
    "\n",
    "df_dados = pd.DataFrame(data = dados)\n",
    "\n",
    "df_dados   # esse código sozinho permite visualizar o dataframe 'df_dados' criado"
   ]
  },
  {
   "cell_type": "markdown",
   "metadata": {},
   "source": [
    "**2. Criando as colunas: ``10%``, ``Amostra``.**\n",
    "\n",
    "Coluna ``10%``"
   ]
  },
  {
   "cell_type": "code",
   "execution_count": 5,
   "metadata": {},
   "outputs": [
    {
     "data": {
      "text/html": [
       "<div>\n",
       "<style scoped>\n",
       "    .dataframe tbody tr th:only-of-type {\n",
       "        vertical-align: middle;\n",
       "    }\n",
       "\n",
       "    .dataframe tbody tr th {\n",
       "        vertical-align: top;\n",
       "    }\n",
       "\n",
       "    .dataframe thead th {\n",
       "        text-align: right;\n",
       "    }\n",
       "</style>\n",
       "<table border=\"1\" class=\"dataframe\">\n",
       "  <thead>\n",
       "    <tr style=\"text-align: right;\">\n",
       "      <th></th>\n",
       "      <th>Sexo</th>\n",
       "      <th>População</th>\n",
       "      <th>10%</th>\n",
       "    </tr>\n",
       "  </thead>\n",
       "  <tbody>\n",
       "    <tr>\n",
       "      <th>0</th>\n",
       "      <td>M</td>\n",
       "      <td>54</td>\n",
       "      <td>5.4</td>\n",
       "    </tr>\n",
       "    <tr>\n",
       "      <th>1</th>\n",
       "      <td>F</td>\n",
       "      <td>36</td>\n",
       "      <td>3.6</td>\n",
       "    </tr>\n",
       "  </tbody>\n",
       "</table>\n",
       "</div>"
      ],
      "text/plain": [
       "  Sexo  População  10%\n",
       "0    M         54  5.4\n",
       "1    F         36  3.6"
      ]
     },
     "execution_count": 5,
     "metadata": {},
     "output_type": "execute_result"
    }
   ],
   "source": [
    "# cria a coluna '10%', calcula 10% de cada valor da coluna 'população' e atribui na coluna criada \n",
    "\n",
    "df_dados['10%'] = df_dados['População']*0.1\n",
    "\n",
    "df_dados    # visualiza o dataframe"
   ]
  },
  {
   "cell_type": "markdown",
   "metadata": {},
   "source": [
    "Coluna ``Amostra``"
   ]
  },
  {
   "cell_type": "code",
   "execution_count": 6,
   "metadata": {},
   "outputs": [
    {
     "data": {
      "text/html": [
       "<div>\n",
       "<style scoped>\n",
       "    .dataframe tbody tr th:only-of-type {\n",
       "        vertical-align: middle;\n",
       "    }\n",
       "\n",
       "    .dataframe tbody tr th {\n",
       "        vertical-align: top;\n",
       "    }\n",
       "\n",
       "    .dataframe thead th {\n",
       "        text-align: right;\n",
       "    }\n",
       "</style>\n",
       "<table border=\"1\" class=\"dataframe\">\n",
       "  <thead>\n",
       "    <tr style=\"text-align: right;\">\n",
       "      <th></th>\n",
       "      <th>Sexo</th>\n",
       "      <th>População</th>\n",
       "      <th>10%</th>\n",
       "      <th>Amostra</th>\n",
       "    </tr>\n",
       "  </thead>\n",
       "  <tbody>\n",
       "    <tr>\n",
       "      <th>0</th>\n",
       "      <td>M</td>\n",
       "      <td>54</td>\n",
       "      <td>5.4</td>\n",
       "      <td>5.0</td>\n",
       "    </tr>\n",
       "    <tr>\n",
       "      <th>1</th>\n",
       "      <td>F</td>\n",
       "      <td>36</td>\n",
       "      <td>3.6</td>\n",
       "      <td>4.0</td>\n",
       "    </tr>\n",
       "  </tbody>\n",
       "</table>\n",
       "</div>"
      ],
      "text/plain": [
       "  Sexo  População  10%  Amostra\n",
       "0    M         54  5.4      5.0\n",
       "1    F         36  3.6      4.0"
      ]
     },
     "execution_count": 6,
     "metadata": {},
     "output_type": "execute_result"
    }
   ],
   "source": [
    "# cria a coluna 'Amostra', calcula o arredondamento de cada valor da coluna '10%' e atribui na coluna criada\n",
    "\n",
    "df_dados['Amostra'] = df_dados['10%'].round(0)\n",
    "\n",
    "df_dados    # visualiza o dataframe"
   ]
  },
  {
   "cell_type": "markdown",
   "metadata": {},
   "source": [
    "**3. ``Criando uma linha``. Atribuiremos uma linha a um ``índice`` específico usando o método ``loc``.**"
   ]
  },
  {
   "cell_type": "code",
   "execution_count": 7,
   "metadata": {},
   "outputs": [
    {
     "data": {
      "text/html": [
       "<div>\n",
       "<style scoped>\n",
       "    .dataframe tbody tr th:only-of-type {\n",
       "        vertical-align: middle;\n",
       "    }\n",
       "\n",
       "    .dataframe tbody tr th {\n",
       "        vertical-align: top;\n",
       "    }\n",
       "\n",
       "    .dataframe thead th {\n",
       "        text-align: right;\n",
       "    }\n",
       "</style>\n",
       "<table border=\"1\" class=\"dataframe\">\n",
       "  <thead>\n",
       "    <tr style=\"text-align: right;\">\n",
       "      <th></th>\n",
       "      <th>Sexo</th>\n",
       "      <th>População</th>\n",
       "      <th>10%</th>\n",
       "      <th>Amostra</th>\n",
       "    </tr>\n",
       "  </thead>\n",
       "  <tbody>\n",
       "    <tr>\n",
       "      <th>0</th>\n",
       "      <td>M</td>\n",
       "      <td>54</td>\n",
       "      <td>5.4</td>\n",
       "      <td>5.0</td>\n",
       "    </tr>\n",
       "    <tr>\n",
       "      <th>1</th>\n",
       "      <td>F</td>\n",
       "      <td>36</td>\n",
       "      <td>3.6</td>\n",
       "      <td>4.0</td>\n",
       "    </tr>\n",
       "    <tr>\n",
       "      <th>2</th>\n",
       "      <td>Total</td>\n",
       "      <td>0</td>\n",
       "      <td>0.0</td>\n",
       "      <td>0.0</td>\n",
       "    </tr>\n",
       "  </tbody>\n",
       "</table>\n",
       "</div>"
      ],
      "text/plain": [
       "    Sexo  População  10%  Amostra\n",
       "0      M         54  5.4      5.0\n",
       "1      F         36  3.6      4.0\n",
       "2  Total          0  0.0      0.0"
      ]
     },
     "execution_count": 7,
     "metadata": {},
     "output_type": "execute_result"
    }
   ],
   "source": [
    "# cria uma linha na posição de índice '2', atribui a lista para linha criada\n",
    "\n",
    "df_dados.loc[2] = ['Total', 0, 0, 0]  # esse código é reponsável por criar a linha\n",
    "\n",
    "df_dados   # visualiza o dataframe"
   ]
  },
  {
   "cell_type": "markdown",
   "metadata": {},
   "source": [
    "* Nossa estratégia consistirá em **guardar** o **valor** dos cálculos que vamos fazer em **variáveis**. Para depois, substituirmos as variáveis no lugar dos '0'. Que foram criados nessa linha nova."
   ]
  },
  {
   "cell_type": "markdown",
   "metadata": {},
   "source": [
    "Soma coluna ``População``"
   ]
  },
  {
   "cell_type": "code",
   "execution_count": 8,
   "metadata": {},
   "outputs": [
    {
     "data": {
      "text/plain": [
       "90"
      ]
     },
     "execution_count": 8,
     "metadata": {},
     "output_type": "execute_result"
    }
   ],
   "source": [
    "# soma os valores da coluna 'População' e atribui na variavel 'soma_populacao'\n",
    "\n",
    "soma_populacao = df_dados['População'].sum()   # calcula a soma e atribui na variável 'soma_populacao'\n",
    "\n",
    "soma_populacao   # visualiza o resultado guardado na variável"
   ]
  },
  {
   "cell_type": "markdown",
   "metadata": {},
   "source": [
    "Soma coluna ``10%``"
   ]
  },
  {
   "cell_type": "code",
   "execution_count": 9,
   "metadata": {},
   "outputs": [
    {
     "data": {
      "text/plain": [
       "9.0"
      ]
     },
     "execution_count": 9,
     "metadata": {},
     "output_type": "execute_result"
    }
   ],
   "source": [
    "# para a coluna '10%' precisaremos arredondar o valor e depois somá-lo\n",
    "\n",
    "soma_10 = df_dados['10%'].round().sum()   # calcula a soma e atribui na variavel 'soma_10'\n",
    "\n",
    "soma_10   # visualiza o resultado guardado na variável"
   ]
  },
  {
   "cell_type": "markdown",
   "metadata": {},
   "source": [
    "Soma coluna ``Amostra``"
   ]
  },
  {
   "cell_type": "code",
   "execution_count": 10,
   "metadata": {},
   "outputs": [
    {
     "data": {
      "text/plain": [
       "9.0"
      ]
     },
     "execution_count": 10,
     "metadata": {},
     "output_type": "execute_result"
    }
   ],
   "source": [
    "# como a coluna 'Amostra' já foi arredondada, basta nós somarmos\n",
    "\n",
    "soma_amostra = df_dados['Amostra'].sum()   # calcula a soma e atribui na variavel 'soma_10'\n",
    "\n",
    "soma_amostra   # visualiza o resultado guardado na variável"
   ]
  },
  {
   "cell_type": "markdown",
   "metadata": {},
   "source": [
    "* Agora, vamos copiar aquela linha de código que cria a linha nova e substituir pelas variáveis que calculamos logo acima. Em seguida, visualizar o resultado e torcer pra dar certo."
   ]
  },
  {
   "cell_type": "code",
   "execution_count": 11,
   "metadata": {},
   "outputs": [
    {
     "data": {
      "text/html": [
       "<div>\n",
       "<style scoped>\n",
       "    .dataframe tbody tr th:only-of-type {\n",
       "        vertical-align: middle;\n",
       "    }\n",
       "\n",
       "    .dataframe tbody tr th {\n",
       "        vertical-align: top;\n",
       "    }\n",
       "\n",
       "    .dataframe thead th {\n",
       "        text-align: right;\n",
       "    }\n",
       "</style>\n",
       "<table border=\"1\" class=\"dataframe\">\n",
       "  <thead>\n",
       "    <tr style=\"text-align: right;\">\n",
       "      <th></th>\n",
       "      <th>Sexo</th>\n",
       "      <th>População</th>\n",
       "      <th>10%</th>\n",
       "      <th>Amostra</th>\n",
       "    </tr>\n",
       "  </thead>\n",
       "  <tbody>\n",
       "    <tr>\n",
       "      <th>0</th>\n",
       "      <td>M</td>\n",
       "      <td>54</td>\n",
       "      <td>5.4</td>\n",
       "      <td>5.0</td>\n",
       "    </tr>\n",
       "    <tr>\n",
       "      <th>1</th>\n",
       "      <td>F</td>\n",
       "      <td>36</td>\n",
       "      <td>3.6</td>\n",
       "      <td>4.0</td>\n",
       "    </tr>\n",
       "    <tr>\n",
       "      <th>2</th>\n",
       "      <td>Total</td>\n",
       "      <td>90</td>\n",
       "      <td>9.0</td>\n",
       "      <td>9.0</td>\n",
       "    </tr>\n",
       "  </tbody>\n",
       "</table>\n",
       "</div>"
      ],
      "text/plain": [
       "    Sexo  População  10%  Amostra\n",
       "0      M         54  5.4      5.0\n",
       "1      F         36  3.6      4.0\n",
       "2  Total         90  9.0      9.0"
      ]
     },
     "execution_count": 11,
     "metadata": {},
     "output_type": "execute_result"
    }
   ],
   "source": [
    "# trocando os valores conforme descrito acima\n",
    "\n",
    "df_dados.loc[2] = ['Total', soma_populacao, soma_10, soma_amostra]\n",
    "\n",
    "df_dados   # visualiza o dataframe"
   ]
  },
  {
   "cell_type": "markdown",
   "metadata": {},
   "source": [
    "<hr/>\n",
    "    <div class=\"alert alert-success alertsuccess\" style=\"margin-top: 20px\">\n",
    "        <h4> [Aviso] Importante! </h4>\n",
    "        <p>Este exercício foi extremamente comentado. Portanto, estude-o bem. Porque a resolução dos próximos exercícios toma por pressuposto o estudante estar familiarizado com tudo que foi abordado acima.</p>\n",
    "    </div>\n",
    "<hr/>\n"
   ]
  },
  {
   "cell_type": "markdown",
   "metadata": {},
   "source": [
    "Página 23 - *01-introdução-a-estatística.pdf*"
   ]
  },
  {
   "cell_type": "markdown",
   "metadata": {},
   "source": [
    "``resolução``"
   ]
  },
  {
   "cell_type": "markdown",
   "metadata": {},
   "source": [
    "Copiando o enunciado para facilitar a didática"
   ]
  },
  {
   "cell_type": "markdown",
   "metadata": {},
   "source": [
    "**9)** O diretor de uma escola, na qual estão matriculados 280 meninos e 320 meninas, desejoso de conhecer as condições de vida extra-escolar de seus alunos e não dispondo de tempo para entrevistar todas as famílias, resolve fazer um levantamento por amostragem, em 10% dessa clientela. Obtenha, para esse diretor, os elementos componentes da amostra.\n"
   ]
  },
  {
   "cell_type": "markdown",
   "metadata": {},
   "source": [
    "**1. Passo** Vamos criar o dicionário e dataframe com os valores fornecidos pelo exercício. "
   ]
  },
  {
   "cell_type": "code",
   "execution_count": 12,
   "metadata": {},
   "outputs": [
    {
     "data": {
      "text/html": [
       "<div>\n",
       "<style scoped>\n",
       "    .dataframe tbody tr th:only-of-type {\n",
       "        vertical-align: middle;\n",
       "    }\n",
       "\n",
       "    .dataframe tbody tr th {\n",
       "        vertical-align: top;\n",
       "    }\n",
       "\n",
       "    .dataframe thead th {\n",
       "        text-align: right;\n",
       "    }\n",
       "</style>\n",
       "<table border=\"1\" class=\"dataframe\">\n",
       "  <thead>\n",
       "    <tr style=\"text-align: right;\">\n",
       "      <th></th>\n",
       "      <th>Sexo</th>\n",
       "      <th>População</th>\n",
       "    </tr>\n",
       "  </thead>\n",
       "  <tbody>\n",
       "    <tr>\n",
       "      <th>0</th>\n",
       "      <td>meninos</td>\n",
       "      <td>280</td>\n",
       "    </tr>\n",
       "    <tr>\n",
       "      <th>1</th>\n",
       "      <td>meninas</td>\n",
       "      <td>320</td>\n",
       "    </tr>\n",
       "  </tbody>\n",
       "</table>\n",
       "</div>"
      ],
      "text/plain": [
       "      Sexo  População\n",
       "0  meninos        280\n",
       "1  meninas        320"
      ]
     },
     "execution_count": 12,
     "metadata": {},
     "output_type": "execute_result"
    }
   ],
   "source": [
    "# cria dicionário e atribui na variável 'dados'\n",
    "\n",
    "dados = {'Sexo' : ['meninos', 'meninas'], 'População' : [280, 320]}  #  (ESSA 1/ valores do exercício)\n",
    "\n",
    "df_dados = pd.DataFrame(data = dados)    # cria o 'dataframe'\n",
    "\n",
    "df_dados   # visualiza o dataframe"
   ]
  },
  {
   "cell_type": "markdown",
   "metadata": {},
   "source": [
    "**2. Passo** Calcularemos tudo que precisa e imputaremos esses resultados no ``dataframe``. **Pronto, resolvemos o exercício.**"
   ]
  },
  {
   "cell_type": "code",
   "execution_count": 13,
   "metadata": {},
   "outputs": [
    {
     "data": {
      "text/html": [
       "<div>\n",
       "<style scoped>\n",
       "    .dataframe tbody tr th:only-of-type {\n",
       "        vertical-align: middle;\n",
       "    }\n",
       "\n",
       "    .dataframe tbody tr th {\n",
       "        vertical-align: top;\n",
       "    }\n",
       "\n",
       "    .dataframe thead th {\n",
       "        text-align: right;\n",
       "    }\n",
       "</style>\n",
       "<table border=\"1\" class=\"dataframe\">\n",
       "  <thead>\n",
       "    <tr style=\"text-align: right;\">\n",
       "      <th></th>\n",
       "      <th>Sexo</th>\n",
       "      <th>População</th>\n",
       "      <th>10%</th>\n",
       "      <th>Amostra</th>\n",
       "    </tr>\n",
       "  </thead>\n",
       "  <tbody>\n",
       "    <tr>\n",
       "      <th>0</th>\n",
       "      <td>meninos</td>\n",
       "      <td>280</td>\n",
       "      <td>28.0</td>\n",
       "      <td>28.0</td>\n",
       "    </tr>\n",
       "    <tr>\n",
       "      <th>1</th>\n",
       "      <td>meninas</td>\n",
       "      <td>320</td>\n",
       "      <td>32.0</td>\n",
       "      <td>32.0</td>\n",
       "    </tr>\n",
       "    <tr>\n",
       "      <th>2</th>\n",
       "      <td>Total</td>\n",
       "      <td>600</td>\n",
       "      <td>60.0</td>\n",
       "      <td>60.0</td>\n",
       "    </tr>\n",
       "  </tbody>\n",
       "</table>\n",
       "</div>"
      ],
      "text/plain": [
       "      Sexo  População   10%  Amostra\n",
       "0  meninos        280  28.0     28.0\n",
       "1  meninas        320  32.0     32.0\n",
       "2    Total        600  60.0     60.0"
      ]
     },
     "execution_count": 13,
     "metadata": {},
     "output_type": "execute_result"
    }
   ],
   "source": [
    "# criando as colunas\n",
    "\n",
    "df_dados['10%'] = df_dados['População']*0.1   # cria a coluna 10% do exercício (ESSA 2/ valor de 0.1)\n",
    "\n",
    "df_dados['Amostra'] = df_dados['10%'].round(0)   # cria a coluna 'Amostra' e arredonda os números da coluna '10%'\n",
    "\n",
    "\n",
    "# fazendo os cálculos das variáveis\n",
    "\n",
    "soma_populacao = df_dados['População'].sum()  # soma a coluna 'População' e atribui na variável 'soma_populacao'\n",
    "\n",
    "soma_10 = df_dados['10%'].round().sum()  # soma a coluna '10%' e atribui na variável 'soma_10'\n",
    "\n",
    "soma_amostra = df_dados['Amostra'].sum()    # soma a coluna 'Amostra' e atribui na variável 'soma_amostra'\n",
    "\n",
    "\n",
    "# criando a linha nova 'Total' com os resultados obtidos\n",
    "\n",
    "df_dados.loc[2] = ['Total', soma_populacao, soma_10, soma_amostra]  # cria a linha com os valores calculados\n",
    "\n",
    "df_dados    # visualiza o dataframe"
   ]
  },
  {
   "cell_type": "markdown",
   "metadata": {},
   "source": [
    "**Conclusão**: Apenas alterando as linhas que contém (ESSA 1) e (ESSA 2), podemos resolver o exercício. De acordo com o que for solicitado como resposta pelo exercício.\n",
    "\n",
    "\n",
    "**Resposta**: 28 meninos e 32 meninas. "
   ]
  },
  {
   "cell_type": "markdown",
   "metadata": {},
   "source": [
    "Página 23 - *01-introdução-a-estatística.pdf*"
   ]
  },
  {
   "cell_type": "markdown",
   "metadata": {},
   "source": [
    "**10)** Em uma escola existem 250 alunos, distribuídos conforme quadro. Obtenha uma amostra proporcional estratificada de 40 alunos."
   ]
  },
  {
   "cell_type": "code",
   "execution_count": 20,
   "metadata": {},
   "outputs": [
    {
     "data": {
      "text/html": [
       "<div>\n",
       "<style scoped>\n",
       "    .dataframe tbody tr th:only-of-type {\n",
       "        vertical-align: middle;\n",
       "    }\n",
       "\n",
       "    .dataframe tbody tr th {\n",
       "        vertical-align: top;\n",
       "    }\n",
       "\n",
       "    .dataframe thead th {\n",
       "        text-align: right;\n",
       "    }\n",
       "</style>\n",
       "<table border=\"1\" class=\"dataframe\">\n",
       "  <thead>\n",
       "    <tr style=\"text-align: right;\">\n",
       "      <th></th>\n",
       "      <th>Séries</th>\n",
       "      <th>Número de alunos</th>\n",
       "      <th>AMOSTRA</th>\n",
       "    </tr>\n",
       "  </thead>\n",
       "  <tbody>\n",
       "    <tr>\n",
       "      <th>0</th>\n",
       "      <td>1a</td>\n",
       "      <td>35</td>\n",
       "      <td>0</td>\n",
       "    </tr>\n",
       "    <tr>\n",
       "      <th>1</th>\n",
       "      <td>2a</td>\n",
       "      <td>32</td>\n",
       "      <td>0</td>\n",
       "    </tr>\n",
       "    <tr>\n",
       "      <th>2</th>\n",
       "      <td>3a</td>\n",
       "      <td>30</td>\n",
       "      <td>0</td>\n",
       "    </tr>\n",
       "    <tr>\n",
       "      <th>3</th>\n",
       "      <td>4a</td>\n",
       "      <td>28</td>\n",
       "      <td>0</td>\n",
       "    </tr>\n",
       "    <tr>\n",
       "      <th>4</th>\n",
       "      <td>5a</td>\n",
       "      <td>35</td>\n",
       "      <td>0</td>\n",
       "    </tr>\n",
       "    <tr>\n",
       "      <th>5</th>\n",
       "      <td>6a</td>\n",
       "      <td>32</td>\n",
       "      <td>0</td>\n",
       "    </tr>\n",
       "    <tr>\n",
       "      <th>6</th>\n",
       "      <td>7a</td>\n",
       "      <td>31</td>\n",
       "      <td>0</td>\n",
       "    </tr>\n",
       "    <tr>\n",
       "      <th>7</th>\n",
       "      <td>8a</td>\n",
       "      <td>27</td>\n",
       "      <td>0</td>\n",
       "    </tr>\n",
       "    <tr>\n",
       "      <th>8</th>\n",
       "      <td>Total</td>\n",
       "      <td>250</td>\n",
       "      <td>40</td>\n",
       "    </tr>\n",
       "  </tbody>\n",
       "</table>\n",
       "</div>"
      ],
      "text/plain": [
       "  Séries  Número de alunos  AMOSTRA\n",
       "0     1a                35        0\n",
       "1     2a                32        0\n",
       "2     3a                30        0\n",
       "3     4a                28        0\n",
       "4     5a                35        0\n",
       "5     6a                32        0\n",
       "6     7a                31        0\n",
       "7     8a                27        0\n",
       "8  Total               250       40"
      ]
     },
     "execution_count": 20,
     "metadata": {},
     "output_type": "execute_result"
    }
   ],
   "source": [
    "# criando a tabela fornecida pelo exercício\n",
    "\n",
    "dados = {'Séries':['1a', '2a', '3a', '4a', '5a', '6a', '7a', '8a'],\n",
    "        'Número de alunos':[35, 32, 30, 28, 35, 32, 31, 27],\n",
    "        'AMOSTRA':[0,0,0,0,0,0,0,0]}\n",
    "\n",
    "df_dados = pd.DataFrame(data = dados)  # cria o df\n",
    "\n",
    "df_dados.loc[8] = ['Total', 250, 40]  # adiciona aquela linha 'Total' tipo excel\n",
    "\n",
    "df_dados  # visualiza o df"
   ]
  },
  {
   "cell_type": "markdown",
   "metadata": {},
   "source": [
    "Observe o *exemplo* de resolução na página 11. Utilizaremos a mesma metodologia."
   ]
  },
  {
   "cell_type": "markdown",
   "metadata": {},
   "source": [
    "``resolução``"
   ]
  },
  {
   "cell_type": "markdown",
   "metadata": {},
   "source": [
    "* Criaremos uma coluna 'Porcentagem' contendo os valores de porcentagem que cada dado representa como parte de um todo.\n",
    "* Faremos o seguinte cálculo: a porcentagem calculada anteriormente x 40 (Total da AMOSTRA) - fornecido pelo ex."
   ]
  },
  {
   "cell_type": "code",
   "execution_count": 24,
   "metadata": {},
   "outputs": [
    {
     "data": {
      "text/html": [
       "<div>\n",
       "<style scoped>\n",
       "    .dataframe tbody tr th:only-of-type {\n",
       "        vertical-align: middle;\n",
       "    }\n",
       "\n",
       "    .dataframe tbody tr th {\n",
       "        vertical-align: top;\n",
       "    }\n",
       "\n",
       "    .dataframe thead th {\n",
       "        text-align: right;\n",
       "    }\n",
       "</style>\n",
       "<table border=\"1\" class=\"dataframe\">\n",
       "  <thead>\n",
       "    <tr style=\"text-align: right;\">\n",
       "      <th></th>\n",
       "      <th>Séries</th>\n",
       "      <th>Número de alunos</th>\n",
       "      <th>AMOSTRA</th>\n",
       "      <th>Porcentagem</th>\n",
       "    </tr>\n",
       "  </thead>\n",
       "  <tbody>\n",
       "    <tr>\n",
       "      <th>0</th>\n",
       "      <td>1a</td>\n",
       "      <td>35</td>\n",
       "      <td>0</td>\n",
       "      <td>0.140</td>\n",
       "    </tr>\n",
       "    <tr>\n",
       "      <th>1</th>\n",
       "      <td>2a</td>\n",
       "      <td>32</td>\n",
       "      <td>0</td>\n",
       "      <td>0.128</td>\n",
       "    </tr>\n",
       "    <tr>\n",
       "      <th>2</th>\n",
       "      <td>3a</td>\n",
       "      <td>30</td>\n",
       "      <td>0</td>\n",
       "      <td>0.120</td>\n",
       "    </tr>\n",
       "    <tr>\n",
       "      <th>3</th>\n",
       "      <td>4a</td>\n",
       "      <td>28</td>\n",
       "      <td>0</td>\n",
       "      <td>0.112</td>\n",
       "    </tr>\n",
       "    <tr>\n",
       "      <th>4</th>\n",
       "      <td>5a</td>\n",
       "      <td>35</td>\n",
       "      <td>0</td>\n",
       "      <td>0.140</td>\n",
       "    </tr>\n",
       "    <tr>\n",
       "      <th>5</th>\n",
       "      <td>6a</td>\n",
       "      <td>32</td>\n",
       "      <td>0</td>\n",
       "      <td>0.128</td>\n",
       "    </tr>\n",
       "    <tr>\n",
       "      <th>6</th>\n",
       "      <td>7a</td>\n",
       "      <td>31</td>\n",
       "      <td>0</td>\n",
       "      <td>0.124</td>\n",
       "    </tr>\n",
       "    <tr>\n",
       "      <th>7</th>\n",
       "      <td>8a</td>\n",
       "      <td>27</td>\n",
       "      <td>0</td>\n",
       "      <td>0.108</td>\n",
       "    </tr>\n",
       "    <tr>\n",
       "      <th>8</th>\n",
       "      <td>Total</td>\n",
       "      <td>250</td>\n",
       "      <td>40</td>\n",
       "      <td>1.000</td>\n",
       "    </tr>\n",
       "  </tbody>\n",
       "</table>\n",
       "</div>"
      ],
      "text/plain": [
       "  Séries  Número de alunos  AMOSTRA  Porcentagem\n",
       "0     1a                35        0        0.140\n",
       "1     2a                32        0        0.128\n",
       "2     3a                30        0        0.120\n",
       "3     4a                28        0        0.112\n",
       "4     5a                35        0        0.140\n",
       "5     6a                32        0        0.128\n",
       "6     7a                31        0        0.124\n",
       "7     8a                27        0        0.108\n",
       "8  Total               250       40        1.000"
      ]
     },
     "execution_count": 24,
     "metadata": {},
     "output_type": "execute_result"
    }
   ],
   "source": [
    "# cria a coluna, faz a conta dividindo cada elemento da coluna 'Número de alunos' por 250 e atribui na coluna 'Porcentagem'\n",
    "\n",
    "df_dados['Porcentagem'] = df_dados['Número de alunos'].apply(lambda x: x/250)\n",
    "\n",
    "df_dados  # viz df"
   ]
  },
  {
   "cell_type": "code",
   "execution_count": 28,
   "metadata": {},
   "outputs": [
    {
     "data": {
      "text/html": [
       "<div>\n",
       "<style scoped>\n",
       "    .dataframe tbody tr th:only-of-type {\n",
       "        vertical-align: middle;\n",
       "    }\n",
       "\n",
       "    .dataframe tbody tr th {\n",
       "        vertical-align: top;\n",
       "    }\n",
       "\n",
       "    .dataframe thead th {\n",
       "        text-align: right;\n",
       "    }\n",
       "</style>\n",
       "<table border=\"1\" class=\"dataframe\">\n",
       "  <thead>\n",
       "    <tr style=\"text-align: right;\">\n",
       "      <th></th>\n",
       "      <th>Séries</th>\n",
       "      <th>Número de alunos</th>\n",
       "      <th>AMOSTRA</th>\n",
       "      <th>Porcentagem</th>\n",
       "    </tr>\n",
       "  </thead>\n",
       "  <tbody>\n",
       "    <tr>\n",
       "      <th>0</th>\n",
       "      <td>1a</td>\n",
       "      <td>35</td>\n",
       "      <td>6.0</td>\n",
       "      <td>0.140</td>\n",
       "    </tr>\n",
       "    <tr>\n",
       "      <th>1</th>\n",
       "      <td>2a</td>\n",
       "      <td>32</td>\n",
       "      <td>5.0</td>\n",
       "      <td>0.128</td>\n",
       "    </tr>\n",
       "    <tr>\n",
       "      <th>2</th>\n",
       "      <td>3a</td>\n",
       "      <td>30</td>\n",
       "      <td>5.0</td>\n",
       "      <td>0.120</td>\n",
       "    </tr>\n",
       "    <tr>\n",
       "      <th>3</th>\n",
       "      <td>4a</td>\n",
       "      <td>28</td>\n",
       "      <td>4.0</td>\n",
       "      <td>0.112</td>\n",
       "    </tr>\n",
       "    <tr>\n",
       "      <th>4</th>\n",
       "      <td>5a</td>\n",
       "      <td>35</td>\n",
       "      <td>6.0</td>\n",
       "      <td>0.140</td>\n",
       "    </tr>\n",
       "    <tr>\n",
       "      <th>5</th>\n",
       "      <td>6a</td>\n",
       "      <td>32</td>\n",
       "      <td>5.0</td>\n",
       "      <td>0.128</td>\n",
       "    </tr>\n",
       "    <tr>\n",
       "      <th>6</th>\n",
       "      <td>7a</td>\n",
       "      <td>31</td>\n",
       "      <td>5.0</td>\n",
       "      <td>0.124</td>\n",
       "    </tr>\n",
       "    <tr>\n",
       "      <th>7</th>\n",
       "      <td>8a</td>\n",
       "      <td>27</td>\n",
       "      <td>4.0</td>\n",
       "      <td>0.108</td>\n",
       "    </tr>\n",
       "    <tr>\n",
       "      <th>8</th>\n",
       "      <td>Total</td>\n",
       "      <td>250</td>\n",
       "      <td>40.0</td>\n",
       "      <td>1.000</td>\n",
       "    </tr>\n",
       "  </tbody>\n",
       "</table>\n",
       "</div>"
      ],
      "text/plain": [
       "  Séries  Número de alunos  AMOSTRA  Porcentagem\n",
       "0     1a                35      6.0        0.140\n",
       "1     2a                32      5.0        0.128\n",
       "2     3a                30      5.0        0.120\n",
       "3     4a                28      4.0        0.112\n",
       "4     5a                35      6.0        0.140\n",
       "5     6a                32      5.0        0.128\n",
       "6     7a                31      5.0        0.124\n",
       "7     8a                27      4.0        0.108\n",
       "8  Total               250     40.0        1.000"
      ]
     },
     "execution_count": 28,
     "metadata": {},
     "output_type": "execute_result"
    }
   ],
   "source": [
    "# atribui para todos os elementos na coluna 'AMOSTRA' o resultado da porcentagem x 40\n",
    "\n",
    "df_dados['AMOSTRA'] = (df_dados['Porcentagem']*40).round()\n",
    "\n",
    "df_dados  # viz df"
   ]
  },
  {
   "cell_type": "markdown",
   "metadata": {},
   "source": [
    "**Resposta**: Cada valor na coluna AMOSTRA, que foi preenchido é a resposta."
   ]
  },
  {
   "cell_type": "markdown",
   "metadata": {},
   "source": [
    "Página 23 - *01-introdução-a-estatística.pdf*"
   ]
  },
  {
   "cell_type": "markdown",
   "metadata": {},
   "source": [
    "**11)** Uma cidade X apresenta o seguinte quadro relativo às suas escolas de Ensino Fundamental. Obtenha uma amostra proporcional estratificada de 120 estudantes."
   ]
  },
  {
   "cell_type": "code",
   "execution_count": 67,
   "metadata": {
    "scrolled": false
   },
   "outputs": [
    {
     "data": {
      "text/html": [
       "<div>\n",
       "<style scoped>\n",
       "    .dataframe tbody tr th:only-of-type {\n",
       "        vertical-align: middle;\n",
       "    }\n",
       "\n",
       "    .dataframe tbody tr th {\n",
       "        vertical-align: top;\n",
       "    }\n",
       "\n",
       "    .dataframe thead tr th {\n",
       "        text-align: left;\n",
       "    }\n",
       "\n",
       "    .dataframe thead tr:last-of-type th {\n",
       "        text-align: right;\n",
       "    }\n",
       "</style>\n",
       "<table border=\"1\" class=\"dataframe\">\n",
       "  <thead>\n",
       "    <tr>\n",
       "      <th></th>\n",
       "      <th colspan=\"2\" halign=\"left\">Número de estudantes</th>\n",
       "      <th colspan=\"2\" halign=\"left\">Amostra</th>\n",
       "    </tr>\n",
       "    <tr>\n",
       "      <th></th>\n",
       "      <th>Masculino</th>\n",
       "      <th>Feminino</th>\n",
       "      <th>Masc.</th>\n",
       "      <th>Fem.</th>\n",
       "    </tr>\n",
       "    <tr>\n",
       "      <th>Escolas</th>\n",
       "      <th></th>\n",
       "      <th></th>\n",
       "      <th></th>\n",
       "      <th></th>\n",
       "    </tr>\n",
       "  </thead>\n",
       "  <tbody>\n",
       "    <tr>\n",
       "      <th>A</th>\n",
       "      <td>80</td>\n",
       "      <td>95</td>\n",
       "      <td>0</td>\n",
       "      <td>0</td>\n",
       "    </tr>\n",
       "    <tr>\n",
       "      <th>B</th>\n",
       "      <td>102</td>\n",
       "      <td>120</td>\n",
       "      <td>0</td>\n",
       "      <td>0</td>\n",
       "    </tr>\n",
       "    <tr>\n",
       "      <th>C</th>\n",
       "      <td>110</td>\n",
       "      <td>92</td>\n",
       "      <td>0</td>\n",
       "      <td>0</td>\n",
       "    </tr>\n",
       "    <tr>\n",
       "      <th>D</th>\n",
       "      <td>134</td>\n",
       "      <td>228</td>\n",
       "      <td>0</td>\n",
       "      <td>0</td>\n",
       "    </tr>\n",
       "    <tr>\n",
       "      <th>E</th>\n",
       "      <td>150</td>\n",
       "      <td>130</td>\n",
       "      <td>0</td>\n",
       "      <td>0</td>\n",
       "    </tr>\n",
       "    <tr>\n",
       "      <th>F</th>\n",
       "      <td>300</td>\n",
       "      <td>290</td>\n",
       "      <td>0</td>\n",
       "      <td>0</td>\n",
       "    </tr>\n",
       "    <tr>\n",
       "      <th>Total</th>\n",
       "      <td>876</td>\n",
       "      <td>955</td>\n",
       "      <td>0</td>\n",
       "      <td>0</td>\n",
       "    </tr>\n",
       "  </tbody>\n",
       "</table>\n",
       "</div>"
      ],
      "text/plain": [
       "        Número de estudantes          Amostra     \n",
       "                   Masculino Feminino   Masc. Fem.\n",
       "Escolas                                           \n",
       "A                         80       95       0    0\n",
       "B                        102      120       0    0\n",
       "C                        110       92       0    0\n",
       "D                        134      228       0    0\n",
       "E                        150      130       0    0\n",
       "F                        300      290       0    0\n",
       "Total                    876      955       0    0"
      ]
     },
     "execution_count": 67,
     "metadata": {},
     "output_type": "execute_result"
    }
   ],
   "source": [
    "# criando a tabela fornecida pelo exercício (metodologia diferente: dataframe MultiIndex)\n",
    "\n",
    "lista_colunas = [['Número de estudantes','Número de estudantes','Amostra','Amostra'],\n",
    "                   ['Masculino','Feminino','Masc.','Fem.']]\n",
    "\n",
    "tuplas = zip(*lista_colunas) # faz da lista uma tupla\n",
    "\n",
    "multi = pd.MultiIndex.from_tuples(tuplas) # atribui à variável 'multi' nossa lista multi-índice\n",
    "\n",
    "# criando nosso conjunto de dados, repare na forma como ele é criado\n",
    "\n",
    "dados = [[80, 95, 0, 0],\n",
    "         [102, 120, 0, 0],\n",
    "         [110, 92, 0, 0],\n",
    "         [134, 228, 0, 0],\n",
    "         [150, 130, 0, 0],\n",
    "         [300, 290, 0, 0],\n",
    "         [876, 955, 0, 0]]   # listas dentro de listas\n",
    "\n",
    "lista_indices = ['A', 'B', 'C', 'D', 'E', 'F', 'Total']  # cria lista com índices para utilizarmos no dataframe\n",
    "\n",
    "df_dados = pd.DataFrame(data = dados, index = lista_indices, columns = multi)   # cria o dataframe\n",
    "\n",
    "df_dados.index.names = ['Escolas']   # dando nome à coluna que contém nossos índices\n",
    "\n",
    "df_dados  # visualiza o dataframe"
   ]
  },
  {
   "cell_type": "markdown",
   "metadata": {},
   "source": [
    "``resolução``"
   ]
  },
  {
   "cell_type": "markdown",
   "metadata": {},
   "source": [
    "* Como nossa objetivo é chegar num total de amostragem de 120 indivíduos, mas temos dois sexos, isto é, masculino e feminino, precisamos dividir por 2 nossa intenção de amostragem.\n",
    "* Vamos, portanto, utilizar o valor de 60 para fazermos a conta e calcular quanto estudantes teremos de cada sexo para fins de amostragem."
   ]
  },
  {
   "cell_type": "markdown",
   "metadata": {},
   "source": [
    "Uma maneira de visualizar o nome das colunas é utilizando a *função* ``.columns``. Isso ajuda a entender como selecionarmos uma determinada coluna. Refiro-me a termos de sintaxe."
   ]
  },
  {
   "cell_type": "code",
   "execution_count": 80,
   "metadata": {},
   "outputs": [
    {
     "data": {
      "text/plain": [
       "MultiIndex([('Número de estudantes', 'Masculino'),\n",
       "            ('Número de estudantes',  'Feminino'),\n",
       "            (             'Amostra',     'Masc.'),\n",
       "            (             'Amostra',      'Fem.')],\n",
       "           )"
      ]
     },
     "execution_count": 80,
     "metadata": {},
     "output_type": "execute_result"
    }
   ],
   "source": [
    "df_dados.columns   # exibindo o nome das colunas"
   ]
  },
  {
   "cell_type": "markdown",
   "metadata": {},
   "source": [
    "* Fazendo a conta inteira e atribuindo cada resultado na coluna ``Masc.`` de ``Amostra``."
   ]
  },
  {
   "cell_type": "code",
   "execution_count": 108,
   "metadata": {},
   "outputs": [
    {
     "data": {
      "text/html": [
       "<div>\n",
       "<style scoped>\n",
       "    .dataframe tbody tr th:only-of-type {\n",
       "        vertical-align: middle;\n",
       "    }\n",
       "\n",
       "    .dataframe tbody tr th {\n",
       "        vertical-align: top;\n",
       "    }\n",
       "\n",
       "    .dataframe thead tr th {\n",
       "        text-align: left;\n",
       "    }\n",
       "\n",
       "    .dataframe thead tr:last-of-type th {\n",
       "        text-align: right;\n",
       "    }\n",
       "</style>\n",
       "<table border=\"1\" class=\"dataframe\">\n",
       "  <thead>\n",
       "    <tr>\n",
       "      <th></th>\n",
       "      <th colspan=\"2\" halign=\"left\">Número de estudantes</th>\n",
       "      <th colspan=\"2\" halign=\"left\">Amostra</th>\n",
       "    </tr>\n",
       "    <tr>\n",
       "      <th></th>\n",
       "      <th>Masculino</th>\n",
       "      <th>Feminino</th>\n",
       "      <th>Masc.</th>\n",
       "      <th>Fem.</th>\n",
       "    </tr>\n",
       "    <tr>\n",
       "      <th>Escolas</th>\n",
       "      <th></th>\n",
       "      <th></th>\n",
       "      <th></th>\n",
       "      <th></th>\n",
       "    </tr>\n",
       "  </thead>\n",
       "  <tbody>\n",
       "    <tr>\n",
       "      <th>A</th>\n",
       "      <td>80</td>\n",
       "      <td>95</td>\n",
       "      <td>5.0</td>\n",
       "      <td>0</td>\n",
       "    </tr>\n",
       "    <tr>\n",
       "      <th>B</th>\n",
       "      <td>102</td>\n",
       "      <td>120</td>\n",
       "      <td>6.0</td>\n",
       "      <td>0</td>\n",
       "    </tr>\n",
       "    <tr>\n",
       "      <th>C</th>\n",
       "      <td>110</td>\n",
       "      <td>92</td>\n",
       "      <td>7.0</td>\n",
       "      <td>0</td>\n",
       "    </tr>\n",
       "    <tr>\n",
       "      <th>D</th>\n",
       "      <td>134</td>\n",
       "      <td>228</td>\n",
       "      <td>8.0</td>\n",
       "      <td>0</td>\n",
       "    </tr>\n",
       "    <tr>\n",
       "      <th>E</th>\n",
       "      <td>150</td>\n",
       "      <td>130</td>\n",
       "      <td>9.0</td>\n",
       "      <td>0</td>\n",
       "    </tr>\n",
       "    <tr>\n",
       "      <th>F</th>\n",
       "      <td>300</td>\n",
       "      <td>290</td>\n",
       "      <td>19.0</td>\n",
       "      <td>0</td>\n",
       "    </tr>\n",
       "    <tr>\n",
       "      <th>Total</th>\n",
       "      <td>876</td>\n",
       "      <td>955</td>\n",
       "      <td>55.0</td>\n",
       "      <td>0</td>\n",
       "    </tr>\n",
       "  </tbody>\n",
       "</table>\n",
       "</div>"
      ],
      "text/plain": [
       "        Número de estudantes          Amostra     \n",
       "                   Masculino Feminino   Masc. Fem.\n",
       "Escolas                                           \n",
       "A                         80       95     5.0    0\n",
       "B                        102      120     6.0    0\n",
       "C                        110       92     7.0    0\n",
       "D                        134      228     8.0    0\n",
       "E                        150      130     9.0    0\n",
       "F                        300      290    19.0    0\n",
       "Total                    876      955    55.0    0"
      ]
     },
     "execution_count": 108,
     "metadata": {},
     "output_type": "execute_result"
    }
   ],
   "source": [
    "df_dados['Amostra', 'Masc.'] = ((df_dados['Número de estudantes', 'Masculino']/876)*55).round()\n",
    "\n",
    "df_dados  # viz df"
   ]
  },
  {
   "cell_type": "markdown",
   "metadata": {},
   "source": [
    "* Fazendo a mesma coisa agora, porém, para coluna ``Fem.`` de ``Amostra``."
   ]
  },
  {
   "cell_type": "code",
   "execution_count": 109,
   "metadata": {},
   "outputs": [
    {
     "data": {
      "text/html": [
       "<div>\n",
       "<style scoped>\n",
       "    .dataframe tbody tr th:only-of-type {\n",
       "        vertical-align: middle;\n",
       "    }\n",
       "\n",
       "    .dataframe tbody tr th {\n",
       "        vertical-align: top;\n",
       "    }\n",
       "\n",
       "    .dataframe thead tr th {\n",
       "        text-align: left;\n",
       "    }\n",
       "\n",
       "    .dataframe thead tr:last-of-type th {\n",
       "        text-align: right;\n",
       "    }\n",
       "</style>\n",
       "<table border=\"1\" class=\"dataframe\">\n",
       "  <thead>\n",
       "    <tr>\n",
       "      <th></th>\n",
       "      <th colspan=\"2\" halign=\"left\">Número de estudantes</th>\n",
       "      <th colspan=\"2\" halign=\"left\">Amostra</th>\n",
       "    </tr>\n",
       "    <tr>\n",
       "      <th></th>\n",
       "      <th>Masculino</th>\n",
       "      <th>Feminino</th>\n",
       "      <th>Masc.</th>\n",
       "      <th>Fem.</th>\n",
       "    </tr>\n",
       "    <tr>\n",
       "      <th>Escolas</th>\n",
       "      <th></th>\n",
       "      <th></th>\n",
       "      <th></th>\n",
       "      <th></th>\n",
       "    </tr>\n",
       "  </thead>\n",
       "  <tbody>\n",
       "    <tr>\n",
       "      <th>A</th>\n",
       "      <td>80</td>\n",
       "      <td>95</td>\n",
       "      <td>5.0</td>\n",
       "      <td>6.0</td>\n",
       "    </tr>\n",
       "    <tr>\n",
       "      <th>B</th>\n",
       "      <td>102</td>\n",
       "      <td>120</td>\n",
       "      <td>6.0</td>\n",
       "      <td>8.0</td>\n",
       "    </tr>\n",
       "    <tr>\n",
       "      <th>C</th>\n",
       "      <td>110</td>\n",
       "      <td>92</td>\n",
       "      <td>7.0</td>\n",
       "      <td>6.0</td>\n",
       "    </tr>\n",
       "    <tr>\n",
       "      <th>D</th>\n",
       "      <td>134</td>\n",
       "      <td>228</td>\n",
       "      <td>8.0</td>\n",
       "      <td>16.0</td>\n",
       "    </tr>\n",
       "    <tr>\n",
       "      <th>E</th>\n",
       "      <td>150</td>\n",
       "      <td>130</td>\n",
       "      <td>9.0</td>\n",
       "      <td>9.0</td>\n",
       "    </tr>\n",
       "    <tr>\n",
       "      <th>F</th>\n",
       "      <td>300</td>\n",
       "      <td>290</td>\n",
       "      <td>19.0</td>\n",
       "      <td>20.0</td>\n",
       "    </tr>\n",
       "    <tr>\n",
       "      <th>Total</th>\n",
       "      <td>876</td>\n",
       "      <td>955</td>\n",
       "      <td>55.0</td>\n",
       "      <td>65.0</td>\n",
       "    </tr>\n",
       "  </tbody>\n",
       "</table>\n",
       "</div>"
      ],
      "text/plain": [
       "        Número de estudantes          Amostra      \n",
       "                   Masculino Feminino   Masc.  Fem.\n",
       "Escolas                                            \n",
       "A                         80       95     5.0   6.0\n",
       "B                        102      120     6.0   8.0\n",
       "C                        110       92     7.0   6.0\n",
       "D                        134      228     8.0  16.0\n",
       "E                        150      130     9.0   9.0\n",
       "F                        300      290    19.0  20.0\n",
       "Total                    876      955    55.0  65.0"
      ]
     },
     "execution_count": 109,
     "metadata": {},
     "output_type": "execute_result"
    }
   ],
   "source": [
    "df_dados['Amostra', 'Fem.'] = ((df_dados['Número de estudantes', 'Feminino']/955)*65).round()\n",
    "\n",
    "df_dados  # viz df"
   ]
  },
  {
   "cell_type": "markdown",
   "metadata": {},
   "source": [
    "**Conclusão**: Perceba como cada vez mais estamos resolvendo os exercícios em poucas linhas de código.\n",
    "\n",
    "**Resposta**: Os valores contidos as colunas ``Masc.`` e ``Fem.``"
   ]
  },
  {
   "cell_type": "markdown",
   "metadata": {},
   "source": [
    "[<< download do notebook completo >>](https://drive.google.com/file/d/1-A5_x5CXZ8m-JNZPBXinyeW-VxJpne_s/view?usp=sharing)"
   ]
  },
  {
   "cell_type": "markdown",
   "metadata": {},
   "source": [
    "<center>\n",
    "        \n",
    "    << Faremos uma pausa nas resoluções por enquanto.\n",
    "      Para darmos andamento nas outras matérias >>\n",
    " \n",
    "</center>"
   ]
  },
  {
   "cell_type": "markdown",
   "metadata": {},
   "source": [
    "## Author\n",
    "\n",
    "<a href=\"https://www.linkedin.com/in/brndnaxr/\" target=\"_blank\">Brandon Aguiar</a>\n",
    "\n",
    "## Change Log\n",
    "\n",
    "| Date (YYYY-MM-DD) | Version | Changed By | Change Description                                                                                                     |\n",
    "| ----------------- | ------- | ---------- | ---------------------------------------------------------------------------------------------------------------------- |\n",
    "|       |     |     |                                                                                     |\n",
    "\n",
    "<hr/>\n",
    "\n",
    "## <h3 align=\"center\"> © UAM Monitoria 2021. All rights reserved. <h3/>"
   ]
  }
 ],
 "metadata": {
  "kernelspec": {
   "display_name": "Python 3",
   "language": "python",
   "name": "python3"
  },
  "language_info": {
   "codemirror_mode": {
    "name": "ipython",
    "version": 3
   },
   "file_extension": ".py",
   "mimetype": "text/x-python",
   "name": "python",
   "nbconvert_exporter": "python",
   "pygments_lexer": "ipython3",
   "version": "3.8.5"
  }
 },
 "nbformat": 4,
 "nbformat_minor": 4
}
